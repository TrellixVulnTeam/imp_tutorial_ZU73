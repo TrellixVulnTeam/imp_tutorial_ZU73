{
 "metadata": {
  "celltoolbar": "Slideshow",
  "name": "",
  "signature": "sha256:a8bbdae39ec3b79dc58ac8597b929d729e59d17492df221acb29457d5461681d"
 },
 "nbformat": 3,
 "nbformat_minor": 0,
 "worksheets": [
  {
   "cells": [
    {
     "cell_type": "heading",
     "level": 1,
     "metadata": {
      "slideshow": {
       "slide_type": "slide"
      }
     },
     "source": [
      "IMP.pmi Tutorial Slides"
     ]
    },
    {
     "cell_type": "markdown",
     "metadata": {
      "slideshow": {
       "slide_type": "fragment"
      }
     },
     "source": [
      "### Integrating EM and Crosslinking data to localize two domains of RNA Polymerase II\n",
      "\n",
      "Authors: Riccardo Pellarin, Charles Greenberg, Daniel Saltzberg, Ben Webb"
     ]
    },
    {
     "cell_type": "markdown",
     "metadata": {
      "slideshow": {
       "slide_type": "fragment"
      }
     },
     "source": [
      "The Python Modeling Interface (pmi) is a  set of tools designed\n",
      "to handle all steps of the modeling protocol."
     ]
    },
    {
     "cell_type": "markdown",
     "metadata": {
      "slideshow": {
       "slide_type": "slide"
      }
     },
     "source": [
      "We will illustrate the use on the RNA Polymerase II\n",
      "\n",
      "## Installation\n",
      "\n",
      "To work through the example on your own system, you will need the following\n",
      "packages installed in addition to [IMP itself](https://integrativemodeling.org/nightly/doc/manual/installation.html):\n",
      "\n",
      "- [numpy and scipy](http://www.scipy.org/scipylib/download.html)\n",
      "\n",
      "- [scikit-learn](http://scikit-learn.org/stable/install.html)\n",
      "\n",
      "- [matplotlib](http://matplotlib.org/downloads.html)\n",
      "\n",
      "- [Chimera](https://www.cgl.ucsf.edu/chimera/download.html)\n",
      "\n",
      "Then download the input files, either by \n",
      "[cloning the GitHub repository](https://github.com/salilab/imp_tutorial/tree/develop)\n",
      "or by [downloading the zip file](https://github.com/salilab/imp_tutorial/archive/develop.zip)."
     ]
    },
    {
     "cell_type": "markdown",
     "metadata": {
      "slideshow": {
       "slide_type": "subslide"
      }
     },
     "source": [
      "The rnapolii example directory contains three directories: `analysis`, `data`, and `modeling`."
     ]
    },
    {
     "cell_type": "markdown",
     "metadata": {
      "slideshow": {
       "slide_type": "slide"
      }
     },
     "source": [
      "## Background of RNA Polymerase II <a name=\"3_Background_of_RNA_Polymerase_II\"></a>\n",
      "\n",
      "[RNA Pol II](http://en.wikipedia.org/wiki/RNA_polymerase_II) is a eukaryotic complex that catalyzes DNA transcription to synthesize mRNA strands.  \n",
      "\n",
      "Eukaryotic RNA polymerase II contains 12 subunits, Rpb1 to Rpb12. \n",
      "\n",
      "The yeast RNA Pol II dissociates into a 10-subunit core and a Rpb4/Rpb7 heterodimer. \n",
      "\n",
      "Rpb4 and Rpb7 are conserved from yeast to humans, and form a stalk-like protrusion extending from the main body of the RNA Pol II complex."
     ]
    },
    {
     "cell_type": "markdown",
     "metadata": {
      "slideshow": {
       "slide_type": "slide"
      }
     },
     "source": [
      "### Integrative Modeling using IMP <a name=\"4_Integrative_Modeling_using_IMP\"></a>\n",
      "\n",
      "This example will use data from chemical cross linking, EM and x-ray crystallography to localize the two subunits of the RNA Polymerase II stalk (Rpb4, Rpb7) to a static core of the remaining ten subunits.  \n",
      "\n",
      "<img src=\"files/images/rnapolii_integrative.png\" alt=\"Drawing\" style=\"width: 600px;\"/>"
     ]
    },
    {
     "cell_type": "markdown",
     "metadata": {
      "slideshow": {
       "slide_type": "subslide"
      }
     },
     "source": [
      "### The four stages of Integrative Modeling <a name=\"3_The_four_stages_of_Integrative_Modeling\"></a>\n",
      "\n",
      "Structural modeling using IMP is divided into [four stages](@ref procedure).\n",
      "\n",
      "Click the links below to see a breakdown of all the modeling steps.\n",
      "\n",
      "\n",
      "* [Stage 1](#Stage_1_2)) Collect biophysical data that can be used as structural restraints and constraints\n",
      "  \n",
      "* [Stage 2](#Stage_2_2)) Define representations for the RNA Poly II structural model and define each data point as a scoring function.\n",
      "\n",
      "* [Stage 3](#Sampling_2)) Run a sampling protocol to find good scoring conformations.  \n",
      "\n",
      "* [Stage 4.1](#Analysis_Part_1_2), [Stage 4.2](#Analysis_Part_2_2)) Analysis of the good scoring conformations.  Clustering; uncertainty; precision; etc..."
     ]
    },
    {
     "cell_type": "markdown",
     "metadata": {
      "slideshow": {
       "slide_type": "subslide"
      }
     },
     "source": [
      "### Running the script <a name=\"3_Running_the_script\"></a>\n",
      "\n",
      "The first three modeling stages are all contained within one script, `modeling.py`:\n",
      "\n",
      "```\n",
      "python modeling.py\n",
      "```\n",
      "\n",
      "to get an idea of what's going on you can run it with only 50 output frames by adding the `--test` option:\n",
      "\n",
      "```\n",
      "python modeling.py --test\n",
      "```"
     ]
    },
    {
     "cell_type": "markdown",
     "metadata": {
      "slideshow": {
       "slide_type": "slide"
      }
     },
     "source": [
      "## Stage 1 - Gathering of data <a name=\"Stage_1_2\"></a>\n",
      "\n",
      "In this stage, we find all available experimental data that we wish to utilize in structural modeling.  In theory, any method that provides information about absolute or relative structural information can be used."
     ]
    },
    {
     "cell_type": "markdown",
     "metadata": {
      "slideshow": {
       "slide_type": "subslide"
      }
     },
     "source": [
      "### Data for yeast RNA Polymerase II <a name=\"Data_rnapolii_3\"></a>\n",
      "The `rnapolii/data` folder in the tutorial input files contains the data included in this example:\n",
      "\n",
      "* Sequence information (FASTA files for each subunit)\n",
      "* [Electron density maps](http://www.ebi.ac.uk/pdbe/entry/EMD-1883/visualization) (`.mrc`, `.txt` files)\n",
      "* [High resolution structure from x-ray crystallography](http://www.rcsb.org/pdb/explore/explore.do?structureId=1WCM) (PDB file)\n",
      "* Chemical crosslinking datasets (we use two data sets, one from [Al Burlingame's lab](http://www.mcponline.org/content/13/2/420.long), and another from [Juri Rappsilber's lab](http://emboj.embopress.org/content/29/4/717))"
     ]
    },
    {
     "cell_type": "markdown",
     "metadata": {
      "slideshow": {
       "slide_type": "subslide"
      }
     },
     "source": [
      "**FASTA File**  \n",
      "Each residue included in modeling must be explicitly defined in the FASTA text file.  Each individual component (i.e., a protein chain) is identified by a string in the FASTA header line.  From `1WCM.fasta.txt`:\n",
      "\n",
      "    >1WCM:A\n",
      "    MVGQQYSSAPLRTVKEVQFGLFSPEEVRAISVAKIRFPETMDETQTRAKIGGLNDPRLGSIDRNLKCQTCQEGMNECPGH\n",
      "    FGHIDLAKPVFHVGFIAKIKKVCECVCMHCGKLLLDEHNELMRQALAIKDSKKRFAAIWTLCKTKMVCETDVPSEDDPTQ  \n",
      "    ...\n",
      "    >1WCM:B\n",
      "    MSDLANSEKYYDEDPYGFEDESAPITAEDSWAVISAFFREKGLVSQQLDSFNQFVDYTLQDIICEDSTLILEQLAQHTTE\n",
      "    SDNISRKYEISFGKIYVTKPMVNESDGVTHALYPQEARLRNLTYSSGLFVDVKKRTYEAIDVPGRELKYELIAEESEDDS  \n",
      "    ...\n",
      "\n",
      "defines two chains with unique IDs of 1WCM:A and 1WCM:B respectively.  The entire complex is 12 chains and 4582 residues."
     ]
    },
    {
     "cell_type": "markdown",
     "metadata": {
      "slideshow": {
       "slide_type": "subslide"
      }
     },
     "source": [
      "**Electron Density Map**  \n",
      "The electron density map of the entire RNA Poly II complex is at 20.9 Angstrom resolution.  The raw data file for this is stored in `emd_1883.map.mrc`.\n",
      "\n",
      "<figure><img src=\"files/images/rnapolii_em_raw.png\" width=\"200px\" />\n",
      "<figcaption>_Electron microscopy density map for yeast RNA Polymerase II_</figcaption></figure>"
     ]
    },
    {
     "cell_type": "markdown",
     "metadata": {
      "slideshow": {
       "slide_type": "subslide"
      }
     },
     "source": [
      "**Electron Density as Gaussian Mixture Models**  \n",
      "Gaussian mixture models (GMMs) are used to greatly speed up scoring by approximating the electron density of individual subunits and experimental EM maps.  A GMM has been created for the experimental density map, and is stored in `emd_1883.map.mrc.gmm.50.mrc`.  The weight, center, and covariance matrix of each Gaussian used to approximate the original EM density can be seen in the corresponding `.txt` file.  \n",
      "\n",
      "<figure><img src=\"files/images/rnapolii_em_gmm_50.png\" width=\"200px\" />\n",
      "<figcaption>_The EM data represented as a 50 Gaussian mixture model_</figcaption></figure>"
     ]
    },
    {
     "cell_type": "markdown",
     "metadata": {
      "slideshow": {
       "slide_type": "subslide"
      }
     },
     "source": [
      "**PDB File**  \n",
      "High resolution coordinates for all 12 chains of RNA Pol II are found in `1WCM.pdb`.  \n",
      "\n",
      "<figure><img src=\"files/images/rnapolii_all_1wc4.png\" width=\"200px\" />\n",
      "<figcaption>_Coordinates from PDBID [1WCM](http://www.rcsb.org/pdb/explore.do?structureId=1wcm)_</figcaption></figure>"
     ]
    },
    {
     "cell_type": "markdown",
     "metadata": {
      "slideshow": {
       "slide_type": "subslide"
      }
     },
     "source": [
      "**Chemical Cross-Links**  \n",
      "All chemical cross-linking data is located in `polii_xlinks.csv` and `polii_juri.csv`.  These files contain multiple comma-separated columns; four of these specify the protein and residue number for each of the two linker residues.\n",
      "\n",
      "    prot1,res1,prot2,res2\n",
      "    Rpb1,34,Rpb1,49\n",
      "    Rpb1,101,Rpb1,143\n",
      "    Rpb1,101,Rpb1,176\n",
      "\n",
      "The length of the DSS/BS3 cross-linker reagent, 21 angstroms, will be specified later in the modeling script.  "
     ]
    },
    {
     "cell_type": "markdown",
     "metadata": {
      "slideshow": {
       "slide_type": "slide"
      }
     },
     "source": [
      "## Stage 2 - Representation of subunits and translation of the data into spatial restraints <a name=\"Stage_2_2\"></a>\n",
      "\n",
      "\n",
      "* We will initially define a representation of the system. \n",
      "* We will convert the data into spatial restraints.  This is performed using the script `rnapolii/modeling/modeling.py` and uses the\n",
      "topology file, `topology.txt`"
     ]
    },
    {
     "cell_type": "markdown",
     "metadata": {
      "slideshow": {
       "slide_type": "subslide"
      }
     },
     "source": [
      "### Setting up Model Representation and Degrees of Freedom in IMP <a name=\"Setting_up_3\"></a>\n",
      "\n",
      "The *representation* of a system is the set of all the variables that need to be determined based on input information (e.g., particle descriptors points, spheres, ellipsoids, and 3D Gaussian density functions). "
     ]
    },
    {
     "cell_type": "markdown",
     "metadata": {
      "slideshow": {
       "slide_type": "fragment"
      }
     },
     "source": [
      "**spherical beads** of varying sizes and **3D Gaussians**, which coarsen domains of the complex using several resolution scales simultaneously. "
     ]
    },
    {
     "cell_type": "markdown",
     "metadata": {
      "slideshow": {
       "slide_type": "fragment"
      }
     },
     "source": [
      "The **spatial restraints** will be applied to individual resolution scales as appropriate. "
     ]
    },
    {
     "cell_type": "markdown",
     "metadata": {
      "slideshow": {
       "slide_type": "subslide"
      }
     },
     "source": [
      "Beads and Gaussians of a given domain are arranged into either a **rigid body** or a **flexible string**, based on the crystallographic structures.\n",
      "\n",
      "<figure><img src=\"files/images/rnapolii_rb.png\" width=\"300px\" />\n",
      "<figcaption>_Rigid Bodies and beads_</figcaption></figure>\n"
     ]
    },
    {
     "cell_type": "markdown",
     "metadata": {
      "slideshow": {
       "slide_type": "subslide"
      }
     },
     "source": [
      "**super rigid bodies** are sets of rigid bodies and beads that will move together in an additional Monte Carlo move.\n",
      "\n",
      "<figure><img src=\"files/images/rnapolii_srb.png\" width=\"300px\" />\n",
      "<figcaption>_Super Rigid Bodies_</figcaption></figure>"
     ]
    },
    {
     "cell_type": "markdown",
     "metadata": {
      "slideshow": {
       "slide_type": "subslide"
      }
     },
     "source": [
      "**chain_of_super_rigid_bodies** are additional degrees of freedom along the connectivity chain of a subunit. \n",
      "<figure><img src=\"files/images/rnapolii_cosrb.png\" width=\"300px\" />\n",
      "<figcaption>_Chain of Super Rigid Bodies_</figcaption></figure>"
     ]
    },
    {
     "cell_type": "markdown",
     "metadata": {
      "slideshow": {
       "slide_type": "fragment"
      }
     },
     "source": [
      "The GMM of a subunit is the set of all 3D Gaussians used to represent it; it will be used to calculate the EM score. "
     ]
    },
    {
     "cell_type": "markdown",
     "metadata": {
      "slideshow": {
       "slide_type": "subslide"
      }
     },
     "source": [
      "### Hierarchy <a name=\"Hierarchy_3\"></a>\n",
      "\n",
      "A **hierarchy** in IMP is a **tree** that stores information on molecules, residues, atoms, etc., where the **resolution** of the representation increases as you move further from the root. \n",
      "\n",
      "IMP.pmi was designed to support a specialised multi-state/multi-copy/multi-resolution hierarchy\n",
      "\n",
      "<figure><img src=\"files/images/rnapolii_hierarchy.png\" width=\"600px\" />\n",
      "<figcaption>_PMI hierarchy_</figcaption></figure>"
     ]
    },
    {
     "cell_type": "markdown",
     "metadata": {
      "slideshow": {
       "slide_type": "fragment"
      }
     },
     "source": [
      "The **States** are used as putative structural and compositional alternatives of the system. "
     ]
    },
    {
     "cell_type": "markdown",
     "metadata": {
      "slideshow": {
       "slide_type": "fragment"
      }
     },
     "source": [
      "Each **State** contains the **Molecules**, and each Molecule can occur in different stochiometric **Copies** (eg. here MolA has three identical copies: MolA.0, MolA.1, and MolA.2). "
     ]
    },
    {
     "cell_type": "markdown",
     "metadata": {
      "slideshow": {
       "slide_type": "fragment"
      }
     },
     "source": [
      "The **Molecules** contains structures (ie, particles with coordinates, masses and radii) classified by several **resolutions**: \n",
      "* Atomic (Resolution 0)\n",
      "* Residues (Resolution 1)\n",
      "* Fragments (Resolution > 1)\n",
      "* the Gaussians (Densities). "
     ]
    },
    {
     "cell_type": "markdown",
     "metadata": {
      "slideshow": {
       "slide_type": "fragment"
      }
     },
     "source": [
      "All structures (except the densities) are represented by Spheres with appropriate radius and mass. \n",
      "\n",
      "The resolutions concur **simultanously**"
     ]
    },
    {
     "cell_type": "markdown",
     "metadata": {
      "slideshow": {
       "slide_type": "subslide"
      }
     },
     "source": [
      "### Dissecting the script <a name=\"Dissecting_the_script_3\"></a>\n",
      "\n",
      "`rnapolii/modeling/modeling.py`"
     ]
    },
    {
     "cell_type": "markdown",
     "metadata": {
      "slideshow": {
       "slide_type": "fragment"
      }
     },
     "source": [
      "Import the necessary libraries."
     ]
    },
    {
     "cell_type": "code",
     "collapsed": false,
     "input": [
      "import IMP\n",
      "import IMP.core\n",
      "import IMP.pmi.restraints.crosslinking\n",
      "import IMP.pmi.restraints.stereochemistry\n",
      "import IMP.pmi.restraints.em\n",
      "import IMP.pmi.representation\n",
      "import IMP.pmi.tools\n",
      "\n",
      "import IMP.pmi.macros\n",
      "import IMP.pmi.topology\n",
      "\n",
      "import os\n",
      "import sys"
     ],
     "language": "python",
     "metadata": {
      "slideshow": {
       "slide_type": "fragment"
      }
     },
     "outputs": [],
     "prompt_number": 1
    },
    {
     "cell_type": "markdown",
     "metadata": {
      "slideshow": {
       "slide_type": "subslide"
      }
     },
     "source": [
      "Then setup the relevant paths of the input files"
     ]
    },
    {
     "cell_type": "code",
     "collapsed": false,
     "input": [
      "datadirectory = \"../rnapolii/data/\"\n",
      "topology_file = datadirectory+\"topology.txt\" \n",
      "target_gmm_file = datadirectory+'emd_1883.map.mrc.gmm.50.txt' # The EM map data\n",
      "output_directory = \"./output\""
     ],
     "language": "python",
     "metadata": {
      "slideshow": {
       "slide_type": "fragment"
      }
     },
     "outputs": [],
     "prompt_number": 2
    },
    {
     "cell_type": "markdown",
     "metadata": {
      "slideshow": {
       "slide_type": "subslide"
      }
     },
     "source": [
      "#### Model Representation Using a Topology File. <a name=\"Topology_file_4\"></a>\n",
      "\n",
      "This part of the script defines the topology of the system\n",
      "\n",
      "This is all described in the file `../data/topology.txt`"
     ]
    },
    {
     "cell_type": "code",
     "collapsed": false,
     "input": [
      "'''\n",
      "|molecule_name  |color     |fasta_fn          |fasta_id|pdb_fn             |chain|residue_range|pdb_offset|bead_size|em_residues_per_gaussian|rigid_body|super_rigid_body|chain_of_super_rigid_bodies|\n",
      "|Rpb1           |blue      |1WCM_new.fasta.txt|1WCM:A  |1WCM_map_fitted.pdb|A    |1,1140       |0         |20       |40                      |1         | 1              |                           |\n",
      "|Rpb1           |blue      |1WCM_new.fasta.txt|1WCM:A  |1WCM_map_fitted.pdb|A    |1141,1274    |0         |20       |40                      |2         | 1              |                           |\n",
      "|Rpb1           |blue      |1WCM_new.fasta.txt|1WCM:A  |1WCM_map_fitted.pdb|A    |1275,END     |0         |20       |40                      |3         | 1              |                           |\n",
      "|Rpb2           |red       |1WCM_new.fasta.txt|1WCM:B  |1WCM_map_fitted.pdb|B    |1,1102       |0         |20       |40                      |4         | 2              |                           |\n",
      "|Rpb2           |red       |1WCM_new.fasta.txt|1WCM:B  |1WCM_map_fitted.pdb|B    |1103,END     |0         |20       |40                      |5         | 2              |                           |\n",
      "|Rpb3           |yellow    |1WCM_new.fasta.txt|1WCM:C  |1WCM_map_fitted.pdb|C    |1,END        |0         |20       |40                      |6         | 3              |                           |\n",
      "|Rpb4           |salmon    |1WCM_new.fasta.txt|1WCM:D  |1WCM_map_fitted.pdb|D    |1,END        |-3        |20       |40                      |7         | 4              |                           |\n",
      "|Rpb5           |gold      |1WCM_new.fasta.txt|1WCM:E  |1WCM_map_fitted.pdb|E    |1,END        |0         |20       |40                      |8         | 5              |                           |\n",
      "|Rpb6           |pink      |1WCM_new.fasta.txt|1WCM:F  |1WCM_map_fitted.pdb|F    |1,END        |0         |20       |40                      |9         | 6              |                           |\n",
      "|Rpb7           |gray      |1WCM_new.fasta.txt|1WCM:G  |1WCM_map_fitted.pdb|G    |1,END        |0         |20       |40                      |10        | 7              |                           |\n",
      "|Rpb8           |orange    |1WCM_new.fasta.txt|1WCM:H  |1WCM_map_fitted.pdb|H    |1,END        |0         |20       |40                      |11        | 8              |                           |\n",
      "|Rpb9           |tan       |1WCM_new.fasta.txt|1WCM:I  |1WCM_map_fitted.pdb|I    |1,END        |0         |20       |40                      |12        | 9              |                           |\n",
      "|Rpb10          |brown     |1WCM_new.fasta.txt|1WCM:J  |1WCM_map_fitted.pdb|J    |1,END        |0         |20       |40                      |13        | 10             |                           |\n",
      "|Rpb11          |purple    |1WCM_new.fasta.txt|1WCM:K  |1WCM_map_fitted.pdb|K    |1,END        |0         |20       |40                      |14        | 11             |                           |\n",
      "|Rpb12          |cyan      |1WCM_new.fasta.txt|1WCM:L  |1WCM_map_fitted.pdb|L    |1,END        |0         |20       |40                      |15        | 12             |                           |\n",
      "'''"
     ],
     "language": "python",
     "metadata": {
      "slideshow": {
       "slide_type": "fragment"
      }
     },
     "outputs": []
    },
    {
     "cell_type": "markdown",
     "metadata": {
      "slideshow": {
       "slide_type": "subslide"
      }
     },
     "source": [
      "we introduce the molecules with their sequence and their known structure, and define the movers. \n",
      "\n",
      "Each line is a user-defined molecular **Domain**, and each column contains the specifics needed to build the system."
     ]
    },
    {
     "cell_type": "code",
     "collapsed": false,
     "input": [
      "# Initialize IMP model\n",
      "m = IMP.Model()\n",
      "\n",
      "# Read in the topology file.  \n",
      "# Specify the directory wheere the PDB files, fasta files and GMM files are\n",
      "topology = IMP.pmi.topology.TopologyReader(topology_file, \n",
      "                                  pdb_dir=datadirectory, \n",
      "                                  fasta_dir=datadirectory, \n",
      "                                  gmm_dir=datadirectory)"
     ],
     "language": "python",
     "metadata": {
      "slideshow": {
       "slide_type": "subslide"
      }
     },
     "outputs": [],
     "prompt_number": 3
    },
    {
     "cell_type": "code",
     "collapsed": false,
     "input": [
      "# Use the BuildSystem macro to build states from the topology file\n",
      "bs = IMP.pmi.macros.BuildSystem(m)"
     ],
     "language": "python",
     "metadata": {
      "slideshow": {
       "slide_type": "fragment"
      }
     },
     "outputs": [],
     "prompt_number": 4
    },
    {
     "cell_type": "code",
     "collapsed": false,
     "input": [
      "# Each state can be specified by a topology file.\n",
      "bs.add_state(topology)"
     ],
     "language": "python",
     "metadata": {
      "slideshow": {
       "slide_type": "subslide"
      }
     },
     "outputs": [
      {
       "output_type": "stream",
       "stream": "stdout",
       "text": [
        "BuildSystem.add_state: setting up molecule Rpb4 copy number 0\n",
        "BuildSystem.add_state: molecule Rpb4 sequence has 177 residues\n",
        "BuildSystem.add_state: ---- setting up domain 0 of molecule Rpb4\n",
        "BuildSystem.add_state: -------- domain 0 of molecule Rpb4 extends from residue -2 to residue 177 \n",
        "BuildSystem.add_state: -------- domain 0 of molecule Rpb4 represented by pdb file ../rnapolii/data/1WCM_map_fitted.pdb \n",
        "WARNING: Replacing sequence residue"
       ]
      },
      {
       "output_type": "stream",
       "stream": "stdout",
       "text": [
        " 116 \"VAL\" with PDB type \"ARG\"\n",
        "WARNING: Replacing sequence residue 117 \"GLY\" with PDB type \"GLU\"\n",
        "WARNING: Replacing sequence residue 118 \"ALA\" with PDB type \"LYS\"\n",
        "WARNING: Replacing sequence residue 119 \"VAL\" with PDB type \"GLU\"\n",
        "WARNING: Replacing sequence residue 120 \"ILE\" with PDB type \"LEU\"\n",
        "WARNING: Replacing sequence residue 121 \"GLN\" with PDB type \"GLU\"\n",
        "WARNING: Replacing sequence residue 122 \"LEU\" with PDB type \"SER\"\n",
        "WARNING: Replacing sequence residue 123 \"LEU\" with PDB type \"ILE\"\n",
        "WARNING: Replacing sequence residue 124 \"LYS\" with PDB type \"ASP\"\n",
        "WARNING: Replacing sequence residue 125 \"SER\" with PDB type \"VAL\"\n",
        "WARNING: Replacing sequence residue 126 \"THR\" with PDB type \"LEU\"\n",
        "WARNING: Replacing sequence residue 127 \"GLY\" with PDB type \"LEU\"\n",
        "WARNING: Replacing sequence residue 128 \"LEU\" with PDB type \"GLU\"\n",
        "WARNING: Replacing sequence residue 129 \"HIS\" with PDB type \"GLN\"\n",
        "WARNING: Replacing sequence residue 130 \"PRO\" with PDB type \"THR\"\n",
        "WARNING: Replacing sequence residue 131 \"PHE\" with PDB type \"THR\"\n",
        "WARNING: Replacing sequence residue 132 \"GLU\" with PDB type \"GLY\"\n",
        "WARNING: Replacing sequence residue 133 \"VAL\" with PDB type \"GLY\"\n",
        "WARNING: Replacing sequence residue 134 \"ALA\" with PDB type \"ASN\"\n",
        "WARNING: Replacing sequence residue 135 \"GLN\" with PDB type \"ASN\"\n",
        "WARNING: Replacing sequence residue 136 \"LEU\" with PDB type \"LYS\"\n",
        "WARNING: Replacing sequence residue 137 \"GLY\" with PDB type \"ASP\"\n",
        "WARNING: Replacing sequence residue 138 \"SER\" with PDB type \"LEU\"\n",
        "WARNING: Replacing sequence residue 139 \"LEU\" with PDB type \"LYS\"\n",
        "WARNING: Replacing sequence residue 140 \"ALA\" with PDB type \"ASN\"\n",
        "WARNING: Replacing sequence residue 141 \"CYS\" with PDB type \"THR\"\n",
        "WARNING: Replacing sequence residue 142 \"ASP\" with PDB type \"MET\"\n",
        "WARNING: Replacing sequence residue 143 \"THR\" with PDB type \"GLN\"\n",
        "WARNING: Replacing sequence residue 144 \"ALA\" with PDB type \"TYR\"\n",
        "WARNING: Replacing sequence residue 145 \"ASP\" with PDB type \"LEU\"\n",
        "WARNING: Replacing sequence residue 146 \"GLU\" with PDB type \"THR\"\n",
        "WARNING: Replacing sequence residue 147 \"ALA\" with PDB type \"ASN\"\n",
        "WARNING: Replacing sequence residue 148 \"LYS\" with PDB type \"PHE\"\n",
        "WARNING: Replacing sequence residue 149 \"THR\" with PDB type \"SER\"\n",
        "WARNING: Replacing sequence residue 150 \"LEU\" with PDB type \"ARG\"\n",
        "WARNING: Replacing sequence residue 151 \"ILE\" with PDB type \"PHE\"\n",
        "WARNING: Replacing sequence residue 152 \"PRO\" with PDB type \"ARG\"\n",
        "WARNING: Replacing sequence residue 153 \"SER\" with PDB type \"ASP\"\n",
        "WARNING: Replacing sequence residue 154 \"LEU\" with PDB type \"GLN\"\n",
        "WARNING: Replacing sequence residue 155 \"ASN\" with PDB type \"GLU\"\n",
        "WARNING: Replacing sequence residue 156 \"ASN\" with PDB type \"THR\"\n",
        "WARNING: Replacing sequence residue 157 \"LYS\" with PDB type \"VAL\"\n",
        "WARNING: Replacing sequence residue 158 \"ILE\" with PDB type \"GLY\"\n",
        "WARNING: Replacing sequence residue 159 \"SER\" with PDB type \"ALA\"\n",
        "WARNING: Replacing sequence residue 160 \"ASP\" with PDB type \"VAL\"\n",
        "WARNING: Replacing sequence residue 161 \"ASP\" with PDB type \"ILE\"\n",
        "WARNING: Replacing sequence residue 162 \"GLU\" with PDB type \"GLN\"\n",
        "WARNING: Replacing sequence residue 164 \"GLU\" with PDB type \"LEU\"\n",
        "WARNING: Replacing sequence residue 165 \"ARG\" with PDB type \"LYS\"\n",
        "WARNING: Replacing sequence residue 166 \"ILE\" with PDB type \"SER\"\n",
        "WARNING: Replacing sequence residue 167 \"LEU\" with PDB type \"THR\"\n",
        "WARNING: Replacing sequence residue 168 \"LYS\" with PDB type \"GLY\"\n",
        "WARNING: Replacing sequence residue 169 \"GLU\" with PDB type \"LEU\"\n",
        "WARNING: Replacing sequence residue 170 \"LEU\" with PDB type \"HIS\"\n",
        "WARNING: Replacing sequence residue 171 \"SER\" with PDB type \"PRO\"\n",
        "WARNING: Replacing sequence residue 172 \"ASN\" with PDB type \"PHE\"\n",
        "WARNING: Replacing sequence residue 173 \"LEU\" with PDB type \"GLU\"\n",
        "WARNING: Replacing sequence residue 174 \"GLU\" with PDB type \"VAL\"\n",
        "WARNING: Replacing sequence residue 175 \"THR\" with PDB type \"ALA\"\n",
        "WARNING: Replacing sequence residue 176 \"LEU\" with PDB type \"GLN\"\n",
        "WARNING: Replacing sequence residue 177 \"TYR\" with PDB type \"LEU\"\n",
        "WARNING: Replacing sequence residue 178 \"ALA\" with PDB type \"GLY\"\n",
        "WARNING: Replacing sequence residue 179 \"ALA\" with PDB type \"SER\"\n",
        "WARNING: Replacing sequence residue 180 \"ALA\" with PDB type \"LEU\"\n",
        "WARNING: Replacing sequence residue 182 \"ALA\" with PDB type \"CYS\"\n",
        "WARNING: Replacing sequence residue 183 \"ALA\" with PDB type \"ASP\"\n",
        "WARNING: Replacing sequence residue 184 \"ALA\" with PDB type \"THR\"\n",
        "WARNING: Replacing sequence residue 186 \"ALA\" with PDB type \"ASP\"\n",
        "WARNING: Replacing sequence residue 187 \"ALA\" with PDB type \"GLU\"\n",
        "WARNING: Replacing sequence residue 189 \"ALA\" with PDB type \"LYS\"\n",
        "WARNING: Replacing sequence residue 190 \"ALA\" with PDB type \"THR\"\n",
        "WARNING: Replacing sequence residue 191 \"ALA\" with PDB type \"LEU\"\n",
        "WARNING: Replacing sequence residue 192 \"ALA\" with PDB type \"ILE\"\n",
        "WARNING: Replacing sequence residue 193 \"ALA\" with PDB type \"PRO\"\n",
        "WARNING: Replacing sequence residue 194 \"ALA\" with PDB type \"SER\"\n",
        "WARNING: Replacing sequence residue 195 \"ALA\" with PDB type \"LEU\"\n",
        "WARNING: Replacing sequence residue 196 \"ALA\" with PDB type \"ASN\"\n",
        "WARNING: Replacing sequence residue 197 \"ALA\" with PDB type \"ASN\"\n",
        "WARNING: Replacing sequence residue 198 \"ALA\" with PDB type \"LYS\"\n",
        "WARNING: Replacing sequence residue 199 \"ALA\" with PDB type \"ILE\"\n",
        "WARNING: Replacing sequence residue 200 \"ALA\" with PDB type \"SER\"\n",
        "WARNING: Replacing sequence residue 201 \"ALA\" with PDB type \"ASP\"\n",
        "WARNING: Replacing sequence residue 202 \"ALA\" with PDB type \"ASP\"\n",
        "WARNING: Replacing sequence residue 203 \"ALA\" with PDB type \"GLU\"\n",
        "WARNING: Replacing sequence residue 204 \"ALA\" with PDB type \"LEU\"\n",
        "WARNING: Replacing sequence residue 205 \"ALA\" with PDB type \"GLU\"\n",
        "WARNING: Replacing sequence residue 206 \"ALA\" with PDB type \"ARG\"\n",
        "WARNING: Replacing sequence residue 207 \"ALA\" with PDB type \"ILE\"\n",
        "WARNING: Replacing sequence residue 208 \"ALA\" with PDB type \"LEU\"\n",
        "WARNING: Replacing sequence residue 209 \"ALA\" with PDB type \"LYS\"\n",
        "WARNING: Replacing sequence residue 210 \"ALA\" with PDB type \"GLU\"\n",
        "WARNING: Replacing sequence residue 211 \"ALA\" with PDB type \"LEU\"\n",
        "WARNING: Replacing sequence residue 212 \"ALA\" with PDB type \"SER\"\n",
        "WARNING: Replacing sequence residue 213 \"ALA\" with PDB type \"ASN\"\n",
        "WARNING: Replacing sequence residue 214 \"ALA\" with PDB type \"LEU\"\n",
        "WARNING: Replacing sequence residue 215 \"ALA\" with PDB type \"GLU\"\n",
        "WARNING: Replacing sequence residue 216 \"ALA\" with PDB type \"THR\"\n",
        "WARNING: Replacing sequence residue 217 \"ALA\" with PDB type \"LEU\"\n",
        "WARNING: Replacing sequence residue 218 \"ALA\" with PDB type \"TYR\"\n",
        "BuildSystem.add_state: -------- domain 0 of molecule Rpb4 represented by gaussians \n",
        "BuildSystem.add_state: setting up molecule Rpb5 copy number 0\n",
        "BuildSystem.add_state: molecule Rpb5 sequence has 215 residues\n",
        "BuildSystem.add_state: ---- setting up domain 0 of molecule Rpb5\n",
        "BuildSystem.add_state: -------- domain 0 of molecule Rpb5 extends from residue 1 to residue 215 \n",
        "BuildSystem.add_state: -------- domain 0 of molecule Rpb5 represented by pdb file ../rnapolii/data/1WCM_map_fitted.pdb \n",
        "BuildSystem.add_state: -------- domain 0 of molecule Rpb5 represented by gaussians "
       ]
      },
      {
       "output_type": "stream",
       "stream": "stdout",
       "text": [
        "\n",
        "BuildSystem.add_state: setting up molecule Rpb6 copy number 0\n",
        "BuildSystem.add_state: molecule Rpb6 sequence has 155 residues\n",
        "BuildSystem.add_state: ---- setting up domain 0 of molecule Rpb6\n",
        "BuildSystem.add_state: -------- domain 0 of molecule Rpb6 extends from residue 1 to residue 155 \n",
        "BuildSystem.add_state: -------- domain 0 of molecule Rpb6 represented by pdb file ../rnapolii/data/1WCM_map_fitted.pdb \n",
        "BuildSystem.add_state: -------- domain 0 of molecule Rpb6 represented by gaussians "
       ]
      },
      {
       "output_type": "stream",
       "stream": "stdout",
       "text": [
        "\n",
        "BuildSystem.add_state: setting up molecule Rpb7 copy number 0\n",
        "BuildSystem.add_state: molecule Rpb7 sequence has 171 residues\n",
        "BuildSystem.add_state: ---- setting up domain 0 of molecule Rpb7\n",
        "BuildSystem.add_state: -------- domain 0 of molecule Rpb7 extends from residue 1 to residue 171 \n",
        "BuildSystem.add_state: -------- domain 0 of molecule Rpb7 represented by pdb file ../rnapolii/data/1WCM_map_fitted.pdb \n",
        "BuildSystem.add_state: -------- domain 0 of molecule Rpb7 represented by gaussians "
       ]
      },
      {
       "output_type": "stream",
       "stream": "stdout",
       "text": [
        "\n",
        "BuildSystem.add_state: setting up molecule Rpb1 copy number 0\n",
        "BuildSystem.add_state: molecule Rpb1 sequence has 1733 residues\n",
        "BuildSystem.add_state: ---- setting up domain 0 of molecule Rpb1"
       ]
      },
      {
       "output_type": "stream",
       "stream": "stdout",
       "text": [
        "\n",
        "BuildSystem.add_state: -------- domain 0 of molecule Rpb1 extends from residue 1 to residue 1140 \n",
        "BuildSystem.add_state: -------- domain 0 of molecule Rpb1 represented by pdb file ../rnapolii/data/1WCM_map_fitted.pdb \n",
        "BuildSystem.add_state: -------- domain 0 of molecule Rpb1 represented by gaussians "
       ]
      },
      {
       "output_type": "stream",
       "stream": "stdout",
       "text": [
        "\n",
        "BuildSystem.add_state: ---- setting up domain 1 of molecule Rpb1\n",
        "BuildSystem.add_state: -------- domain 1 of molecule Rpb1 extends from residue 1141 to residue 1274 \n",
        "BuildSystem.add_state: -------- domain 1 of molecule Rpb1 represented by pdb file ../rnapolii/data/1WCM_map_fitted.pdb \n",
        "BuildSystem.add_state: -------- domain 1 of molecule Rpb1 represented by gaussians "
       ]
      },
      {
       "output_type": "stream",
       "stream": "stdout",
       "text": [
        "\n",
        "BuildSystem.add_state: ---- setting up domain 2 of molecule Rpb1\n",
        "BuildSystem.add_state: -------- domain 2 of molecule Rpb1 extends from residue 1275 to residue 1733 \n",
        "BuildSystem.add_state: -------- domain 2 of molecule Rpb1 represented by pdb file ../rnapolii/data/1WCM_map_fitted.pdb \n",
        "BuildSystem.add_state: -------- domain 2 of molecule Rpb1 represented by gaussians "
       ]
      },
      {
       "output_type": "stream",
       "stream": "stdout",
       "text": [
        "\n",
        "BuildSystem.add_state: setting up molecule Rpb2 copy number 0\n",
        "BuildSystem.add_state: molecule Rpb2 sequence has 1224 residues\n",
        "BuildSystem.add_state: ---- setting up domain 0 of molecule Rpb2"
       ]
      },
      {
       "output_type": "stream",
       "stream": "stdout",
       "text": [
        "\n",
        "BuildSystem.add_state: -------- domain 0 of molecule Rpb2 extends from residue 1 to residue 1102 \n",
        "BuildSystem.add_state: -------- domain 0 of molecule Rpb2 represented by pdb file ../rnapolii/data/1WCM_map_fitted.pdb \n",
        "BuildSystem.add_state: -------- domain 0 of molecule Rpb2 represented by gaussians "
       ]
      },
      {
       "output_type": "stream",
       "stream": "stdout",
       "text": [
        "\n",
        "BuildSystem.add_state: ---- setting up domain 1 of molecule Rpb2\n",
        "BuildSystem.add_state: -------- domain 1 of molecule Rpb2 extends from residue 1103 to residue 1224 \n",
        "BuildSystem.add_state: -------- domain 1 of molecule Rpb2 represented by pdb file ../rnapolii/data/1WCM_map_fitted.pdb \n",
        "BuildSystem.add_state: -------- domain 1 of molecule Rpb2 represented by gaussians "
       ]
      },
      {
       "output_type": "stream",
       "stream": "stdout",
       "text": [
        "\n",
        "BuildSystem.add_state: setting up molecule Rpb3 copy number 0\n",
        "BuildSystem.add_state: molecule Rpb3 sequence has 318 residues\n",
        "BuildSystem.add_state: ---- setting up domain 0 of molecule Rpb3\n",
        "BuildSystem.add_state: -------- domain 0 of molecule Rpb3 extends from residue 1 to residue 318 \n",
        "BuildSystem.add_state: -------- domain 0 of molecule Rpb3 represented by pdb file ../rnapolii/data/1WCM_map_fitted.pdb \n",
        "BuildSystem.add_state: -------- domain 0 of molecule Rpb3 represented by gaussians "
       ]
      },
      {
       "output_type": "stream",
       "stream": "stdout",
       "text": [
        "\n",
        "BuildSystem.add_state: setting up molecule Rpb8 copy number 0\n",
        "BuildSystem.add_state: molecule Rpb8 sequence has 146 residues\n",
        "BuildSystem.add_state: ---- setting up domain 0 of molecule Rpb8\n",
        "BuildSystem.add_state: -------- domain 0 of molecule Rpb8 extends from residue 1 to residue 146 \n",
        "BuildSystem.add_state: -------- domain 0 of molecule Rpb8 represented by pdb file ../rnapolii/data/1WCM_map_fitted.pdb \n",
        "BuildSystem.add_state: -------- domain 0 of molecule Rpb8 represented by gaussians "
       ]
      },
      {
       "output_type": "stream",
       "stream": "stdout",
       "text": [
        "\n",
        "BuildSystem.add_state: setting up molecule Rpb9 copy number 0\n",
        "BuildSystem.add_state: molecule Rpb9 sequence has 122 residues\n",
        "BuildSystem.add_state: ---- setting up domain 0 of molecule Rpb9\n",
        "BuildSystem.add_state: -------- domain 0 of molecule Rpb9 extends from residue 1 to residue 122 \n",
        "BuildSystem.add_state: -------- domain 0 of molecule Rpb9 represented by pdb file ../rnapolii/data/1WCM_map_fitted.pdb \n",
        "BuildSystem.add_state: -------- domain 0 of molecule Rpb9 represented by gaussians "
       ]
      },
      {
       "output_type": "stream",
       "stream": "stdout",
       "text": [
        "\n",
        "BuildSystem.add_state: setting up molecule Rpb12 copy number 0\n",
        "BuildSystem.add_state: molecule Rpb12 sequence has 70 residues\n",
        "BuildSystem.add_state: ---- setting up domain 0 of molecule Rpb12\n",
        "BuildSystem.add_state: -------- domain 0 of molecule Rpb12 extends from residue 1 to residue 70 \n",
        "BuildSystem.add_state: -------- domain 0 of molecule Rpb12 represented by pdb file ../rnapolii/data/1WCM_map_fitted.pdb \n",
        "BuildSystem.add_state: -------- domain 0 of molecule Rpb12 represented by gaussians "
       ]
      },
      {
       "output_type": "stream",
       "stream": "stdout",
       "text": [
        "\n",
        "BuildSystem.add_state: setting up molecule Rpb10 copy number 0\n",
        "BuildSystem.add_state: molecule Rpb10 sequence has 70 residues\n",
        "BuildSystem.add_state: ---- setting up domain 0 of molecule Rpb10\n",
        "BuildSystem.add_state: -------- domain 0 of molecule Rpb10 extends from residue 1 to residue 70 \n",
        "BuildSystem.add_state: -------- domain 0 of molecule Rpb10 represented by pdb file ../rnapolii/data/1WCM_map_fitted.pdb \n",
        "BuildSystem.add_state: -------- domain 0 of molecule Rpb10 represented by gaussians "
       ]
      },
      {
       "output_type": "stream",
       "stream": "stdout",
       "text": [
        "\n",
        "BuildSystem.add_state: setting up molecule Rpb11 copy number 0\n",
        "BuildSystem.add_state: molecule Rpb11 sequence has 120 residues\n",
        "BuildSystem.add_state: ---- setting up domain 0 of molecule Rpb11\n",
        "BuildSystem.add_state: -------- domain 0 of molecule Rpb11 extends from residue 1 to residue 120 \n",
        "BuildSystem.add_state: -------- domain 0 of molecule Rpb11 represented by pdb file ../rnapolii/data/1WCM_map_fitted.pdb \n",
        "BuildSystem.add_state: -------- domain 0 of molecule Rpb11 represented by gaussians "
       ]
      },
      {
       "output_type": "stream",
       "stream": "stdout",
       "text": [
        "\n",
        "BuildSystem.add_state: State 1 added\n"
       ]
      }
     ],
     "prompt_number": 5
    },
    {
     "cell_type": "markdown",
     "metadata": {
      "slideshow": {
       "slide_type": "subslide"
      }
     },
     "source": [
      "#### Building the System Representation and Degrees of Freedom <a name=\"Representation_and_DOF_4\"></a>\n",
      "\n",
      "Here we can set the **Degrees of Freedom** parameters, which should be\n",
      "optimized according to MC acceptance ratios. \n",
      "\n",
      "There are three kind of movers: Rigid Body, Bead, and Super Rigid Body. \n",
      "\n",
      "The excecution of the macro will return\n",
      "* the root hierarchy (`root_hier`) \n",
      "* the degrees of freedom (`dof`) objects, both of which are used later on.\n"
     ]
    },
    {
     "cell_type": "code",
     "collapsed": false,
     "input": [
      "root_hier, dof = bs.execute_macro(max_rb_trans=4.0, \n",
      "                                  max_rb_rot=0.3, \n",
      "                                  max_bead_trans=4.0, \n",
      "                                  max_srb_trans=4.0,\n",
      "                                  max_srb_rot=0.3)"
     ],
     "language": "python",
     "metadata": {
      "slideshow": {
       "slide_type": "fragment"
      }
     },
     "outputs": [
      {
       "output_type": "stream",
       "stream": "stdout",
       "text": [
        "BuildSystem.execute_macro: building representations\n",
        "WARNING: Residues without representation in molecule Rpb4 : 74-114\n",
        "done building"
       ]
      },
      {
       "output_type": "stream",
       "stream": "stdout",
       "text": [
        " \"Rpb4\" Chain A Copy: 0\n",
        "done building"
       ]
      },
      {
       "output_type": "stream",
       "stream": "stdout",
       "text": [
        " \"Rpb5\" Chain B Copy: 0\n",
        "done building"
       ]
      },
      {
       "output_type": "stream",
       "stream": "stdout",
       "text": [
        " \"Rpb6\" Chain C Copy: 0\n",
        "done building"
       ]
      },
      {
       "output_type": "stream",
       "stream": "stdout",
       "text": [
        " \"Rpb7\" Chain D Copy: 0\n",
        "done building"
       ]
      },
      {
       "output_type": "stream",
       "stream": "stdout",
       "text": [
        " \"Rpb1\" Chain E Copy: 0\n",
        "done building"
       ]
      },
      {
       "output_type": "stream",
       "stream": "stdout",
       "text": [
        " \"Rpb2\" Chain F Copy: 0\n",
        "done building"
       ]
      },
      {
       "output_type": "stream",
       "stream": "stdout",
       "text": [
        " \"Rpb3\" Chain G Copy: 0\n",
        "done building"
       ]
      },
      {
       "output_type": "stream",
       "stream": "stdout",
       "text": [
        " \"Rpb8\" Chain H Copy: 0\n",
        "done building"
       ]
      },
      {
       "output_type": "stream",
       "stream": "stdout",
       "text": [
        " \"Rpb9\" Chain I Copy: 0\n",
        "done building \"Rpb12\" Chain J Copy: 0\n",
        "done building"
       ]
      },
      {
       "output_type": "stream",
       "stream": "stdout",
       "text": [
        " \"Rpb10\" Chain K Copy: 0\n",
        "done building"
       ]
      },
      {
       "output_type": "stream",
       "stream": "stdout",
       "text": [
        " \"Rpb11\" Chain L Copy: 0\n",
        "BuildSystem.execute_macro: setting up degrees of freedom\n",
        "BuildSystem.execute_macro: -------- building rigid body ['Rpb1..0']\n",
        "BuildSystem.execute_macro: -------- adding Rpb1..0\n",
        "BuildSystem.execute_macro: -------- creating rigid body with max_trans 4.0 max_rot 0.3 non_rigid_max_trans 4.0\n",
        "BuildSystem.execute_macro: -------- building rigid body ['Rpb1..1']"
       ]
      },
      {
       "output_type": "stream",
       "stream": "stdout",
       "text": [
        "\n",
        "BuildSystem.execute_macro: -------- adding Rpb1..1\n",
        "BuildSystem.execute_macro: -------- creating rigid body with max_trans 4.0 max_rot 0.3 non_rigid_max_trans 4.0\n",
        "BuildSystem.execute_macro: -------- building rigid body ['Rpb1..2']"
       ]
      },
      {
       "output_type": "stream",
       "stream": "stdout",
       "text": [
        "\n",
        "BuildSystem.execute_macro: -------- adding Rpb1..2\n",
        "BuildSystem.execute_macro: -------- creating rigid body with max_trans 4.0 max_rot 0.3 non_rigid_max_trans 4.0\n",
        "BuildSystem.execute_macro: -------- building rigid body ['Rpb2..0']\n",
        "BuildSystem.execute_macro: -------- adding Rpb2..0\n",
        "BuildSystem.execute_macro: -------- creating rigid body with max_trans 4.0 max_rot 0.3 non_rigid_max_trans 4.0\n",
        "BuildSystem.execute_macro: -------- building rigid body ['Rpb2..1']"
       ]
      },
      {
       "output_type": "stream",
       "stream": "stdout",
       "text": [
        "\n",
        "BuildSystem.execute_macro: -------- adding Rpb2..1\n",
        "BuildSystem.execute_macro: -------- creating rigid body with max_trans 4.0 max_rot 0.3 non_rigid_max_trans 4.0\n",
        "BuildSystem.execute_macro: -------- building rigid body ['Rpb3..0']\n",
        "BuildSystem.execute_macro: -------- adding Rpb3..0\n",
        "BuildSystem.execute_macro: -------- creating rigid body with max_trans 4.0 max_rot 0.3 non_rigid_max_trans 4.0\n",
        "BuildSystem.execute_macro: -------- building rigid body ['Rpb4..0']\n",
        "BuildSystem.execute_macro: -------- adding Rpb4..0\n",
        "BuildSystem.execute_macro: -------- creating rigid body with max_trans 4.0 max_rot 0.3 non_rigid_max_trans 4.0\n",
        "BuildSystem.execute_macro: -------- building rigid body ['Rpb5..0']\n",
        "BuildSystem.execute_macro: -------- adding Rpb5..0\n",
        "BuildSystem.execute_macro: -------- creating rigid body with max_trans 4.0 max_rot 0.3 non_rigid_max_trans 4.0\n",
        "BuildSystem.execute_macro: -------- building rigid body ['Rpb6..0']\n",
        "BuildSystem.execute_macro: -------- adding Rpb6..0\n",
        "BuildSystem.execute_macro: -------- creating rigid body with max_trans 4.0 max_rot 0.3 non_rigid_max_trans 4.0\n",
        "BuildSystem.execute_macro: -------- building rigid body ['Rpb7..0']"
       ]
      },
      {
       "output_type": "stream",
       "stream": "stdout",
       "text": [
        "\n",
        "BuildSystem.execute_macro: -------- adding Rpb7..0\n",
        "BuildSystem.execute_macro: -------- creating rigid body with max_trans 4.0 max_rot 0.3 non_rigid_max_trans 4.0\n",
        "BuildSystem.execute_macro: -------- building rigid body ['Rpb8..0']\n",
        "BuildSystem.execute_macro: -------- adding Rpb8..0\n",
        "BuildSystem.execute_macro: -------- creating rigid body with max_trans 4.0 max_rot 0.3 non_rigid_max_trans 4.0\n",
        "BuildSystem.execute_macro: -------- building rigid body ['Rpb9..0']\n",
        "BuildSystem.execute_macro: -------- adding Rpb9..0\n",
        "BuildSystem.execute_macro: -------- creating rigid body with max_trans 4.0 max_rot 0.3 non_rigid_max_trans 4.0\n",
        "BuildSystem.execute_macro: -------- building rigid body ['Rpb10..0']\n",
        "BuildSystem.execute_macro: -------- adding Rpb10..0\n",
        "BuildSystem.execute_macro: -------- creating rigid body with max_trans 4.0 max_rot 0.3 non_rigid_max_trans 4.0\n",
        "BuildSystem.execute_macro: -------- building rigid body ['Rpb11..0']\n",
        "BuildSystem.execute_macro: -------- adding Rpb11..0\n",
        "BuildSystem.execute_macro: -------- creating rigid body with max_trans 4.0 max_rot 0.3 non_rigid_max_trans 4.0\n",
        "BuildSystem.execute_macro: -------- building rigid body ['Rpb12..0']\n",
        "BuildSystem.execute_macro: -------- adding Rpb12..0\n",
        "BuildSystem.execute_macro: -------- creating rigid body with max_trans 4.0 max_rot 0.3 non_rigid_max_trans 4.0\n",
        "BuildSystem.execute_macro: -------- building super rigid body ['Rpb11..0']\n",
        "BuildSystem.execute_macro: -------- adding Rpb11..0\n",
        "BuildSystem.execute_macro: -------- creating super rigid body with max_trans 4.0 max_rot 0.3 \n",
        "BuildSystem.execute_macro: -------- building super rigid body ['Rpb10..0']"
       ]
      },
      {
       "output_type": "stream",
       "stream": "stdout",
       "text": [
        "\n",
        "BuildSystem.execute_macro: -------- adding Rpb10..0\n",
        "BuildSystem.execute_macro: -------- creating super rigid body with max_trans 4.0 max_rot 0.3 \n",
        "BuildSystem.execute_macro: -------- building super rigid body ['Rpb12..0']\n",
        "BuildSystem.execute_macro: -------- adding Rpb12..0\n",
        "BuildSystem.execute_macro: -------- creating super rigid body with max_trans 4.0 max_rot 0.3 \n",
        "BuildSystem.execute_macro: -------- building super rigid body ['Rpb1..0', 'Rpb1..1', 'Rpb1..2']\n",
        "BuildSystem.execute_macro: -------- adding Rpb1..0\n",
        "BuildSystem.execute_macro: -------- adding Rpb1..1\n",
        "BuildSystem.execute_macro: -------- adding Rpb1..2\n",
        "BuildSystem.execute_macro: -------- creating super rigid body with max_trans 4.0 max_rot 0.3 \n",
        "BuildSystem.execute_macro: -------- building super rigid body ['Rpb3..0']"
       ]
      },
      {
       "output_type": "stream",
       "stream": "stdout",
       "text": [
        "\n",
        "BuildSystem.execute_macro: -------- adding Rpb3..0\n",
        "BuildSystem.execute_macro: -------- creating super rigid body with max_trans 4.0 max_rot 0.3 \n",
        "BuildSystem.execute_macro: -------- building super rigid body ['Rpb2..0', 'Rpb2..1']\n",
        "BuildSystem.execute_macro: -------- adding Rpb2..0\n",
        "BuildSystem.execute_macro: -------- adding Rpb2..1\n",
        "BuildSystem.execute_macro: -------- creating super rigid body with max_trans 4.0 max_rot 0.3 \n",
        "BuildSystem.execute_macro: -------- building super rigid body ['Rpb5..0']"
       ]
      },
      {
       "output_type": "stream",
       "stream": "stdout",
       "text": [
        "\n",
        "BuildSystem.execute_macro: -------- adding Rpb5..0\n",
        "BuildSystem.execute_macro: -------- creating super rigid body with max_trans 4.0 max_rot 0.3 \n",
        "BuildSystem.execute_macro: -------- building super rigid body ['Rpb4..0']\n",
        "BuildSystem.execute_macro: -------- adding Rpb4..0\n",
        "BuildSystem.execute_macro: -------- creating super rigid body with max_trans 4.0 max_rot 0.3 \n",
        "BuildSystem.execute_macro: -------- building super rigid body ['Rpb7..0']\n",
        "BuildSystem.execute_macro: -------- adding Rpb7..0\n",
        "BuildSystem.execute_macro: -------- creating super rigid body with max_trans 4.0 max_rot 0.3 \n",
        "BuildSystem.execute_macro: -------- building super rigid body ['Rpb6..0']\n",
        "BuildSystem.execute_macro: -------- adding Rpb6..0\n",
        "BuildSystem.execute_macro: -------- creating super rigid body with max_trans 4.0 max_rot 0.3 \n",
        "BuildSystem.execute_macro: -------- building super rigid body ['Rpb9..0']\n",
        "BuildSystem.execute_macro: -------- adding Rpb9..0\n",
        "BuildSystem.execute_macro: -------- creating super rigid body with max_trans 4.0 max_rot 0.3 \n",
        "BuildSystem.execute_macro: -------- building super rigid body ['Rpb8..0']"
       ]
      },
      {
       "output_type": "stream",
       "stream": "stdout",
       "text": [
        "\n",
        "BuildSystem.execute_macro: -------- adding Rpb8..0\n",
        "BuildSystem.execute_macro: -------- creating super rigid body with max_trans 4.0 max_rot 0.3 \n"
       ]
      }
     ],
     "prompt_number": 6
    },
    {
     "cell_type": "markdown",
     "metadata": {
      "slideshow": {
       "slide_type": "subslide"
      }
     },
     "source": [
      "At this point we have created the complete representation of the system. If displayed using Chimera the subunits should look like this (where the left and right panels are the assembled complex exploded view, respectively)"
     ]
    },
    {
     "cell_type": "markdown",
     "metadata": {
      "slideshow": {
       "slide_type": "fragment"
      }
     },
     "source": [
      "<figure><img src=\"files/images/rnapolii_domain_representation.png\" width=\"700px\" />\n",
      "<figcaption>_Domain Representation_</figcaption></figure>"
     ]
    },
    {
     "cell_type": "markdown",
     "metadata": {
      "slideshow": {
       "slide_type": "subslide"
      }
     },
     "source": [
      "We can display the representation of system the along the sequence. Each color correspond to a domain of the complex assigned to an individual rigid body. White spaces are the beads."
     ]
    },
    {
     "cell_type": "code",
     "collapsed": false,
     "input": [
      "%matplotlib inline\n",
      "\n",
      "import IMP.pmi.plotting\n",
      "import IMP.pmi.plotting.topology\n",
      "\n",
      "IMP.pmi.plotting.topology.draw_component_composition(dof)"
     ],
     "language": "python",
     "metadata": {
      "slideshow": {
       "slide_type": "fragment"
      }
     },
     "outputs": [
      {
       "output_type": "stream",
       "stream": "stderr",
       "text": [
        "/System/Library/Frameworks/Python.framework/Versions/2.7/Extras/lib/python/matplotlib/__init__.py:1155: UserWarning:  This call to matplotlib.use() has no effect\n",
        "because the backend has already been chosen;\n",
        "matplotlib.use() must be called *before* pylab, matplotlib.pyplot,\n",
        "or matplotlib.backends is imported for the first time.\n",
        "\n",
        "  warnings.warn(_use_error_msg)\n"
       ]
      },
      {
       "metadata": {},
       "output_type": "display_data",
       "png": "[encoded data removed]",
       "text": [
        "<matplotlib.figure.Figure at 0x10d768590>"
       ]
      },
      {
       "metadata": {},
       "output_type": "display_data",
       "png": "[encoded data removed]",
       "text": [
        "<matplotlib.figure.Figure at 0x1171b3dd0>"
       ]
      },
      {
       "metadata": {},
       "output_type": "display_data",
       "png": "[encoded data removed]",
       "text": [
        "<matplotlib.figure.Figure at 0x10d755310>"
       ]
      },
      {
       "output_type": "stream",
       "stream": "stderr",
       "text": [
        "/System/Library/Frameworks/Python.framework/Versions/2.7/Extras/lib/python/matplotlib/colorbar.py:766: RuntimeWarning: invalid value encountered in double_scalars\n",
        "  automin = (y[2] - y[1]) / clen\n",
        "/System/Library/Frameworks/Python.framework/Versions/2.7/Extras/lib/python/matplotlib/colorbar.py:767: RuntimeWarning: divide by zero encountered in double_scalars\n",
        "  automax = (y[-2] - y[-3]) / clen\n"
       ]
      },
      {
       "metadata": {},
       "output_type": "display_data",
       "png": "[encoded data removed]",
       "text": [
        "<matplotlib.figure.Figure at 0x10d768b10>"
       ]
      },
      {
       "metadata": {},
       "output_type": "display_data",
       "png": "[encoded data removed]",
       "text": [
        "<matplotlib.figure.Figure at 0x1105f8550>"
       ]
      },
      {
       "metadata": {},
       "output_type": "display_data",
       "png": "[encoded data removed]",
       "text": [
        "<matplotlib.figure.Figure at 0x10f2d8790>"
       ]
      },
      {
       "metadata": {},
       "output_type": "display_data",
       "png": "[encoded data removed]",
       "text": [
        "<matplotlib.figure.Figure at 0x11741c390>"
       ]
      },
      {
       "metadata": {},
       "output_type": "display_data",
       "png": "[encoded data removed]",
       "text": [
        "<matplotlib.figure.Figure at 0x10f942cd0>"
       ]
      },
      {
       "metadata": {},
       "output_type": "display_data",
       "png": "[encoded data removed]",
       "text": [
        "<matplotlib.figure.Figure at 0x11732f550>"
       ]
      },
      {
       "metadata": {},
       "output_type": "display_data",
       "png": "[encoded data removed]",
       "text": [
        "<matplotlib.figure.Figure at 0x10f2d8790>"
       ]
      },
      {
       "metadata": {},
       "output_type": "display_data",
       "png": "[encoded data removed]",
       "text": [
        "<matplotlib.figure.Figure at 0x110970550>"
       ]
      },
      {
       "metadata": {},
       "output_type": "display_data",
       "png": "[encoded data removed]",
       "text": [
        "<matplotlib.figure.Figure at 0x10f2d8790>"
       ]
      }
     ],
     "prompt_number": 7
    },
    {
     "cell_type": "markdown",
     "metadata": {
      "slideshow": {
       "slide_type": "subslide"
      }
     },
     "source": [
      "Since we're interested in modelling the stalk, we will fix all subunits except Rpb4 and Rpb7. Note that we are using [IMP.atom.Selection](https://integrativemodeling.org/nightly/doc/ref/classIMP_1_1atom_1_1Selection.html) to get the particles that correspond to the fixed Molecules."
     ]
    },
    {
     "cell_type": "code",
     "collapsed": false,
     "input": [
      "# Fix all rigid bodies but not Rpb4 and Rpb7 (the stalk)\n",
      "# First select and gather all particles to fix.\n",
      "fixed_particles=[]\n",
      "for prot in [\"Rpb1\",\"Rpb2\",\"Rpb3\",\"Rpb5\",\"Rpb6\",\"Rpb8\",\"Rpb9\",\"Rpb10\",\"Rpb11\",\"Rpb12\"]:\n",
      "    fixed_particles+=IMP.atom.Selection(root_hier,molecule=prot).get_selected_particles()\n",
      "    \n",
      "\n",
      "# Fix the Corresponding Rigid movers and Super Rigid Body movers using dof\n",
      "# The flexible beads will still be flexible (fixed_beads is an empty list)!\n",
      "fixed_beads,fixed_rbs=dof.disable_movers(fixed_particles,\n",
      "                                         [IMP.core.RigidBodyMover,IMP.pmi.TransformMover])"
     ],
     "language": "python",
     "metadata": {
      "slideshow": {
       "slide_type": "fragment"
      }
     },
     "outputs": [
      {
       "output_type": "stream",
       "stream": "stdout",
       "text": [
        "Fixing 23 movers\n"
       ]
      }
     ],
     "prompt_number": 8
    },
    {
     "cell_type": "markdown",
     "metadata": {
      "slideshow": {
       "slide_type": "subslide"
      }
     },
     "source": [
      "Finally we randomize the initial configuration to remove any bias from the initial starting configuration read from input files. \n",
      "\n",
      "The `excluded_rigid_bodies=fixed_rbs` will exclude from the randomization everything that was fixed above."
     ]
    },
    {
     "cell_type": "code",
     "collapsed": false,
     "input": [
      "# Shuffle the rigid body and beads configuration of only the molecules we are interested in (Rpb4 and Rpb7)\n",
      "IMP.pmi.tools.shuffle_configuration(root_hier,\n",
      "                                    excluded_rigid_bodies=fixed_rbs,\n",
      "                                    max_translation=50, \n",
      "                                    verbose=False,\n",
      "                                    cutoff=5.0,\n",
      "                                    niterations=100)"
     ],
     "language": "python",
     "metadata": {
      "slideshow": {
       "slide_type": "fragment"
      }
     },
     "outputs": [
      {
       "output_type": "stream",
       "stream": "stdout",
       "text": [
        "shuffling 15 rigid bodies\n",
        "shuffling"
       ]
      },
      {
       "output_type": "stream",
       "stream": "stdout",
       "text": [
        " 47 flexible beads\n"
       ]
      }
     ],
     "prompt_number": 9
    },
    {
     "cell_type": "markdown",
     "metadata": {
      "slideshow": {
       "slide_type": "slide"
      }
     },
     "source": [
      "### Scoring Function <a name=\"Scoring_Function_3\"></a>"
     ]
    },
    {
     "cell_type": "markdown",
     "metadata": {
      "slideshow": {
       "slide_type": "fragment"
      }
     },
     "source": [
      "After defining the representation of the model, we build the **restraints** by which the individual structural models will be scored based on the input data.\n",
      "\n",
      "The sum of all of these restraints is our **scoring function**. \n",
      "\n",
      "For all restraints, calling `add_to_model()` incorporates them into the scoring function\n",
      "\n",
      "Appending the restraints to the `outputobjects` list reports them in the log files produced in the sampling."
     ]
    },
    {
     "cell_type": "code",
     "collapsed": false,
     "input": [
      "outputobjects = [] # reporter objects...output is included in the stat file"
     ],
     "language": "python",
     "metadata": {
      "slideshow": {
       "slide_type": "fragment"
      }
     },
     "outputs": []
    },
    {
     "cell_type": "markdown",
     "metadata": {
      "slideshow": {
       "slide_type": "subslide"
      }
     },
     "source": [
      "#### Connectivity Restraint <a name=\"Connectivity_Restraint_4\"></a>"
     ]
    },
    {
     "cell_type": "code",
     "collapsed": false,
     "input": [
      "# Connectivity keeps things connected along the backbone (ignores if inside same rigid body)\n",
      "mols = IMP.pmi.tools.get_molecules(root_hier)\n",
      "for mol in mols:\n",
      "    molname=mol.get_name()        \n",
      "    IMP.pmi.tools.display_bonds(mol)\n",
      "    cr = IMP.pmi.restraints.stereochemistry.ConnectivityRestraint(mol,scale=2.0)\n",
      "    cr.add_to_model()\n",
      "    cr.set_label(molname)\n",
      "    outputobjects.append(cr)"
     ],
     "language": "python",
     "metadata": {
      "slideshow": {
       "slide_type": "fragment"
      }
     },
     "outputs": []
    },
    {
     "cell_type": "markdown",
     "metadata": {
      "slideshow": {
       "slide_type": "subslide"
      }
     },
     "source": [
      "#### Excluded Volume Restraint <a name=\"Excluded_Volume_Restraint_4\"></a>"
     ]
    },
    {
     "cell_type": "code",
     "collapsed": false,
     "input": [
      "ev = IMP.pmi.restraints.stereochemistry.ExcludedVolumeSphere(\n",
      "                                         included_objects=root_hier,\n",
      "                                         resolution=10)\n",
      "ev.add_to_model()         # add to scoring function\n",
      "outputobjects.append(ev)  # add to output"
     ],
     "language": "python",
     "metadata": {
      "slideshow": {
       "slide_type": "fragment"
      }
     },
     "outputs": []
    },
    {
     "cell_type": "markdown",
     "metadata": {
      "slideshow": {
       "slide_type": "subslide"
      }
     },
     "source": [
      "#### Crosslinks - dataset 1 <a name=\"Crosslink_1_4\"></a>\n",
      "\n",
      "A crosslinking restraint is implemented as a distance restraint between two residues.  \n",
      "\n",
      "The two residues are each defined by the protein (component) name and the residue number.  \n",
      "\n",
      "The data file has a csv format, and looks like:\n",
      "\n",
      "```\n",
      "prot1,res1,prot2,res2\n",
      "Rpb1,34,Rpb1,49\n",
      "Rpb1,101,Rpb1,143\n",
      "...\n",
      "```"
     ]
    },
    {
     "cell_type": "code",
     "collapsed": false,
     "input": [
      "# We then initialize a CrossLinkDataBase that uses a keywords converter to map column to information.\n",
      "# The required fields are the protein and residue number for each side of the crosslink.\n",
      "xldbkwc = IMP.pmi.io.crosslink.CrossLinkDataBaseKeywordsConverter()\n",
      "xldbkwc.set_protein1_key(\"prot1\")\n",
      "xldbkwc.set_protein2_key(\"prot2\")\n",
      "xldbkwc.set_residue1_key(\"res1\")\n",
      "xldbkwc.set_residue2_key(\"res2\")\n",
      "\n",
      "xl1 = IMP.pmi.io.crosslink.CrossLinkDataBase(xldbkwc)\n",
      "xl1.create_set_from_file(datadirectory+'polii_juri.csv')\n",
      "\n",
      "# Now, we set up the restraint.\n",
      "xl1rest = IMP.pmi.restraints.crosslinking.CrossLinkingMassSpectrometryRestraint(\n",
      "                                   root_hier=root_hier,  # The root hierarchy\n",
      "                                   CrossLinkDataBase=xl1,# The XLDB defined above\n",
      "                                   length=21.0,          # Length of the linker in angstroms\n",
      "                                   slope=0.01,           # A linear term that biases XLed\n",
      "                                                         # residues together\n",
      "                                   resolution=1.0,       # Resolution at which to apply the restraint. \n",
      "                                                         # Either 1 (residue) or 0 (atomic)\n",
      "                                   label=\"Chen\",         # Used to label output in the stat file\n",
      "                                   weight=1.)            # Weight applied to all crosslinks \n",
      "                                                         # in this dataset\n",
      "xl1rest.add_to_model()\n",
      "outputobjects.append(xl1rest)"
     ],
     "language": "python",
     "metadata": {
      "slideshow": {
       "slide_type": "fragment"
      }
     },
     "outputs": []
    },
    {
     "cell_type": "markdown",
     "metadata": {},
     "source": [
      "#### Crosslinks - dataset 2 <a name=\"Crosslink_2_4\"></a>\n",
      "\n",
      "We can easily add a second set of crosslinks.\n",
      "These have a different format and label, but other settings are the same"
     ]
    },
    {
     "cell_type": "code",
     "collapsed": false,
     "input": [
      "xldbkwc = IMP.pmi.io.crosslink.CrossLinkDataBaseKeywordsConverter()\n",
      "xldbkwc.set_protein1_key(\"pep1.accession\")\n",
      "xldbkwc.set_protein2_key(\"pep2.accession\")\n",
      "xldbkwc.set_residue1_key(\"pep1.xlinked_aa\")\n",
      "xldbkwc.set_residue2_key(\"pep2.xlinked_aa\")\n",
      "\n",
      "xl2 = IMP.pmi.io.crosslink.CrossLinkDataBase(xldbkwc)\n",
      "xl2.create_set_from_file(datadirectory+'polii_xlinks.csv')\n",
      "\n",
      "xl2rest = IMP.pmi.restraints.crosslinking.CrossLinkingMassSpectrometryRestraint(\n",
      "                                   root_hier=root_hier,\n",
      "                                   CrossLinkDataBase=xl2,\n",
      "                                   length=21.0,\n",
      "                                   slope=0.01,\n",
      "                                   resolution=1.0,\n",
      "                                   label=\"Trnka\",\n",
      "                                   weight=1.)\n",
      "\n",
      "xl2rest.add_to_model()          \n",
      "outputobjects.append(xl2rest)"
     ],
     "language": "python",
     "metadata": {},
     "outputs": []
    },
    {
     "cell_type": "markdown",
     "metadata": {
      "slideshow": {
       "slide_type": "subslide"
      }
     },
     "source": [
      "#### Electron Microscopy Restraint <a name=\"EM_4\"></a>"
     ]
    },
    {
     "cell_type": "markdown",
     "metadata": {
      "slideshow": {
       "slide_type": "fragment"
      }
     },
     "source": [
      "The GaussianEMRestraint uses a density overlap function to compare model to data\n",
      "First the EM map is approximated with a Gaussian Mixture Model (done separately)\n",
      "Second, the components of the model are represented with Gaussians (forming the model GMM)\n",
      "\n",
      "The GaussianEMRestraint uses a density overlap function to compare model to data. First the EM map is approximated with a Gaussian Mixture Model (done separately). Second, the components of the model are represented with Gaussians (forming the model GMM)\n",
      "\n",
      "* `scale_target_to_mass` ensures the total mass of model and map are identical\n",
      "* `slope`: nudge model closer to map when far away\n",
      "* `weight`: heuristic, needed to calibrate the EM restraint with the other terms. \n",
      "\n",
      "and then add it to the output object.  Nothing is being sampled, so it does not need to be added to sample objects.\n"
     ]
    },
    {
     "cell_type": "code",
     "collapsed": false,
     "input": [
      "# First, get the model density objects that will be fitted to the EM density.\n",
      "em_components = IMP.pmi.tools.get_densities(root_hier)\n",
      "\n",
      "gemt = IMP.pmi.restraints.em.GaussianEMRestraint(em_components,\n",
      "                                      target_gmm_file,  # EM map GMM file\n",
      "                                      scale_target_to_mass=True,  # True if the mass of the map and model are identical.\n",
      "                                      slope=0.0000001,  # A small funneling force pulling towards the center of the EM density.\n",
      "                                      weight=80.0)           \n",
      "gemt.add_to_model()\n",
      "outputobjects.append(gemt)"
     ],
     "language": "python",
     "metadata": {
      "slideshow": {
       "slide_type": "fragment"
      }
     },
     "outputs": []
    },
    {
     "cell_type": "markdown",
     "metadata": {
      "slideshow": {
       "slide_type": "slide"
      }
     },
     "source": [
      "## Stage 3 - Sampling <a name=\"Sampling_2\"></a>\n",
      "\n",
      "With the system representation built and data restraints entered, the system is now ready to sample configurations. A replica exchange run can be set up using the `ReplicaExchange0` macro:\n",
      "\n",
      "See the [ReplicaExchange0 documentation](https://integrativemodeling.org/nightly/doc/ref/classIMP_1_1pmi_1_1macros_1_1ReplicaExchange0.html) for a full description of all of the input parameters.\n",
      "\n",
      "The sampling is performed by executing the macro:\n",
      "\n",
      "```mc1.execute_macro()```\n"
     ]
    },
    {
     "cell_type": "code",
     "collapsed": false,
     "input": [
      "# total number of saved frames\n",
      "num_frames = 50\n",
      "\n",
      "# This object defines all components to be sampled as well as the sampling protocol\n",
      "mc1=IMP.pmi.macros.ReplicaExchange0(m,\n",
      "              root_hier=root_hier,                         \n",
      "              monte_carlo_sample_objects=dof.get_movers(),\n",
      "              output_objects=outputobjects,                \n",
      "              crosslink_restraints=[xl1rest,xl2rest],   \n",
      "              monte_carlo_temperature=1.0,                 \n",
      "              simulated_annealing=True,\n",
      "              simulated_annealing_minimum_temperature=1.0,\n",
      "              simulated_annealing_maximum_temperature=2.5,\n",
      "              simulated_annealing_minimum_temperature_nframes=200,\n",
      "              simulated_annealing_maximum_temperature_nframes=20,\n",
      "              replica_exchange_minimum_temperature=1.0,\n",
      "              replica_exchange_maximum_temperature=2.5,\n",
      "              number_of_best_scoring_models=10,\n",
      "              monte_carlo_steps=10,\n",
      "              number_of_frames=num_frames,\n",
      "              global_output_directory=output_directory)\n",
      "\n",
      "# Start Sampling\n",
      "mc1.execute_macro()"
     ],
     "language": "python",
     "metadata": {
      "slideshow": {
       "slide_type": "fragment"
      }
     },
     "outputs": []
    },
    {
     "cell_type": "markdown",
     "metadata": {
      "slideshow": {
       "slide_type": "subslide"
      }
     },
     "source": [
      "### Modeling Output <a name=\"Output_3\"></a>\n",
      "\n",
      "The script generates an output directory containing the following:\n",
      "\n",
      "* pdbs: a directory containing the pdbs of best-scoring models \n",
      "* rmfs: RMF files containing all the frames. \n",
      "* Statistics from the sampling, contained in a \"statfile\", stat.*.out. "
     ]
    },
    {
     "cell_type": "markdown",
     "metadata": {
      "slideshow": {
       "slide_type": "fragment"
      }
     },
     "source": [
      "The **rmf** (rich molecular format) is a file format specially designed to store coarse-grained, multi-resolution and multi-state models such as those generated by %IMP."
     ]
    },
    {
     "cell_type": "markdown",
     "metadata": {
      "slideshow": {
       "slide_type": "subslide"
      }
     },
     "source": [
      "Gathering Data from statfile\n",
      "Data from the stat file can be parsed and analyzed using two utilities:\n",
      "\n",
      "* process_output.py - parses the statfile and returns columns of interest\n",
      "* plot_stat.sh - plots one or two columns of data (requires gnuplot)"
     ]
    },
    {
     "cell_type": "markdown",
     "metadata": {
      "slideshow": {
       "slide_type": "subslide"
      }
     },
     "source": [
      "process_output.py usage:\n",
      "\n",
      "```\n",
      "IMP_HOME/modules/pmi/pyext/process_output.py [-h] [-f FILENAME] [-s FIELDS [FIELDS ...]] [-t SINGLE_COLUMN_FIELD] [-p] [--head] [-n PRINT_RAW_NUMBER] [--soft] [--search_field SEARCH_FIELD] [--search_value SEARCH_VALUE] [--nframe]\n",
      "```"
     ]
    },
    {
     "cell_type": "markdown",
     "metadata": {
      "slideshow": {
       "slide_type": "subslide"
      }
     },
     "source": [
      "plot_stat.sh usage: \n",
      "\n",
      "```\n",
      "IMP_HOME/modules/pmi/pyext/plot_stat.sh -i STATFILE -y YCOLUMN [-x XCOLUMN] [-m POINTS] [-plot] [-o OUTPUTFILE] [-b BEGIN]\n",
      "```\n",
      "* `-i` | input stat file name\n",
      "* `-y` | column number with Y data values OR column header string\n",
      "* `-x` | column number with X data values OR column header string\n",
      "* `-m` | method of plotting. POINTS, LINES or LINESPOINTS\n",
      "* `-s` | suppress showing plot \n",
      "* `-o` | saves plot to png file with column header names\n",
      "* `-b` | begin at this frame number\n",
      "* `-g` | saves gnuplot file\n",
      "* `-h` | prints this help text to screen"
     ]
    },
    {
     "cell_type": "markdown",
     "metadata": {
      "slideshow": {
       "slide_type": "subslide"
      }
     },
     "source": [
      "### Using `ProcessOutput` for inline analysis <a name=\"ProcessOutput_3\"></a>\n",
      "\n",
      "We can use the class ProcessOutput to analyse and plot the content of the stat files.\n",
      "First, we print all the keywords."
     ]
    },
    {
     "cell_type": "code",
     "collapsed": false,
     "input": [
      "import IMP.pmi.output\n",
      "\n",
      "po=IMP.pmi.output.ProcessOutput(\"./output/stat.0.out\")\n",
      "po.get_keys()"
     ],
     "language": "python",
     "metadata": {
      "slideshow": {
       "slide_type": "fragment"
      }
     },
     "outputs": []
    },
    {
     "cell_type": "markdown",
     "metadata": {
      "slideshow": {
       "slide_type": "subslide"
      }
     },
     "source": [
      "Next, we plot the time series of selected keywords"
     ]
    },
    {
     "cell_type": "code",
     "collapsed": false,
     "input": [
      "fl=po.get_fields([\"Total_Score\",\n",
      "                  \"CrossLinkingMassSpectrometryRestraint_Data_Score_Chen\",\n",
      "                  \"CrossLinkingMassSpectrometryRestraint_Distance_|Trnka|103.1|Rpb1|1|Rpb1|343|0|PSI|\"])\n",
      "IMP.pmi.output.plot_fields(fl,framemin=10)"
     ],
     "language": "python",
     "metadata": {
      "slideshow": {
       "slide_type": "fragment"
      }
     },
     "outputs": []
    },
    {
     "cell_type": "markdown",
     "metadata": {
      "slideshow": {
       "slide_type": "subslide"
      }
     },
     "source": [
      "Additionally, with a little bit of coding, we can draw the box-plot for all crosslink distances"
     ]
    },
    {
     "cell_type": "code",
     "collapsed": false,
     "input": [
      "ks=[]\n",
      "for k in po.get_keys():\n",
      "    if \"Distance\" in k and (\"Rpb7\" in  k or \"Rpb4\" in k): ks.append(k)\n",
      "        \n",
      "fls=po.get_fields(ks)\n",
      "values=[]\n",
      "labels=[]\n",
      "positions=[]\n",
      "n=0\n",
      "for k in fls:\n",
      "        n+=1\n",
      "        values.append([float(x) for x in fls[k]])\n",
      "        labels.append(k.split(\"_\")[2])\n",
      "        positions.append(n)\n",
      "\n",
      "IMP.pmi.output.plot_fields_box_plots(\"CrosslinkDistances\",values,\n",
      "                                     positions,valuename=\"Distance\",\n",
      "                                     positionname=\"Crosslink\",\n",
      "                                     xlabels=labels)"
     ],
     "language": "python",
     "metadata": {
      "slideshow": {
       "slide_type": "fragment"
      }
     },
     "outputs": []
    },
    {
     "cell_type": "markdown",
     "metadata": {
      "slideshow": {
       "slide_type": "slide"
      }
     },
     "source": [
      "## Stage 4 - Analysis Part 1 <a name=\"Analysis_Part_1_2\"></a>\n",
      "\n",
      "Cluster (group by similarity) the sampled models to determine high-probability configurations. \n",
      "\n",
      "Comparing clusters may indicate that there are multiple acceptable configurations given the data. "
     ]
    },
    {
     "cell_type": "markdown",
     "metadata": {
      "slideshow": {
       "slide_type": "subslide"
      }
     },
     "source": [
      "### Precomputed results <a name=\"Precomputed_Results_3\"></a>\n",
      "\n",
      "A long modeling run was precomputed and analyzed. You can [download](ftp://salilab.org/tutorials/imp/rnapolii/results.tar.gz) it from our website, and you can [download](ftp://salilab.org/tutorials/imp/rnapolii/analysis.tar.gz) the corresponding analysis."
     ]
    },
    {
     "cell_type": "markdown",
     "metadata": {
      "slideshow": {
       "slide_type": "subslide"
      }
     },
     "source": [
      "### Clustering top models using `clustering.py` <a name=\"Clustering_3\"></a>\n",
      "The `clustering.py` script, found in the `rnapolii/analysis` directory, calls the [AnalysisReplicaExchange0](https://integrativemodeling.org/nightly/doc/ref/classIMP_1_1pmi_1_1macros_1_1AnalysisReplicaExchange0.html) macro:\n",
      "* finds top-scoring models\n",
      "* extracts coordinates\n",
      "* runs k-means clustering\n",
      "* does basic cluster analysis (eg creating localization densities)"
     ]
    },
    {
     "cell_type": "markdown",
     "metadata": {
      "slideshow": {
       "slide_type": "subslide"
      }
     },
     "source": [
      "We can choose \n",
      "* the number of clusters\n",
      "* the subunits we want to use to calculate the RMSD\n",
      "* the number of good-scoring solutions to include"
     ]
    },
    {
     "cell_type": "code",
     "collapsed": false,
     "input": [
      "# load libraries\n",
      "import matplotlib as mpl\n",
      "mpl.use('Agg')\n",
      "\n",
      "import IMP\n",
      "import IMP.pmi\n",
      "import IMP.pmi.macros\n",
      "import sys,os\n",
      "\n",
      "# most common settings\n",
      "num_clusters = 1\n",
      "num_top_models = 5\n",
      "merge_directories = [\"./\"]   #in this ipython notebook we use the local directory to store the models\n",
      "prefiltervalue = 1000.0\n",
      "out_dir = \"kmeans_%i_%i/\" %(num_top_models,num_clusters)"
     ],
     "language": "python",
     "metadata": {
      "slideshow": {
       "slide_type": "fragment"
      }
     },
     "outputs": []
    },
    {
     "cell_type": "markdown",
     "metadata": {
      "slideshow": {
       "slide_type": "subslide"
      }
     },
     "source": [
      "Finally, we start the clustering. Most of the options were chosen earlier in the script."
     ]
    },
    {
     "cell_type": "markdown",
     "metadata": {
      "slideshow": {
       "slide_type": "fragment"
      }
     },
     "source": [
      "Create the analysis macro and pass it basic information (it will search for stat files):"
     ]
    },
    {
     "cell_type": "code",
     "collapsed": false,
     "input": [
      "# initialize the macro\n",
      "mc=IMP.pmi.macros.AnalysisReplicaExchange0(m,\n",
      "                                           merge_directories=merge_directories)"
     ],
     "language": "python",
     "metadata": {
      "slideshow": {
       "slide_type": "fragment"
      }
     },
     "outputs": []
    },
    {
     "cell_type": "markdown",
     "metadata": {
      "slideshow": {
       "slide_type": "fragment"
      }
     },
     "source": [
      "These are features that are kept around (and moved to the cluster stat files):"
     ]
    },
    {
     "cell_type": "code",
     "collapsed": false,
     "input": [
      "# fields that have to be extracted for the stat file\n",
      "feature_list=[\"ISDCrossLinkMS_Distance_intrarb\",\n",
      "              \"ISDCrossLinkMS_Distance_interrb\",\n",
      "              \"ISDCrossLinkMS_Data_Score\",\n",
      "              \"GaussianEMRestraint_None\",\n",
      "              \"SimplifiedModel_Linker_Score_None\",\n",
      "              \"ISDCrossLinkMS_Psi\",\n",
      "              \"ISDCrossLinkMS_Sigma\"]"
     ],
     "language": "python",
     "metadata": {
      "slideshow": {
       "slide_type": "fragment"
      }
     },
     "outputs": []
    },
    {
     "cell_type": "markdown",
     "metadata": {
      "slideshow": {
       "slide_type": "subslide"
      }
     },
     "source": [
      "Now we specify the subunits for which we want to create density localization maps."
     ]
    },
    {
     "cell_type": "code",
     "collapsed": false,
     "input": [
      "# Dictionary of densities to be calculated\n",
      "# the key is the name of the file and the value is the selection\n",
      "# example: {\"med17-CTD\":[(200,300,\"med17\")],\"med17-CTD.med14\":[(200,300,\"med17\"),\"med14\"]   }\n",
      "density_names = {\"Rpb4\":[\"Rpb4\"],\n",
      "               \"Rpb7\":[\"Rpb7\"]}"
     ],
     "language": "python",
     "metadata": {
      "slideshow": {
       "slide_type": "fragment"
      }
     },
     "outputs": []
    },
    {
     "cell_type": "markdown",
     "metadata": {
      "slideshow": {
       "slide_type": "subslide"
      }
     },
     "source": [
      "Next, we specify the components used in calculating the RMSD between models."
     ]
    },
    {
     "cell_type": "code",
     "collapsed": false,
     "input": [
      "# list of component names needed to calculate the RMSD for the clustering\n",
      "rmsd_names = {\"Rpb4\":\"Rpb4\",\n",
      "              \"Rpb7\":\"Rpb7\"}"
     ],
     "language": "python",
     "metadata": {
      "slideshow": {
       "slide_type": "fragment"
      }
     },
     "outputs": []
    },
    {
     "cell_type": "markdown",
     "metadata": {
      "slideshow": {
       "slide_type": "subslide"
      }
     },
     "source": [
      "Next, we specify components used for structural alignment."
     ]
    },
    {
     "cell_type": "code",
     "collapsed": false,
     "input": [
      "# components used for structural alignment\n",
      "align_names = None # (None because EM provides reference frame)"
     ],
     "language": "python",
     "metadata": {
      "slideshow": {
       "slide_type": "fragment"
      }
     },
     "outputs": []
    },
    {
     "cell_type": "markdown",
     "metadata": {
      "slideshow": {
       "slide_type": "subslide"
      }
     },
     "source": [
      "Finally, we start the clustering. Most of the options were chosen earlier in the script."
     ]
    },
    {
     "cell_type": "code",
     "collapsed": false,
     "input": [
      "mc.clustering(prefiltervalue=prefiltervalue,                   \n",
      "              number_of_best_scoring_models=num_top_models,   \n",
      "              alignment_components=None,                       \n",
      "              rmsd_calculation_components=rmsd_names,          \n",
      "              distance_matrix_file=\"distance.rawmatrix.pkl\", \n",
      "              outputdir=out_dir,                              \n",
      "              feature_keys=feature_list,                       \n",
      "              load_distance_matrix_file=False,                 \n",
      "              display_plot=True,                               \n",
      "              exit_after_display=False,                        \n",
      "              get_every=1,                                     \n",
      "              number_of_clusters=num_clusters,                 \n",
      "              voxel_size=3.0,                                  \n",
      "              density_custom_ranges=density_names)             "
     ],
     "language": "python",
     "metadata": {
      "slideshow": {
       "slide_type": "fragment"
      }
     },
     "outputs": []
    },
    {
     "cell_type": "markdown",
     "metadata": {
      "slideshow": {
       "slide_type": "subslide"
      }
     },
     "source": [
      "### Clustering Results <a name=\"Clustering_Results_3\"></a>\n",
      "Run the clustering script by changing into the `rnapolii/analysis` directory and then running:\n",
      "\n",
      "```\n",
      "python clustering.py\n",
      "```"
     ]
    },
    {
     "cell_type": "markdown",
     "metadata": {
      "slideshow": {
       "slide_type": "fragment"
      }
     },
     "source": [
      "you can download [the precalculated results](ftp://salilab.org/tutorials/imp/rnapolii/results.tar.gz) and the [resulting clusters](ftp://salilab.org/tutorials/imp/rnapolii/analysis.tar.gz) from our website."
     ]
    },
    {
     "cell_type": "markdown",
     "metadata": {
      "slideshow": {
       "slide_type": "subslide"
      }
     },
     "source": [
      "First we can look through the cluster results directory. It contains \n",
      "* the distance matrix plot \n",
      "* a folder for each cluster with PDB and RMF files containing members of each cluster, localization densities and a stat file output (with one entry for each cluster member).\n",
      "\n",
      "<img src=\"files/images/rnapolii_cluster_files.png\" alt=\"clustering files\" />"
     ]
    },
    {
     "cell_type": "markdown",
     "metadata": {
      "slideshow": {
       "slide_type": "subslide"
      }
     },
     "source": [
      "Here is an example modeling result (from the provided files, `cluster.1/4.rmf3`, the cluster center):\n",
      "\n",
      "<img src=\"files/images/rnapolii_result.png\" alt=\"Example result\" width=\"600px\" />"
     ]
    },
    {
     "cell_type": "markdown",
     "metadata": {
      "slideshow": {
       "slide_type": "subslide"
      }
     },
     "source": [
      "The distance matrix (`dist_matrix.pdf`) shows the requested number of clusters with much lower within-cluster than between-cluster distance.\n",
      "\n",
      "The dendrogram shows the distance matrix in a hierarchical way.\n",
      "\n",
      "<img src=\"files/images/rnapolii_dist_matrix.png\" alt=\"Distance matrix and dendrogram\" width=\"600px\" />"
     ]
    },
    {
     "cell_type": "markdown",
     "metadata": {
      "slideshow": {
       "slide_type": "subslide"
      }
     },
     "source": [
      "Next can examine the localization densities of a cluster. \n",
      "\n",
      "<img src=\"files/images/rnapolii_localization.png\" alt=\"Localization densities\" width=\"600px\" />"
     ]
    },
    {
     "cell_type": "markdown",
     "metadata": {
      "slideshow": {
       "slide_type": "slide"
      }
     },
     "source": [
      "## Stage 4 - Analysis Part 2 <a name=\"Analysis_Part_2_2\"></a>"
     ]
    },
    {
     "cell_type": "markdown",
     "metadata": {
      "slideshow": {
       "slide_type": "fragment"
      }
     },
     "source": [
      "### Post-clustering analysis <a name=\"Post_clustering_analsysis_3\"></a>\n",
      "In this stage we perform post-clustering analysis.  Here, we will perform calculations for:\n",
      "\n",
      "* **Cluster Precision**: Determining the within-group precision and between-group similarity via RMSD\n",
      "* **Cluster Accuracy**: Fit of the calculated clusters to the true (known) solution\n",
      "* **Sampling Exhaustiveness**: Qualitative and quantitative measurement of sampling completeness"
     ]
    },
    {
     "cell_type": "markdown",
     "metadata": {
      "slideshow": {
       "slide_type": "subslide"
      }
     },
     "source": [
      "### Cluster Precision (`precision_rmsf.py`) <a name=\"Cluster_Precision_3\"></a>\n",
      "\n",
      "The `precision_rmsf.py` script can be used to determine the within- and between-cluster RMSD (i.e., precision). To run, use:\n",
      "\n",
      "```\n",
      "python precision_rmsf.py\n",
      "```"
     ]
    },
    {
     "cell_type": "markdown",
     "metadata": {
      "slideshow": {
       "slide_type": "fragment"
      }
     },
     "source": [
      "It will generate `precision.*.*.out` files in the `kmeans*` subdirectory containing precision information in text format, while in each cluster directory it generates `.pdf` files showing the within-cluster RMSF."
     ]
    },
    {
     "cell_type": "code",
     "collapsed": false,
     "input": [
      "import glob\n",
      "root_cluster_directory=\"./kmeans_5_1\"\n",
      "\n",
      "# choose components for the precision calculation\n",
      "# key is the named precision item\n",
      "# value is a list of selection tuples [either \"domain_name\" or (start,stop,\"domain_name\") ]\n",
      "selections={\"Rpb4\":[\"Rpb4\"],\n",
      "            \"Rpb7\":[\"Rpb7\"],\n",
      "            \"Rpb4_Rpb7\":[\"Rpb4\",\"Rpb7\"]}"
     ],
     "language": "python",
     "metadata": {
      "slideshow": {
       "slide_type": "fragment"
      }
     },
     "outputs": []
    },
    {
     "cell_type": "markdown",
     "metadata": {
      "slideshow": {
       "slide_type": "subslide"
      }
     },
     "source": [
      "The script then sets up a model and [Precision](@ref IMP::pmi::analysis::Precision) object for the given `selections` at the desired resolution for computation of the precision (`resolution=1` specifies at the residue level)."
     ]
    },
    {
     "cell_type": "code",
     "collapsed": false,
     "input": [
      "# setup Precision calculator\n",
      "pr = IMP.pmi.analysis.Precision(m,resolution=1,selection_dictionary=selections)\n",
      "pr.set_precision_style('pairwise_rmsd')"
     ],
     "language": "python",
     "metadata": {
      "slideshow": {
       "slide_type": "fragment"
      }
     },
     "outputs": []
    },
    {
     "cell_type": "markdown",
     "metadata": {
      "slideshow": {
       "slide_type": "subslide"
      }
     },
     "source": [
      "Next, lists of structures are created that will be passed to the `Precision` object. `rmf_list` references the specific `.rmf` file, which with those `frame_list` is used to reference a particular frame in that `.rmf` to use (in this case, the only frame in the rmf, 0)."
     ]
    },
    {
     "cell_type": "code",
     "collapsed": false,
     "input": [
      "# gather the RMF filenames for each cluster\n",
      "rmf_list=[]\n",
      "frame_list=[]\n",
      "cluster_dirs=glob.glob(root_cluster_directory+'/cluster.*/')\n",
      "\n",
      "for d in cluster_dirs:\n",
      "    rmf_list.append(glob.glob(d+'/*.rmf3'))\n",
      "    frame_list.append([0]*len(rmf_list[-1]))"
     ],
     "language": "python",
     "metadata": {
      "slideshow": {
       "slide_type": "fragment"
      }
     },
     "outputs": []
    },
    {
     "cell_type": "markdown",
     "metadata": {
      "slideshow": {
       "slide_type": "subslide"
      }
     },
     "source": [
      "The list of frames and rmfs are added to the precision object"
     ]
    },
    {
     "cell_type": "code",
     "collapsed": false,
     "input": [
      "# add them to the Precision object\n",
      "for rmfs,frames,cdir in zip(rmf_list,frame_list,cluster_dirs):\n",
      "    pr.add_structures(zip(rmfs,frames),cdir)"
     ],
     "language": "python",
     "metadata": {
      "slideshow": {
       "slide_type": "fragment"
      }
     },
     "outputs": []
    },
    {
     "cell_type": "markdown",
     "metadata": {
      "slideshow": {
       "slide_type": "subslide"
      }
     },
     "source": [
      "Self-precision and inter-cluster precision is then calculated, using the `rmf_list` and the output is placed in `root_cluster_directory`."
     ]
    },
    {
     "cell_type": "code",
     "collapsed": false,
     "input": [
      "import itertools\n",
      "# calculate intra-cluster and inter-cluster precision\n",
      "print(\"calculating precision\")\n",
      "for clus1,clus2 in itertools.combinations_with_replacement(range(len(rmf_list)),2):\n",
      "    pr.get_precision(cluster_dirs[clus1],\n",
      "                     cluster_dirs[clus2],\n",
      "                     root_cluster_directory+\"/precision.\"+str(clus1)+\".\"+str(clus2)+\".out\")"
     ],
     "language": "python",
     "metadata": {
      "slideshow": {
       "slide_type": "fragment"
      }
     },
     "outputs": []
    },
    {
     "cell_type": "markdown",
     "metadata": {
      "slideshow": {
       "slide_type": "subslide"
      }
     },
     "source": [
      "Finally, the RMSFs for each residue in the analyzed components are calculated and stored in `root_cluster_directory/rmsf.COMPONENT_NAME.dat`\n"
     ]
    },
    {
     "cell_type": "code",
     "collapsed": false,
     "input": [
      "# compute residue mean-square fluctuation (RMSF)\n",
      "for d in cluster_dirs:\n",
      "    pr.get_rmsf(structure_set_name=d,outdir=d)"
     ],
     "language": "python",
     "metadata": {
      "slideshow": {
       "slide_type": "fragment"
      }
     },
     "outputs": []
    },
    {
     "cell_type": "markdown",
     "metadata": {
      "slideshow": {
       "slide_type": "fragment"
      }
     },
     "source": [
      "<img src=\"files/images/rnapolii_rmsf.Rpb7.png\" width=\"500px\" alt=\"residue root mean square fluctuations calculated on a cluster of structures\" />"
     ]
    },
    {
     "cell_type": "markdown",
     "metadata": {
      "slideshow": {
       "slide_type": "subslide"
      }
     },
     "source": [
      "### Accuracy evaluation (`accuracy.py`) <a name=\"Accuracy_3\"></a>\n",
      "We evaluate the accuracy of a model against a native configuration. \n",
      "\n",
      "To run, use\n",
      "\n",
      "```\n",
      "python accuracy.py\n",
      "```\n",
      "\n",
      "First, identify the reference structure and list of `.rmf` structures to use in calculation"
     ]
    },
    {
     "cell_type": "code",
     "collapsed": false,
     "input": [
      "# common settings\n",
      "reference_rmf = \"../rnapolii/data/native.rmf3\"\n",
      "test_mode = False                             # run on every 10 rmf files\n",
      "rmfs = glob.glob('kmeans_*_1/cluster.0/*.rmf3') # list of the RMFS to calculate on"
     ],
     "language": "python",
     "metadata": {
      "slideshow": {
       "slide_type": "fragment"
      }
     },
     "outputs": []
    },
    {
     "cell_type": "markdown",
     "metadata": {
      "slideshow": {
       "slide_type": "subslide"
      }
     },
     "source": [
      "The components that will be compared to reference must be explicitly enumerated in `selections`"
     ]
    },
    {
     "cell_type": "code",
     "collapsed": false,
     "input": [
      "# choose components for the precision calculation\n",
      "# key is the named precision item\n",
      "# value is a list of selection tuples [either \"domain_name\" or (start,stop,\"domain_name\") ]\n",
      "selections = {\"Rpb4\":[\"Rpb4\"],\n",
      "              \"Rpb7\":[\"Rpb7\"],\n",
      "              \"Rpb4_Rpb7\":[\"Rpb4\",\"Rpb7\"]}"
     ],
     "language": "python",
     "metadata": {
      "slideshow": {
       "slide_type": "fragment"
      }
     },
     "outputs": []
    },
    {
     "cell_type": "markdown",
     "metadata": {
      "slideshow": {
       "slide_type": "subslide"
      }
     },
     "source": [
      "Initialize a `Precision` class object and add the `selections`.  Then add the list of `.rmf` structures "
     ]
    },
    {
     "cell_type": "code",
     "collapsed": false,
     "input": [
      "# setup Precision calculator\n",
      "frames=[0]*len(rmfs)\n",
      "pr=IMP.pmi.analysis.Precision(m,selection_dictionary=selections)\n",
      "pr.set_precision_style('pairwise_rmsd')\n",
      "pr.add_structures(zip(rmfs,frames),\"ALL\")"
     ],
     "language": "python",
     "metadata": {
      "slideshow": {
       "slide_type": "fragment"
      }
     },
     "outputs": []
    },
    {
     "cell_type": "markdown",
     "metadata": {
      "slideshow": {
       "slide_type": "subslide"
      }
     },
     "source": [
      "Average to the reference structure in angstroms for each component in `selections` is then calculated and outputted to the screen.\n"
     ]
    },
    {
     "cell_type": "code",
     "collapsed": false,
     "input": [
      "# calculate average distance to the reference file\n",
      "pr.set_reference_structure(reference_rmf,0)\n",
      "pr.get_average_distance_wrt_reference_structure(\"ALL\")"
     ],
     "language": "python",
     "metadata": {
      "slideshow": {
       "slide_type": "fragment"
      }
     },
     "outputs": []
    },
    {
     "cell_type": "markdown",
     "metadata": {
      "slideshow": {
       "slide_type": "fragment"
      }
     },
     "source": [
      "The average distance is the average RMSD of each model in the cluster with respect to the reference structure. The program prints values for all selections (`Rpb4`, `Rpb7` and `Rpb4_Rpb7`) and automatically for all the complex (`All`)"
     ]
    },
    {
     "cell_type": "markdown",
     "metadata": {
      "slideshow": {
       "slide_type": "subslide"
      }
     },
     "source": [
      "### Sampling Exhaustiveness <a name=\"Sampling_Exhaustiveness_3\"></a>\n",
      "We can also determine sampling exhaustiveness by dividing the models into multiple sets, performing clustering on each set separately, and comparing the clusters."
     ]
    }
   ],
   "metadata": {}
  }
 ]
}