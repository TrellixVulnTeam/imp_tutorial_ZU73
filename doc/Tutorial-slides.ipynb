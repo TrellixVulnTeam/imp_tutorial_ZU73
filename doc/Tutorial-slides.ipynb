{
 "metadata": {
  "celltoolbar": "Slideshow",
  "name": "",
  "signature": "sha256:9a180b5f764ad174565ae377d637bdd750a079c8b4f3323a2a3a8fb10a041f97"
 },
 "nbformat": 3,
 "nbformat_minor": 0,
 "worksheets": [
  {
   "cells": [
    {
     "cell_type": "heading",
     "level": 1,
     "metadata": {
      "slideshow": {
       "slide_type": "slide"
      }
     },
     "source": [
      "IMP.pmi Tutorial Slides"
     ]
    },
    {
     "cell_type": "markdown",
     "metadata": {
      "slideshow": {
       "slide_type": "fragment"
      }
     },
     "source": [
      "### Integrating EM and Crosslinking data to localize two domains of RNA Polymerase II\n",
      "\n",
      "Authors: Riccardo Pellarin, Charles Greenberg, Daniel Saltzberg, Ben Webb"
     ]
    },
    {
     "cell_type": "markdown",
     "metadata": {
      "slideshow": {
       "slide_type": "fragment"
      }
     },
     "source": [
      "The Python Modeling Interface (pmi) is a  set of tools designed\n",
      "to handle all steps of the modeling protocol."
     ]
    },
    {
     "cell_type": "markdown",
     "metadata": {
      "slideshow": {
       "slide_type": "slide"
      }
     },
     "source": [
      "We will illustrate the use on the RNA Polymerase II\n",
      "\n",
      "## Installation\n",
      "\n",
      "To work through the example on your own system, you will need the following\n",
      "packages installed in addition to [IMP itself](https://integrativemodeling.org/nightly/doc/manual/installation.html):\n",
      "\n",
      "- [numpy and scipy](http://www.scipy.org/scipylib/download.html)\n",
      "\n",
      "- [scikit-learn](http://scikit-learn.org/stable/install.html)\n",
      "\n",
      "- [matplotlib](http://matplotlib.org/downloads.html)\n",
      "\n",
      "- [Chimera](https://www.cgl.ucsf.edu/chimera/download.html)\n",
      "\n",
      "Then download the input files, either by \n",
      "[cloning the GitHub repository](https://github.com/salilab/imp_tutorial/tree/develop)\n",
      "or by [downloading the zip file](https://github.com/salilab/imp_tutorial/archive/develop.zip)."
     ]
    },
    {
     "cell_type": "markdown",
     "metadata": {
      "slideshow": {
       "slide_type": "subslide"
      }
     },
     "source": [
      "The rnapolii example directory contains three directories: `analysis`, `data`, and `modeling`."
     ]
    },
    {
     "cell_type": "markdown",
     "metadata": {
      "slideshow": {
       "slide_type": "slide"
      }
     },
     "source": [
      "## Background of RNA Polymerase II <a name=\"3_Background_of_RNA_Polymerase_II\"></a>\n",
      "\n",
      "[RNA Pol II](http://en.wikipedia.org/wiki/RNA_polymerase_II) is a eukaryotic complex that catalyzes DNA transcription to synthesize mRNA strands.  \n",
      "\n",
      "Eukaryotic RNA polymerase II contains 12 subunits, Rpb1 to Rpb12. \n",
      "\n",
      "The yeast RNA Pol II dissociates into a 10-subunit core and a Rpb4/Rpb7 heterodimer. \n",
      "\n",
      "Rpb4 and Rpb7 are conserved from yeast to humans, and form a stalk-like protrusion extending from the main body of the RNA Pol II complex."
     ]
    },
    {
     "cell_type": "markdown",
     "metadata": {
      "slideshow": {
       "slide_type": "slide"
      }
     },
     "source": [
      "### Integrative Modeling using IMP <a name=\"4_Integrative_Modeling_using_IMP\"></a>\n",
      "\n",
      "This example will use data from chemical cross linking, EM and x-ray crystallography to localize the two subunits of the RNA Polymerase II stalk (Rpb4, Rpb7) to a static core of the remaining ten subunits.  \n",
      "\n",
      "<img src=\"files/images/rnapolii_integrative.png\" alt=\"Drawing\" style=\"width: 600px;\"/>"
     ]
    },
    {
     "cell_type": "markdown",
     "metadata": {
      "slideshow": {
       "slide_type": "subslide"
      }
     },
     "source": [
      "### The four stages of Integrative Modeling <a name=\"3_The_four_stages_of_Integrative_Modeling\"></a>\n",
      "\n",
      "Structural modeling using IMP is divided into [four stages](@ref procedure).\n",
      "\n",
      "Click the links below to see a breakdown of all the modeling steps.\n",
      "\n",
      "\n",
      "* [Stage 1](#Stage_1_2)) Collect biophysical data that can be used as structural restraints and constraints\n",
      "  \n",
      "* [Stage 2](#Stage_2_2)) Define representations for the RNA Poly II structural model and define each data point as a scoring function.\n",
      "\n",
      "* [Stage 3](#Sampling_2)) Run a sampling protocol to find good scoring conformations.  \n",
      "\n",
      "* [Stage 4.1](#Analysis_Part_1_2), [Stage 4.2](#Analysis_Part_2_2)) Analysis of the good scoring conformations.  Clustering; uncertainty; precision; etc..."
     ]
    },
    {
     "cell_type": "markdown",
     "metadata": {
      "slideshow": {
       "slide_type": "subslide"
      }
     },
     "source": [
      "### Running the script <a name=\"3_Running_the_script\"></a>\n",
      "\n",
      "The first three modeling stages are all contained within one script, `modeling.py`:\n",
      "\n",
      "```\n",
      "python modeling.py\n",
      "```\n",
      "\n",
      "to get an idea of what's going on you can run it with only 50 output frames by adding the `--test` option:\n",
      "\n",
      "```\n",
      "python modeling.py --test\n",
      "```"
     ]
    },
    {
     "cell_type": "markdown",
     "metadata": {
      "slideshow": {
       "slide_type": "slide"
      }
     },
     "source": [
      "## Stage 1 - Gathering of data <a name=\"Stage_1_2\"></a>\n",
      "\n",
      "In this stage, we find all available experimental data that we wish to utilize in structural modeling.  In theory, any method that provides information about absolute or relative structural information can be used."
     ]
    },
    {
     "cell_type": "markdown",
     "metadata": {
      "slideshow": {
       "slide_type": "subslide"
      }
     },
     "source": [
      "### Data for yeast RNA Polymerase II <a name=\"Data_rnapolii_3\"></a>\n",
      "The `rnapolii/data` folder in the tutorial input files contains the data included in this example:\n",
      "\n",
      "* Sequence information (FASTA files for each subunit)\n",
      "* [Electron density maps](http://www.ebi.ac.uk/pdbe/entry/EMD-1883/visualization) (`.mrc`, `.txt` files)\n",
      "* [High resolution structure from x-ray crystallography](http://www.rcsb.org/pdb/explore/explore.do?structureId=1WCM) (PDB file)\n",
      "* Chemical crosslinking datasets (we use two data sets, one from [Al Burlingame's lab](http://www.mcponline.org/content/13/2/420.long), and another from [Juri Rappsilber's lab](http://emboj.embopress.org/content/29/4/717))"
     ]
    },
    {
     "cell_type": "markdown",
     "metadata": {
      "slideshow": {
       "slide_type": "subslide"
      }
     },
     "source": [
      "**FASTA File**  \n",
      "Each residue included in modeling must be explicitly defined in the FASTA text file.  Each individual component (i.e., a protein chain) is identified by a string in the FASTA header line.  From `1WCM.fasta.txt`:\n",
      "\n",
      "    >1WCM:A\n",
      "    MVGQQYSSAPLRTVKEVQFGLFSPEEVRAISVAKIRFPETMDETQTRAKIGGLNDPRLGSIDRNLKCQTCQEGMNECPGH\n",
      "    FGHIDLAKPVFHVGFIAKIKKVCECVCMHCGKLLLDEHNELMRQALAIKDSKKRFAAIWTLCKTKMVCETDVPSEDDPTQ  \n",
      "    ...\n",
      "    >1WCM:B\n",
      "    MSDLANSEKYYDEDPYGFEDESAPITAEDSWAVISAFFREKGLVSQQLDSFNQFVDYTLQDIICEDSTLILEQLAQHTTE\n",
      "    SDNISRKYEISFGKIYVTKPMVNESDGVTHALYPQEARLRNLTYSSGLFVDVKKRTYEAIDVPGRELKYELIAEESEDDS  \n",
      "    ...\n",
      "\n",
      "defines two chains with unique IDs of 1WCM:A and 1WCM:B respectively.  The entire complex is 12 chains and 4582 residues."
     ]
    },
    {
     "cell_type": "markdown",
     "metadata": {
      "slideshow": {
       "slide_type": "subslide"
      }
     },
     "source": [
      "**Electron Density Map**  \n",
      "The electron density map of the entire RNA Poly II complex is at 20.9 Angstrom resolution.  The raw data file for this is stored in `emd_1883.map.mrc`.\n",
      "\n",
      "<figure><img src=\"files/images/rnapolii_em_raw.png\" width=\"200px\" />\n",
      "<figcaption>_Electron microscopy density map for yeast RNA Polymerase II_</figcaption></figure>"
     ]
    },
    {
     "cell_type": "markdown",
     "metadata": {
      "slideshow": {
       "slide_type": "subslide"
      }
     },
     "source": [
      "**Electron Density as Gaussian Mixture Models**  \n",
      "Gaussian mixture models (GMMs) are used to greatly speed up scoring by approximating the electron density of individual subunits and experimental EM maps.  A GMM has been created for the experimental density map, and is stored in `emd_1883.map.mrc.gmm.50.mrc`.  The weight, center, and covariance matrix of each Gaussian used to approximate the original EM density can be seen in the corresponding `.txt` file.  \n",
      "\n",
      "<figure><img src=\"files/images/rnapolii_em_gmm_50.png\" width=\"200px\" />\n",
      "<figcaption>_The EM data represented as a 50 Gaussian mixture model_</figcaption></figure>"
     ]
    },
    {
     "cell_type": "markdown",
     "metadata": {
      "slideshow": {
       "slide_type": "subslide"
      }
     },
     "source": [
      "**PDB File**  \n",
      "High resolution coordinates for all 12 chains of RNA Pol II are found in `1WCM.pdb`.  \n",
      "\n",
      "<figure><img src=\"files/images/rnapolii_all_1wc4.png\" width=\"200px\" />\n",
      "<figcaption>_Coordinates from PDBID [1WCM](http://www.rcsb.org/pdb/explore.do?structureId=1wcm)_</figcaption></figure>"
     ]
    },
    {
     "cell_type": "markdown",
     "metadata": {
      "slideshow": {
       "slide_type": "subslide"
      }
     },
     "source": [
      "**Chemical Cross-Links**  \n",
      "All chemical cross-linking data is located in `polii_xlinks.csv` and `polii_juri.csv`.  These files contain multiple comma-separated columns; four of these specify the protein and residue number for each of the two linker residues.\n",
      "\n",
      "    prot1,res1,prot2,res2\n",
      "    Rpb1,34,Rpb1,49\n",
      "    Rpb1,101,Rpb1,143\n",
      "    Rpb1,101,Rpb1,176\n",
      "\n",
      "The length of the DSS/BS3 cross-linker reagent, 21 angstroms, will be specified later in the modeling script.  "
     ]
    },
    {
     "cell_type": "markdown",
     "metadata": {},
     "source": [
      "## Stage 2 - Representation of subunits and translation of the data into spatial restraints <a name=\"Stage_2_2\"></a>\n",
      "\n",
      "\n",
      "* We will initially define a representation of the system. \n",
      "* We will convert the data into spatial restraints.  This is performed using the script `rnapolii/modeling/modeling.py` and uses the\n",
      "topology file, `topology.txt`"
     ]
    },
    {
     "cell_type": "markdown",
     "metadata": {},
     "source": [
      "### Setting up Model Representation and Degrees of Freedom in IMP <a name=\"Setting_up_3\"></a>\n",
      "\n",
      "The *representation* of a system is the set of all the variables that need to be determined based on input information (e.g., particle descriptors points, spheres, ellipsoids, and 3D Gaussian density functions). "
     ]
    },
    {
     "cell_type": "markdown",
     "metadata": {
      "slideshow": {
       "slide_type": "fragment"
      }
     },
     "source": [
      "**spherical beads** of varying sizes and **3D Gaussians**, which coarsen domains of the complex using several resolution scales simultaneously. "
     ]
    },
    {
     "cell_type": "markdown",
     "metadata": {
      "slideshow": {
       "slide_type": "fragment"
      }
     },
     "source": [
      "The **spatial restraints** will be applied to individual resolution scales as appropriate. "
     ]
    },
    {
     "cell_type": "markdown",
     "metadata": {
      "slideshow": {
       "slide_type": "fragment"
      }
     },
     "source": [
      "Beads and Gaussians of a given domain are arranged into either a **rigid body** or a **flexible string**, based on the crystallographic structures. "
     ]
    },
    {
     "cell_type": "markdown",
     "metadata": {
      "slideshow": {
       "slide_type": "fragment"
      }
     },
     "source": [
      "**super rigid bodies** are sets of rigid bodies and beads that will move together in an additional Monte Carlo move."
     ]
    },
    {
     "cell_type": "markdown",
     "metadata": {
      "slideshow": {
       "slide_type": "fragment"
      }
     },
     "source": [
      "**chain_of_super_rigid_bodies** are additional degrees of freedom along the connectivity chain of a subunit. "
     ]
    },
    {
     "cell_type": "markdown",
     "metadata": {
      "slideshow": {
       "slide_type": "subslide"
      }
     },
     "source": [
      "<figure><img src=\"files/images/rnapolii_Multi-scale_representation.png\" width=\"600px\" />\n",
      "<figcaption>_Multi-scale representation of Rpb1 subunit of RNA Pol II_</figcaption></figure>"
     ]
    },
    {
     "cell_type": "markdown",
     "metadata": {
      "slideshow": {
       "slide_type": "fragment"
      }
     },
     "source": [
      "The GMM of a subunit is the set of all 3D Gaussians used to represent it; it will be used to calculate the EM score. "
     ]
    },
    {
     "cell_type": "markdown",
     "metadata": {
      "slideshow": {
       "slide_type": "subslide"
      }
     },
     "source": [
      "### Hierarchy <a name=\"Hierarchy_3\"></a>\n",
      "\n",
      "A **hierarchy** in IMP is a **tree** that stores information on molecules, residues, atoms, etc., where the **resolution** of the representation increases as you move further from the root. \n",
      "\n",
      "IMP.pmi was designed to support a specialised multi-state/multi-copy/multi-resolution hierarchy\n",
      "\n",
      "<figure><img src=\"files/images/rnapolii_hierarchy.png\" width=\"600px\" />\n",
      "<figcaption>_PMI hierarchy_</figcaption></figure>"
     ]
    },
    {
     "cell_type": "markdown",
     "metadata": {
      "slideshow": {
       "slide_type": "fragment"
      }
     },
     "source": [
      "The **States** are used as putative structural and compositional alternatives of the system. "
     ]
    },
    {
     "cell_type": "markdown",
     "metadata": {
      "slideshow": {
       "slide_type": "fragment"
      }
     },
     "source": [
      "Each **State** contains the **Molecules**, and each Molecule can occur in different stochiometric **Copies** (eg. here MolA has three identical copies: MolA.0, MolA.1, and MolA.2). "
     ]
    },
    {
     "cell_type": "markdown",
     "metadata": {
      "slideshow": {
       "slide_type": "fragment"
      }
     },
     "source": [
      "The **Molecules** contains structures (ie, particles with coordinates, masses and radii) classified by several **resolutions**: \n",
      "* Atomic (Resolution 0)\n",
      "* Residues (Resolution 1)\n",
      "* Fragments (Resolution > 1)\n",
      "* the Gaussians (Densities). "
     ]
    },
    {
     "cell_type": "markdown",
     "metadata": {
      "slideshow": {
       "slide_type": "fragment"
      }
     },
     "source": [
      "All structures (except the densities) are represented by Spheres with appropriate radius and mass. \n",
      "\n",
      "The resolutions concur **simultanously**"
     ]
    },
    {
     "cell_type": "markdown",
     "metadata": {
      "slideshow": {
       "slide_type": "subslide"
      }
     },
     "source": [
      "### Dissecting the script <a name=\"Dissecting_the_script_3\"></a>\n",
      "\n",
      "`rnapolii/modeling/modeling.py`"
     ]
    },
    {
     "cell_type": "markdown",
     "metadata": {
      "slideshow": {
       "slide_type": "fragment"
      }
     },
     "source": [
      "Import the necessary libraries."
     ]
    },
    {
     "cell_type": "code",
     "collapsed": false,
     "input": [
      "import IMP\n",
      "import IMP.core\n",
      "import IMP.pmi.restraints.crosslinking\n",
      "import IMP.pmi.restraints.stereochemistry\n",
      "import IMP.pmi.restraints.em\n",
      "import IMP.pmi.representation\n",
      "import IMP.pmi.tools\n",
      "\n",
      "import IMP.pmi.macros\n",
      "import IMP.pmi.topology\n",
      "\n",
      "import os\n",
      "import sys"
     ],
     "language": "python",
     "metadata": {
      "slideshow": {
       "slide_type": "fragment"
      }
     },
     "outputs": [],
     "prompt_number": 1
    },
    {
     "cell_type": "markdown",
     "metadata": {
      "slideshow": {
       "slide_type": "subslide"
      }
     },
     "source": [
      "Then setup the relevant paths of the input files"
     ]
    },
    {
     "cell_type": "code",
     "collapsed": false,
     "input": [
      "datadirectory = \"../rnapolii/data/\"\n",
      "topology_file = datadirectory+\"topology.txt\" \n",
      "target_gmm_file = datadirectory+'emd_1883.map.mrc.gmm.50.txt' # The EM map data\n",
      "output_directory = \"./output\""
     ],
     "language": "python",
     "metadata": {
      "slideshow": {
       "slide_type": "fragment"
      }
     },
     "outputs": [],
     "prompt_number": 2
    },
    {
     "cell_type": "markdown",
     "metadata": {
      "slideshow": {
       "slide_type": "subslide"
      }
     },
     "source": [
      "#### Model Representation Using a Topology File. <a name=\"Topology_file_4\"></a>\n",
      "\n",
      "This part of the script defines the topology of the system\n",
      "\n",
      "This is all described in the file `../data/topology.txt`"
     ]
    },
    {
     "cell_type": "code",
     "collapsed": false,
     "input": [
      "'''\n",
      "|molecule_name  |color     |fasta_fn          |fasta_id|pdb_fn             |chain|residue_range|pdb_offset|bead_size|em_residues_per_gaussian|rigid_body|super_rigid_body|chain_of_super_rigid_bodies|\n",
      "|Rpb1           |blue      |1WCM_new.fasta.txt|1WCM:A  |1WCM_map_fitted.pdb|A    |1,1140       |0         |20       |40                      |1         | 1              |                           |\n",
      "|Rpb1           |blue      |1WCM_new.fasta.txt|1WCM:A  |1WCM_map_fitted.pdb|A    |1141,1274    |0         |20       |40                      |2         | 1              |                           |\n",
      "|Rpb1           |blue      |1WCM_new.fasta.txt|1WCM:A  |1WCM_map_fitted.pdb|A    |1275,END     |0         |20       |40                      |3         | 1              |                           |\n",
      "|Rpb2           |red       |1WCM_new.fasta.txt|1WCM:B  |1WCM_map_fitted.pdb|B    |1,1102       |0         |20       |40                      |4         | 2              |                           |\n",
      "|Rpb2           |red       |1WCM_new.fasta.txt|1WCM:B  |1WCM_map_fitted.pdb|B    |1103,END     |0         |20       |40                      |5         | 2              |                           |\n",
      "|Rpb3           |yellow    |1WCM_new.fasta.txt|1WCM:C  |1WCM_map_fitted.pdb|C    |1,END        |0         |20       |40                      |6         | 3              |                           |\n",
      "|Rpb4           |salmon    |1WCM_new.fasta.txt|1WCM:D  |1WCM_map_fitted.pdb|D    |1,END        |-3        |20       |40                      |7         | 4              |                           |\n",
      "|Rpb5           |gold      |1WCM_new.fasta.txt|1WCM:E  |1WCM_map_fitted.pdb|E    |1,END        |0         |20       |40                      |8         | 5              |                           |\n",
      "|Rpb6           |pink      |1WCM_new.fasta.txt|1WCM:F  |1WCM_map_fitted.pdb|F    |1,END        |0         |20       |40                      |9         | 6              |                           |\n",
      "|Rpb7           |gray      |1WCM_new.fasta.txt|1WCM:G  |1WCM_map_fitted.pdb|G    |1,END        |0         |20       |40                      |10        | 7              |                           |\n",
      "|Rpb8           |orange    |1WCM_new.fasta.txt|1WCM:H  |1WCM_map_fitted.pdb|H    |1,END        |0         |20       |40                      |11        | 8              |                           |\n",
      "|Rpb9           |tan       |1WCM_new.fasta.txt|1WCM:I  |1WCM_map_fitted.pdb|I    |1,END        |0         |20       |40                      |12        | 9              |                           |\n",
      "|Rpb10          |brown     |1WCM_new.fasta.txt|1WCM:J  |1WCM_map_fitted.pdb|J    |1,END        |0         |20       |40                      |13        | 10             |                           |\n",
      "|Rpb11          |purple    |1WCM_new.fasta.txt|1WCM:K  |1WCM_map_fitted.pdb|K    |1,END        |0         |20       |40                      |14        | 11             |                           |\n",
      "|Rpb12          |cyan      |1WCM_new.fasta.txt|1WCM:L  |1WCM_map_fitted.pdb|L    |1,END        |0         |20       |40                      |15        | 12             |                           |\n",
      "'''"
     ],
     "language": "python",
     "metadata": {
      "slideshow": {
       "slide_type": "fragment"
      }
     },
     "outputs": [
      {
       "metadata": {},
       "output_type": "pyout",
       "prompt_number": 3,
       "text": [
        "'\\n|molecule_name  |color     |fasta_fn          |fasta_id|pdb_fn             |chain|residue_range|pdb_offset|bead_size|em_residues_per_gaussian|rigid_body|super_rigid_body|chain_of_super_rigid_bodies|\\n|Rpb1           |blue      |1WCM_new.fasta.txt|1WCM:A  |1WCM_map_fitted.pdb|A    |1,1140       |0         |20       |40                      |1         | 1              |                           |\\n|Rpb1           |blue      |1WCM_new.fasta.txt|1WCM:A  |1WCM_map_fitted.pdb|A    |1141,1274    |0         |20       |40                      |2         | 1              |                           |\\n|Rpb1           |blue      |1WCM_new.fasta.txt|1WCM:A  |1WCM_map_fitted.pdb|A    |1275,END     |0         |20       |40                      |3         | 1              |                           |\\n|Rpb2           |red       |1WCM_new.fasta.txt|1WCM:B  |1WCM_map_fitted.pdb|B    |1,1102       |0         |20       |40                      |4         | 2              |                           |\\n|Rpb2           |red       |1WCM_new.fasta.txt|1WCM:B  |1WCM_map_fitted.pdb|B    |1103,END     |0         |20       |40                      |5         | 2              |                           |\\n|Rpb3           |yellow    |1WCM_new.fasta.txt|1WCM:C  |1WCM_map_fitted.pdb|C    |1,END        |0         |20       |40                      |6         | 3              |                           |\\n|Rpb4           |salmon    |1WCM_new.fasta.txt|1WCM:D  |1WCM_map_fitted.pdb|D    |1,END        |-3        |20       |40                      |7         | 4              |                           |\\n|Rpb5           |gold      |1WCM_new.fasta.txt|1WCM:E  |1WCM_map_fitted.pdb|E    |1,END        |0         |20       |40                      |8         | 5              |                           |\\n|Rpb6           |pink      |1WCM_new.fasta.txt|1WCM:F  |1WCM_map_fitted.pdb|F    |1,END        |0         |20       |40                      |9         | 6              |                           |\\n|Rpb7           |gray      |1WCM_new.fasta.txt|1WCM:G  |1WCM_map_fitted.pdb|G    |1,END        |0         |20       |40                      |10        | 7              |                           |\\n|Rpb8           |orange    |1WCM_new.fasta.txt|1WCM:H  |1WCM_map_fitted.pdb|H    |1,END        |0         |20       |40                      |11        | 8              |                           |\\n|Rpb9           |tan       |1WCM_new.fasta.txt|1WCM:I  |1WCM_map_fitted.pdb|I    |1,END        |0         |20       |40                      |12        | 9              |                           |\\n|Rpb10          |brown     |1WCM_new.fasta.txt|1WCM:J  |1WCM_map_fitted.pdb|J    |1,END        |0         |20       |40                      |13        | 10             |                           |\\n|Rpb11          |purple    |1WCM_new.fasta.txt|1WCM:K  |1WCM_map_fitted.pdb|K    |1,END        |0         |20       |40                      |14        | 11             |                           |\\n|Rpb12          |cyan      |1WCM_new.fasta.txt|1WCM:L  |1WCM_map_fitted.pdb|L    |1,END        |0         |20       |40                      |15        | 12             |                           |\\n'"
       ]
      }
     ],
     "prompt_number": 3
    },
    {
     "cell_type": "markdown",
     "metadata": {
      "slideshow": {
       "slide_type": "subslide"
      }
     },
     "source": [
      "we introduce the molecules with their sequence and their known structure, and define the movers. \n",
      "\n",
      "Each line is a user-defined molecular **Domain**, and each column contains the specifics needed to build the system."
     ]
    },
    {
     "cell_type": "code",
     "collapsed": false,
     "input": [
      "# Initialize IMP model\n",
      "m = IMP.Model()\n",
      "\n",
      "# Read in the topology file.  \n",
      "# Specify the directory wheere the PDB files, fasta files and GMM files are\n",
      "topology = IMP.pmi.topology.TopologyReader(topology_file, \n",
      "                                  pdb_dir=datadirectory, \n",
      "                                  fasta_dir=datadirectory, \n",
      "                                  gmm_dir=datadirectory)"
     ],
     "language": "python",
     "metadata": {
      "slideshow": {
       "slide_type": "subslide"
      }
     },
     "outputs": [],
     "prompt_number": 4
    },
    {
     "cell_type": "code",
     "collapsed": false,
     "input": [
      "# Use the BuildSystem macro to build states from the topology file\n",
      "bs = IMP.pmi.macros.BuildSystem(m)"
     ],
     "language": "python",
     "metadata": {
      "slideshow": {
       "slide_type": "fragment"
      }
     },
     "outputs": [],
     "prompt_number": 5
    },
    {
     "cell_type": "code",
     "collapsed": false,
     "input": [
      "# Each state can be specified by a topology file.\n",
      "bs.add_state(topology)"
     ],
     "language": "python",
     "metadata": {
      "slideshow": {
       "slide_type": "subslide"
      }
     },
     "outputs": [
      {
       "output_type": "stream",
       "stream": "stdout",
       "text": [
        "BuildSystem.add_state: setting up molecule Rpb4 copy number 0\n",
        "BuildSystem.add_state: molecule Rpb4 sequence has 177 residues\n",
        "BuildSystem.add_state: ---- setting up domain 0 of molecule Rpb4"
       ]
      },
      {
       "output_type": "stream",
       "stream": "stdout",
       "text": [
        "\n",
        "BuildSystem.add_state: -------- domain 0 of molecule Rpb4 extends from residue -2 to residue 177 \n",
        "BuildSystem.add_state: -------- domain 0 of molecule Rpb4 represented by pdb file ../rnapolii/data/1WCM_map_fitted.pdb \n",
        "WARNING: Replacing sequence residue"
       ]
      },
      {
       "output_type": "stream",
       "stream": "stdout",
       "text": [
        " 116 \"VAL\" with PDB type \"ARG\"\n",
        "WARNING: Replacing sequence residue 117 \"GLY\" with PDB type \"GLU\"\n",
        "WARNING: Replacing sequence residue 118 \"ALA\" with PDB type \"LYS\"\n",
        "WARNING: Replacing sequence residue 119 \"VAL\" with PDB type \"GLU\"\n",
        "WARNING: Replacing sequence residue 120 \"ILE\" with PDB type \"LEU\"\n",
        "WARNING: Replacing sequence residue 121 \"GLN\" with PDB type \"GLU\"\n",
        "WARNING: Replacing sequence residue 122 \"LEU\" with PDB type \"SER\"\n",
        "WARNING: Replacing sequence residue 123 \"LEU\" with PDB type \"ILE\"\n",
        "WARNING: Replacing sequence residue 124 \"LYS\" with PDB type \"ASP\"\n",
        "WARNING: Replacing sequence residue 125 \"SER\" with PDB type \"VAL\"\n",
        "WARNING: Replacing sequence residue 126 \"THR\" with PDB type \"LEU\"\n",
        "WARNING: Replacing sequence residue 127 \"GLY\" with PDB type \"LEU\"\n",
        "WARNING: Replacing sequence residue 128 \"LEU\" with PDB type \"GLU\"\n",
        "WARNING: Replacing sequence residue 129 \"HIS\" with PDB type \"GLN\"\n",
        "WARNING: Replacing sequence residue 130 \"PRO\" with PDB type \"THR\"\n",
        "WARNING: Replacing sequence residue 131 \"PHE\" with PDB type \"THR\"\n",
        "WARNING: Replacing sequence residue 132 \"GLU\" with PDB type \"GLY\"\n",
        "WARNING: Replacing sequence residue 133 \"VAL\" with PDB type \"GLY\"\n",
        "WARNING: Replacing sequence residue 134 \"ALA\" with PDB type \"ASN\"\n",
        "WARNING: Replacing sequence residue 135 \"GLN\" with PDB type \"ASN\"\n",
        "WARNING: Replacing sequence residue 136 \"LEU\" with PDB type \"LYS\"\n",
        "WARNING: Replacing sequence residue 137 \"GLY\" with PDB type \"ASP\"\n",
        "WARNING: Replacing sequence residue 138 \"SER\" with PDB type \"LEU\"\n",
        "WARNING: Replacing sequence residue 139 \"LEU\" with PDB type \"LYS\"\n",
        "WARNING: Replacing sequence residue 140 \"ALA\" with PDB type \"ASN\"\n",
        "WARNING: Replacing sequence residue 141 \"CYS\" with PDB type \"THR\"\n",
        "WARNING: Replacing sequence residue 142 \"ASP\" with PDB type \"MET\"\n",
        "WARNING: Replacing sequence residue 143 \"THR\" with PDB type \"GLN\"\n",
        "WARNING: Replacing sequence residue 144 \"ALA\" with PDB type \"TYR\"\n",
        "WARNING: Replacing sequence residue 145 \"ASP\" with PDB type \"LEU\"\n",
        "WARNING: Replacing sequence residue 146 \"GLU\" with PDB type \"THR\"\n",
        "WARNING: Replacing sequence residue 147 \"ALA\" with PDB type \"ASN\"\n",
        "WARNING: Replacing sequence residue 148 \"LYS\" with PDB type \"PHE\"\n",
        "WARNING: Replacing sequence residue 149 \"THR\" with PDB type \"SER\"\n",
        "WARNING: Replacing sequence residue 150 \"LEU\" with PDB type \"ARG\"\n",
        "WARNING: Replacing sequence residue 151 \"ILE\" with PDB type \"PHE\"\n",
        "WARNING: Replacing sequence residue 152 \"PRO\" with PDB type \"ARG\"\n",
        "WARNING: Replacing sequence residue 153 \"SER\" with PDB type \"ASP\"\n",
        "WARNING: Replacing sequence residue 154 \"LEU\" with PDB type \"GLN\"\n",
        "WARNING: Replacing sequence residue 155 \"ASN\" with PDB type \"GLU\"\n",
        "WARNING: Replacing sequence residue 156 \"ASN\" with PDB type \"THR\"\n",
        "WARNING: Replacing sequence residue 157 \"LYS\" with PDB type \"VAL\"\n",
        "WARNING: Replacing sequence residue 158 \"ILE\" with PDB type \"GLY\"\n",
        "WARNING: Replacing sequence residue 159 \"SER\" with PDB type \"ALA\"\n",
        "WARNING: Replacing sequence residue 160 \"ASP\" with PDB type \"VAL\"\n",
        "WARNING: Replacing sequence residue 161 \"ASP\" with PDB type \"ILE\"\n",
        "WARNING: Replacing sequence residue 162 \"GLU\" with PDB type \"GLN\"\n",
        "WARNING: Replacing sequence residue 164 \"GLU\" with PDB type \"LEU\"\n",
        "WARNING: Replacing sequence residue 165 \"ARG\" with PDB type \"LYS\"\n",
        "WARNING: Replacing sequence residue 166 \"ILE\" with PDB type \"SER\"\n",
        "WARNING: Replacing sequence residue 167 \"LEU\" with PDB type \"THR\"\n",
        "WARNING: Replacing sequence residue 168 \"LYS\" with PDB type \"GLY\"\n",
        "WARNING: Replacing sequence residue 169 \"GLU\" with PDB type \"LEU\"\n",
        "WARNING: Replacing sequence residue 170 \"LEU\" with PDB type \"HIS\"\n",
        "WARNING: Replacing sequence residue 171 \"SER\" with PDB type \"PRO\"\n",
        "WARNING: Replacing sequence residue 172 \"ASN\" with PDB type \"PHE\"\n",
        "WARNING: Replacing sequence residue 173 \"LEU\" with PDB type \"GLU\"\n",
        "WARNING: Replacing sequence residue 174 \"GLU\" with PDB type \"VAL\"\n",
        "WARNING: Replacing sequence residue 175 \"THR\" with PDB type \"ALA\"\n",
        "WARNING: Replacing sequence residue 176 \"LEU\" with PDB type \"GLN\"\n",
        "WARNING: Replacing sequence residue 177 \"TYR\" with PDB type \"LEU\"\n",
        "WARNING: Replacing sequence residue 178 \"ALA\" with PDB type \"GLY\"\n",
        "WARNING: Replacing sequence residue 179 \"ALA\" with PDB type \"SER\"\n",
        "WARNING: Replacing sequence residue 180 \"ALA\" with PDB type \"LEU\"\n",
        "WARNING: Replacing sequence residue 182 \"ALA\" with PDB type \"CYS\"\n",
        "WARNING: Replacing sequence residue 183 \"ALA\" with PDB type \"ASP\"\n",
        "WARNING: Replacing sequence residue 184 \"ALA\" with PDB type \"THR\"\n",
        "WARNING: Replacing sequence residue 186 \"ALA\" with PDB type \"ASP\"\n",
        "WARNING: Replacing sequence residue 187 \"ALA\" with PDB type \"GLU\"\n",
        "WARNING: Replacing sequence residue 189 \"ALA\" with PDB type \"LYS\"\n",
        "WARNING: Replacing sequence residue 190 \"ALA\" with PDB type \"THR\"\n",
        "WARNING: Replacing sequence residue 191 \"ALA\" with PDB type \"LEU\"\n",
        "WARNING: Replacing sequence residue 192 \"ALA\" with PDB type \"ILE\"\n",
        "WARNING: Replacing sequence residue 193 \"ALA\" with PDB type \"PRO\"\n",
        "WARNING: Replacing sequence residue 194 \"ALA\" with PDB type \"SER\"\n",
        "WARNING: Replacing sequence residue 195 \"ALA\" with PDB type \"LEU\"\n",
        "WARNING: Replacing sequence residue 196 \"ALA\" with PDB type \"ASN\"\n",
        "WARNING: Replacing sequence residue 197 \"ALA\" with PDB type \"ASN\"\n",
        "WARNING: Replacing sequence residue 198 \"ALA\" with PDB type \"LYS\"\n",
        "WARNING: Replacing sequence residue 199 \"ALA\" with PDB type \"ILE\"\n",
        "WARNING: Replacing sequence residue 200 \"ALA\" with PDB type \"SER\"\n",
        "WARNING: Replacing sequence residue 201 \"ALA\" with PDB type \"ASP\"\n",
        "WARNING: Replacing sequence residue 202 \"ALA\" with PDB type \"ASP\"\n",
        "WARNING: Replacing sequence residue 203 \"ALA\" with PDB type \"GLU\"\n",
        "WARNING: Replacing sequence residue 204 \"ALA\" with PDB type \"LEU\"\n",
        "WARNING: Replacing sequence residue 205 \"ALA\" with PDB type \"GLU\"\n",
        "WARNING: Replacing sequence residue 206 \"ALA\" with PDB type \"ARG\"\n",
        "WARNING: Replacing sequence residue 207 \"ALA\" with PDB type \"ILE\"\n",
        "WARNING: Replacing sequence residue 208 \"ALA\" with PDB type \"LEU\"\n",
        "WARNING: Replacing sequence residue 209 \"ALA\" with PDB type \"LYS\"\n",
        "WARNING: Replacing sequence residue 210 \"ALA\" with PDB type \"GLU\"\n",
        "WARNING: Replacing sequence residue 211 \"ALA\" with PDB type \"LEU\"\n",
        "WARNING: Replacing sequence residue 212 \"ALA\" with PDB type \"SER\"\n",
        "WARNING: Replacing sequence residue 213 \"ALA\" with PDB type \"ASN\"\n",
        "WARNING: Replacing sequence residue 214 \"ALA\" with PDB type \"LEU\"\n",
        "WARNING: Replacing sequence residue 215 \"ALA\" with PDB type \"GLU\"\n",
        "WARNING: Replacing sequence residue 216 \"ALA\" with PDB type \"THR\"\n",
        "WARNING: Replacing sequence residue 217 \"ALA\" with PDB type \"LEU\"\n",
        "WARNING: Replacing sequence residue 218 \"ALA\" with PDB type \"TYR\"\n",
        "BuildSystem.add_state: -------- domain 0 of molecule Rpb4 represented by gaussians \n",
        "BuildSystem.add_state: setting up molecule Rpb5 copy number 0\n",
        "BuildSystem.add_state: molecule Rpb5 sequence has 215 residues\n",
        "BuildSystem.add_state: ---- setting up domain 0 of molecule Rpb5\n",
        "BuildSystem.add_state: -------- domain 0 of molecule Rpb5 extends from residue 1 to residue 215 \n",
        "BuildSystem.add_state: -------- domain 0 of molecule Rpb5 represented by pdb file ../rnapolii/data/1WCM_map_fitted.pdb \n",
        "BuildSystem.add_state: -------- domain 0 of molecule Rpb5 represented by gaussians "
       ]
      },
      {
       "output_type": "stream",
       "stream": "stdout",
       "text": [
        "\n",
        "BuildSystem.add_state: setting up molecule Rpb6 copy number 0\n",
        "BuildSystem.add_state: molecule Rpb6 sequence has 155 residues\n",
        "BuildSystem.add_state: ---- setting up domain 0 of molecule Rpb6\n",
        "BuildSystem.add_state: -------- domain 0 of molecule Rpb6 extends from residue 1 to residue 155 \n",
        "BuildSystem.add_state: -------- domain 0 of molecule Rpb6 represented by pdb file ../rnapolii/data/1WCM_map_fitted.pdb \n",
        "BuildSystem.add_state: -------- domain 0 of molecule Rpb6 represented by gaussians "
       ]
      },
      {
       "output_type": "stream",
       "stream": "stdout",
       "text": [
        "\n",
        "BuildSystem.add_state: setting up molecule Rpb7 copy number 0\n",
        "BuildSystem.add_state: molecule Rpb7 sequence has 171 residues\n",
        "BuildSystem.add_state: ---- setting up domain 0 of molecule Rpb7\n",
        "BuildSystem.add_state: -------- domain 0 of molecule Rpb7 extends from residue 1 to residue 171 \n",
        "BuildSystem.add_state: -------- domain 0 of molecule Rpb7 represented by pdb file ../rnapolii/data/1WCM_map_fitted.pdb \n",
        "BuildSystem.add_state: -------- domain 0 of molecule Rpb7 represented by gaussians "
       ]
      },
      {
       "output_type": "stream",
       "stream": "stdout",
       "text": [
        "\n",
        "BuildSystem.add_state: setting up molecule Rpb1 copy number 0\n",
        "BuildSystem.add_state: molecule Rpb1 sequence has 1733 residues\n",
        "BuildSystem.add_state: ---- setting up domain 0 of molecule Rpb1"
       ]
      },
      {
       "output_type": "stream",
       "stream": "stdout",
       "text": [
        "\n",
        "BuildSystem.add_state: -------- domain 0 of molecule Rpb1 extends from residue 1 to residue 1140 \n",
        "BuildSystem.add_state: -------- domain 0 of molecule Rpb1 represented by pdb file ../rnapolii/data/1WCM_map_fitted.pdb \n",
        "BuildSystem.add_state: -------- domain 0 of molecule Rpb1 represented by gaussians "
       ]
      },
      {
       "output_type": "stream",
       "stream": "stdout",
       "text": [
        "\n",
        "BuildSystem.add_state: ---- setting up domain 1 of molecule Rpb1\n",
        "BuildSystem.add_state: -------- domain 1 of molecule Rpb1 extends from residue 1141 to residue 1274 \n",
        "BuildSystem.add_state: -------- domain 1 of molecule Rpb1 represented by pdb file ../rnapolii/data/1WCM_map_fitted.pdb \n",
        "BuildSystem.add_state: -------- domain 1 of molecule Rpb1 represented by gaussians "
       ]
      },
      {
       "output_type": "stream",
       "stream": "stdout",
       "text": [
        "\n",
        "BuildSystem.add_state: ---- setting up domain 2 of molecule Rpb1\n",
        "BuildSystem.add_state: -------- domain 2 of molecule Rpb1 extends from residue 1275 to residue 1733 \n",
        "BuildSystem.add_state: -------- domain 2 of molecule Rpb1 represented by pdb file ../rnapolii/data/1WCM_map_fitted.pdb \n",
        "BuildSystem.add_state: -------- domain 2 of molecule Rpb1 represented by gaussians "
       ]
      },
      {
       "output_type": "stream",
       "stream": "stdout",
       "text": [
        "\n",
        "BuildSystem.add_state: setting up molecule Rpb2 copy number 0\n",
        "BuildSystem.add_state: molecule Rpb2 sequence has 1224 residues\n",
        "BuildSystem.add_state: ---- setting up domain 0 of molecule Rpb2"
       ]
      },
      {
       "output_type": "stream",
       "stream": "stdout",
       "text": [
        "\n",
        "BuildSystem.add_state: -------- domain 0 of molecule Rpb2 extends from residue 1 to residue 1102 \n",
        "BuildSystem.add_state: -------- domain 0 of molecule Rpb2 represented by pdb file ../rnapolii/data/1WCM_map_fitted.pdb \n",
        "BuildSystem.add_state: -------- domain 0 of molecule Rpb2 represented by gaussians "
       ]
      },
      {
       "output_type": "stream",
       "stream": "stdout",
       "text": [
        "\n",
        "BuildSystem.add_state: ---- setting up domain 1 of molecule Rpb2\n",
        "BuildSystem.add_state: -------- domain 1 of molecule Rpb2 extends from residue 1103 to residue 1224 \n",
        "BuildSystem.add_state: -------- domain 1 of molecule Rpb2 represented by pdb file ../rnapolii/data/1WCM_map_fitted.pdb \n",
        "BuildSystem.add_state: -------- domain 1 of molecule Rpb2 represented by gaussians "
       ]
      },
      {
       "output_type": "stream",
       "stream": "stdout",
       "text": [
        "\n",
        "BuildSystem.add_state: setting up molecule Rpb3 copy number 0\n",
        "BuildSystem.add_state: molecule Rpb3 sequence has 318 residues\n",
        "BuildSystem.add_state: ---- setting up domain 0 of molecule Rpb3\n",
        "BuildSystem.add_state: -------- domain 0 of molecule Rpb3 extends from residue 1 to residue 318 \n",
        "BuildSystem.add_state: -------- domain 0 of molecule Rpb3 represented by pdb file ../rnapolii/data/1WCM_map_fitted.pdb \n",
        "BuildSystem.add_state: -------- domain 0 of molecule Rpb3 represented by gaussians "
       ]
      },
      {
       "output_type": "stream",
       "stream": "stdout",
       "text": [
        "\n",
        "BuildSystem.add_state: setting up molecule Rpb8 copy number 0\n",
        "BuildSystem.add_state: molecule Rpb8 sequence has 146 residues\n",
        "BuildSystem.add_state: ---- setting up domain 0 of molecule Rpb8\n",
        "BuildSystem.add_state: -------- domain 0 of molecule Rpb8 extends from residue 1 to residue 146 \n",
        "BuildSystem.add_state: -------- domain 0 of molecule Rpb8 represented by pdb file ../rnapolii/data/1WCM_map_fitted.pdb \n",
        "BuildSystem.add_state: -------- domain 0 of molecule Rpb8 represented by gaussians "
       ]
      },
      {
       "output_type": "stream",
       "stream": "stdout",
       "text": [
        "\n",
        "BuildSystem.add_state: setting up molecule Rpb9 copy number 0\n",
        "BuildSystem.add_state: molecule Rpb9 sequence has 122 residues\n",
        "BuildSystem.add_state: ---- setting up domain 0 of molecule Rpb9\n",
        "BuildSystem.add_state: -------- domain 0 of molecule Rpb9 extends from residue 1 to residue 122 \n",
        "BuildSystem.add_state: -------- domain 0 of molecule Rpb9 represented by pdb file ../rnapolii/data/1WCM_map_fitted.pdb \n",
        "BuildSystem.add_state: -------- domain 0 of molecule Rpb9 represented by gaussians "
       ]
      },
      {
       "output_type": "stream",
       "stream": "stdout",
       "text": [
        "\n",
        "BuildSystem.add_state: setting up molecule Rpb12 copy number 0\n",
        "BuildSystem.add_state: molecule Rpb12 sequence has 70 residues\n",
        "BuildSystem.add_state: ---- setting up domain 0 of molecule Rpb12\n",
        "BuildSystem.add_state: -------- domain 0 of molecule Rpb12 extends from residue 1 to residue 70 \n",
        "BuildSystem.add_state: -------- domain 0 of molecule Rpb12 represented by pdb file ../rnapolii/data/1WCM_map_fitted.pdb \n",
        "BuildSystem.add_state: -------- domain 0 of molecule Rpb12 represented by gaussians "
       ]
      },
      {
       "output_type": "stream",
       "stream": "stdout",
       "text": [
        "\n",
        "BuildSystem.add_state: setting up molecule Rpb10 copy number 0\n",
        "BuildSystem.add_state: molecule Rpb10 sequence has 70 residues\n",
        "BuildSystem.add_state: ---- setting up domain 0 of molecule Rpb10\n",
        "BuildSystem.add_state: -------- domain 0 of molecule Rpb10 extends from residue 1 to residue 70 \n",
        "BuildSystem.add_state: -------- domain 0 of molecule Rpb10 represented by pdb file ../rnapolii/data/1WCM_map_fitted.pdb \n",
        "BuildSystem.add_state: -------- domain 0 of molecule Rpb10 represented by gaussians "
       ]
      },
      {
       "output_type": "stream",
       "stream": "stdout",
       "text": [
        "\n",
        "BuildSystem.add_state: setting up molecule Rpb11 copy number 0\n",
        "BuildSystem.add_state: molecule Rpb11 sequence has 120 residues\n",
        "BuildSystem.add_state: ---- setting up domain 0 of molecule Rpb11\n",
        "BuildSystem.add_state: -------- domain 0 of molecule Rpb11 extends from residue 1 to residue 120 \n",
        "BuildSystem.add_state: -------- domain 0 of molecule Rpb11 represented by pdb file ../rnapolii/data/1WCM_map_fitted.pdb \n",
        "BuildSystem.add_state: -------- domain 0 of molecule Rpb11 represented by gaussians "
       ]
      },
      {
       "output_type": "stream",
       "stream": "stdout",
       "text": [
        "\n",
        "BuildSystem.add_state: State 1 added\n"
       ]
      }
     ],
     "prompt_number": 6
    },
    {
     "cell_type": "markdown",
     "metadata": {
      "slideshow": {
       "slide_type": "subslide"
      }
     },
     "source": [
      "#### Building the System Representation and Degrees of Freedom <a name=\"Representation_and_DOF_4\"></a>\n",
      "\n",
      "Here we can set the **Degrees of Freedom** parameters, which should be\n",
      "optimized according to MC acceptance ratios. \n",
      "\n",
      "There are three kind of movers: Rigid Body, Bead, and Super Rigid Body. \n",
      "\n",
      "The excecution of the macro will return\n",
      "* the root hierarchy (`root_hier`) \n",
      "* the degrees of freedom (`dof`) objects, both of which are used later on.\n"
     ]
    },
    {
     "cell_type": "code",
     "collapsed": false,
     "input": [
      "root_hier, dof = bs.execute_macro(max_rb_trans=4.0, \n",
      "                                  max_rb_rot=0.3, \n",
      "                                  max_bead_trans=4.0, \n",
      "                                  max_srb_trans=4.0,\n",
      "                                  max_srb_rot=0.3)"
     ],
     "language": "python",
     "metadata": {
      "slideshow": {
       "slide_type": "fragment"
      }
     },
     "outputs": [
      {
       "output_type": "stream",
       "stream": "stdout",
       "text": [
        "BuildSystem.execute_macro: building representations\n",
        "WARNING: Residues without representation in molecule Rpb4 : 74-114\n",
        "done building"
       ]
      },
      {
       "output_type": "stream",
       "stream": "stdout",
       "text": [
        " \"Rpb4\" Chain A Copy: 0\n",
        "done building"
       ]
      },
      {
       "output_type": "stream",
       "stream": "stdout",
       "text": [
        " \"Rpb5\" Chain B Copy: 0\n",
        "done building"
       ]
      },
      {
       "output_type": "stream",
       "stream": "stdout",
       "text": [
        " \"Rpb6\" Chain C Copy: 0\n",
        "done building"
       ]
      },
      {
       "output_type": "stream",
       "stream": "stdout",
       "text": [
        " \"Rpb7\" Chain D Copy: 0\n",
        "done building"
       ]
      },
      {
       "output_type": "stream",
       "stream": "stdout",
       "text": [
        " \"Rpb1\" Chain E Copy: 0\n",
        "done building"
       ]
      },
      {
       "output_type": "stream",
       "stream": "stdout",
       "text": [
        " \"Rpb2\" Chain F Copy: 0\n",
        "done building"
       ]
      },
      {
       "output_type": "stream",
       "stream": "stdout",
       "text": [
        " \"Rpb3\" Chain G Copy: 0\n",
        "done building"
       ]
      },
      {
       "output_type": "stream",
       "stream": "stdout",
       "text": [
        " \"Rpb8\" Chain H Copy: 0\n",
        "done building"
       ]
      },
      {
       "output_type": "stream",
       "stream": "stdout",
       "text": [
        " \"Rpb9\" Chain I Copy: 0\n",
        "done building \"Rpb12\" Chain J Copy: 0\n",
        "done building"
       ]
      },
      {
       "output_type": "stream",
       "stream": "stdout",
       "text": [
        " \"Rpb10\" Chain K Copy: 0\n",
        "done building"
       ]
      },
      {
       "output_type": "stream",
       "stream": "stdout",
       "text": [
        " \"Rpb11\" Chain L Copy: 0\n",
        "BuildSystem.execute_macro: setting up degrees of freedom\n",
        "BuildSystem.execute_macro: -------- building rigid body ['Rpb1..0']\n",
        "BuildSystem.execute_macro: -------- adding Rpb1..0\n",
        "BuildSystem.execute_macro: -------- creating rigid body with max_trans 4.0 max_rot 0.3 non_rigid_max_trans 4.0\n",
        "BuildSystem.execute_macro: -------- building rigid body ['Rpb1..1']"
       ]
      },
      {
       "output_type": "stream",
       "stream": "stdout",
       "text": [
        "\n",
        "BuildSystem.execute_macro: -------- adding Rpb1..1\n",
        "BuildSystem.execute_macro: -------- creating rigid body with max_trans 4.0 max_rot 0.3 non_rigid_max_trans 4.0\n",
        "BuildSystem.execute_macro: -------- building rigid body ['Rpb1..2']"
       ]
      },
      {
       "output_type": "stream",
       "stream": "stdout",
       "text": [
        "\n",
        "BuildSystem.execute_macro: -------- adding Rpb1..2\n",
        "BuildSystem.execute_macro: -------- creating rigid body with max_trans 4.0 max_rot 0.3 non_rigid_max_trans 4.0\n",
        "BuildSystem.execute_macro: -------- building rigid body ['Rpb2..0']\n",
        "BuildSystem.execute_macro: -------- adding Rpb2..0\n",
        "BuildSystem.execute_macro: -------- creating rigid body with max_trans 4.0 max_rot 0.3 non_rigid_max_trans 4.0\n",
        "BuildSystem.execute_macro: -------- building rigid body ['Rpb2..1']"
       ]
      },
      {
       "output_type": "stream",
       "stream": "stdout",
       "text": [
        "\n",
        "BuildSystem.execute_macro: -------- adding Rpb2..1\n",
        "BuildSystem.execute_macro: -------- creating rigid body with max_trans 4.0 max_rot 0.3 non_rigid_max_trans 4.0\n",
        "BuildSystem.execute_macro: -------- building rigid body ['Rpb3..0']\n",
        "BuildSystem.execute_macro: -------- adding Rpb3..0\n",
        "BuildSystem.execute_macro: -------- creating rigid body with max_trans 4.0 max_rot 0.3 non_rigid_max_trans 4.0\n",
        "BuildSystem.execute_macro: -------- building rigid body ['Rpb4..0']\n",
        "BuildSystem.execute_macro: -------- adding Rpb4..0\n",
        "BuildSystem.execute_macro: -------- creating rigid body with max_trans 4.0 max_rot 0.3 non_rigid_max_trans 4.0\n",
        "BuildSystem.execute_macro: -------- building rigid body ['Rpb5..0']"
       ]
      },
      {
       "output_type": "stream",
       "stream": "stdout",
       "text": [
        "\n",
        "BuildSystem.execute_macro: -------- adding Rpb5..0\n",
        "BuildSystem.execute_macro: -------- creating rigid body with max_trans 4.0 max_rot 0.3 non_rigid_max_trans 4.0\n",
        "BuildSystem.execute_macro: -------- building rigid body ['Rpb6..0']\n",
        "BuildSystem.execute_macro: -------- adding Rpb6..0\n",
        "BuildSystem.execute_macro: -------- creating rigid body with max_trans 4.0 max_rot 0.3 non_rigid_max_trans 4.0\n",
        "BuildSystem.execute_macro: -------- building rigid body ['Rpb7..0']\n",
        "BuildSystem.execute_macro: -------- adding Rpb7..0\n",
        "BuildSystem.execute_macro: -------- creating rigid body with max_trans 4.0 max_rot 0.3 non_rigid_max_trans 4.0\n",
        "BuildSystem.execute_macro: -------- building rigid body ['Rpb8..0']"
       ]
      },
      {
       "output_type": "stream",
       "stream": "stdout",
       "text": [
        "\n",
        "BuildSystem.execute_macro: -------- adding Rpb8..0\n",
        "BuildSystem.execute_macro: -------- creating rigid body with max_trans 4.0 max_rot 0.3 non_rigid_max_trans 4.0\n",
        "BuildSystem.execute_macro: -------- building rigid body ['Rpb9..0']\n",
        "BuildSystem.execute_macro: -------- adding Rpb9..0\n",
        "BuildSystem.execute_macro: -------- creating rigid body with max_trans 4.0 max_rot 0.3 non_rigid_max_trans 4.0\n",
        "BuildSystem.execute_macro: -------- building rigid body ['Rpb10..0']\n",
        "BuildSystem.execute_macro: -------- adding Rpb10..0\n",
        "BuildSystem.execute_macro: -------- creating rigid body with max_trans 4.0 max_rot 0.3 non_rigid_max_trans 4.0\n",
        "BuildSystem.execute_macro: -------- building rigid body ['Rpb11..0']\n",
        "BuildSystem.execute_macro: -------- adding Rpb11..0\n",
        "BuildSystem.execute_macro: -------- creating rigid body with max_trans 4.0 max_rot 0.3 non_rigid_max_trans 4.0\n",
        "BuildSystem.execute_macro: -------- building rigid body ['Rpb12..0']"
       ]
      },
      {
       "output_type": "stream",
       "stream": "stdout",
       "text": [
        "\n",
        "BuildSystem.execute_macro: -------- adding Rpb12..0\n",
        "BuildSystem.execute_macro: -------- creating rigid body with max_trans 4.0 max_rot 0.3 non_rigid_max_trans 4.0\n",
        "BuildSystem.execute_macro: -------- building super rigid body ['Rpb11..0']\n",
        "BuildSystem.execute_macro: -------- adding Rpb11..0\n",
        "BuildSystem.execute_macro: -------- creating super rigid body with max_trans 4.0 max_rot 0.3 \n",
        "BuildSystem.execute_macro: -------- building super rigid body ['Rpb10..0']\n",
        "BuildSystem.execute_macro: -------- adding Rpb10..0\n",
        "BuildSystem.execute_macro: -------- creating super rigid body with max_trans 4.0 max_rot 0.3 \n",
        "BuildSystem.execute_macro: -------- building super rigid body ['Rpb12..0']\n",
        "BuildSystem.execute_macro: -------- adding Rpb12..0\n",
        "BuildSystem.execute_macro: -------- creating super rigid body with max_trans 4.0 max_rot 0.3 \n",
        "BuildSystem.execute_macro: -------- building super rigid body ['Rpb1..0', 'Rpb1..1', 'Rpb1..2']\n",
        "BuildSystem.execute_macro: -------- adding Rpb1..0\n",
        "BuildSystem.execute_macro: -------- adding Rpb1..1\n",
        "BuildSystem.execute_macro: -------- adding Rpb1..2\n",
        "BuildSystem.execute_macro: -------- creating super rigid body with max_trans 4.0 max_rot 0.3 \n",
        "BuildSystem.execute_macro: -------- building super rigid body ['Rpb3..0']"
       ]
      },
      {
       "output_type": "stream",
       "stream": "stdout",
       "text": [
        "\n",
        "BuildSystem.execute_macro: -------- adding Rpb3..0\n",
        "BuildSystem.execute_macro: -------- creating super rigid body with max_trans 4.0 max_rot 0.3 \n",
        "BuildSystem.execute_macro: -------- building super rigid body ['Rpb2..0', 'Rpb2..1']\n",
        "BuildSystem.execute_macro: -------- adding Rpb2..0\n",
        "BuildSystem.execute_macro: -------- adding Rpb2..1\n",
        "BuildSystem.execute_macro: -------- creating super rigid body with max_trans 4.0 max_rot 0.3 \n",
        "BuildSystem.execute_macro: -------- building super rigid body ['Rpb5..0']"
       ]
      },
      {
       "output_type": "stream",
       "stream": "stdout",
       "text": [
        "\n",
        "BuildSystem.execute_macro: -------- adding Rpb5..0\n",
        "BuildSystem.execute_macro: -------- creating super rigid body with max_trans 4.0 max_rot 0.3 \n",
        "BuildSystem.execute_macro: -------- building super rigid body ['Rpb4..0']\n",
        "BuildSystem.execute_macro: -------- adding Rpb4..0\n",
        "BuildSystem.execute_macro: -------- creating super rigid body with max_trans 4.0 max_rot 0.3 \n",
        "BuildSystem.execute_macro: -------- building super rigid body ['Rpb7..0']\n",
        "BuildSystem.execute_macro: -------- adding Rpb7..0\n",
        "BuildSystem.execute_macro: -------- creating super rigid body with max_trans 4.0 max_rot 0.3 \n",
        "BuildSystem.execute_macro: -------- building super rigid body ['Rpb6..0']"
       ]
      },
      {
       "output_type": "stream",
       "stream": "stdout",
       "text": [
        "\n",
        "BuildSystem.execute_macro: -------- adding Rpb6..0\n",
        "BuildSystem.execute_macro: -------- creating super rigid body with max_trans 4.0 max_rot 0.3 \n",
        "BuildSystem.execute_macro: -------- building super rigid body ['Rpb9..0']\n",
        "BuildSystem.execute_macro: -------- adding Rpb9..0\n",
        "BuildSystem.execute_macro: -------- creating super rigid body with max_trans 4.0 max_rot 0.3 \n",
        "BuildSystem.execute_macro: -------- building super rigid body ['Rpb8..0']\n",
        "BuildSystem.execute_macro: -------- adding Rpb8..0\n",
        "BuildSystem.execute_macro: -------- creating super rigid body with max_trans 4.0 max_rot 0.3 \n"
       ]
      }
     ],
     "prompt_number": 8
    },
    {
     "cell_type": "markdown",
     "metadata": {
      "slideshow": {
       "slide_type": "subslide"
      }
     },
     "source": [
      "At this point we have created the complete representation of the system. If displayed using Chimera the subunits should look like this (where the left and right panels are the assembled complex exploded view, respectively)"
     ]
    },
    {
     "cell_type": "markdown",
     "metadata": {
      "slideshow": {
       "slide_type": "fragment"
      }
     },
     "source": [
      "<figure><img src=\"files/images/rnapolii_domain_representation.png\" width=\"700px\" />\n",
      "<figcaption>_Domain Representation_</figcaption></figure>"
     ]
    },
    {
     "cell_type": "markdown",
     "metadata": {
      "slideshow": {
       "slide_type": "subslide"
      }
     },
     "source": [
      "We can display the representation of system the along the sequence. Each color correspond to a domain of the complex assigned to an individual rigid body. White spaces are the beads."
     ]
    },
    {
     "cell_type": "code",
     "collapsed": false,
     "input": [
      "%matplotlib inline\n",
      "\n",
      "import IMP.pmi.plotting\n",
      "import IMP.pmi.plotting.topology\n",
      "\n",
      "IMP.pmi.plotting.topology.draw_component_composition(dof)"
     ],
     "language": "python",
     "metadata": {
      "slideshow": {
       "slide_type": "fragment"
      }
     },
     "outputs": [
      {
       "output_type": "stream",
       "stream": "stderr",
       "text": [
        "/System/Library/Frameworks/Python.framework/Versions/2.7/Extras/lib/python/matplotlib/__init__.py:1155: UserWarning:  This call to matplotlib.use() has no effect\n",
        "because the backend has already been chosen;\n",
        "matplotlib.use() must be called *before* pylab, matplotlib.pyplot,\n",
        "or matplotlib.backends is imported for the first time.\n",
        "\n",
        "  warnings.warn(_use_error_msg)\n"
       ]
      },
      {
       "metadata": {},
       "output_type": "display_data",
       "png": "[encoded data removed]",
       "text": [
        "<matplotlib.figure.Figure at 0x11a926590>"
       ]
      },
      {
       "metadata": {},
       "output_type": "display_data",
       "png": "[encoded data removed]",
       "text": [
        "<matplotlib.figure.Figure at 0x114168e50>"
       ]
      },
      {
       "metadata": {},
       "output_type": "display_data",
       "png": "[encoded data removed]",
       "text": [
        "<matplotlib.figure.Figure at 0x11a91d310>"
       ]
      },
      {
       "output_type": "stream",
       "stream": "stderr",
       "text": [
        "/System/Library/Frameworks/Python.framework/Versions/2.7/Extras/lib/python/matplotlib/colorbar.py:766: RuntimeWarning: invalid value encountered in double_scalars\n",
        "  automin = (y[2] - y[1]) / clen\n",
        "/System/Library/Frameworks/Python.framework/Versions/2.7/Extras/lib/python/matplotlib/colorbar.py:767: RuntimeWarning: divide by zero encountered in double_scalars\n",
        "  automax = (y[-2] - y[-3]) / clen\n"
       ]
      },
      {
       "metadata": {},
       "output_type": "display_data",
       "png": "[encoded data removed]",
       "text": [
        "<matplotlib.figure.Figure at 0x1193cd790>"
       ]
      },
      {
       "metadata": {},
       "output_type": "display_data",
       "png": "[encoded data removed]",
       "text": [
        "<matplotlib.figure.Figure at 0x11a110890>"
       ]
      },
      {
       "metadata": {},
       "output_type": "display_data",
       "png": "[encoded data removed]",
       "text": [
        "<matplotlib.figure.Figure at 0x11aadb750>"
       ]
      },
      {
       "metadata": {},
       "output_type": "display_data",
       "png": "[encoded data removed]",
       "text": [
        "<matplotlib.figure.Figure at 0x110ddc390>"
       ]
      },
      {
       "metadata": {},
       "output_type": "display_data",
       "png": "[encoded data removed]",
       "text": [
        "<matplotlib.figure.Figure at 0x1193cd790>"
       ]
      },
      {
       "metadata": {},
       "output_type": "display_data",
       "png": "[encoded data removed]",
       "text": [
        "<matplotlib.figure.Figure at 0x112f41fd0>"
       ]
      },
      {
       "metadata": {},
       "output_type": "display_data",
       "png": "[encoded data removed]",
       "text": [
        "<matplotlib.figure.Figure at 0x11a110890>"
       ]
      },
      {
       "metadata": {},
       "output_type": "display_data",
       "png": "[encoded data removed]",
       "text": [
        "<matplotlib.figure.Figure at 0x112f416d0>"
       ]
      },
      {
       "metadata": {},
       "output_type": "display_data",
       "png": "[encoded data removed]",
       "text": [
        "<matplotlib.figure.Figure at 0x1193cd790>"
       ]
      }
     ],
     "prompt_number": 9
    },
    {
     "cell_type": "markdown",
     "metadata": {
      "slideshow": {
       "slide_type": "subslide"
      }
     },
     "source": [
      "Since we're interested in modelling the stalk, we will fix all subunits except Rpb4 and Rpb7. Note that we are using [IMP.atom.Selection](https://integrativemodeling.org/nightly/doc/ref/classIMP_1_1atom_1_1Selection.html) to get the particles that correspond to the fixed Molecules."
     ]
    },
    {
     "cell_type": "code",
     "collapsed": false,
     "input": [
      "# Fix all rigid bodies but not Rpb4 and Rpb7 (the stalk)\n",
      "# First select and gather all particles to fix.\n",
      "fixed_particles=[]\n",
      "for prot in [\"Rpb1\",\"Rpb2\",\"Rpb3\",\"Rpb5\",\"Rpb6\",\"Rpb8\",\"Rpb9\",\"Rpb10\",\"Rpb11\",\"Rpb12\"]:\n",
      "    fixed_particles+=IMP.atom.Selection(root_hier,molecule=prot).get_selected_particles()\n",
      "    \n",
      "\n",
      "# Fix the Corresponding Rigid movers and Super Rigid Body movers using dof\n",
      "# The flexible beads will still be flexible (fixed_beads is an empty list)!\n",
      "fixed_beads,fixed_rbs=dof.disable_movers(fixed_particles,\n",
      "                                         [IMP.core.RigidBodyMover,IMP.pmi.TransformMover])"
     ],
     "language": "python",
     "metadata": {
      "slideshow": {
       "slide_type": "fragment"
      }
     },
     "outputs": [
      {
       "output_type": "stream",
       "stream": "stdout",
       "text": [
        "Fixing 23 movers\n"
       ]
      }
     ],
     "prompt_number": 10
    },
    {
     "cell_type": "markdown",
     "metadata": {
      "slideshow": {
       "slide_type": "subslide"
      }
     },
     "source": [
      "Finally we randomize the initial configuration to remove any bias from the initial starting configuration read from input files. \n",
      "\n",
      "The `excluded_rigid_bodies=fixed_rbs` will exclude from the randomization everything that was fixed above."
     ]
    },
    {
     "cell_type": "code",
     "collapsed": false,
     "input": [
      "# Shuffle the rigid body and beads configuration of only the molecules we are interested in (Rpb4 and Rpb7)\n",
      "IMP.pmi.tools.shuffle_configuration(root_hier,\n",
      "                                    excluded_rigid_bodies=fixed_rbs,\n",
      "                                    max_translation=50, \n",
      "                                    verbose=False,\n",
      "                                    cutoff=5.0,\n",
      "                                    niterations=100)"
     ],
     "language": "python",
     "metadata": {
      "slideshow": {
       "slide_type": "fragment"
      }
     },
     "outputs": [
      {
       "output_type": "stream",
       "stream": "stdout",
       "text": [
        "shuffling 15 rigid bodies\n",
        "shuffling"
       ]
      },
      {
       "output_type": "stream",
       "stream": "stdout",
       "text": [
        " 47 flexible beads\n"
       ]
      }
     ],
     "prompt_number": 11
    },
    {
     "cell_type": "markdown",
     "metadata": {
      "slideshow": {
       "slide_type": "slide"
      }
     },
     "source": [
      "### Scoring Function <a name=\"Scoring_Function_3\"></a>"
     ]
    },
    {
     "cell_type": "markdown",
     "metadata": {
      "slideshow": {
       "slide_type": "subslide"
      }
     },
     "source": [
      "After defining the representation of the model, we build the **restraints** by which the individual structural models will be scored based on the input data.\n",
      "\n",
      "The sum of all of these restraints is our **scoring function**. \n",
      "For all restraints, calling `add_to_model()` incorporates them into the scoring function\n",
      "Appending the restraints to the outputobjects list reports them in the log files produced in the sampling."
     ]
    },
    {
     "cell_type": "code",
     "collapsed": false,
     "input": [
      "outputobjects = [] # reporter objects...output is included in the stat file"
     ],
     "language": "python",
     "metadata": {
      "slideshow": {
       "slide_type": "fragment"
      }
     },
     "outputs": [],
     "prompt_number": 12
    },
    {
     "cell_type": "markdown",
     "metadata": {
      "slideshow": {
       "slide_type": "subslide"
      }
     },
     "source": [
      "#### Connectivity Restraint <a name=\"Connectivity_Restraint_4\"></a>"
     ]
    },
    {
     "cell_type": "code",
     "collapsed": false,
     "input": [
      "# Connectivity keeps things connected along the backbone (ignores if inside same rigid body)\n",
      "mols = IMP.pmi.tools.get_molecules(root_hier)\n",
      "for mol in mols:\n",
      "    molname=mol.get_name()        \n",
      "    IMP.pmi.tools.display_bonds(mol)\n",
      "    cr = IMP.pmi.restraints.stereochemistry.ConnectivityRestraint(mol,scale=2.0)\n",
      "    cr.add_to_model()\n",
      "    cr.set_label(molname)\n",
      "    outputobjects.append(cr)"
     ],
     "language": "python",
     "metadata": {
      "slideshow": {
       "slide_type": "fragment"
      }
     },
     "outputs": [
      {
       "output_type": "stream",
       "stream": "stdout",
       "text": [
        "Adding sequence connectivity restraint between 1_bead  and  Residue_2 of distance 7.2\n",
        "Adding sequence connectivity restraint between Residue_186  and  187-194_bead of distance 7.2\n",
        "Adding sequence connectivity restraint between 187-194_bead  and  Residue_195 of distance 7.2\n",
        "Adding sequence connectivity restraint between Residue_1081  and  1082-1091_bead of distance 7.2\n",
        "Adding sequence connectivity restraint between 1082-1091_bead  and  Residue_1092 of distance 7.2\n",
        "Adding sequence connectivity restraint between Residue_1140  and  Residue_1141 of distance 7.2\n",
        "Adding sequence connectivity restraint between Residue_1176  and  1177-1186_bead of distance 7.2\n",
        "Adding sequence connectivity restraint between 1177-1186_bead  and  Residue_1187 of distance 7.2\n",
        "Adding sequence connectivity restraint between"
       ]
      },
      {
       "output_type": "stream",
       "stream": "stdout",
       "text": [
        " Residue_1243  and  1244-1253_bead of distance 7.2\n",
        "Adding sequence connectivity restraint between 1244-1253_bead  and  Residue_1254 of distance 7.2\n",
        "Adding sequence connectivity restraint between Residue_1274  and  Residue_1275 of distance 7.2\n",
        "Adding sequence connectivity restraint between Residue_1455  and  1456-1475_bead of distance 7.2\n",
        "Adding sequence connectivity restraint between 1456-1475_bead  and  1476-1495_bead of distance 7.2\n",
        "Adding sequence connectivity restraint between 1476-1495_bead  and  1496-1515_bead of distance 7.2\n",
        "Adding sequence connectivity restraint between 1496-1515_bead  and  1516-1535_bead of distance 7.2\n",
        "Adding sequence connectivity restraint between 1516-1535_bead  and  1536-1555_bead of distance 7.2\n",
        "Adding sequence connectivity restraint between 1536-1555_bead  and  1556-1575_bead of distance 7.2\n",
        "Adding sequence connectivity restraint between 1556-1575_bead  and  1576-1595_bead of distance 7.2\n",
        "Adding sequence connectivity restraint between 1576-1595_bead  and  1596-1615_bead of distance 7.2\n",
        "Adding sequence connectivity restraint between 1596-1615_bead  and  1616-1635_bead of distance 7.2\n",
        "Adding sequence connectivity restraint between 1616-1635_bead  and  1636-1655_bead of distance 7.2\n",
        "Adding sequence connectivity restraint between 1636-1655_bead  and  1656-1675_bead of distance 7.2\n",
        "Adding sequence connectivity restraint between 1656-1675_bead  and  1676-1695_bead of distance 7.2\n",
        "Adding sequence connectivity restraint between 1676-1695_bead  and  1696-1715_bead of distance 7.2\n",
        "Adding sequence connectivity restraint between 1696-1715_bead  and  1716-1733_bead of distance 7.2\n",
        "Adding sequence connectivity restraint between"
       ]
      },
      {
       "output_type": "stream",
       "stream": "stdout",
       "text": [
        " 1_bead  and  Residue_2 of distance 7.2\n",
        "Adding sequence connectivity restraint between Residue_63  and  64-75_bead of distance 7.2\n",
        "Adding sequence connectivity restraint between 64-75_bead  and  Residue_76 of distance 7.2\n",
        "Adding sequence connectivity restraint between 1-20_bead  and  21-40_bead of distance 7.2\n",
        "Adding sequence connectivity restraint between 21-40_bead  and  41-60_bead of distance 7.2\n",
        "Adding sequence connectivity restraint between 41-60_bead  and  61-71_bead of distance 7.2\n",
        "Adding sequence connectivity restraint between 61-71_bead  and  Residue_72 of distance 7.2\n",
        "Adding sequence connectivity restraint between"
       ]
      },
      {
       "output_type": "stream",
       "stream": "stdout",
       "text": [
        " 1_bead  and  Residue_2 of distance 7.2\n",
        "Adding sequence connectivity restraint between 1-20_bead  and  21-24_bead of distance 7.2\n",
        "Adding sequence connectivity restraint between 21-24_bead  and  Residue_25 of distance 7.2\n",
        "Adding sequence connectivity restraint between"
       ]
      },
      {
       "output_type": "stream",
       "stream": "stdout",
       "text": [
        " 1-2_bead  and  Residue_3 of distance 7.2\n",
        "Adding sequence connectivity restraint between Residue_268  and  269-288_bead of distance 7.2\n",
        "Adding sequence connectivity restraint between 269-288_bead  and  289-308_bead of distance 7.2\n",
        "Adding sequence connectivity restraint between 289-308_bead  and  309-318_bead of distance 7.2\n",
        "Adding sequence connectivity restraint between Residue_65  and  66-70_bead of distance 7.2\n",
        "Adding sequence connectivity restraint between"
       ]
      },
      {
       "output_type": "stream",
       "stream": "stdout",
       "text": [
        " Residue_114  and  115-120_bead of distance 7.2\n",
        "Adding sequence connectivity restraint between"
       ]
      },
      {
       "output_type": "stream",
       "stream": "stdout",
       "text": [
        " 1_bead  and  Residue_2 of distance 7.2\n",
        "Adding sequence connectivity restraint between Residue_120  and  121-122_bead of distance 7.2\n",
        "Adding sequence connectivity restraint between"
       ]
      },
      {
       "output_type": "stream",
       "stream": "stdout",
       "text": [
        " 1-19_bead  and  Residue_20 of distance 7.2\n",
        "Adding sequence connectivity restraint between Residue_70  and  71-89_bead of distance 7.2\n",
        "Adding sequence connectivity restraint between 71-89_bead  and  Residue_90 of distance 7.2\n",
        "Adding sequence connectivity restraint between Residue_134  and  135-154_bead of distance 7.2\n",
        "Adding sequence connectivity restraint between 135-154_bead  and  155-163_bead of distance 7.2\n",
        "Adding sequence connectivity restraint between 155-163_bead  and  Residue_164 of distance 7.2\n",
        "Adding sequence connectivity restraint between Residue_335  and  336-344_bead of distance 7.2\n",
        "Adding sequence connectivity restraint between 336-344_bead  and  Residue_345 of distance 7.2\n",
        "Adding sequence connectivity restraint between Residue_437  and  438-445_bead of distance 7.2\n",
        "Adding sequence connectivity restraint between 438-445_bead  and  Residue_446 of distance 7.2\n",
        "Adding sequence connectivity restraint between Residue_467  and  468-476_bead of distance 7.2\n",
        "Adding sequence connectivity restraint between 468-476_bead  and  Residue_477 of distance 7.2\n",
        "Adding sequence connectivity restraint between"
       ]
      },
      {
       "output_type": "stream",
       "stream": "stdout",
       "text": [
        " Residue_502  and  503-508_bead of distance 7.2\n",
        "Adding sequence connectivity restraint between 503-508_bead  and  Residue_509 of distance 7.2\n",
        "Adding sequence connectivity restraint between Residue_668  and  669-677_bead of distance 7.2\n",
        "Adding sequence connectivity restraint between 669-677_bead  and  Residue_678 of distance 7.2\n",
        "Adding sequence connectivity restraint between Residue_715  and  716-721_bead of distance 7.2\n",
        "Adding sequence connectivity restraint between 716-721_bead  and  Residue_722 of distance 7.2\n",
        "Adding sequence connectivity restraint between Residue_919  and  920-932_bead of distance 7.2\n",
        "Adding sequence connectivity restraint between 920-932_bead  and  Residue_933 of distance 7.2\n",
        "Adding sequence connectivity restraint between"
       ]
      },
      {
       "output_type": "stream",
       "stream": "stdout",
       "text": [
        " Residue_1102  and  Residue_1103 of distance 7.2\n"
       ]
      }
     ],
     "prompt_number": 13
    },
    {
     "cell_type": "markdown",
     "metadata": {
      "slideshow": {
       "slide_type": "subslide"
      }
     },
     "source": [
      "#### Excluded Volume Restraint <a name=\"Excluded_Volume_Restraint_4\"></a>"
     ]
    },
    {
     "cell_type": "code",
     "collapsed": false,
     "input": [
      "ev = IMP.pmi.restraints.stereochemistry.ExcludedVolumeSphere(\n",
      "                                         included_objects=root_hier,\n",
      "                                         resolution=10)\n",
      "ev.add_to_model()         # add to scoring function\n",
      "outputobjects.append(ev)  # add to output"
     ],
     "language": "python",
     "metadata": {
      "slideshow": {
       "slide_type": "fragment"
      }
     },
     "outputs": [],
     "prompt_number": 14
    },
    {
     "cell_type": "markdown",
     "metadata": {
      "slideshow": {
       "slide_type": "subslide"
      }
     },
     "source": [
      "#### Crosslinks - dataset 1 <a name=\"Crosslink_1_4\"></a>\n",
      "\n",
      "A crosslinking restraint is implemented as a distance restraint between two residues.  The two residues are each defined by the protein (component) name and the residue number.  The script here extracts the correct four columns that provide this information from the input data file.\n",
      "\n",
      "To use this restraint we have to first define the data format.  \n",
      " \n",
      "This data file has a csv format, and looks like:\n",
      "\n",
      "```\n",
      "prot1,res1,prot2,res2\n",
      "Rpb1,34,Rpb1,49\n",
      "Rpb1,101,Rpb1,143\n",
      "...\n",
      "```"
     ]
    },
    {
     "cell_type": "code",
     "collapsed": false,
     "input": [
      "# We then initialize a CrossLinkDataBase that uses a keywords converter to map column to information.\n",
      "# The required fields are the protein and residue number for each side of the crosslink.\n",
      "xldbkwc = IMP.pmi.io.crosslink.CrossLinkDataBaseKeywordsConverter()\n",
      "xldbkwc.set_protein1_key(\"prot1\")\n",
      "xldbkwc.set_protein2_key(\"prot2\")\n",
      "xldbkwc.set_residue1_key(\"res1\")\n",
      "xldbkwc.set_residue2_key(\"res2\")\n",
      "\n",
      "xl1 = IMP.pmi.io.crosslink.CrossLinkDataBase(xldbkwc)\n",
      "xl1.create_set_from_file(datadirectory+'polii_juri.csv')\n",
      "\n",
      "# Now, we set up the restraint.\n",
      "xl1rest = IMP.pmi.restraints.crosslinking.CrossLinkingMassSpectrometryRestraint(\n",
      "                                   root_hier=root_hier,  # The root hierarchy\n",
      "                                   CrossLinkDataBase=xl1,# The XLDB defined above\n",
      "                                   length=21.0,          # Length of the linker in angstroms\n",
      "                                   slope=0.01,           # A linear term that biases XLed\n",
      "                                                         # residues together\n",
      "                                   resolution=1.0,       # Resolution at which to apply the restraint. \n",
      "                                                         # Either 1 (residue) or 0 (atomic)\n",
      "                                   label=\"Chen\",         # Used to label output in the stat file\n",
      "                                   weight=1.)            # Weight applied to all crosslinks \n",
      "                                                         # in this dataset\n",
      "xl1rest.add_to_model()\n",
      "outputobjects.append(xl1rest)"
     ],
     "language": "python",
     "metadata": {
      "slideshow": {
       "slide_type": "fragment"
      }
     },
     "outputs": [
      {
       "output_type": "stream",
       "stream": "stdout",
       "text": [
        "gathering copies\n",
        "defaultdict(<type 'int'>, {'Rpb4': 0, 'Rpb5': 0, 'Rpb6': 0, 'Rpb7': 0, 'Rpb1': 0, 'Rpb2': 0, 'Rpb3': 0, 'Rpb9': 0, 'Rpb12': 0, 'Rpb10': 0, 'Rpb11': 0})\n",
        "done pmi2 prelims\n",
        "generating a new crosslink restraint\n",
        "--------------\n",
        "CrossLinkingMassSpectrometryRestraint: generating cross-link restraint between\n",
        "CrossLinkingMassSpectrometryRestraint: residue 34 of chain Rpb1 and residue 49 of chain Rpb1\n",
        "CrossLinkingMassSpectrometryRestraint: with sigma1 SIGMA sigma2 SIGMA psi PSI\n",
        "CrossLinkingMassSpectrometryRestraint: between particles Residue_34 and Residue_49\n",
        "==========================================\n",
        "\n",
        "generating a new crosslink restraint\n",
        "--------------\n",
        "CrossLinkingMassSpectrometryRestraint: generating cross-link restraint between\n",
        "CrossLinkingMassSpectrometryRestraint: residue 101 of chain Rpb1 and residue 143 of chain Rpb1\n",
        "CrossLinkingMassSpectrometryRestraint: with sigma1 SIGMA sigma2 SIGMA psi PSI\n",
        "CrossLinkingMassSpectrometryRestraint: between particles Residue_101 and Residue_143\n",
        "==========================================\n",
        "\n",
        "generating a new crosslink restraint\n",
        "--------------\n",
        "CrossLinkingMassSpectrometryRestraint: generating cross-link restraint between\n",
        "CrossLinkingMassSpectrometryRestraint: residue 689 of chain Rpb1 and residue 728 of chain Rpb1\n",
        "CrossLinkingMassSpectrometryRestraint: with sigma1 SIGMA sigma2 SIGMA psi PSI\n",
        "CrossLinkingMassSpectrometryRestraint: between particles Residue_689 and Residue_728\n",
        "==========================================\n",
        "\n",
        "generating a new crosslink restraint\n",
        "--------------\n",
        "CrossLinkingMassSpectrometryRestraint: generating cross-link restraint between\n",
        "CrossLinkingMassSpectrometryRestraint: residue 1 of chain Rpb4 and residue 72 of chain Rpb6\n",
        "CrossLinkingMassSpectrometryRestraint: with sigma1 SIGMA sigma2 SIGMA psi PSI\n",
        "CrossLinkingMassSpectrometryRestraint: between particles Residue_1 and Residue_72\n",
        "==========================================\n",
        "\n",
        "generating a new crosslink restraint\n",
        "--------------\n",
        "CrossLinkingMassSpectrometryRestraint: generating cross-link restraint between\n",
        "CrossLinkingMassSpectrometryRestraint: residue 1 of chain Rpb4 and residue 29 of chain Rpb7\n",
        "CrossLinkingMassSpectrometryRestraint: with sigma1 SIGMA sigma2 SIGMA psi PSI\n",
        "CrossLinkingMassSpectrometryRestraint: between particles Residue_1 and Residue_29\n",
        "==========================================\n",
        "\n",
        "generating a new crosslink restraint\n",
        "--------------\n",
        "CrossLinkingMassSpectrometryRestraint: generating cross-link restraint between\n",
        "CrossLinkingMassSpectrometryRestraint: residue 1 of chain Rpb4 and residue 73 of chain Rpb7\n",
        "CrossLinkingMassSpectrometryRestraint: with sigma1 SIGMA sigma2 SIGMA psi PSI\n",
        "CrossLinkingMassSpectrometryRestraint: between particles Residue_1 and Residue_73\n",
        "==========================================\n",
        "\n",
        "generating a new crosslink restraint\n",
        "--------------\n",
        "CrossLinkingMassSpectrometryRestraint: generating cross-link restraint between\n",
        "CrossLinkingMassSpectrometryRestraint: residue 166 of chain Rpb5 and residue 67 of chain Rpb6\n",
        "CrossLinkingMassSpectrometryRestraint: with sigma1 SIGMA sigma2 SIGMA psi PSI\n",
        "CrossLinkingMassSpectrometryRestraint: between particles Residue_166 and 61-71_bead\n",
        "==========================================\n",
        "\n",
        "generating a new crosslink restraint\n",
        "--------------\n",
        "CrossLinkingMassSpectrometryRestraint: generating cross-link restraint between\n",
        "CrossLinkingMassSpectrometryRestraint: residue 171 of chain Rpb5 and residue 46 of chain Rpb6\n",
        "CrossLinkingMassSpectrometryRestraint: with sigma1 SIGMA sigma2 SIGMA psi PSI\n",
        "CrossLinkingMassSpectrometryRestraint: between particles Residue_171 and 41-60_bead\n",
        "==========================================\n",
        "\n",
        "generating a new crosslink restraint\n",
        "--------------\n",
        "CrossLinkingMassSpectrometryRestraint: generating cross-link restraint between\n",
        "CrossLinkingMassSpectrometryRestraint: residue 171 of chain Rpb5 and residue 67 of chain Rpb6\n",
        "CrossLinkingMassSpectrometryRestraint: with sigma1 SIGMA sigma2 SIGMA psi PSI\n",
        "CrossLinkingMassSpectrometryRestraint: between particles Residue_171 and 61-71_bead\n",
        "==========================================\n",
        "\n",
        "generating a new crosslink restraint\n",
        "--------------\n",
        "CrossLinkingMassSpectrometryRestraint: generating cross-link restraint between\n",
        "CrossLinkingMassSpectrometryRestraint: residue 171 of chain Rpb5 and residue 72 of chain Rpb6\n",
        "CrossLinkingMassSpectrometryRestraint: with sigma1 SIGMA sigma2 SIGMA psi PSI\n",
        "CrossLinkingMassSpectrometryRestraint: between particles Residue_171 and Residue_72\n",
        "==========================================\n",
        "\n",
        "generating a new crosslink restraint\n",
        "--------------\n",
        "CrossLinkingMassSpectrometryRestraint: generating cross-link restraint between\n",
        "CrossLinkingMassSpectrometryRestraint: residue 72 of chain Rpb6 and residue 73 of chain Rpb7\n",
        "CrossLinkingMassSpectrometryRestraint: with sigma1 SIGMA sigma2 SIGMA psi PSI\n",
        "CrossLinkingMassSpectrometryRestraint: between particles Residue_72 and Residue_73\n",
        "==========================================\n",
        "\n",
        "generating a new crosslink restraint"
       ]
      },
      {
       "output_type": "stream",
       "stream": "stdout",
       "text": [
        "\n",
        "--------------\n",
        "CrossLinkingMassSpectrometryRestraint: generating cross-link restraint between\n",
        "CrossLinkingMassSpectrometryRestraint: residue 705 of chain Rpb1 and residue 1093 of chain Rpb1\n",
        "CrossLinkingMassSpectrometryRestraint: with sigma1 SIGMA sigma2 SIGMA psi PSI\n",
        "CrossLinkingMassSpectrometryRestraint: between particles Residue_705 and Residue_1093\n",
        "==========================================\n",
        "\n",
        "generating a new crosslink restraint\n",
        "--------------\n",
        "CrossLinkingMassSpectrometryRestraint: generating cross-link restraint between\n",
        "CrossLinkingMassSpectrometryRestraint: residue 705 of chain Rpb1 and residue 1132 of chain Rpb1\n",
        "CrossLinkingMassSpectrometryRestraint: with sigma1 SIGMA sigma2 SIGMA psi PSI\n",
        "CrossLinkingMassSpectrometryRestraint: between particles Residue_705 and Residue_1132\n",
        "==========================================\n",
        "\n",
        "generating a new crosslink restraint\n",
        "--------------\n",
        "CrossLinkingMassSpectrometryRestraint: generating cross-link restraint between\n",
        "CrossLinkingMassSpectrometryRestraint: residue 705 of chain Rpb1 and residue 1286 of chain Rpb1\n",
        "CrossLinkingMassSpectrometryRestraint: with sigma1 SIGMA sigma2 SIGMA psi PSI\n",
        "CrossLinkingMassSpectrometryRestraint: between particles Residue_705 and Residue_1286\n",
        "==========================================\n",
        "\n",
        "generating a new crosslink restraint\n",
        "--------------\n",
        "CrossLinkingMassSpectrometryRestraint: generating cross-link restraint between\n",
        "CrossLinkingMassSpectrometryRestraint: residue 773 of chain Rpb1 and residue 1093 of chain Rpb1\n",
        "CrossLinkingMassSpectrometryRestraint: with sigma1 SIGMA sigma2 SIGMA psi PSI\n",
        "CrossLinkingMassSpectrometryRestraint: between particles Residue_773 and Residue_1093\n",
        "==========================================\n",
        "\n",
        "generating a new crosslink restraint\n",
        "--------------\n",
        "CrossLinkingMassSpectrometryRestraint: generating cross-link restraint between\n",
        "CrossLinkingMassSpectrometryRestraint: residue 773 of chain Rpb1 and residue 1112 of chain Rpb1\n",
        "CrossLinkingMassSpectrometryRestraint: with sigma1 SIGMA sigma2 SIGMA psi PSI\n",
        "CrossLinkingMassSpectrometryRestraint: between particles Residue_773 and Residue_1112\n",
        "==========================================\n",
        "\n",
        "generating a new crosslink restraint\n",
        "--------------\n",
        "CrossLinkingMassSpectrometryRestraint: generating cross-link restraint between\n",
        "CrossLinkingMassSpectrometryRestraint: residue 830 of chain Rpb1 and residue 1093 of chain Rpb1\n",
        "CrossLinkingMassSpectrometryRestraint: with sigma1 SIGMA sigma2 SIGMA psi PSI\n",
        "CrossLinkingMassSpectrometryRestraint: between particles Residue_830 and Residue_1093\n",
        "==========================================\n",
        "\n",
        "generating a new crosslink restraint\n",
        "--------------\n",
        "CrossLinkingMassSpectrometryRestraint: generating cross-link restraint between\n",
        "CrossLinkingMassSpectrometryRestraint: residue 830 of chain Rpb1 and residue 1102 of chain Rpb1\n",
        "CrossLinkingMassSpectrometryRestraint: with sigma1 SIGMA sigma2 SIGMA psi PSI\n",
        "CrossLinkingMassSpectrometryRestraint: between particles Residue_830 and Residue_1102\n",
        "==========================================\n",
        "\n",
        "generating a new crosslink restraint\n",
        "--------------\n",
        "CrossLinkingMassSpectrometryRestraint: generating cross-link restraint between\n",
        "CrossLinkingMassSpectrometryRestraint: residue 830 of chain Rpb1 and residue 1112 of chain Rpb1\n",
        "CrossLinkingMassSpectrometryRestraint: with sigma1 SIGMA sigma2 SIGMA psi PSI\n",
        "CrossLinkingMassSpectrometryRestraint: between particles Residue_830 and Residue_1112\n",
        "==========================================\n",
        "\n",
        "generating a new crosslink restraint\n",
        "--------------\n",
        "CrossLinkingMassSpectrometryRestraint: generating cross-link restraint between\n",
        "CrossLinkingMassSpectrometryRestraint: residue 934 of chain Rpb1 and residue 941 of chain Rpb1\n",
        "CrossLinkingMassSpectrometryRestraint: with sigma1 SIGMA sigma2 SIGMA psi PSI\n",
        "CrossLinkingMassSpectrometryRestraint: between particles Residue_934 and Residue_941\n",
        "==========================================\n",
        "\n",
        "generating a new crosslink restraint\n",
        "--------------\n",
        "CrossLinkingMassSpectrometryRestraint: generating cross-link restraint between\n",
        "CrossLinkingMassSpectrometryRestraint: residue 101 of chain Rpb1 and residue 176 of chain Rpb1\n",
        "CrossLinkingMassSpectrometryRestraint: with sigma1 SIGMA sigma2 SIGMA psi PSI\n",
        "CrossLinkingMassSpectrometryRestraint: between particles Residue_101 and Residue_176\n",
        "==========================================\n",
        "\n",
        "generating a new crosslink restraint\n",
        "--------------\n",
        "CrossLinkingMassSpectrometryRestraint: generating cross-link restraint between\n",
        "CrossLinkingMassSpectrometryRestraint: residue 938 of chain Rpb1 and residue 991 of chain Rpb1\n",
        "CrossLinkingMassSpectrometryRestraint: with sigma1 SIGMA sigma2 SIGMA psi PSI\n",
        "CrossLinkingMassSpectrometryRestraint: between particles Residue_938 and Residue_991\n",
        "==========================================\n",
        "\n",
        "generating a new crosslink restraint"
       ]
      },
      {
       "output_type": "stream",
       "stream": "stdout",
       "text": [
        "\n",
        "--------------\n",
        "CrossLinkingMassSpectrometryRestraint: generating cross-link restraint between\n",
        "CrossLinkingMassSpectrometryRestraint: residue 1093 of chain Rpb1 and residue 1102 of chain Rpb1\n",
        "CrossLinkingMassSpectrometryRestraint: with sigma1 SIGMA sigma2 SIGMA psi PSI\n",
        "CrossLinkingMassSpectrometryRestraint: between particles Residue_1093 and Residue_1102\n",
        "==========================================\n",
        "\n",
        "generating a new crosslink restraint\n",
        "--------------\n",
        "CrossLinkingMassSpectrometryRestraint: generating cross-link restraint between\n",
        "CrossLinkingMassSpectrometryRestraint: residue 1093 of chain Rpb1 and residue 1112 of chain Rpb1\n",
        "CrossLinkingMassSpectrometryRestraint: with sigma1 SIGMA sigma2 SIGMA psi PSI\n",
        "CrossLinkingMassSpectrometryRestraint: between particles Residue_1093 and Residue_1112\n",
        "==========================================\n",
        "\n",
        "generating a new crosslink restraint\n",
        "--------------\n",
        "CrossLinkingMassSpectrometryRestraint: generating cross-link restraint between\n",
        "CrossLinkingMassSpectrometryRestraint: residue 1102 of chain Rpb1 and residue 1112 of chain Rpb1\n",
        "CrossLinkingMassSpectrometryRestraint: with sigma1 SIGMA sigma2 SIGMA psi PSI\n",
        "CrossLinkingMassSpectrometryRestraint: between particles Residue_1102 and Residue_1112\n",
        "==========================================\n",
        "\n",
        "generating a new crosslink restraint\n",
        "--------------\n",
        "CrossLinkingMassSpectrometryRestraint: generating cross-link restraint between\n",
        "CrossLinkingMassSpectrometryRestraint: residue 1132 of chain Rpb1 and residue 1205 of chain Rpb1\n",
        "CrossLinkingMassSpectrometryRestraint: with sigma1 SIGMA sigma2 SIGMA psi PSI\n",
        "CrossLinkingMassSpectrometryRestraint: between particles Residue_1132 and Residue_1205\n",
        "==========================================\n",
        "\n",
        "generating a new crosslink restraint\n",
        "--------------\n",
        "CrossLinkingMassSpectrometryRestraint: generating cross-link restraint between\n",
        "CrossLinkingMassSpectrometryRestraint: residue 1132 of chain Rpb1 and residue 1286 of chain Rpb1\n",
        "CrossLinkingMassSpectrometryRestraint: with sigma1 SIGMA sigma2 SIGMA psi PSI\n",
        "CrossLinkingMassSpectrometryRestraint: between particles Residue_1132 and Residue_1286\n",
        "==========================================\n",
        "\n",
        "generating a new crosslink restraint\n",
        "--------------\n",
        "CrossLinkingMassSpectrometryRestraint: generating cross-link restraint between\n",
        "CrossLinkingMassSpectrometryRestraint: residue 1217 of chain Rpb1 and residue 1246 of chain Rpb1\n",
        "CrossLinkingMassSpectrometryRestraint: with sigma1 SIGMA sigma2 SIGMA psi PSI\n",
        "CrossLinkingMassSpectrometryRestraint: between particles Residue_1217 and 1244-1253_bead\n",
        "==========================================\n",
        "\n",
        "generating a new crosslink restraint\n",
        "--------------\n",
        "CrossLinkingMassSpectrometryRestraint: generating cross-link restraint between\n",
        "CrossLinkingMassSpectrometryRestraint: residue 1221 of chain Rpb1 and residue 1246 of chain Rpb1\n",
        "CrossLinkingMassSpectrometryRestraint: with sigma1 SIGMA sigma2 SIGMA psi PSI\n",
        "CrossLinkingMassSpectrometryRestraint: between particles Residue_1221 and 1244-1253_bead\n",
        "==========================================\n",
        "\n",
        "generating a new crosslink restraint\n",
        "--------------\n",
        "CrossLinkingMassSpectrometryRestraint: generating cross-link restraint between\n",
        "CrossLinkingMassSpectrometryRestraint: residue 1221 of chain Rpb1 and residue 1262 of chain Rpb1\n",
        "CrossLinkingMassSpectrometryRestraint: with sigma1 SIGMA sigma2 SIGMA psi PSI\n",
        "CrossLinkingMassSpectrometryRestraint: between particles Residue_1221 and Residue_1262\n",
        "==========================================\n",
        "\n",
        "generating a new crosslink restraint\n",
        "--------------\n",
        "CrossLinkingMassSpectrometryRestraint: generating cross-link restraint between\n",
        "CrossLinkingMassSpectrometryRestraint: residue 1246 of chain Rpb1 and residue 1262 of chain Rpb1\n",
        "CrossLinkingMassSpectrometryRestraint: with sigma1 SIGMA sigma2 SIGMA psi PSI\n",
        "CrossLinkingMassSpectrometryRestraint: between particles 1244-1253_bead and Residue_1262\n",
        "==========================================\n",
        "\n",
        "generating a new crosslink restraint\n",
        "--------------\n",
        "CrossLinkingMassSpectrometryRestraint: generating cross-link restraint between\n",
        "CrossLinkingMassSpectrometryRestraint: residue 143 of chain Rpb1 and residue 187 of chain Rpb1\n",
        "CrossLinkingMassSpectrometryRestraint: with sigma1 SIGMA sigma2 SIGMA psi PSI\n",
        "CrossLinkingMassSpectrometryRestraint: between particles Residue_143 and 187-194_bead\n",
        "==========================================\n",
        "\n",
        "generating a new crosslink restraint\n",
        "--------------\n",
        "CrossLinkingMassSpectrometryRestraint: generating cross-link restraint between\n",
        "CrossLinkingMassSpectrometryRestraint: residue 99 of chain Rpb2 and residue 164 of chain Rpb2\n",
        "CrossLinkingMassSpectrometryRestraint: with sigma1 SIGMA sigma2 SIGMA psi PSI\n",
        "CrossLinkingMassSpectrometryRestraint: between particles Residue_99 and Residue_164\n",
        "==========================================\n",
        "\n",
        "generating a new crosslink restraint\n",
        "--------------\n",
        "CrossLinkingMassSpectrometryRestraint: generating cross-link restraint between\n",
        "CrossLinkingMassSpectrometryRestraint: residue 99 of chain Rpb2 and residue 191 of chain Rpb2\n",
        "CrossLinkingMassSpectrometryRestraint: with sigma1 SIGMA sigma2 SIGMA psi PSI\n",
        "CrossLinkingMassSpectrometryRestraint: between particles Residue_99 and Residue_191\n",
        "==========================================\n",
        "\n",
        "generating a new crosslink restraint\n",
        "--------------\n",
        "CrossLinkingMassSpectrometryRestraint: generating cross-link restraint between\n",
        "CrossLinkingMassSpectrometryRestraint: residue 228 of chain Rpb2 and residue 246 of chain Rpb2\n",
        "CrossLinkingMassSpectrometryRestraint: with sigma1 SIGMA sigma2 SIGMA psi PSI\n",
        "CrossLinkingMassSpectrometryRestraint: between particles Residue_228 and Residue_246\n",
        "==========================================\n",
        "\n",
        "generating a new crosslink restraint\n",
        "--------------\n",
        "CrossLinkingMassSpectrometryRestraint: generating cross-link restraint between\n",
        "CrossLinkingMassSpectrometryRestraint: residue 228 of chain Rpb2 and residue 257 of chain Rpb2\n",
        "CrossLinkingMassSpectrometryRestraint: with sigma1 SIGMA sigma2 SIGMA psi PSI\n",
        "CrossLinkingMassSpectrometryRestraint: between particles Residue_228 and Residue_257\n",
        "==========================================\n",
        "\n",
        "generating a new crosslink restraint"
       ]
      },
      {
       "output_type": "stream",
       "stream": "stdout",
       "text": [
        "\n",
        "--------------\n",
        "CrossLinkingMassSpectrometryRestraint: generating cross-link restraint between\n",
        "CrossLinkingMassSpectrometryRestraint: residue 228 of chain Rpb2 and residue 270 of chain Rpb2\n",
        "CrossLinkingMassSpectrometryRestraint: with sigma1 SIGMA sigma2 SIGMA psi PSI\n",
        "CrossLinkingMassSpectrometryRestraint: between particles Residue_228 and Residue_270\n",
        "==========================================\n",
        "\n",
        "generating a new crosslink restraint\n",
        "--------------\n",
        "CrossLinkingMassSpectrometryRestraint: generating cross-link restraint between\n",
        "CrossLinkingMassSpectrometryRestraint: residue 228 of chain Rpb2 and residue 277 of chain Rpb2\n",
        "CrossLinkingMassSpectrometryRestraint: with sigma1 SIGMA sigma2 SIGMA psi PSI\n",
        "CrossLinkingMassSpectrometryRestraint: between particles Residue_228 and Residue_277\n",
        "==========================================\n",
        "\n",
        "generating a new crosslink restraint\n",
        "--------------\n",
        "CrossLinkingMassSpectrometryRestraint: generating cross-link restraint between\n",
        "CrossLinkingMassSpectrometryRestraint: residue 228 of chain Rpb2 and residue 507 of chain Rpb2\n",
        "CrossLinkingMassSpectrometryRestraint: with sigma1 SIGMA sigma2 SIGMA psi PSI\n",
        "CrossLinkingMassSpectrometryRestraint: between particles Residue_228 and 503-508_bead\n",
        "==========================================\n",
        "\n",
        "generating a new crosslink restraint\n",
        "--------------\n",
        "CrossLinkingMassSpectrometryRestraint: generating cross-link restraint between\n",
        "CrossLinkingMassSpectrometryRestraint: residue 228 of chain Rpb2 and residue 510 of chain Rpb2\n",
        "CrossLinkingMassSpectrometryRestraint: with sigma1 SIGMA sigma2 SIGMA psi PSI\n",
        "CrossLinkingMassSpectrometryRestraint: between particles Residue_228 and Residue_510\n",
        "==========================================\n",
        "\n",
        "generating a new crosslink restraint\n",
        "--------------\n",
        "CrossLinkingMassSpectrometryRestraint: generating cross-link restraint between\n",
        "CrossLinkingMassSpectrometryRestraint: residue 246 of chain Rpb2 and residue 358 of chain Rpb2\n",
        "CrossLinkingMassSpectrometryRestraint: with sigma1 SIGMA sigma2 SIGMA psi PSI\n",
        "CrossLinkingMassSpectrometryRestraint: between particles Residue_246 and Residue_358\n",
        "==========================================\n",
        "\n",
        "generating a new crosslink restraint\n",
        "--------------\n",
        "CrossLinkingMassSpectrometryRestraint: generating cross-link restraint between\n",
        "CrossLinkingMassSpectrometryRestraint: residue 246 of chain Rpb2 and residue 426 of chain Rpb2\n",
        "CrossLinkingMassSpectrometryRestraint: with sigma1 SIGMA sigma2 SIGMA psi PSI\n",
        "CrossLinkingMassSpectrometryRestraint: between particles Residue_246 and Residue_426\n",
        "==========================================\n",
        "\n",
        "generating a new crosslink restraint\n",
        "--------------\n",
        "CrossLinkingMassSpectrometryRestraint: generating cross-link restraint between\n",
        "CrossLinkingMassSpectrometryRestraint: residue 368 of chain Rpb1 and residue 461 of chain Rpb1\n",
        "CrossLinkingMassSpectrometryRestraint: with sigma1 SIGMA sigma2 SIGMA psi PSI\n",
        "CrossLinkingMassSpectrometryRestraint: between particles Residue_368 and Residue_461\n",
        "==========================================\n",
        "\n",
        "generating a new crosslink restraint\n",
        "--------------\n",
        "CrossLinkingMassSpectrometryRestraint: generating cross-link restraint between\n",
        "CrossLinkingMassSpectrometryRestraint: residue 345 of chain Rpb2 and residue 353 of chain Rpb2\n",
        "CrossLinkingMassSpectrometryRestraint: with sigma1 SIGMA sigma2 SIGMA psi PSI\n",
        "CrossLinkingMassSpectrometryRestraint: between particles Residue_345 and Residue_353\n",
        "==========================================\n",
        "\n",
        "generating a new crosslink restraint\n",
        "--------------\n",
        "CrossLinkingMassSpectrometryRestraint: generating cross-link restraint between\n",
        "CrossLinkingMassSpectrometryRestraint: residue 358 of chain Rpb2 and residue 422 of chain Rpb2\n",
        "CrossLinkingMassSpectrometryRestraint: with sigma1 SIGMA sigma2 SIGMA psi PSI\n",
        "CrossLinkingMassSpectrometryRestraint: between particles Residue_358 and Residue_422\n",
        "==========================================\n",
        "\n",
        "generating a new crosslink restraint\n",
        "--------------\n",
        "CrossLinkingMassSpectrometryRestraint: generating cross-link restraint between\n",
        "CrossLinkingMassSpectrometryRestraint: residue 422 of chain Rpb2 and residue 426 of chain Rpb2\n",
        "CrossLinkingMassSpectrometryRestraint: with sigma1 SIGMA sigma2 SIGMA psi PSI\n",
        "CrossLinkingMassSpectrometryRestraint: between particles Residue_422 and Residue_426\n",
        "==========================================\n",
        "\n",
        "generating a new crosslink restraint\n",
        "--------------\n",
        "CrossLinkingMassSpectrometryRestraint: generating cross-link restraint between\n",
        "CrossLinkingMassSpectrometryRestraint: residue 426 of chain Rpb2 and residue 471 of chain Rpb2\n",
        "CrossLinkingMassSpectrometryRestraint: with sigma1 SIGMA sigma2 SIGMA psi PSI\n",
        "CrossLinkingMassSpectrometryRestraint: between particles Residue_426 and 468-476_bead\n",
        "==========================================\n",
        "\n",
        "generating a new crosslink restraint\n",
        "--------------\n",
        "CrossLinkingMassSpectrometryRestraint: generating cross-link restraint between\n",
        "CrossLinkingMassSpectrometryRestraint: residue 606 of chain Rpb2 and residue 652 of chain Rpb2\n",
        "CrossLinkingMassSpectrometryRestraint: with sigma1 SIGMA sigma2 SIGMA psi PSI\n",
        "CrossLinkingMassSpectrometryRestraint: between particles Residue_606 and Residue_652\n",
        "==========================================\n",
        "\n",
        "generating a new crosslink restraint\n",
        "--------------\n",
        "CrossLinkingMassSpectrometryRestraint: generating cross-link restraint between\n",
        "CrossLinkingMassSpectrometryRestraint: residue 864 of chain Rpb2 and residue 934 of chain Rpb2\n",
        "CrossLinkingMassSpectrometryRestraint: with sigma1 SIGMA sigma2 SIGMA psi PSI\n",
        "CrossLinkingMassSpectrometryRestraint: between particles Residue_864 and Residue_934\n",
        "==========================================\n",
        "\n",
        "generating a new crosslink restraint\n",
        "--------------\n",
        "CrossLinkingMassSpectrometryRestraint: generating cross-link restraint between\n",
        "CrossLinkingMassSpectrometryRestraint: residue 876 of chain Rpb2 and residue 886 of chain Rpb2\n",
        "CrossLinkingMassSpectrometryRestraint: with sigma1 SIGMA sigma2 SIGMA psi PSI\n",
        "CrossLinkingMassSpectrometryRestraint: between particles Residue_876 and Residue_886\n",
        "==========================================\n",
        "\n",
        "generating a new crosslink restraint\n",
        "--------------\n",
        "CrossLinkingMassSpectrometryRestraint: generating cross-link restraint between\n",
        "CrossLinkingMassSpectrometryRestraint: residue 934 of chain Rpb2 and residue 972 of chain Rpb2\n",
        "CrossLinkingMassSpectrometryRestraint: with sigma1 SIGMA sigma2 SIGMA psi PSI\n",
        "CrossLinkingMassSpectrometryRestraint: between particles Residue_934 and Residue_972\n",
        "==========================================\n",
        "\n",
        "generating a new crosslink restraint\n",
        "--------------\n",
        "CrossLinkingMassSpectrometryRestraint: generating cross-link restraint between\n",
        "CrossLinkingMassSpectrometryRestraint: residue 979 of chain Rpb2 and residue 987 of chain Rpb2\n",
        "CrossLinkingMassSpectrometryRestraint: with sigma1 SIGMA sigma2 SIGMA psi PSI\n",
        "CrossLinkingMassSpectrometryRestraint: between particles Residue_979 and Residue_987\n",
        "==========================================\n",
        "\n",
        "generating a new crosslink restraint"
       ]
      },
      {
       "output_type": "stream",
       "stream": "stdout",
       "text": [
        "\n",
        "--------------\n",
        "CrossLinkingMassSpectrometryRestraint: generating cross-link restraint between\n",
        "CrossLinkingMassSpectrometryRestraint: residue 979 of chain Rpb2 and residue 1102 of chain Rpb2\n",
        "CrossLinkingMassSpectrometryRestraint: with sigma1 SIGMA sigma2 SIGMA psi PSI\n",
        "CrossLinkingMassSpectrometryRestraint: between particles Residue_979 and Residue_1102\n",
        "==========================================\n",
        "\n",
        "generating a new crosslink restraint\n",
        "--------------\n",
        "CrossLinkingMassSpectrometryRestraint: generating cross-link restraint between\n",
        "CrossLinkingMassSpectrometryRestraint: residue 372 of chain Rpb1 and residue 403 of chain Rpb1\n",
        "CrossLinkingMassSpectrometryRestraint: with sigma1 SIGMA sigma2 SIGMA psi PSI\n",
        "CrossLinkingMassSpectrometryRestraint: between particles Residue_372 and Residue_403\n",
        "==========================================\n",
        "\n",
        "generating a new crosslink restraint\n",
        "--------------\n",
        "CrossLinkingMassSpectrometryRestraint: generating cross-link restraint between\n",
        "CrossLinkingMassSpectrometryRestraint: residue 15 of chain Rpb3 and residue 137 of chain Rpb3\n",
        "CrossLinkingMassSpectrometryRestraint: with sigma1 SIGMA sigma2 SIGMA psi PSI\n",
        "CrossLinkingMassSpectrometryRestraint: between particles Residue_15 and Residue_137\n",
        "==========================================\n",
        "\n",
        "generating a new crosslink restraint\n",
        "--------------\n",
        "CrossLinkingMassSpectrometryRestraint: generating cross-link restraint between\n",
        "CrossLinkingMassSpectrometryRestraint: residue 60 of chain Rpb4 and residue 71 of chain Rpb4\n",
        "CrossLinkingMassSpectrometryRestraint: with sigma1 SIGMA sigma2 SIGMA psi PSI\n",
        "CrossLinkingMassSpectrometryRestraint: between particles Residue_60 and Residue_71\n",
        "==========================================\n",
        "\n",
        "generating a new crosslink restraint\n",
        "--------------\n",
        "CrossLinkingMassSpectrometryRestraint: generating cross-link restraint between\n",
        "CrossLinkingMassSpectrometryRestraint: residue 60 of chain Rpb4 and residue 121 of chain Rpb4\n",
        "CrossLinkingMassSpectrometryRestraint: with sigma1 SIGMA sigma2 SIGMA psi PSI\n",
        "CrossLinkingMassSpectrometryRestraint: between particles Residue_60 and Residue_121\n",
        "==========================================\n",
        "\n",
        "generating a new crosslink restraint\n",
        "--------------\n",
        "CrossLinkingMassSpectrometryRestraint: generating cross-link restraint between\n",
        "CrossLinkingMassSpectrometryRestraint: residue 60 of chain Rpb4 and residue 142 of chain Rpb4\n",
        "CrossLinkingMassSpectrometryRestraint: with sigma1 SIGMA sigma2 SIGMA psi PSI\n",
        "CrossLinkingMassSpectrometryRestraint: between particles Residue_60 and Residue_142\n",
        "==========================================\n",
        "\n",
        "generating a new crosslink restraint\n",
        "--------------\n",
        "CrossLinkingMassSpectrometryRestraint: generating cross-link restraint between\n",
        "CrossLinkingMassSpectrometryRestraint: residue 20 of chain Rpb5 and residue 45 of chain Rpb5\n",
        "CrossLinkingMassSpectrometryRestraint: with sigma1 SIGMA sigma2 SIGMA psi PSI\n",
        "CrossLinkingMassSpectrometryRestraint: between particles Residue_20 and Residue_45\n",
        "==========================================\n",
        "\n",
        "generating a new crosslink restraint\n",
        "--------------\n",
        "CrossLinkingMassSpectrometryRestraint: generating cross-link restraint between\n",
        "CrossLinkingMassSpectrometryRestraint: residue 161 of chain Rpb5 and residue 171 of chain Rpb5\n",
        "CrossLinkingMassSpectrometryRestraint: with sigma1 SIGMA sigma2 SIGMA psi PSI\n",
        "CrossLinkingMassSpectrometryRestraint: between particles Residue_161 and Residue_171\n",
        "==========================================\n",
        "\n",
        "generating a new crosslink restraint\n",
        "--------------\n",
        "CrossLinkingMassSpectrometryRestraint: generating cross-link restraint between\n",
        "CrossLinkingMassSpectrometryRestraint: residue 161 of chain Rpb5 and residue 191 of chain Rpb5\n",
        "CrossLinkingMassSpectrometryRestraint: with sigma1 SIGMA sigma2 SIGMA psi PSI\n",
        "CrossLinkingMassSpectrometryRestraint: between particles Residue_161 and Residue_191\n",
        "==========================================\n",
        "\n",
        "generating a new crosslink restraint\n",
        "--------------\n",
        "CrossLinkingMassSpectrometryRestraint: generating cross-link restraint between\n",
        "CrossLinkingMassSpectrometryRestraint: residue 166 of chain Rpb5 and residue 171 of chain Rpb5\n",
        "CrossLinkingMassSpectrometryRestraint: with sigma1 SIGMA sigma2 SIGMA psi PSI\n",
        "CrossLinkingMassSpectrometryRestraint: between particles Residue_166 and Residue_171\n",
        "==========================================\n",
        "\n",
        "generating a new crosslink restraint\n",
        "--------------\n",
        "CrossLinkingMassSpectrometryRestraint: generating cross-link restraint between\n",
        "CrossLinkingMassSpectrometryRestraint: residue 191 of chain Rpb5 and residue 197 of chain Rpb5\n",
        "CrossLinkingMassSpectrometryRestraint: with sigma1 SIGMA sigma2 SIGMA psi PSI\n",
        "CrossLinkingMassSpectrometryRestraint: between particles Residue_191 and Residue_197\n",
        "==========================================\n",
        "\n",
        "generating a new crosslink restraint\n",
        "--------------\n",
        "CrossLinkingMassSpectrometryRestraint: generating cross-link restraint between\n",
        "CrossLinkingMassSpectrometryRestraint: residue 123 of chain Rpb6 and residue 129 of chain Rpb6\n",
        "CrossLinkingMassSpectrometryRestraint: with sigma1 SIGMA sigma2 SIGMA psi PSI\n",
        "CrossLinkingMassSpectrometryRestraint: between particles Residue_123 and Residue_129\n",
        "==========================================\n",
        "\n",
        "generating a new crosslink restraint\n",
        "--------------\n",
        "CrossLinkingMassSpectrometryRestraint: generating cross-link restraint between\n",
        "CrossLinkingMassSpectrometryRestraint: residue 461 of chain Rpb1 and residue 637 of chain Rpb1\n",
        "CrossLinkingMassSpectrometryRestraint: with sigma1 SIGMA sigma2 SIGMA psi PSI\n",
        "CrossLinkingMassSpectrometryRestraint: between particles Residue_461 and Residue_637\n",
        "==========================================\n",
        "\n",
        "generating a new crosslink restraint\n",
        "--------------\n",
        "CrossLinkingMassSpectrometryRestraint: generating cross-link restraint between\n",
        "CrossLinkingMassSpectrometryRestraint: residue 20 of chain Rpb11 and residue 37 of chain Rpb11\n",
        "CrossLinkingMassSpectrometryRestraint: with sigma1 SIGMA sigma2 SIGMA psi PSI\n",
        "CrossLinkingMassSpectrometryRestraint: between particles Residue_20 and Residue_37\n",
        "==========================================\n",
        "\n",
        "generating a new crosslink restraint\n",
        "--------------\n",
        "CrossLinkingMassSpectrometryRestraint: generating cross-link restraint between\n",
        "CrossLinkingMassSpectrometryRestraint: residue 55 of chain Rpb11 and residue 84 of chain Rpb11\n",
        "CrossLinkingMassSpectrometryRestraint: with sigma1 SIGMA sigma2 SIGMA psi PSI\n",
        "CrossLinkingMassSpectrometryRestraint: between particles Residue_55 and Residue_84\n",
        "==========================================\n",
        "\n",
        "generating a new crosslink restraint\n",
        "--------------\n",
        "CrossLinkingMassSpectrometryRestraint: generating cross-link restraint between\n",
        "CrossLinkingMassSpectrometryRestraint: residue 55 of chain Rpb11 and residue 88 of chain Rpb11\n",
        "CrossLinkingMassSpectrometryRestraint: with sigma1 SIGMA sigma2 SIGMA psi PSI\n",
        "CrossLinkingMassSpectrometryRestraint: between particles Residue_55 and Residue_88\n",
        "==========================================\n",
        "\n",
        "generating a new crosslink restraint\n",
        "--------------\n",
        "CrossLinkingMassSpectrometryRestraint: generating cross-link restraint between\n",
        "CrossLinkingMassSpectrometryRestraint: residue 28 of chain Rpb12 and residue 49 of chain Rpb12\n",
        "CrossLinkingMassSpectrometryRestraint: with sigma1 SIGMA sigma2 SIGMA psi PSI\n",
        "CrossLinkingMassSpectrometryRestraint: between particles Residue_28 and Residue_49\n",
        "==========================================\n",
        "\n",
        "generating a new crosslink restraint\n",
        "--------------\n",
        "CrossLinkingMassSpectrometryRestraint: generating cross-link restraint between\n",
        "CrossLinkingMassSpectrometryRestraint: residue 330 of chain Rpb1 and residue 507 of chain Rpb2\n",
        "CrossLinkingMassSpectrometryRestraint: with sigma1 SIGMA sigma2 SIGMA psi PSI\n",
        "CrossLinkingMassSpectrometryRestraint: between particles Residue_330 and 503-508_bead\n",
        "==========================================\n",
        "\n",
        "generating a new crosslink restraint\n",
        "--------------\n",
        "CrossLinkingMassSpectrometryRestraint: generating cross-link restraint between\n",
        "CrossLinkingMassSpectrometryRestraint: residue 332 of chain Rpb1 and residue 507 of chain Rpb2\n",
        "CrossLinkingMassSpectrometryRestraint: with sigma1 SIGMA sigma2 SIGMA psi PSI\n",
        "CrossLinkingMassSpectrometryRestraint: between particles Residue_332 and 503-508_bead\n",
        "==========================================\n",
        "\n",
        "generating a new crosslink restraint\n",
        "--------------\n",
        "CrossLinkingMassSpectrometryRestraint: generating cross-link restraint between\n",
        "CrossLinkingMassSpectrometryRestraint: residue 343 of chain Rpb1 and residue 864 of chain Rpb2\n",
        "CrossLinkingMassSpectrometryRestraint: with sigma1 SIGMA sigma2 SIGMA psi PSI\n",
        "CrossLinkingMassSpectrometryRestraint: between particles Residue_343 and Residue_864\n",
        "==========================================\n",
        "\n",
        "generating a new crosslink restraint\n",
        "--------------\n",
        "CrossLinkingMassSpectrometryRestraint: generating cross-link restraint between\n",
        "CrossLinkingMassSpectrometryRestraint: residue 343 of chain Rpb1 and residue 886 of chain Rpb2\n",
        "CrossLinkingMassSpectrometryRestraint: with sigma1 SIGMA sigma2 SIGMA psi PSI\n",
        "CrossLinkingMassSpectrometryRestraint: between particles Residue_343 and Residue_886\n",
        "==========================================\n",
        "\n",
        "generating a new crosslink restraint\n",
        "--------------\n",
        "CrossLinkingMassSpectrometryRestraint: generating cross-link restraint between\n",
        "CrossLinkingMassSpectrometryRestraint: residue 372 of chain Rpb1 and residue 886 of chain Rpb2\n",
        "CrossLinkingMassSpectrometryRestraint: with sigma1 SIGMA sigma2 SIGMA psi PSI\n",
        "CrossLinkingMassSpectrometryRestraint: between particles Residue_372 and Residue_886\n",
        "==========================================\n",
        "\n",
        "generating a new crosslink restraint"
       ]
      },
      {
       "output_type": "stream",
       "stream": "stdout",
       "text": [
        "\n",
        "--------------\n",
        "CrossLinkingMassSpectrometryRestraint: generating cross-link restraint between\n",
        "CrossLinkingMassSpectrometryRestraint: residue 1093 of chain Rpb1 and residue 507 of chain Rpb2\n",
        "CrossLinkingMassSpectrometryRestraint: with sigma1 SIGMA sigma2 SIGMA psi PSI\n",
        "CrossLinkingMassSpectrometryRestraint: between particles Residue_1093 and 503-508_bead\n",
        "==========================================\n",
        "\n",
        "generating a new crosslink restraint\n",
        "--------------\n",
        "CrossLinkingMassSpectrometryRestraint: generating cross-link restraint between\n",
        "CrossLinkingMassSpectrometryRestraint: residue 461 of chain Rpb1 and residue 644 of chain Rpb1\n",
        "CrossLinkingMassSpectrometryRestraint: with sigma1 SIGMA sigma2 SIGMA psi PSI\n",
        "CrossLinkingMassSpectrometryRestraint: between particles Residue_461 and Residue_644\n",
        "==========================================\n",
        "\n",
        "generating a new crosslink restraint\n",
        "--------------\n",
        "CrossLinkingMassSpectrometryRestraint: generating cross-link restraint between\n",
        "CrossLinkingMassSpectrometryRestraint: residue 1102 of chain Rpb1 and residue 507 of chain Rpb2\n",
        "CrossLinkingMassSpectrometryRestraint: with sigma1 SIGMA sigma2 SIGMA psi PSI\n",
        "CrossLinkingMassSpectrometryRestraint: between particles Residue_1102 and 503-508_bead\n",
        "==========================================\n",
        "\n",
        "generating a new crosslink restraint\n",
        "--------------\n",
        "CrossLinkingMassSpectrometryRestraint: generating cross-link restraint between\n",
        "CrossLinkingMassSpectrometryRestraint: residue 1112 of chain Rpb1 and residue 507 of chain Rpb2\n",
        "CrossLinkingMassSpectrometryRestraint: with sigma1 SIGMA sigma2 SIGMA psi PSI\n",
        "CrossLinkingMassSpectrometryRestraint: between particles Residue_1112 and 503-508_bead\n",
        "==========================================\n",
        "\n",
        "generating a new crosslink restraint\n",
        "--------------\n",
        "CrossLinkingMassSpectrometryRestraint: generating cross-link restraint between\n",
        "CrossLinkingMassSpectrometryRestraint: residue 15 of chain Rpb1 and residue 1 of chain Rpb4\n",
        "CrossLinkingMassSpectrometryRestraint: with sigma1 SIGMA sigma2 SIGMA psi PSI\n",
        "CrossLinkingMassSpectrometryRestraint: between particles Residue_15 and Residue_1\n",
        "==========================================\n",
        "\n",
        "generating a new crosslink restraint\n",
        "--------------\n",
        "CrossLinkingMassSpectrometryRestraint: generating cross-link restraint between\n",
        "CrossLinkingMassSpectrometryRestraint: residue 129 of chain Rpb1 and residue 1 of chain Rpb4\n",
        "CrossLinkingMassSpectrometryRestraint: with sigma1 SIGMA sigma2 SIGMA psi PSI\n",
        "CrossLinkingMassSpectrometryRestraint: between particles Residue_129 and Residue_1\n",
        "==========================================\n",
        "\n",
        "generating a new crosslink restraint\n",
        "--------------\n",
        "CrossLinkingMassSpectrometryRestraint: generating cross-link restraint between\n",
        "CrossLinkingMassSpectrometryRestraint: residue 1003 of chain Rpb1 and residue 1 of chain Rpb4\n",
        "CrossLinkingMassSpectrometryRestraint: with sigma1 SIGMA sigma2 SIGMA psi PSI\n",
        "CrossLinkingMassSpectrometryRestraint: between particles Residue_1003 and Residue_1\n",
        "==========================================\n",
        "\n",
        "generating a new crosslink restraint\n",
        "--------------\n",
        "CrossLinkingMassSpectrometryRestraint: generating cross-link restraint between\n",
        "CrossLinkingMassSpectrometryRestraint: residue 15 of chain Rpb1 and residue 171 of chain Rpb5\n",
        "CrossLinkingMassSpectrometryRestraint: with sigma1 SIGMA sigma2 SIGMA psi PSI\n",
        "CrossLinkingMassSpectrometryRestraint: between particles Residue_15 and Residue_171\n",
        "==========================================\n",
        "\n",
        "generating a new crosslink restraint\n",
        "--------------\n",
        "CrossLinkingMassSpectrometryRestraint: generating cross-link restraint between\n",
        "CrossLinkingMassSpectrometryRestraint: residue 129 of chain Rpb1 and residue 161 of chain Rpb5\n",
        "CrossLinkingMassSpectrometryRestraint: with sigma1 SIGMA sigma2 SIGMA psi PSI\n",
        "CrossLinkingMassSpectrometryRestraint: between particles Residue_129 and Residue_161\n",
        "==========================================\n",
        "\n",
        "generating a new crosslink restraint\n",
        "--------------\n",
        "CrossLinkingMassSpectrometryRestraint: generating cross-link restraint between\n",
        "CrossLinkingMassSpectrometryRestraint: residue 129 of chain Rpb1 and residue 171 of chain Rpb5\n",
        "CrossLinkingMassSpectrometryRestraint: with sigma1 SIGMA sigma2 SIGMA psi PSI\n",
        "CrossLinkingMassSpectrometryRestraint: between particles Residue_129 and Residue_171\n",
        "==========================================\n",
        "\n",
        "generating a new crosslink restraint\n",
        "--------------\n",
        "CrossLinkingMassSpectrometryRestraint: generating cross-link restraint between\n",
        "CrossLinkingMassSpectrometryRestraint: residue 934 of chain Rpb1 and residue 201 of chain Rpb5\n",
        "CrossLinkingMassSpectrometryRestraint: with sigma1 SIGMA sigma2 SIGMA psi PSI\n",
        "CrossLinkingMassSpectrometryRestraint: between particles Residue_934 and Residue_201\n",
        "==========================================\n",
        "\n",
        "generating a new crosslink restraint"
       ]
      },
      {
       "output_type": "stream",
       "stream": "stdout",
       "text": [
        "\n",
        "--------------\n",
        "CrossLinkingMassSpectrometryRestraint: generating cross-link restraint between\n",
        "CrossLinkingMassSpectrometryRestraint: residue 938 of chain Rpb1 and residue 201 of chain Rpb5\n",
        "CrossLinkingMassSpectrometryRestraint: with sigma1 SIGMA sigma2 SIGMA psi PSI\n",
        "CrossLinkingMassSpectrometryRestraint: between particles Residue_938 and Residue_201\n",
        "==========================================\n",
        "\n",
        "generating a new crosslink restraint\n",
        "--------------\n",
        "CrossLinkingMassSpectrometryRestraint: generating cross-link restraint between\n",
        "CrossLinkingMassSpectrometryRestraint: residue 688 of chain Rpb1 and residue 728 of chain Rpb1\n",
        "CrossLinkingMassSpectrometryRestraint: with sigma1 SIGMA sigma2 SIGMA psi PSI\n",
        "CrossLinkingMassSpectrometryRestraint: between particles Residue_688 and Residue_728\n",
        "==========================================\n",
        "\n",
        "generating a new crosslink restraint\n",
        "--------------\n",
        "CrossLinkingMassSpectrometryRestraint: generating cross-link restraint between\n",
        "CrossLinkingMassSpectrometryRestraint: residue 1003 of chain Rpb1 and residue 166 of chain Rpb5\n",
        "CrossLinkingMassSpectrometryRestraint: with sigma1 SIGMA sigma2 SIGMA psi PSI\n",
        "CrossLinkingMassSpectrometryRestraint: between particles Residue_1003 and Residue_166\n",
        "==========================================\n",
        "\n",
        "generating a new crosslink restraint\n",
        "--------------\n",
        "CrossLinkingMassSpectrometryRestraint: generating cross-link restraint between\n",
        "CrossLinkingMassSpectrometryRestraint: residue 129 of chain Rpb1 and residue 67 of chain Rpb6\n",
        "CrossLinkingMassSpectrometryRestraint: with sigma1 SIGMA sigma2 SIGMA psi PSI\n",
        "CrossLinkingMassSpectrometryRestraint: between particles Residue_129 and 61-71_bead\n",
        "==========================================\n",
        "\n",
        "generating a new crosslink restraint\n",
        "--------------\n",
        "CrossLinkingMassSpectrometryRestraint: generating cross-link restraint between\n",
        "CrossLinkingMassSpectrometryRestraint: residue 1003 of chain Rpb1 and residue 76 of chain Rpb6\n",
        "CrossLinkingMassSpectrometryRestraint: with sigma1 SIGMA sigma2 SIGMA psi PSI\n",
        "CrossLinkingMassSpectrometryRestraint: between particles Residue_1003 and Residue_76\n",
        "==========================================\n",
        "\n",
        "generating a new crosslink restraint\n",
        "--------------\n",
        "CrossLinkingMassSpectrometryRestraint: generating cross-link restraint between\n",
        "CrossLinkingMassSpectrometryRestraint: residue 15 of chain Rpb1 and residue 73 of chain Rpb7\n",
        "CrossLinkingMassSpectrometryRestraint: with sigma1 SIGMA sigma2 SIGMA psi PSI\n",
        "CrossLinkingMassSpectrometryRestraint: between particles Residue_15 and Residue_73\n",
        "==========================================\n",
        "\n",
        "generating a new crosslink restraint\n",
        "--------------\n",
        "CrossLinkingMassSpectrometryRestraint: generating cross-link restraint between\n",
        "CrossLinkingMassSpectrometryRestraint: residue 1246 of chain Rpb1 and residue 20 of chain Rpb9\n",
        "CrossLinkingMassSpectrometryRestraint: with sigma1 SIGMA sigma2 SIGMA psi PSI\n",
        "CrossLinkingMassSpectrometryRestraint: between particles 1244-1253_bead and Residue_20\n",
        "==========================================\n",
        "\n",
        "generating a new crosslink restraint\n",
        "--------------\n",
        "CrossLinkingMassSpectrometryRestraint: generating cross-link restraint between\n",
        "CrossLinkingMassSpectrometryRestraint: residue 637 of chain Rpb1 and residue 20 of chain Rpb11\n",
        "CrossLinkingMassSpectrometryRestraint: with sigma1 SIGMA sigma2 SIGMA psi PSI\n",
        "CrossLinkingMassSpectrometryRestraint: between particles Residue_637 and Residue_20\n",
        "==========================================\n",
        "\n",
        "generating a new crosslink restraint\n",
        "--------------\n",
        "CrossLinkingMassSpectrometryRestraint: generating cross-link restraint between\n",
        "CrossLinkingMassSpectrometryRestraint: residue 637 of chain Rpb1 and residue 26 of chain Rpb11\n",
        "CrossLinkingMassSpectrometryRestraint: with sigma1 SIGMA sigma2 SIGMA psi PSI\n",
        "CrossLinkingMassSpectrometryRestraint: between particles Residue_637 and Residue_26\n",
        "==========================================\n",
        "\n",
        "generating a new crosslink restraint\n",
        "--------------\n",
        "CrossLinkingMassSpectrometryRestraint: generating cross-link restraint between\n",
        "CrossLinkingMassSpectrometryRestraint: residue 644 of chain Rpb1 and residue 20 of chain Rpb11\n",
        "CrossLinkingMassSpectrometryRestraint: with sigma1 SIGMA sigma2 SIGMA psi PSI\n",
        "CrossLinkingMassSpectrometryRestraint: between particles Residue_644 and Residue_20\n",
        "==========================================\n",
        "\n",
        "generating a new crosslink restraint\n",
        "--------------\n",
        "CrossLinkingMassSpectrometryRestraint: generating cross-link restraint between\n",
        "CrossLinkingMassSpectrometryRestraint: residue 644 of chain Rpb1 and residue 26 of chain Rpb11\n",
        "CrossLinkingMassSpectrometryRestraint: with sigma1 SIGMA sigma2 SIGMA psi PSI\n",
        "CrossLinkingMassSpectrometryRestraint: between particles Residue_644 and Residue_26\n",
        "==========================================\n",
        "\n",
        "generating a new crosslink restraint"
       ]
      },
      {
       "output_type": "stream",
       "stream": "stdout",
       "text": [
        "\n",
        "--------------\n",
        "CrossLinkingMassSpectrometryRestraint: generating cross-link restraint between\n",
        "CrossLinkingMassSpectrometryRestraint: residue 191 of chain Rpb2 and residue 149 of chain Rpb3\n",
        "CrossLinkingMassSpectrometryRestraint: with sigma1 SIGMA sigma2 SIGMA psi PSI\n",
        "CrossLinkingMassSpectrometryRestraint: between particles Residue_191 and Residue_149\n",
        "==========================================\n",
        "\n",
        "generating a new crosslink restraint\n",
        "--------------\n",
        "CrossLinkingMassSpectrometryRestraint: generating cross-link restraint between\n",
        "CrossLinkingMassSpectrometryRestraint: residue 689 of chain Rpb1 and residue 705 of chain Rpb1\n",
        "CrossLinkingMassSpectrometryRestraint: with sigma1 SIGMA sigma2 SIGMA psi PSI\n",
        "CrossLinkingMassSpectrometryRestraint: between particles Residue_689 and Residue_705\n",
        "==========================================\n",
        "\n",
        "generating a new crosslink restraint\n",
        "--------------\n",
        "CrossLinkingMassSpectrometryRestraint: generating cross-link restraint between\n",
        "CrossLinkingMassSpectrometryRestraint: residue 1057 of chain Rpb2 and residue 199 of chain Rpb3\n",
        "CrossLinkingMassSpectrometryRestraint: with sigma1 SIGMA sigma2 SIGMA psi PSI\n",
        "CrossLinkingMassSpectrometryRestraint: between particles Residue_1057 and Residue_199\n",
        "==========================================\n",
        "\n",
        "generating a new crosslink restraint\n",
        "--------------\n",
        "CrossLinkingMassSpectrometryRestraint: generating cross-link restraint between\n",
        "CrossLinkingMassSpectrometryRestraint: residue 1188 of chain Rpb2 and residue 1 of chain Rpb4\n",
        "CrossLinkingMassSpectrometryRestraint: with sigma1 SIGMA sigma2 SIGMA psi PSI\n",
        "CrossLinkingMassSpectrometryRestraint: between particles Residue_1188 and Residue_1\n",
        "==========================================\n",
        "\n",
        "generating a new crosslink restraint\n",
        "--------------\n",
        "CrossLinkingMassSpectrometryRestraint: generating cross-link restraint between\n",
        "CrossLinkingMassSpectrometryRestraint: residue 177 of chain Rpb2 and residue 68 of chain Rpb10\n",
        "CrossLinkingMassSpectrometryRestraint: with sigma1 SIGMA sigma2 SIGMA psi PSI\n",
        "CrossLinkingMassSpectrometryRestraint: between particles Residue_177 and 66-70_bead\n",
        "==========================================\n",
        "\n",
        "generating a new crosslink restraint\n",
        "--------------\n",
        "CrossLinkingMassSpectrometryRestraint: generating cross-link restraint between\n",
        "CrossLinkingMassSpectrometryRestraint: residue 191 of chain Rpb2 and residue 68 of chain Rpb10\n",
        "CrossLinkingMassSpectrometryRestraint: with sigma1 SIGMA sigma2 SIGMA psi PSI\n",
        "CrossLinkingMassSpectrometryRestraint: between particles Residue_191 and 66-70_bead\n",
        "==========================================\n",
        "\n",
        "generating a new crosslink restraint\n",
        "--------------\n",
        "CrossLinkingMassSpectrometryRestraint: generating cross-link restraint between\n",
        "CrossLinkingMassSpectrometryRestraint: residue 813 of chain Rpb2 and residue 59 of chain Rpb10\n",
        "CrossLinkingMassSpectrometryRestraint: with sigma1 SIGMA sigma2 SIGMA psi PSI\n",
        "CrossLinkingMassSpectrometryRestraint: between particles Residue_813 and Residue_59\n",
        "==========================================\n",
        "\n",
        "generating a new crosslink restraint\n",
        "--------------\n",
        "CrossLinkingMassSpectrometryRestraint: generating cross-link restraint between\n",
        "CrossLinkingMassSpectrometryRestraint: residue 149 of chain Rpb3 and residue 68 of chain Rpb10\n",
        "CrossLinkingMassSpectrometryRestraint: with sigma1 SIGMA sigma2 SIGMA psi PSI\n",
        "CrossLinkingMassSpectrometryRestraint: between particles Residue_149 and 66-70_bead\n",
        "==========================================\n",
        "\n",
        "generating a new crosslink restraint\n",
        "--------------\n",
        "CrossLinkingMassSpectrometryRestraint: generating cross-link restraint between\n",
        "CrossLinkingMassSpectrometryRestraint: residue 154 of chain Rpb3 and residue 68 of chain Rpb10\n",
        "CrossLinkingMassSpectrometryRestraint: with sigma1 SIGMA sigma2 SIGMA psi PSI\n",
        "CrossLinkingMassSpectrometryRestraint: between particles Residue_154 and 66-70_bead\n",
        "==========================================\n",
        "\n",
        "generating a new crosslink restraint\n",
        "--------------\n",
        "CrossLinkingMassSpectrometryRestraint: generating cross-link restraint between\n",
        "CrossLinkingMassSpectrometryRestraint: residue 160 of chain Rpb3 and residue 37 of chain Rpb11\n",
        "CrossLinkingMassSpectrometryRestraint: with sigma1 SIGMA sigma2 SIGMA psi PSI\n",
        "CrossLinkingMassSpectrometryRestraint: between particles Residue_160 and Residue_37\n",
        "==========================================\n",
        "\n",
        "generating a new crosslink restraint\n",
        "--------------\n",
        "CrossLinkingMassSpectrometryRestraint: generating cross-link restraint between\n",
        "CrossLinkingMassSpectrometryRestraint: residue 154 of chain Rpb3 and residue 62 of chain Rpb12\n",
        "CrossLinkingMassSpectrometryRestraint: with sigma1 SIGMA sigma2 SIGMA psi PSI\n",
        "CrossLinkingMassSpectrometryRestraint: between particles Residue_154 and Residue_62\n",
        "==========================================\n",
        "\n",
        "generating a new crosslink restraint\n",
        "--------------\n",
        "CrossLinkingMassSpectrometryRestraint: generating cross-link restraint between\n",
        "CrossLinkingMassSpectrometryRestraint: residue 1 of chain Rpb4 and residue 171 of chain Rpb5\n",
        "CrossLinkingMassSpectrometryRestraint: with sigma1 SIGMA sigma2 SIGMA psi PSI\n",
        "CrossLinkingMassSpectrometryRestraint: between particles Residue_1 and Residue_171\n",
        "==========================================\n",
        "\n"
       ]
      }
     ],
     "prompt_number": 15
    },
    {
     "cell_type": "markdown",
     "metadata": {},
     "source": [
      "#### Crosslinks - dataset 2 <a name=\"Crosslink_2_4\"></a>\n",
      "\n",
      "We can easily add a second set of crosslinks.\n",
      "These have a different format and label, but other settings are the same"
     ]
    },
    {
     "cell_type": "code",
     "collapsed": false,
     "input": [
      "xldbkwc = IMP.pmi.io.crosslink.CrossLinkDataBaseKeywordsConverter()\n",
      "xldbkwc.set_protein1_key(\"pep1.accession\")\n",
      "xldbkwc.set_protein2_key(\"pep2.accession\")\n",
      "xldbkwc.set_residue1_key(\"pep1.xlinked_aa\")\n",
      "xldbkwc.set_residue2_key(\"pep2.xlinked_aa\")\n",
      "\n",
      "xl2 = IMP.pmi.io.crosslink.CrossLinkDataBase(xldbkwc)\n",
      "xl2.create_set_from_file(datadirectory+'polii_xlinks.csv')\n",
      "\n",
      "xl2rest = IMP.pmi.restraints.crosslinking.CrossLinkingMassSpectrometryRestraint(\n",
      "                                   root_hier=root_hier,\n",
      "                                   CrossLinkDataBase=xl2,\n",
      "                                   length=21.0,\n",
      "                                   slope=0.01,\n",
      "                                   resolution=1.0,\n",
      "                                   label=\"Trnka\",\n",
      "                                   weight=1.)\n",
      "\n",
      "xl2rest.add_to_model()          \n",
      "outputobjects.append(xl2rest)"
     ],
     "language": "python",
     "metadata": {},
     "outputs": [
      {
       "output_type": "stream",
       "stream": "stdout",
       "text": [
        "gathering copies\n",
        "defaultdict(<type 'int'>, {'Rpb4': 0, 'Rpb5': 0, 'Rpb6': 0, 'Rpb7': 0, 'Rpb1': 0, 'Rpb2': 0, 'Rpb3': 0, 'Rpb12': 0, 'Rpb10': 0, 'Rpb11': 0})\n",
        "done pmi2 prelims\n",
        "generating a new crosslink restraint\n",
        "--------------\n",
        "CrossLinkingMassSpectrometryRestraint: generating cross-link restraint between\n",
        "CrossLinkingMassSpectrometryRestraint: residue 880 of chain Rpb1 and residue 620 of chain Rpb1\n",
        "CrossLinkingMassSpectrometryRestraint: with sigma1 SIGMA sigma2 SIGMA psi PSI\n",
        "CrossLinkingMassSpectrometryRestraint: between particles Residue_880 and Residue_620\n",
        "==========================================\n",
        "\n",
        "generating a new crosslink restraint\n",
        "--------------\n",
        "CrossLinkingMassSpectrometryRestraint: generating cross-link restraint between\n",
        "CrossLinkingMassSpectrometryRestraint: residue 228 of chain Rpb2 and residue 257 of chain Rpb2\n",
        "CrossLinkingMassSpectrometryRestraint: with sigma1 SIGMA sigma2 SIGMA psi PSI\n",
        "CrossLinkingMassSpectrometryRestraint: between particles Residue_228 and Residue_257\n",
        "==========================================\n",
        "\n",
        "generating a new crosslink restraint\n",
        "--------------\n",
        "CrossLinkingMassSpectrometryRestraint: generating cross-link restraint between\n",
        "CrossLinkingMassSpectrometryRestraint: residue 228 of chain Rpb2 and residue 277 of chain Rpb2\n",
        "CrossLinkingMassSpectrometryRestraint: with sigma1 SIGMA sigma2 SIGMA psi PSI\n",
        "CrossLinkingMassSpectrometryRestraint: between particles Residue_228 and Residue_277\n",
        "==========================================\n",
        "\n",
        "generating a new crosslink restraint\n",
        "--------------\n",
        "CrossLinkingMassSpectrometryRestraint: generating cross-link restraint between\n",
        "CrossLinkingMassSpectrometryRestraint: residue 470 of chain Rpb2 and residue 423 of chain Rpb2\n",
        "CrossLinkingMassSpectrometryRestraint: with sigma1 SIGMA sigma2 SIGMA psi PSI\n",
        "CrossLinkingMassSpectrometryRestraint: between particles 468-476_bead and Residue_423\n",
        "==========================================\n",
        "\n",
        "generating a new crosslink restraint\n",
        "--------------\n",
        "CrossLinkingMassSpectrometryRestraint: generating cross-link restraint between\n",
        "CrossLinkingMassSpectrometryRestraint: residue 343 of chain Rpb1 and residue 1102 of chain Rpb2\n",
        "CrossLinkingMassSpectrometryRestraint: with sigma1 SIGMA sigma2 SIGMA psi PSI\n",
        "CrossLinkingMassSpectrometryRestraint: between particles Residue_343 and Residue_1102\n",
        "==========================================\n",
        "\n",
        "generating a new crosslink restraint\n",
        "--------------\n",
        "CrossLinkingMassSpectrometryRestraint: generating cross-link restraint between\n",
        "CrossLinkingMassSpectrometryRestraint: residue 76 of chain Rpb6 and residue 23 of chain Rpb7\n",
        "CrossLinkingMassSpectrometryRestraint: with sigma1 SIGMA sigma2 SIGMA psi PSI\n",
        "CrossLinkingMassSpectrometryRestraint: between particles Residue_76 and Residue_23\n",
        "==========================================\n",
        "\n",
        "generating a new crosslink restraint\n",
        "--------------\n",
        "CrossLinkingMassSpectrometryRestraint: generating cross-link restraint between\n",
        "CrossLinkingMassSpectrometryRestraint: residue 1 of chain Rpb1 and residue 343 of chain Rpb1\n",
        "CrossLinkingMassSpectrometryRestraint: with sigma1 SIGMA sigma2 SIGMA psi PSI\n",
        "CrossLinkingMassSpectrometryRestraint: between particles 1_bead and Residue_343\n",
        "==========================================\n",
        "\n",
        "generating a new crosslink restraint\n",
        "--------------\n",
        "CrossLinkingMassSpectrometryRestraint: generating cross-link restraint between\n",
        "CrossLinkingMassSpectrometryRestraint: residue 343 of chain Rpb1 and residue 330 of chain Rpb1\n",
        "CrossLinkingMassSpectrometryRestraint: with sigma1 SIGMA sigma2 SIGMA psi PSI\n",
        "CrossLinkingMassSpectrometryRestraint: between particles Residue_343 and Residue_330\n",
        "==========================================\n",
        "\n",
        "generating a new crosslink restraint\n",
        "--------------\n",
        "CrossLinkingMassSpectrometryRestraint: generating cross-link restraint between\n",
        "CrossLinkingMassSpectrometryRestraint: residue 152 of chain Rpb5 and residue 201 of chain Rpb5\n",
        "CrossLinkingMassSpectrometryRestraint: with sigma1 SIGMA sigma2 SIGMA psi PSI\n",
        "CrossLinkingMassSpectrometryRestraint: between particles Residue_152 and Residue_201\n",
        "==========================================\n",
        "\n",
        "generating a new crosslink restraint\n",
        "--------------\n",
        "CrossLinkingMassSpectrometryRestraint: generating cross-link restraint between\n",
        "CrossLinkingMassSpectrometryRestraint: residue 246 of chain Rpb2 and residue 471 of chain Rpb2\n",
        "CrossLinkingMassSpectrometryRestraint: with sigma1 SIGMA sigma2 SIGMA psi PSI\n",
        "CrossLinkingMassSpectrometryRestraint: between particles Residue_246 and 468-476_bead\n",
        "==========================================\n",
        "\n",
        "generating a new crosslink restraint\n",
        "--------------\n",
        "CrossLinkingMassSpectrometryRestraint: generating cross-link restraint between\n",
        "CrossLinkingMassSpectrometryRestraint: residue 15 of chain Rpb1 and residue 176 of chain Rpb1\n",
        "CrossLinkingMassSpectrometryRestraint: with sigma1 SIGMA sigma2 SIGMA psi PSI\n",
        "CrossLinkingMassSpectrometryRestraint: between particles Residue_15 and Residue_176\n",
        "==========================================\n",
        "\n",
        "generating a new crosslink restraint\n",
        "--------------\n",
        "CrossLinkingMassSpectrometryRestraint: generating cross-link restraint between\n",
        "CrossLinkingMassSpectrometryRestraint: residue 23 of chain Rpb7 and residue 70 of chain Rpb6\n",
        "CrossLinkingMassSpectrometryRestraint: with sigma1 SIGMA sigma2 SIGMA psi PSI\n",
        "CrossLinkingMassSpectrometryRestraint: between particles Residue_23 and 61-71_bead\n",
        "==========================================\n",
        "\n",
        "generating a new crosslink restraint\n",
        "--------------\n",
        "CrossLinkingMassSpectrometryRestraint: generating cross-link restraint between\n",
        "CrossLinkingMassSpectrometryRestraint: residue 246 of chain Rpb2 and residue 507 of chain Rpb2\n",
        "CrossLinkingMassSpectrometryRestraint: with sigma1 SIGMA sigma2 SIGMA psi PSI\n",
        "CrossLinkingMassSpectrometryRestraint: between particles Residue_246 and 503-508_bead\n",
        "==========================================\n",
        "\n",
        "generating a new crosslink restraint"
       ]
      },
      {
       "output_type": "stream",
       "stream": "stdout",
       "text": [
        "\n",
        "--------------\n",
        "CrossLinkingMassSpectrometryRestraint: generating cross-link restraint between\n",
        "CrossLinkingMassSpectrometryRestraint: residue 368 of chain Rpb1 and residue 37 of chain Rpb11\n",
        "CrossLinkingMassSpectrometryRestraint: with sigma1 SIGMA sigma2 SIGMA psi PSI\n",
        "CrossLinkingMassSpectrometryRestraint: between particles Residue_368 and Residue_37\n",
        "==========================================\n",
        "\n",
        "generating a new crosslink restraint\n",
        "--------------\n",
        "CrossLinkingMassSpectrometryRestraint: generating cross-link restraint between\n",
        "CrossLinkingMassSpectrometryRestraint: residue 330 of chain Rpb1 and residue 507 of chain Rpb2\n",
        "CrossLinkingMassSpectrometryRestraint: with sigma1 SIGMA sigma2 SIGMA psi PSI\n",
        "CrossLinkingMassSpectrometryRestraint: between particles Residue_330 and 503-508_bead\n",
        "==========================================\n",
        "\n",
        "generating a new crosslink restraint\n",
        "--------------\n",
        "CrossLinkingMassSpectrometryRestraint: generating cross-link restraint between\n",
        "CrossLinkingMassSpectrometryRestraint: residue 471 of chain Rpb2 and residue 507 of chain Rpb2\n",
        "CrossLinkingMassSpectrometryRestraint: with sigma1 SIGMA sigma2 SIGMA psi PSI\n",
        "CrossLinkingMassSpectrometryRestraint: between particles 468-476_bead and 503-508_bead\n",
        "==========================================\n",
        "\n",
        "generating a new crosslink restraint\n",
        "--------------\n",
        "CrossLinkingMassSpectrometryRestraint: generating cross-link restraint between\n",
        "CrossLinkingMassSpectrometryRestraint: residue 934 of chain Rpb2 and residue 49 of chain Rpb1\n",
        "CrossLinkingMassSpectrometryRestraint: with sigma1 SIGMA sigma2 SIGMA psi PSI\n",
        "CrossLinkingMassSpectrometryRestraint: between particles Residue_934 and Residue_49\n",
        "==========================================\n",
        "\n",
        "generating a new crosslink restraint\n",
        "--------------\n",
        "CrossLinkingMassSpectrometryRestraint: generating cross-link restraint between\n",
        "CrossLinkingMassSpectrometryRestraint: residue 1003 of chain Rpb1 and residue 166 of chain Rpb5\n",
        "CrossLinkingMassSpectrometryRestraint: with sigma1 SIGMA sigma2 SIGMA psi PSI\n",
        "CrossLinkingMassSpectrometryRestraint: between particles Residue_1003 and Residue_166\n",
        "==========================================\n",
        "\n",
        "generating a new crosslink restraint\n",
        "--------------\n",
        "CrossLinkingMassSpectrometryRestraint: generating cross-link restraint between\n",
        "CrossLinkingMassSpectrometryRestraint: residue 865 of chain Rpb2 and residue 934 of chain Rpb2\n",
        "CrossLinkingMassSpectrometryRestraint: with sigma1 SIGMA sigma2 SIGMA psi PSI\n",
        "CrossLinkingMassSpectrometryRestraint: between particles Residue_865 and Residue_934\n",
        "==========================================\n",
        "\n",
        "generating a new crosslink restraint\n",
        "--------------\n",
        "CrossLinkingMassSpectrometryRestraint: generating cross-link restraint between\n",
        "CrossLinkingMassSpectrometryRestraint: residue 37 of chain Rpb11 and residue 165 of chain Rpb3\n",
        "CrossLinkingMassSpectrometryRestraint: with sigma1 SIGMA sigma2 SIGMA psi PSI\n",
        "CrossLinkingMassSpectrometryRestraint: between particles Residue_37 and Residue_165\n",
        "==========================================\n",
        "\n",
        "generating a new crosslink restraint\n",
        "--------------\n",
        "CrossLinkingMassSpectrometryRestraint: generating cross-link restraint between\n",
        "CrossLinkingMassSpectrometryRestraint: residue 471 of chain Rpb2 and residue 323 of chain Rpb1\n",
        "CrossLinkingMassSpectrometryRestraint: with sigma1 SIGMA sigma2 SIGMA psi PSI\n",
        "CrossLinkingMassSpectrometryRestraint: between particles 468-476_bead and Residue_323\n",
        "==========================================\n",
        "\n",
        "generating a new crosslink restraint\n",
        "--------------\n",
        "CrossLinkingMassSpectrometryRestraint: generating cross-link restraint between\n",
        "CrossLinkingMassSpectrometryRestraint: residue 201 of chain Rpb5 and residue 197 of chain Rpb5\n",
        "CrossLinkingMassSpectrometryRestraint: with sigma1 SIGMA sigma2 SIGMA psi PSI\n",
        "CrossLinkingMassSpectrometryRestraint: between particles Residue_201 and Residue_197\n",
        "==========================================\n",
        "\n",
        "generating a new crosslink restraint\n",
        "--------------\n",
        "CrossLinkingMassSpectrometryRestraint: generating cross-link restraint between\n",
        "CrossLinkingMassSpectrometryRestraint: residue 49 of chain Rpb1 and residue 212 of chain Rpb4\n",
        "CrossLinkingMassSpectrometryRestraint: with sigma1 SIGMA sigma2 SIGMA psi PSI\n",
        "CrossLinkingMassSpectrometryRestraint: between particles Residue_49 and Residue_212\n",
        "==========================================\n",
        "\n",
        "generating a new crosslink restraint\n",
        "--------------\n",
        "CrossLinkingMassSpectrometryRestraint: generating cross-link restraint between\n",
        "CrossLinkingMassSpectrometryRestraint: residue 1132 of chain Rpb1 and residue 1286 of chain Rpb1\n",
        "CrossLinkingMassSpectrometryRestraint: with sigma1 SIGMA sigma2 SIGMA psi PSI\n",
        "CrossLinkingMassSpectrometryRestraint: between particles Residue_1132 and Residue_1286\n",
        "==========================================\n",
        "\n",
        "generating a new crosslink restraint\n",
        "--------------\n",
        "CrossLinkingMassSpectrometryRestraint: generating cross-link restraint between\n",
        "CrossLinkingMassSpectrometryRestraint: residue 979 of chain Rpb2 and residue 1102 of chain Rpb2\n",
        "CrossLinkingMassSpectrometryRestraint: with sigma1 SIGMA sigma2 SIGMA psi PSI\n",
        "CrossLinkingMassSpectrometryRestraint: between particles Residue_979 and Residue_1102\n",
        "==========================================\n",
        "\n",
        "generating a new crosslink restraint\n",
        "--------------\n",
        "CrossLinkingMassSpectrometryRestraint: generating cross-link restraint between\n",
        "CrossLinkingMassSpectrometryRestraint: residue 938 of chain Rpb1 and residue 941 of chain Rpb1\n",
        "CrossLinkingMassSpectrometryRestraint: with sigma1 SIGMA sigma2 SIGMA psi PSI\n",
        "CrossLinkingMassSpectrometryRestraint: between particles Residue_938 and Residue_941\n",
        "==========================================\n",
        "\n",
        "generating a new crosslink restraint\n",
        "--------------\n",
        "CrossLinkingMassSpectrometryRestraint: generating cross-link restraint between\n",
        "CrossLinkingMassSpectrometryRestraint: residue 67 of chain Rpb6 and residue 161 of chain Rpb5\n",
        "CrossLinkingMassSpectrometryRestraint: with sigma1 SIGMA sigma2 SIGMA psi PSI\n",
        "CrossLinkingMassSpectrometryRestraint: between particles 61-71_bead and Residue_161\n",
        "==========================================\n",
        "\n",
        "generating a new crosslink restraint"
       ]
      },
      {
       "output_type": "stream",
       "stream": "stdout",
       "text": [
        "\n",
        "--------------\n",
        "CrossLinkingMassSpectrometryRestraint: generating cross-link restraint between\n",
        "CrossLinkingMassSpectrometryRestraint: residue 15 of chain Rpb1 and residue 67 of chain Rpb6\n",
        "CrossLinkingMassSpectrometryRestraint: with sigma1 SIGMA sigma2 SIGMA psi PSI\n",
        "CrossLinkingMassSpectrometryRestraint: between particles Residue_15 and 61-71_bead\n",
        "==========================================\n",
        "\n",
        "generating a new crosslink restraint\n",
        "--------------\n",
        "CrossLinkingMassSpectrometryRestraint: generating cross-link restraint between\n",
        "CrossLinkingMassSpectrometryRestraint: residue 372 of chain Rpb1 and residue 1102 of chain Rpb2\n",
        "CrossLinkingMassSpectrometryRestraint: with sigma1 SIGMA sigma2 SIGMA psi PSI\n",
        "CrossLinkingMassSpectrometryRestraint: between particles Residue_372 and Residue_1102\n",
        "==========================================\n",
        "\n",
        "generating a new crosslink restraint\n",
        "--------------\n",
        "CrossLinkingMassSpectrometryRestraint: generating cross-link restraint between\n",
        "CrossLinkingMassSpectrometryRestraint: residue 843 of chain Rpb1 and residue 332 of chain Rpb1\n",
        "CrossLinkingMassSpectrometryRestraint: with sigma1 SIGMA sigma2 SIGMA psi PSI\n",
        "CrossLinkingMassSpectrometryRestraint: between particles Residue_843 and Residue_332\n",
        "==========================================\n",
        "\n",
        "generating a new crosslink restraint\n",
        "--------------\n",
        "CrossLinkingMassSpectrometryRestraint: generating cross-link restraint between\n",
        "CrossLinkingMassSpectrometryRestraint: residue 934 of chain Rpb2 and residue 343 of chain Rpb1\n",
        "CrossLinkingMassSpectrometryRestraint: with sigma1 SIGMA sigma2 SIGMA psi PSI\n",
        "CrossLinkingMassSpectrometryRestraint: between particles Residue_934 and Residue_343\n",
        "==========================================\n",
        "\n",
        "generating a new crosslink restraint\n",
        "--------------\n",
        "CrossLinkingMassSpectrometryRestraint: generating cross-link restraint between\n",
        "CrossLinkingMassSpectrometryRestraint: residue 332 of chain Rpb1 and residue 176 of chain Rpb1\n",
        "CrossLinkingMassSpectrometryRestraint: with sigma1 SIGMA sigma2 SIGMA psi PSI\n",
        "CrossLinkingMassSpectrometryRestraint: between particles Residue_332 and Residue_176\n",
        "==========================================\n",
        "\n",
        "generating a new crosslink restraint\n",
        "--------------\n",
        "CrossLinkingMassSpectrometryRestraint: generating cross-link restraint between\n",
        "CrossLinkingMassSpectrometryRestraint: residue 1003 of chain Rpb1 and residue 67 of chain Rpb6\n",
        "CrossLinkingMassSpectrometryRestraint: with sigma1 SIGMA sigma2 SIGMA psi PSI\n",
        "CrossLinkingMassSpectrometryRestraint: between particles Residue_1003 and 61-71_bead\n",
        "==========================================\n",
        "\n",
        "generating a new crosslink restraint\n",
        "--------------\n",
        "CrossLinkingMassSpectrometryRestraint: generating cross-link restraint between\n",
        "CrossLinkingMassSpectrometryRestraint: residue 15 of chain Rpb1 and residue 70 of chain Rpb6\n",
        "CrossLinkingMassSpectrometryRestraint: with sigma1 SIGMA sigma2 SIGMA psi PSI\n",
        "CrossLinkingMassSpectrometryRestraint: between particles Residue_15 and 61-71_bead\n",
        "==========================================\n",
        "\n",
        "generating a new crosslink restraint\n",
        "--------------\n",
        "CrossLinkingMassSpectrometryRestraint: generating cross-link restraint between\n",
        "CrossLinkingMassSpectrometryRestraint: residue 1300 of chain Rpb1 and residue 1286 of chain Rpb1\n",
        "CrossLinkingMassSpectrometryRestraint: with sigma1 SIGMA sigma2 SIGMA psi PSI\n",
        "CrossLinkingMassSpectrometryRestraint: between particles Residue_1300 and Residue_1286\n",
        "==========================================\n",
        "\n",
        "generating a new crosslink restraint\n",
        "--------------\n",
        "CrossLinkingMassSpectrometryRestraint: generating cross-link restraint between\n",
        "CrossLinkingMassSpectrometryRestraint: residue 18 of chain Rpb11 and residue 253 of chain Rpb3\n",
        "CrossLinkingMassSpectrometryRestraint: with sigma1 SIGMA sigma2 SIGMA psi PSI\n",
        "CrossLinkingMassSpectrometryRestraint: between particles Residue_18 and Residue_253\n",
        "==========================================\n",
        "\n",
        "generating a new crosslink restraint\n",
        "--------------\n",
        "CrossLinkingMassSpectrometryRestraint: generating cross-link restraint between\n",
        "CrossLinkingMassSpectrometryRestraint: residue 962 of chain Rpb2 and residue 58 of chain Rpb12\n",
        "CrossLinkingMassSpectrometryRestraint: with sigma1 SIGMA sigma2 SIGMA psi PSI\n",
        "CrossLinkingMassSpectrometryRestraint: between particles Residue_962 and Residue_58\n",
        "==========================================\n",
        "\n",
        "generating a new crosslink restraint\n",
        "--------------\n",
        "CrossLinkingMassSpectrometryRestraint: generating cross-link restraint between\n",
        "CrossLinkingMassSpectrometryRestraint: residue 228 of chain Rpb2 and residue 246 of chain Rpb2\n",
        "CrossLinkingMassSpectrometryRestraint: with sigma1 SIGMA sigma2 SIGMA psi PSI\n",
        "CrossLinkingMassSpectrometryRestraint: between particles Residue_228 and Residue_246\n",
        "==========================================\n",
        "\n",
        "generating a new crosslink restraint\n",
        "--------------\n",
        "CrossLinkingMassSpectrometryRestraint: generating cross-link restraint between\n",
        "CrossLinkingMassSpectrometryRestraint: residue 353 of chain Rpb2 and residue 347 of chain Rpb2\n",
        "CrossLinkingMassSpectrometryRestraint: with sigma1 SIGMA sigma2 SIGMA psi PSI\n",
        "CrossLinkingMassSpectrometryRestraint: between particles Residue_353 and Residue_347\n",
        "==========================================\n",
        "\n",
        "generating a new crosslink restraint\n",
        "--------------\n",
        "CrossLinkingMassSpectrometryRestraint: generating cross-link restraint between\n",
        "CrossLinkingMassSpectrometryRestraint: residue 59 of chain Rpb10 and residue 813 of chain Rpb2\n",
        "CrossLinkingMassSpectrometryRestraint: with sigma1 SIGMA sigma2 SIGMA psi PSI\n",
        "CrossLinkingMassSpectrometryRestraint: between particles Residue_59 and Residue_813\n",
        "==========================================\n",
        "\n",
        "generating a new crosslink restraint\n",
        "--------------\n",
        "CrossLinkingMassSpectrometryRestraint: generating cross-link restraint between\n",
        "CrossLinkingMassSpectrometryRestraint: residue 886 of chain Rpb2 and residue 343 of chain Rpb1\n",
        "CrossLinkingMassSpectrometryRestraint: with sigma1 SIGMA sigma2 SIGMA psi PSI\n",
        "CrossLinkingMassSpectrometryRestraint: between particles Residue_886 and Residue_343\n",
        "==========================================\n",
        "\n",
        "generating a new crosslink restraint\n",
        "--------------\n",
        "CrossLinkingMassSpectrometryRestraint: generating cross-link restraint between\n",
        "CrossLinkingMassSpectrometryRestraint: residue 934 of chain Rpb2 and residue 419 of chain Rpb1\n",
        "CrossLinkingMassSpectrometryRestraint: with sigma1 SIGMA sigma2 SIGMA psi PSI\n",
        "CrossLinkingMassSpectrometryRestraint: between particles Residue_934 and Residue_419\n",
        "==========================================\n",
        "\n",
        "generating a new crosslink restraint\n",
        "--------------\n",
        "CrossLinkingMassSpectrometryRestraint: generating cross-link restraint between\n",
        "CrossLinkingMassSpectrometryRestraint: residue 72 of chain Rpb6 and residue 166 of chain Rpb5\n",
        "CrossLinkingMassSpectrometryRestraint: with sigma1 SIGMA sigma2 SIGMA psi PSI\n",
        "CrossLinkingMassSpectrometryRestraint: between particles Residue_72 and Residue_166\n",
        "==========================================\n",
        "\n",
        "generating a new crosslink restraint\n",
        "--------------\n",
        "CrossLinkingMassSpectrometryRestraint: generating cross-link restraint between\n",
        "CrossLinkingMassSpectrometryRestraint: residue 1 of chain Rpb1 and residue 72 of chain Rpb6\n",
        "CrossLinkingMassSpectrometryRestraint: with sigma1 SIGMA sigma2 SIGMA psi PSI\n",
        "CrossLinkingMassSpectrometryRestraint: between particles 1_bead and Residue_72\n",
        "==========================================\n",
        "\n",
        "CrossLinkingMassSpectrometryRestraint: WARNING> residue 76 of chain Rpb4 is not there\n",
        "generating a new crosslink restraint"
       ]
      },
      {
       "output_type": "stream",
       "stream": "stdout",
       "text": [
        "\n",
        "--------------\n",
        "CrossLinkingMassSpectrometryRestraint: generating cross-link restraint between\n",
        "CrossLinkingMassSpectrometryRestraint: residue 972 of chain Rpb2 and residue 962 of chain Rpb2\n",
        "CrossLinkingMassSpectrometryRestraint: with sigma1 SIGMA sigma2 SIGMA psi PSI\n",
        "CrossLinkingMassSpectrometryRestraint: between particles Residue_972 and Residue_962\n",
        "==========================================\n",
        "\n",
        "generating a new crosslink restraint\n",
        "--------------\n",
        "CrossLinkingMassSpectrometryRestraint: generating cross-link restraint between\n",
        "CrossLinkingMassSpectrometryRestraint: residue 652 of chain Rpb2 and residue 606 of chain Rpb2\n",
        "CrossLinkingMassSpectrometryRestraint: with sigma1 SIGMA sigma2 SIGMA psi PSI\n",
        "CrossLinkingMassSpectrometryRestraint: between particles Residue_652 and Residue_606\n",
        "==========================================\n",
        "\n",
        "generating a new crosslink restraint\n",
        "--------------\n",
        "CrossLinkingMassSpectrometryRestraint: generating cross-link restraint between\n",
        "CrossLinkingMassSpectrometryRestraint: residue 471 of chain Rpb2 and residue 423 of chain Rpb2\n",
        "CrossLinkingMassSpectrometryRestraint: with sigma1 SIGMA sigma2 SIGMA psi PSI\n",
        "CrossLinkingMassSpectrometryRestraint: between particles 468-476_bead and Residue_423\n",
        "==========================================\n",
        "\n",
        "generating a new crosslink restraint\n",
        "--------------\n",
        "CrossLinkingMassSpectrometryRestraint: generating cross-link restraint between\n",
        "CrossLinkingMassSpectrometryRestraint: residue 227 of chain Rpb2 and residue 510 of chain Rpb2\n",
        "CrossLinkingMassSpectrometryRestraint: with sigma1 SIGMA sigma2 SIGMA psi PSI\n",
        "CrossLinkingMassSpectrometryRestraint: between particles Residue_227 and Residue_510\n",
        "==========================================\n",
        "\n",
        "generating a new crosslink restraint\n",
        "--------------\n",
        "CrossLinkingMassSpectrometryRestraint: generating cross-link restraint between\n",
        "CrossLinkingMassSpectrometryRestraint: residue 277 of chain Rpb2 and residue 246 of chain Rpb2\n",
        "CrossLinkingMassSpectrometryRestraint: with sigma1 SIGMA sigma2 SIGMA psi PSI\n",
        "CrossLinkingMassSpectrometryRestraint: between particles Residue_277 and Residue_246\n",
        "==========================================\n",
        "\n",
        "generating a new crosslink restraint\n",
        "--------------\n",
        "CrossLinkingMassSpectrometryRestraint: generating cross-link restraint between\n",
        "CrossLinkingMassSpectrometryRestraint: residue 353 of chain Rpb2 and residue 345 of chain Rpb2\n",
        "CrossLinkingMassSpectrometryRestraint: with sigma1 SIGMA sigma2 SIGMA psi PSI\n",
        "CrossLinkingMassSpectrometryRestraint: between particles Residue_353 and Residue_345\n",
        "==========================================\n",
        "\n",
        "generating a new crosslink restraint\n",
        "--------------\n",
        "CrossLinkingMassSpectrometryRestraint: generating cross-link restraint between\n",
        "CrossLinkingMassSpectrometryRestraint: residue 830 of chain Rpb1 and residue 507 of chain Rpb2\n",
        "CrossLinkingMassSpectrometryRestraint: with sigma1 SIGMA sigma2 SIGMA psi PSI\n",
        "CrossLinkingMassSpectrometryRestraint: between particles Residue_830 and 503-508_bead\n",
        "==========================================\n",
        "\n",
        "generating a new crosslink restraint\n",
        "--------------\n",
        "CrossLinkingMassSpectrometryRestraint: generating cross-link restraint between\n",
        "CrossLinkingMassSpectrometryRestraint: residue 934 of chain Rpb2 and residue 332 of chain Rpb1\n",
        "CrossLinkingMassSpectrometryRestraint: with sigma1 SIGMA sigma2 SIGMA psi PSI\n",
        "CrossLinkingMassSpectrometryRestraint: between particles Residue_934 and Residue_332\n",
        "==========================================\n",
        "\n",
        "generating a new crosslink restraint\n",
        "--------------\n",
        "CrossLinkingMassSpectrometryRestraint: generating cross-link restraint between\n",
        "CrossLinkingMassSpectrometryRestraint: residue 738 of chain Rpb1 and residue 728 of chain Rpb1\n",
        "CrossLinkingMassSpectrometryRestraint: with sigma1 SIGMA sigma2 SIGMA psi PSI\n",
        "CrossLinkingMassSpectrometryRestraint: between particles Residue_738 and Residue_728\n",
        "==========================================\n",
        "\n",
        "generating a new crosslink restraint\n",
        "--------------\n",
        "CrossLinkingMassSpectrometryRestraint: generating cross-link restraint between\n",
        "CrossLinkingMassSpectrometryRestraint: residue 330 of chain Rpb1 and residue 176 of chain Rpb1\n",
        "CrossLinkingMassSpectrometryRestraint: with sigma1 SIGMA sigma2 SIGMA psi PSI\n",
        "CrossLinkingMassSpectrometryRestraint: between particles Residue_330 and Residue_176\n",
        "==========================================\n",
        "\n",
        "generating a new crosslink restraint\n",
        "--------------\n",
        "CrossLinkingMassSpectrometryRestraint: generating cross-link restraint between\n",
        "CrossLinkingMassSpectrometryRestraint: residue 934 of chain Rpb2 and residue 330 of chain Rpb1\n",
        "CrossLinkingMassSpectrometryRestraint: with sigma1 SIGMA sigma2 SIGMA psi PSI\n",
        "CrossLinkingMassSpectrometryRestraint: between particles Residue_934 and Residue_330\n",
        "==========================================\n",
        "\n",
        "generating a new crosslink restraint\n",
        "--------------\n",
        "CrossLinkingMassSpectrometryRestraint: generating cross-link restraint between\n",
        "CrossLinkingMassSpectrometryRestraint: residue 426 of chain Rpb2 and residue 422 of chain Rpb2\n",
        "CrossLinkingMassSpectrometryRestraint: with sigma1 SIGMA sigma2 SIGMA psi PSI\n",
        "CrossLinkingMassSpectrometryRestraint: between particles Residue_426 and Residue_422\n",
        "==========================================\n",
        "\n",
        "generating a new crosslink restraint\n",
        "--------------\n",
        "CrossLinkingMassSpectrometryRestraint: generating cross-link restraint between\n",
        "CrossLinkingMassSpectrometryRestraint: residue 830 of chain Rpb1 and residue 1102 of chain Rpb1\n",
        "CrossLinkingMassSpectrometryRestraint: with sigma1 SIGMA sigma2 SIGMA psi PSI\n",
        "CrossLinkingMassSpectrometryRestraint: between particles Residue_830 and Residue_1102\n",
        "==========================================\n",
        "\n",
        "generating a new crosslink restraint\n",
        "--------------\n",
        "CrossLinkingMassSpectrometryRestraint: generating cross-link restraint between\n",
        "CrossLinkingMassSpectrometryRestraint: residue 332 of chain Rpb1 and residue 471 of chain Rpb2\n",
        "CrossLinkingMassSpectrometryRestraint: with sigma1 SIGMA sigma2 SIGMA psi PSI\n",
        "CrossLinkingMassSpectrometryRestraint: between particles Residue_332 and 468-476_bead\n",
        "==========================================\n",
        "\n",
        "generating a new crosslink restraint\n",
        "--------------\n",
        "CrossLinkingMassSpectrometryRestraint: generating cross-link restraint between\n",
        "CrossLinkingMassSpectrometryRestraint: residue 20 of chain Rpb11 and residue 72 of chain Rpb11\n",
        "CrossLinkingMassSpectrometryRestraint: with sigma1 SIGMA sigma2 SIGMA psi PSI\n",
        "CrossLinkingMassSpectrometryRestraint: between particles Residue_20 and Residue_72\n",
        "==========================================\n",
        "\n",
        "CrossLinkingMassSpectrometryRestraint: WARNING> residue 75 of chain Rpb4 is not there\n",
        "CrossLinkingMassSpectrometryRestraint: WARNING> residue 76 of chain Rpb4 is not there\n",
        "generating a new crosslink restraint\n",
        "--------------\n",
        "CrossLinkingMassSpectrometryRestraint: generating cross-link restraint between\n",
        "CrossLinkingMassSpectrometryRestraint: residue 201 of chain Rpb5 and residue 941 of chain Rpb1\n",
        "CrossLinkingMassSpectrometryRestraint: with sigma1 SIGMA sigma2 SIGMA psi PSI\n",
        "CrossLinkingMassSpectrometryRestraint: between particles Residue_201 and Residue_941\n",
        "==========================================\n",
        "\n",
        "generating a new crosslink restraint"
       ]
      },
      {
       "output_type": "stream",
       "stream": "stdout",
       "text": [
        "\n",
        "--------------\n",
        "CrossLinkingMassSpectrometryRestraint: generating cross-link restraint between\n",
        "CrossLinkingMassSpectrometryRestraint: residue 84 of chain Rpb11 and residue 55 of chain Rpb11\n",
        "CrossLinkingMassSpectrometryRestraint: with sigma1 SIGMA sigma2 SIGMA psi PSI\n",
        "CrossLinkingMassSpectrometryRestraint: between particles Residue_84 and Residue_55\n",
        "==========================================\n",
        "\n",
        "generating a new crosslink restraint\n",
        "--------------\n",
        "CrossLinkingMassSpectrometryRestraint: generating cross-link restraint between\n",
        "CrossLinkingMassSpectrometryRestraint: residue 864 of chain Rpb2 and residue 58 of chain Rpb12\n",
        "CrossLinkingMassSpectrometryRestraint: with sigma1 SIGMA sigma2 SIGMA psi PSI\n",
        "CrossLinkingMassSpectrometryRestraint: between particles Residue_864 and Residue_58\n",
        "==========================================\n",
        "\n",
        "generating a new crosslink restraint\n",
        "--------------\n",
        "CrossLinkingMassSpectrometryRestraint: generating cross-link restraint between\n",
        "CrossLinkingMassSpectrometryRestraint: residue 15 of chain Rpb1 and residue 72 of chain Rpb6\n",
        "CrossLinkingMassSpectrometryRestraint: with sigma1 SIGMA sigma2 SIGMA psi PSI\n",
        "CrossLinkingMassSpectrometryRestraint: between particles Residue_15 and Residue_72\n",
        "==========================================\n",
        "\n",
        "generating a new crosslink restraint\n",
        "--------------\n",
        "CrossLinkingMassSpectrometryRestraint: generating cross-link restraint between\n",
        "CrossLinkingMassSpectrometryRestraint: residue 129 of chain Rpb1 and residue 171 of chain Rpb5\n",
        "CrossLinkingMassSpectrometryRestraint: with sigma1 SIGMA sigma2 SIGMA psi PSI\n",
        "CrossLinkingMassSpectrometryRestraint: between particles Residue_129 and Residue_171\n",
        "==========================================\n",
        "\n",
        "generating a new crosslink restraint\n",
        "--------------\n",
        "CrossLinkingMassSpectrometryRestraint: generating cross-link restraint between\n",
        "CrossLinkingMassSpectrometryRestraint: residue 73 of chain Rpb7 and residue 72 of chain Rpb6\n",
        "CrossLinkingMassSpectrometryRestraint: with sigma1 SIGMA sigma2 SIGMA psi PSI\n",
        "CrossLinkingMassSpectrometryRestraint: between particles Residue_73 and Residue_72\n",
        "==========================================\n",
        "\n",
        "generating a new crosslink restraint\n",
        "--------------\n",
        "CrossLinkingMassSpectrometryRestraint: generating cross-link restraint between\n",
        "CrossLinkingMassSpectrometryRestraint: residue 864 of chain Rpb2 and residue 934 of chain Rpb2\n",
        "CrossLinkingMassSpectrometryRestraint: with sigma1 SIGMA sigma2 SIGMA psi PSI\n",
        "CrossLinkingMassSpectrometryRestraint: between particles Residue_864 and Residue_934\n",
        "==========================================\n",
        "\n",
        "generating a new crosslink restraint\n",
        "--------------\n",
        "CrossLinkingMassSpectrometryRestraint: generating cross-link restraint between\n",
        "CrossLinkingMassSpectrometryRestraint: residue 88 of chain Rpb11 and residue 55 of chain Rpb11\n",
        "CrossLinkingMassSpectrometryRestraint: with sigma1 SIGMA sigma2 SIGMA psi PSI\n",
        "CrossLinkingMassSpectrometryRestraint: between particles Residue_88 and Residue_55\n",
        "==========================================\n",
        "\n",
        "generating a new crosslink restraint\n",
        "--------------\n",
        "CrossLinkingMassSpectrometryRestraint: generating cross-link restraint between\n",
        "CrossLinkingMassSpectrometryRestraint: residue 34 of chain Rpb1 and residue 49 of chain Rpb1\n",
        "CrossLinkingMassSpectrometryRestraint: with sigma1 SIGMA sigma2 SIGMA psi PSI\n",
        "CrossLinkingMassSpectrometryRestraint: between particles Residue_34 and Residue_49\n",
        "==========================================\n",
        "\n",
        "generating a new crosslink restraint\n",
        "--------------\n",
        "CrossLinkingMassSpectrometryRestraint: generating cross-link restraint between\n",
        "CrossLinkingMassSpectrometryRestraint: residue 1057 of chain Rpb2 and residue 199 of chain Rpb3\n",
        "CrossLinkingMassSpectrometryRestraint: with sigma1 SIGMA sigma2 SIGMA psi PSI\n",
        "CrossLinkingMassSpectrometryRestraint: between particles Residue_1057 and Residue_199\n",
        "==========================================\n",
        "\n",
        "generating a new crosslink restraint\n",
        "--------------\n",
        "CrossLinkingMassSpectrometryRestraint: generating cross-link restraint between\n",
        "CrossLinkingMassSpectrometryRestraint: residue 1102 of chain Rpb2 and residue 987 of chain Rpb2\n",
        "CrossLinkingMassSpectrometryRestraint: with sigma1 SIGMA sigma2 SIGMA psi PSI\n",
        "CrossLinkingMassSpectrometryRestraint: between particles Residue_1102 and Residue_987\n",
        "==========================================\n",
        "\n",
        "generating a new crosslink restraint\n",
        "--------------\n",
        "CrossLinkingMassSpectrometryRestraint: generating cross-link restraint between\n",
        "CrossLinkingMassSpectrometryRestraint: residue 1112 of chain Rpb1 and residue 773 of chain Rpb1\n",
        "CrossLinkingMassSpectrometryRestraint: with sigma1 SIGMA sigma2 SIGMA psi PSI\n",
        "CrossLinkingMassSpectrometryRestraint: between particles Residue_1112 and Residue_773\n",
        "==========================================\n",
        "\n",
        "generating a new crosslink restraint\n",
        "--------------\n",
        "CrossLinkingMassSpectrometryRestraint: generating cross-link restraint between\n",
        "CrossLinkingMassSpectrometryRestraint: residue 253 of chain Rpb3 and residue 161 of chain Rpb3\n",
        "CrossLinkingMassSpectrometryRestraint: with sigma1 SIGMA sigma2 SIGMA psi PSI\n",
        "CrossLinkingMassSpectrometryRestraint: between particles Residue_253 and Residue_161\n",
        "==========================================\n",
        "\n",
        "generating a new crosslink restraint\n",
        "--------------\n",
        "CrossLinkingMassSpectrometryRestraint: generating cross-link restraint between\n",
        "CrossLinkingMassSpectrometryRestraint: residue 368 of chain Rpb1 and residue 461 of chain Rpb1\n",
        "CrossLinkingMassSpectrometryRestraint: with sigma1 SIGMA sigma2 SIGMA psi PSI\n",
        "CrossLinkingMassSpectrometryRestraint: between particles Residue_368 and Residue_461\n",
        "==========================================\n",
        "\n",
        "generating a new crosslink restraint\n",
        "--------------\n",
        "CrossLinkingMassSpectrometryRestraint: generating cross-link restraint between\n",
        "CrossLinkingMassSpectrometryRestraint: residue 15 of chain Rpb1 and residue 1 of chain Rpb1\n",
        "CrossLinkingMassSpectrometryRestraint: with sigma1 SIGMA sigma2 SIGMA psi PSI\n",
        "CrossLinkingMassSpectrometryRestraint: between particles Residue_15 and 1_bead\n",
        "==========================================\n",
        "\n",
        "generating a new crosslink restraint\n",
        "--------------\n",
        "CrossLinkingMassSpectrometryRestraint: generating cross-link restraint between\n",
        "CrossLinkingMassSpectrometryRestraint: residue 507 of chain Rpb2 and residue 332 of chain Rpb1\n",
        "CrossLinkingMassSpectrometryRestraint: with sigma1 SIGMA sigma2 SIGMA psi PSI\n",
        "CrossLinkingMassSpectrometryRestraint: between particles 503-508_bead and Residue_332\n",
        "==========================================\n",
        "\n",
        "generating a new crosslink restraint\n",
        "--------------\n",
        "CrossLinkingMassSpectrometryRestraint: generating cross-link restraint between\n",
        "CrossLinkingMassSpectrometryRestraint: residue 121 of chain Rpb4 and residue 60 of chain Rpb4\n",
        "CrossLinkingMassSpectrometryRestraint: with sigma1 SIGMA sigma2 SIGMA psi PSI\n",
        "CrossLinkingMassSpectrometryRestraint: between particles Residue_121 and Residue_60\n",
        "==========================================\n",
        "\n",
        "generating a new crosslink restraint\n",
        "--------------\n",
        "CrossLinkingMassSpectrometryRestraint: generating cross-link restraint between\n",
        "CrossLinkingMassSpectrometryRestraint: residue 99 of chain Rpb2 and residue 164 of chain Rpb2\n",
        "CrossLinkingMassSpectrometryRestraint: with sigma1 SIGMA sigma2 SIGMA psi PSI\n",
        "CrossLinkingMassSpectrometryRestraint: between particles Residue_99 and Residue_164\n",
        "==========================================\n",
        "\n",
        "generating a new crosslink restraint\n",
        "--------------\n",
        "CrossLinkingMassSpectrometryRestraint: generating cross-link restraint between\n",
        "CrossLinkingMassSpectrometryRestraint: residue 26 of chain Rpb11 and residue 644 of chain Rpb1\n",
        "CrossLinkingMassSpectrometryRestraint: with sigma1 SIGMA sigma2 SIGMA psi PSI\n",
        "CrossLinkingMassSpectrometryRestraint: between particles Residue_26 and Residue_644\n",
        "==========================================\n",
        "\n",
        "generating a new crosslink restraint\n",
        "--------------\n",
        "CrossLinkingMassSpectrometryRestraint: generating cross-link restraint between\n",
        "CrossLinkingMassSpectrometryRestraint: residue 1262 of chain Rpb1 and residue 1246 of chain Rpb1\n",
        "CrossLinkingMassSpectrometryRestraint: with sigma1 SIGMA sigma2 SIGMA psi PSI\n",
        "CrossLinkingMassSpectrometryRestraint: between particles Residue_1262 and 1244-1253_bead\n",
        "==========================================\n",
        "\n",
        "generating a new crosslink restraint\n",
        "--------------\n",
        "CrossLinkingMassSpectrometryRestraint: generating cross-link restraint between\n",
        "CrossLinkingMassSpectrometryRestraint: residue 70 of chain Rpb6 and residue 171 of chain Rpb5\n",
        "CrossLinkingMassSpectrometryRestraint: with sigma1 SIGMA sigma2 SIGMA psi PSI\n",
        "CrossLinkingMassSpectrometryRestraint: between particles 61-71_bead and Residue_171\n",
        "==========================================\n",
        "\n",
        "generating a new crosslink restraint"
       ]
      },
      {
       "output_type": "stream",
       "stream": "stdout",
       "text": [
        "\n",
        "--------------\n",
        "CrossLinkingMassSpectrometryRestraint: generating cross-link restraint between\n",
        "CrossLinkingMassSpectrometryRestraint: residue 171 of chain Rpb5 and residue 67 of chain Rpb6\n",
        "CrossLinkingMassSpectrometryRestraint: with sigma1 SIGMA sigma2 SIGMA psi PSI\n",
        "CrossLinkingMassSpectrometryRestraint: between particles Residue_171 and 61-71_bead\n",
        "==========================================\n",
        "\n",
        "generating a new crosslink restraint\n",
        "--------------\n",
        "CrossLinkingMassSpectrometryRestraint: generating cross-link restraint between\n",
        "CrossLinkingMassSpectrometryRestraint: residue 15 of chain Rpb1 and residue 34 of chain Rpb1\n",
        "CrossLinkingMassSpectrometryRestraint: with sigma1 SIGMA sigma2 SIGMA psi PSI\n",
        "CrossLinkingMassSpectrometryRestraint: between particles Residue_15 and Residue_34\n",
        "==========================================\n",
        "\n",
        "generating a new crosslink restraint\n",
        "--------------\n",
        "CrossLinkingMassSpectrometryRestraint: generating cross-link restraint between\n",
        "CrossLinkingMassSpectrometryRestraint: residue 461 of chain Rpb1 and residue 644 of chain Rpb1\n",
        "CrossLinkingMassSpectrometryRestraint: with sigma1 SIGMA sigma2 SIGMA psi PSI\n",
        "CrossLinkingMassSpectrometryRestraint: between particles Residue_461 and Residue_644\n",
        "==========================================\n",
        "\n",
        "generating a new crosslink restraint\n",
        "--------------\n",
        "CrossLinkingMassSpectrometryRestraint: generating cross-link restraint between\n",
        "CrossLinkingMassSpectrometryRestraint: residue 72 of chain Rpb6 and residue 171 of chain Rpb5\n",
        "CrossLinkingMassSpectrometryRestraint: with sigma1 SIGMA sigma2 SIGMA psi PSI\n",
        "CrossLinkingMassSpectrometryRestraint: between particles Residue_72 and Residue_171\n",
        "==========================================\n",
        "\n",
        "generating a new crosslink restraint\n",
        "--------------\n",
        "CrossLinkingMassSpectrometryRestraint: generating cross-link restraint between\n",
        "CrossLinkingMassSpectrometryRestraint: residue 507 of chain Rpb2 and residue 1102 of chain Rpb1\n",
        "CrossLinkingMassSpectrometryRestraint: with sigma1 SIGMA sigma2 SIGMA psi PSI\n",
        "CrossLinkingMassSpectrometryRestraint: between particles 503-508_bead and Residue_1102\n",
        "==========================================\n",
        "\n",
        "generating a new crosslink restraint\n",
        "--------------\n",
        "CrossLinkingMassSpectrometryRestraint: generating cross-link restraint between\n",
        "CrossLinkingMassSpectrometryRestraint: residue 507 of chain Rpb2 and residue 228 of chain Rpb2\n",
        "CrossLinkingMassSpectrometryRestraint: with sigma1 SIGMA sigma2 SIGMA psi PSI\n",
        "CrossLinkingMassSpectrometryRestraint: between particles 503-508_bead and Residue_228\n",
        "==========================================\n",
        "\n",
        "generating a new crosslink restraint\n",
        "--------------\n",
        "CrossLinkingMassSpectrometryRestraint: generating cross-link restraint between\n",
        "CrossLinkingMassSpectrometryRestraint: residue 76 of chain Rpb6 and residue 1003 of chain Rpb1\n",
        "CrossLinkingMassSpectrometryRestraint: with sigma1 SIGMA sigma2 SIGMA psi PSI\n",
        "CrossLinkingMassSpectrometryRestraint: between particles Residue_76 and Residue_1003\n",
        "==========================================\n",
        "\n",
        "generating a new crosslink restraint\n",
        "--------------\n",
        "CrossLinkingMassSpectrometryRestraint: generating cross-link restraint between\n",
        "CrossLinkingMassSpectrometryRestraint: residue 1102 of chain Rpb1 and residue 510 of chain Rpb2\n",
        "CrossLinkingMassSpectrometryRestraint: with sigma1 SIGMA sigma2 SIGMA psi PSI\n",
        "CrossLinkingMassSpectrometryRestraint: between particles Residue_1102 and Residue_510\n",
        "==========================================\n",
        "\n",
        "generating a new crosslink restraint\n",
        "--------------\n",
        "CrossLinkingMassSpectrometryRestraint: generating cross-link restraint between\n",
        "CrossLinkingMassSpectrometryRestraint: residue 1112 of chain Rpb1 and residue 830 of chain Rpb1\n",
        "CrossLinkingMassSpectrometryRestraint: with sigma1 SIGMA sigma2 SIGMA psi PSI\n",
        "CrossLinkingMassSpectrometryRestraint: between particles Residue_1112 and Residue_830\n",
        "==========================================\n",
        "\n",
        "generating a new crosslink restraint\n",
        "--------------\n",
        "CrossLinkingMassSpectrometryRestraint: generating cross-link restraint between\n",
        "CrossLinkingMassSpectrometryRestraint: residue 253 of chain Rpb3 and residue 165 of chain Rpb3\n",
        "CrossLinkingMassSpectrometryRestraint: with sigma1 SIGMA sigma2 SIGMA psi PSI\n",
        "CrossLinkingMassSpectrometryRestraint: between particles Residue_253 and Residue_165\n",
        "==========================================\n",
        "\n",
        "generating a new crosslink restraint\n",
        "--------------\n",
        "CrossLinkingMassSpectrometryRestraint: generating cross-link restraint between\n",
        "CrossLinkingMassSpectrometryRestraint: residue 979 of chain Rpb2 and residue 987 of chain Rpb2\n",
        "CrossLinkingMassSpectrometryRestraint: with sigma1 SIGMA sigma2 SIGMA psi PSI\n",
        "CrossLinkingMassSpectrometryRestraint: between particles Residue_979 and Residue_987\n",
        "==========================================\n",
        "\n",
        "generating a new crosslink restraint\n",
        "--------------\n",
        "CrossLinkingMassSpectrometryRestraint: generating cross-link restraint between\n",
        "CrossLinkingMassSpectrometryRestraint: residue 1148 of chain Rpb2 and residue 1 of chain Rpb1\n",
        "CrossLinkingMassSpectrometryRestraint: with sigma1 SIGMA sigma2 SIGMA psi PSI\n",
        "CrossLinkingMassSpectrometryRestraint: between particles Residue_1148 and 1_bead\n",
        "==========================================\n",
        "\n",
        "generating a new crosslink restraint\n",
        "--------------\n",
        "CrossLinkingMassSpectrometryRestraint: generating cross-link restraint between\n",
        "CrossLinkingMassSpectrometryRestraint: residue 343 of chain Rpb1 and residue 332 of chain Rpb1\n",
        "CrossLinkingMassSpectrometryRestraint: with sigma1 SIGMA sigma2 SIGMA psi PSI\n",
        "CrossLinkingMassSpectrometryRestraint: between particles Residue_343 and Residue_332\n",
        "==========================================\n",
        "\n",
        "generating a new crosslink restraint\n",
        "--------------\n",
        "CrossLinkingMassSpectrometryRestraint: generating cross-link restraint between\n",
        "CrossLinkingMassSpectrometryRestraint: residue 1112 of chain Rpb1 and residue 1093 of chain Rpb1\n",
        "CrossLinkingMassSpectrometryRestraint: with sigma1 SIGMA sigma2 SIGMA psi PSI\n",
        "CrossLinkingMassSpectrometryRestraint: between particles Residue_1112 and Residue_1093\n",
        "==========================================\n",
        "\n",
        "generating a new crosslink restraint\n",
        "--------------\n",
        "CrossLinkingMassSpectrometryRestraint: generating cross-link restraint between\n",
        "CrossLinkingMassSpectrometryRestraint: residue 1093 of chain Rpb1 and residue 1102 of chain Rpb1\n",
        "CrossLinkingMassSpectrometryRestraint: with sigma1 SIGMA sigma2 SIGMA psi PSI\n",
        "CrossLinkingMassSpectrometryRestraint: between particles Residue_1093 and Residue_1102\n",
        "==========================================\n",
        "\n",
        "generating a new crosslink restraint\n",
        "--------------\n",
        "CrossLinkingMassSpectrometryRestraint: generating cross-link restraint between\n",
        "CrossLinkingMassSpectrometryRestraint: residue 830 of chain Rpb1 and residue 1092 of chain Rpb1\n",
        "CrossLinkingMassSpectrometryRestraint: with sigma1 SIGMA sigma2 SIGMA psi PSI\n",
        "CrossLinkingMassSpectrometryRestraint: between particles Residue_830 and Residue_1092\n",
        "==========================================\n",
        "\n",
        "CrossLinkingMassSpectrometryRestraint: WARNING> same particle and same residue, skipping cross-link\n",
        "generating a new crosslink restraint"
       ]
      },
      {
       "output_type": "stream",
       "stream": "stdout",
       "text": [
        "\n",
        "--------------\n",
        "CrossLinkingMassSpectrometryRestraint: generating cross-link restraint between\n",
        "CrossLinkingMassSpectrometryRestraint: residue 941 of chain Rpb1 and residue 201 of chain Rpb5\n",
        "CrossLinkingMassSpectrometryRestraint: with sigma1 SIGMA sigma2 SIGMA psi PSI\n",
        "CrossLinkingMassSpectrometryRestraint: between particles Residue_941 and Residue_201\n",
        "==========================================\n",
        "\n",
        "generating a new crosslink restraint\n",
        "--------------\n",
        "CrossLinkingMassSpectrometryRestraint: generating cross-link restraint between\n",
        "CrossLinkingMassSpectrometryRestraint: residue 323 of chain Rpb1 and residue 330 of chain Rpb1\n",
        "CrossLinkingMassSpectrometryRestraint: with sigma1 SIGMA sigma2 SIGMA psi PSI\n",
        "CrossLinkingMassSpectrometryRestraint: between particles Residue_323 and Residue_330\n",
        "==========================================\n",
        "\n",
        "generating a new crosslink restraint\n",
        "--------------\n",
        "CrossLinkingMassSpectrometryRestraint: generating cross-link restraint between\n",
        "CrossLinkingMassSpectrometryRestraint: residue 972 of chain Rpb2 and residue 1102 of chain Rpb2\n",
        "CrossLinkingMassSpectrometryRestraint: with sigma1 SIGMA sigma2 SIGMA psi PSI\n",
        "CrossLinkingMassSpectrometryRestraint: between particles Residue_972 and Residue_1102\n",
        "==========================================\n",
        "\n",
        "generating a new crosslink restraint\n",
        "--------------\n",
        "CrossLinkingMassSpectrometryRestraint: generating cross-link restraint between\n",
        "CrossLinkingMassSpectrometryRestraint: residue 1 of chain Rpb1 and residue 886 of chain Rpb2\n",
        "CrossLinkingMassSpectrometryRestraint: with sigma1 SIGMA sigma2 SIGMA psi PSI\n",
        "CrossLinkingMassSpectrometryRestraint: between particles 1_bead and Residue_886\n",
        "==========================================\n",
        "\n",
        "generating a new crosslink restraint\n",
        "--------------\n",
        "CrossLinkingMassSpectrometryRestraint: generating cross-link restraint between\n",
        "CrossLinkingMassSpectrometryRestraint: residue 129 of chain Rpb1 and residue 161 of chain Rpb5\n",
        "CrossLinkingMassSpectrometryRestraint: with sigma1 SIGMA sigma2 SIGMA psi PSI\n",
        "CrossLinkingMassSpectrometryRestraint: between particles Residue_129 and Residue_161\n",
        "==========================================\n",
        "\n",
        "generating a new crosslink restraint\n",
        "--------------\n",
        "CrossLinkingMassSpectrometryRestraint: generating cross-link restraint between\n",
        "CrossLinkingMassSpectrometryRestraint: residue 123 of chain Rpb6 and residue 129 of chain Rpb6\n",
        "CrossLinkingMassSpectrometryRestraint: with sigma1 SIGMA sigma2 SIGMA psi PSI\n",
        "CrossLinkingMassSpectrometryRestraint: between particles Residue_123 and Residue_129\n",
        "==========================================\n",
        "\n",
        "generating a new crosslink restraint\n",
        "--------------\n",
        "CrossLinkingMassSpectrometryRestraint: generating cross-link restraint between\n",
        "CrossLinkingMassSpectrometryRestraint: residue 705 of chain Rpb1 and residue 689 of chain Rpb1\n",
        "CrossLinkingMassSpectrometryRestraint: with sigma1 SIGMA sigma2 SIGMA psi PSI\n",
        "CrossLinkingMassSpectrometryRestraint: between particles Residue_705 and Residue_689\n",
        "==========================================\n",
        "\n",
        "generating a new crosslink restraint\n",
        "--------------\n",
        "CrossLinkingMassSpectrometryRestraint: generating cross-link restraint between\n",
        "CrossLinkingMassSpectrometryRestraint: residue 227 of chain Rpb2 and residue 1093 of chain Rpb1\n",
        "CrossLinkingMassSpectrometryRestraint: with sigma1 SIGMA sigma2 SIGMA psi PSI\n",
        "CrossLinkingMassSpectrometryRestraint: between particles Residue_227 and Residue_1093\n",
        "==========================================\n",
        "\n",
        "generating a new crosslink restraint\n",
        "--------------\n",
        "CrossLinkingMassSpectrometryRestraint: generating cross-link restraint between\n",
        "CrossLinkingMassSpectrometryRestraint: residue 1112 of chain Rpb1 and residue 1102 of chain Rpb1\n",
        "CrossLinkingMassSpectrometryRestraint: with sigma1 SIGMA sigma2 SIGMA psi PSI\n",
        "CrossLinkingMassSpectrometryRestraint: between particles Residue_1112 and Residue_1102\n",
        "==========================================\n",
        "\n",
        "generating a new crosslink restraint\n",
        "--------------\n",
        "CrossLinkingMassSpectrometryRestraint: generating cross-link restraint between\n",
        "CrossLinkingMassSpectrometryRestraint: residue 323 of chain Rpb1 and residue 176 of chain Rpb1\n",
        "CrossLinkingMassSpectrometryRestraint: with sigma1 SIGMA sigma2 SIGMA psi PSI\n",
        "CrossLinkingMassSpectrometryRestraint: between particles Residue_323 and Residue_176\n",
        "==========================================\n",
        "\n",
        "generating a new crosslink restraint\n",
        "--------------\n",
        "CrossLinkingMassSpectrometryRestraint: generating cross-link restraint between\n",
        "CrossLinkingMassSpectrometryRestraint: residue 228 of chain Rpb2 and residue 270 of chain Rpb2\n",
        "CrossLinkingMassSpectrometryRestraint: with sigma1 SIGMA sigma2 SIGMA psi PSI\n",
        "CrossLinkingMassSpectrometryRestraint: between particles Residue_228 and Residue_270\n",
        "==========================================\n",
        "\n",
        "generating a new crosslink restraint\n",
        "--------------\n",
        "CrossLinkingMassSpectrometryRestraint: generating cross-link restraint between\n",
        "CrossLinkingMassSpectrometryRestraint: residue 45 of chain Rpb5 and residue 20 of chain Rpb5\n",
        "CrossLinkingMassSpectrometryRestraint: with sigma1 SIGMA sigma2 SIGMA psi PSI\n",
        "CrossLinkingMassSpectrometryRestraint: between particles Residue_45 and Residue_20\n",
        "==========================================\n",
        "\n",
        "generating a new crosslink restraint\n",
        "--------------\n",
        "CrossLinkingMassSpectrometryRestraint: generating cross-link restraint between\n",
        "CrossLinkingMassSpectrometryRestraint: residue 1132 of chain Rpb1 and residue 705 of chain Rpb1\n",
        "CrossLinkingMassSpectrometryRestraint: with sigma1 SIGMA sigma2 SIGMA psi PSI\n",
        "CrossLinkingMassSpectrometryRestraint: between particles Residue_1132 and Residue_705\n",
        "==========================================\n",
        "\n",
        "generating a new crosslink restraint\n",
        "--------------\n",
        "CrossLinkingMassSpectrometryRestraint: generating cross-link restraint between\n",
        "CrossLinkingMassSpectrometryRestraint: residue 15 of chain Rpb3 and residue 137 of chain Rpb3\n",
        "CrossLinkingMassSpectrometryRestraint: with sigma1 SIGMA sigma2 SIGMA psi PSI\n",
        "CrossLinkingMassSpectrometryRestraint: between particles Residue_15 and Residue_137\n",
        "==========================================\n",
        "\n",
        "generating a new crosslink restraint\n",
        "--------------\n",
        "CrossLinkingMassSpectrometryRestraint: generating cross-link restraint between\n",
        "CrossLinkingMassSpectrometryRestraint: residue 403 of chain Rpb1 and residue 1102 of chain Rpb2\n",
        "CrossLinkingMassSpectrometryRestraint: with sigma1 SIGMA sigma2 SIGMA psi PSI\n",
        "CrossLinkingMassSpectrometryRestraint: between particles Residue_403 and Residue_1102\n",
        "==========================================\n",
        "\n",
        "generating a new crosslink restraint\n",
        "--------------\n",
        "CrossLinkingMassSpectrometryRestraint: generating cross-link restraint between\n",
        "CrossLinkingMassSpectrometryRestraint: residue 1350 of chain Rpb1 and residue 1093 of chain Rpb1\n",
        "CrossLinkingMassSpectrometryRestraint: with sigma1 SIGMA sigma2 SIGMA psi PSI\n",
        "CrossLinkingMassSpectrometryRestraint: between particles Residue_1350 and Residue_1093\n",
        "==========================================\n",
        "\n",
        "generating a new crosslink restraint\n",
        "--------------\n",
        "CrossLinkingMassSpectrometryRestraint: generating cross-link restraint between\n",
        "CrossLinkingMassSpectrometryRestraint: residue 67 of chain Rpb6 and residue 166 of chain Rpb5\n",
        "CrossLinkingMassSpectrometryRestraint: with sigma1 SIGMA sigma2 SIGMA psi PSI\n",
        "CrossLinkingMassSpectrometryRestraint: between particles 61-71_bead and Residue_166\n",
        "==========================================\n",
        "\n",
        "generating a new crosslink restraint\n",
        "--------------\n",
        "CrossLinkingMassSpectrometryRestraint: generating cross-link restraint between\n",
        "CrossLinkingMassSpectrometryRestraint: residue 705 of chain Rpb1 and residue 1093 of chain Rpb1\n",
        "CrossLinkingMassSpectrometryRestraint: with sigma1 SIGMA sigma2 SIGMA psi PSI\n",
        "CrossLinkingMassSpectrometryRestraint: between particles Residue_705 and Residue_1093\n",
        "==========================================\n",
        "\n",
        "generating a new crosslink restraint"
       ]
      },
      {
       "output_type": "stream",
       "stream": "stdout",
       "text": [
        "\n",
        "--------------\n",
        "CrossLinkingMassSpectrometryRestraint: generating cross-link restraint between\n",
        "CrossLinkingMassSpectrometryRestraint: residue 148 of chain Rpb2 and residue 87 of chain Rpb2\n",
        "CrossLinkingMassSpectrometryRestraint: with sigma1 SIGMA sigma2 SIGMA psi PSI\n",
        "CrossLinkingMassSpectrometryRestraint: between particles 135-154_bead and 71-89_bead\n",
        "==========================================\n",
        "\n",
        "generating a new crosslink restraint\n",
        "--------------\n",
        "CrossLinkingMassSpectrometryRestraint: generating cross-link restraint between\n",
        "CrossLinkingMassSpectrometryRestraint: residue 507 of chain Rpb2 and residue 1093 of chain Rpb1\n",
        "CrossLinkingMassSpectrometryRestraint: with sigma1 SIGMA sigma2 SIGMA psi PSI\n",
        "CrossLinkingMassSpectrometryRestraint: between particles 503-508_bead and Residue_1093\n",
        "==========================================\n",
        "\n",
        "generating a new crosslink restraint\n",
        "--------------\n",
        "CrossLinkingMassSpectrometryRestraint: generating cross-link restraint between\n",
        "CrossLinkingMassSpectrometryRestraint: residue 140 of chain Rpb7 and residue 139 of chain Rpb4\n",
        "CrossLinkingMassSpectrometryRestraint: with sigma1 SIGMA sigma2 SIGMA psi PSI\n",
        "CrossLinkingMassSpectrometryRestraint: between particles Residue_140 and Residue_139\n",
        "==========================================\n",
        "\n",
        "generating a new crosslink restraint\n",
        "--------------\n",
        "CrossLinkingMassSpectrometryRestraint: generating cross-link restraint between\n",
        "CrossLinkingMassSpectrometryRestraint: residue 705 of chain Rpb1 and residue 1286 of chain Rpb1\n",
        "CrossLinkingMassSpectrometryRestraint: with sigma1 SIGMA sigma2 SIGMA psi PSI\n",
        "CrossLinkingMassSpectrometryRestraint: between particles Residue_705 and Residue_1286\n",
        "==========================================\n",
        "\n",
        "generating a new crosslink restraint\n",
        "--------------\n",
        "CrossLinkingMassSpectrometryRestraint: generating cross-link restraint between\n",
        "CrossLinkingMassSpectrometryRestraint: residue 830 of chain Rpb1 and residue 1093 of chain Rpb1\n",
        "CrossLinkingMassSpectrometryRestraint: with sigma1 SIGMA sigma2 SIGMA psi PSI\n",
        "CrossLinkingMassSpectrometryRestraint: between particles Residue_830 and Residue_1093\n",
        "==========================================\n",
        "\n",
        "generating a new crosslink restraint\n",
        "--------------\n",
        "CrossLinkingMassSpectrometryRestraint: generating cross-link restraint between\n",
        "CrossLinkingMassSpectrometryRestraint: residue 330 of chain Rpb1 and residue 471 of chain Rpb2\n",
        "CrossLinkingMassSpectrometryRestraint: with sigma1 SIGMA sigma2 SIGMA psi PSI\n",
        "CrossLinkingMassSpectrometryRestraint: between particles Residue_330 and 468-476_bead\n",
        "==========================================\n",
        "\n",
        "generating a new crosslink restraint\n",
        "--------------\n",
        "CrossLinkingMassSpectrometryRestraint: generating cross-link restraint between\n",
        "CrossLinkingMassSpectrometryRestraint: residue 94 of chain Rpb2 and residue 164 of chain Rpb2\n",
        "CrossLinkingMassSpectrometryRestraint: with sigma1 SIGMA sigma2 SIGMA psi PSI\n",
        "CrossLinkingMassSpectrometryRestraint: between particles Residue_94 and Residue_164\n",
        "==========================================\n",
        "\n",
        "generating a new crosslink restraint\n",
        "--------------\n",
        "CrossLinkingMassSpectrometryRestraint: generating cross-link restraint between\n",
        "CrossLinkingMassSpectrometryRestraint: residue 323 of chain Rpb1 and residue 332 of chain Rpb1\n",
        "CrossLinkingMassSpectrometryRestraint: with sigma1 SIGMA sigma2 SIGMA psi PSI\n",
        "CrossLinkingMassSpectrometryRestraint: between particles Residue_323 and Residue_332\n",
        "==========================================\n",
        "\n",
        "generating a new crosslink restraint\n",
        "--------------\n",
        "CrossLinkingMassSpectrometryRestraint: generating cross-link restraint between\n",
        "CrossLinkingMassSpectrometryRestraint: residue 1112 of chain Rpb1 and residue 507 of chain Rpb2\n",
        "CrossLinkingMassSpectrometryRestraint: with sigma1 SIGMA sigma2 SIGMA psi PSI\n",
        "CrossLinkingMassSpectrometryRestraint: between particles Residue_1112 and 503-508_bead\n",
        "==========================================\n",
        "\n",
        "generating a new crosslink restraint\n",
        "--------------\n",
        "CrossLinkingMassSpectrometryRestraint: generating cross-link restraint between\n",
        "CrossLinkingMassSpectrometryRestraint: residue 689 of chain Rpb1 and residue 728 of chain Rpb1\n",
        "CrossLinkingMassSpectrometryRestraint: with sigma1 SIGMA sigma2 SIGMA psi PSI\n",
        "CrossLinkingMassSpectrometryRestraint: between particles Residue_689 and Residue_728\n",
        "==========================================\n",
        "\n",
        "generating a new crosslink restraint\n",
        "--------------\n",
        "CrossLinkingMassSpectrometryRestraint: generating cross-link restraint between\n",
        "CrossLinkingMassSpectrometryRestraint: residue 154 of chain Rpb3 and residue 161 of chain Rpb3\n",
        "CrossLinkingMassSpectrometryRestraint: with sigma1 SIGMA sigma2 SIGMA psi PSI\n",
        "CrossLinkingMassSpectrometryRestraint: between particles Residue_154 and Residue_161\n",
        "==========================================\n",
        "\n",
        "generating a new crosslink restraint\n",
        "--------------\n",
        "CrossLinkingMassSpectrometryRestraint: generating cross-link restraint between\n",
        "CrossLinkingMassSpectrometryRestraint: residue 171 of chain Rpb5 and residue 166 of chain Rpb5\n",
        "CrossLinkingMassSpectrometryRestraint: with sigma1 SIGMA sigma2 SIGMA psi PSI\n",
        "CrossLinkingMassSpectrometryRestraint: between particles Residue_171 and Residue_166\n",
        "==========================================\n",
        "\n",
        "generating a new crosslink restraint\n",
        "--------------\n",
        "CrossLinkingMassSpectrometryRestraint: generating cross-link restraint between\n",
        "CrossLinkingMassSpectrometryRestraint: residue 775 of chain Rpb2 and residue 987 of chain Rpb2\n",
        "CrossLinkingMassSpectrometryRestraint: with sigma1 SIGMA sigma2 SIGMA psi PSI\n",
        "CrossLinkingMassSpectrometryRestraint: between particles Residue_775 and Residue_987\n",
        "==========================================\n",
        "\n",
        "generating a new crosslink restraint\n",
        "--------------\n",
        "CrossLinkingMassSpectrometryRestraint: generating cross-link restraint between\n",
        "CrossLinkingMassSpectrometryRestraint: residue 68 of chain Rpb10 and residue 149 of chain Rpb3\n",
        "CrossLinkingMassSpectrometryRestraint: with sigma1 SIGMA sigma2 SIGMA psi PSI\n",
        "CrossLinkingMassSpectrometryRestraint: between particles 66-70_bead and Residue_149\n",
        "==========================================\n",
        "\n",
        "generating a new crosslink restraint\n",
        "--------------\n",
        "CrossLinkingMassSpectrometryRestraint: generating cross-link restraint between\n",
        "CrossLinkingMassSpectrometryRestraint: residue 358 of chain Rpb2 and residue 246 of chain Rpb2\n",
        "CrossLinkingMassSpectrometryRestraint: with sigma1 SIGMA sigma2 SIGMA psi PSI\n",
        "CrossLinkingMassSpectrometryRestraint: between particles Residue_358 and Residue_246\n",
        "==========================================\n",
        "\n",
        "generating a new crosslink restraint\n",
        "--------------\n",
        "CrossLinkingMassSpectrometryRestraint: generating cross-link restraint between\n",
        "CrossLinkingMassSpectrometryRestraint: residue 403 of chain Rpb1 and residue 1 of chain Rpb1\n",
        "CrossLinkingMassSpectrometryRestraint: with sigma1 SIGMA sigma2 SIGMA psi PSI\n",
        "CrossLinkingMassSpectrometryRestraint: between particles Residue_403 and 1_bead\n",
        "==========================================\n",
        "\n",
        "generating a new crosslink restraint\n",
        "--------------\n",
        "CrossLinkingMassSpectrometryRestraint: generating cross-link restraint between\n",
        "CrossLinkingMassSpectrometryRestraint: residue 1003 of chain Rpb1 and residue 197 of chain Rpb5\n",
        "CrossLinkingMassSpectrometryRestraint: with sigma1 SIGMA sigma2 SIGMA psi PSI\n",
        "CrossLinkingMassSpectrometryRestraint: between particles Residue_1003 and Residue_197\n",
        "==========================================\n",
        "\n",
        "generating a new crosslink restraint"
       ]
      },
      {
       "output_type": "stream",
       "stream": "stdout",
       "text": [
        "\n",
        "--------------\n",
        "CrossLinkingMassSpectrometryRestraint: generating cross-link restraint between\n",
        "CrossLinkingMassSpectrometryRestraint: residue 431 of chain Rpb1 and residue 1 of chain Rpb1\n",
        "CrossLinkingMassSpectrometryRestraint: with sigma1 SIGMA sigma2 SIGMA psi PSI\n",
        "CrossLinkingMassSpectrometryRestraint: between particles Residue_431 and 1_bead\n",
        "==========================================\n",
        "\n",
        "generating a new crosslink restraint\n",
        "--------------\n",
        "CrossLinkingMassSpectrometryRestraint: generating cross-link restraint between\n",
        "CrossLinkingMassSpectrometryRestraint: residue 227 of chain Rpb2 and residue 507 of chain Rpb2\n",
        "CrossLinkingMassSpectrometryRestraint: with sigma1 SIGMA sigma2 SIGMA psi PSI\n",
        "CrossLinkingMassSpectrometryRestraint: between particles Residue_227 and 503-508_bead\n",
        "==========================================\n",
        "\n",
        "generating a new crosslink restraint\n",
        "--------------\n",
        "CrossLinkingMassSpectrometryRestraint: generating cross-link restraint between\n",
        "CrossLinkingMassSpectrometryRestraint: residue 15 of chain Rpb1 and residue 73 of chain Rpb7\n",
        "CrossLinkingMassSpectrometryRestraint: with sigma1 SIGMA sigma2 SIGMA psi PSI\n",
        "CrossLinkingMassSpectrometryRestraint: between particles Residue_15 and Residue_73\n",
        "==========================================\n",
        "\n",
        "generating a new crosslink restraint\n",
        "--------------\n",
        "CrossLinkingMassSpectrometryRestraint: generating cross-link restraint between\n",
        "CrossLinkingMassSpectrometryRestraint: residue 775 of chain Rpb2 and residue 1102 of chain Rpb2\n",
        "CrossLinkingMassSpectrometryRestraint: with sigma1 SIGMA sigma2 SIGMA psi PSI\n",
        "CrossLinkingMassSpectrometryRestraint: between particles Residue_775 and Residue_1102\n",
        "==========================================\n",
        "\n",
        "generating a new crosslink restraint\n",
        "--------------\n",
        "CrossLinkingMassSpectrometryRestraint: generating cross-link restraint between\n",
        "CrossLinkingMassSpectrometryRestraint: residue 15 of chain Rpb1 and residue 171 of chain Rpb5\n",
        "CrossLinkingMassSpectrometryRestraint: with sigma1 SIGMA sigma2 SIGMA psi PSI\n",
        "CrossLinkingMassSpectrometryRestraint: between particles Residue_15 and Residue_171\n",
        "==========================================\n",
        "\n",
        "generating a new crosslink restraint\n",
        "--------------\n",
        "CrossLinkingMassSpectrometryRestraint: generating cross-link restraint between\n",
        "CrossLinkingMassSpectrometryRestraint: residue 1300 of chain Rpb1 and residue 1093 of chain Rpb1\n",
        "CrossLinkingMassSpectrometryRestraint: with sigma1 SIGMA sigma2 SIGMA psi PSI\n",
        "CrossLinkingMassSpectrometryRestraint: between particles Residue_1300 and Residue_1093\n",
        "==========================================\n",
        "\n",
        "generating a new crosslink restraint\n",
        "--------------\n",
        "CrossLinkingMassSpectrometryRestraint: generating cross-link restraint between\n",
        "CrossLinkingMassSpectrometryRestraint: residue 1 of chain Rpb1 and residue 934 of chain Rpb2\n",
        "CrossLinkingMassSpectrometryRestraint: with sigma1 SIGMA sigma2 SIGMA psi PSI\n",
        "CrossLinkingMassSpectrometryRestraint: between particles 1_bead and Residue_934\n",
        "==========================================\n",
        "\n",
        "generating a new crosslink restraint\n",
        "--------------\n",
        "CrossLinkingMassSpectrometryRestraint: generating cross-link restraint between\n",
        "CrossLinkingMassSpectrometryRestraint: residue 1109 of chain Rpb1 and residue 507 of chain Rpb2\n",
        "CrossLinkingMassSpectrometryRestraint: with sigma1 SIGMA sigma2 SIGMA psi PSI\n",
        "CrossLinkingMassSpectrometryRestraint: between particles Residue_1109 and 503-508_bead\n",
        "==========================================\n",
        "\n",
        "generating a new crosslink restraint\n",
        "--------------\n",
        "CrossLinkingMassSpectrometryRestraint: generating cross-link restraint between\n",
        "CrossLinkingMassSpectrometryRestraint: residue 228 of chain Rpb2 and residue 510 of chain Rpb2\n",
        "CrossLinkingMassSpectrometryRestraint: with sigma1 SIGMA sigma2 SIGMA psi PSI\n",
        "CrossLinkingMassSpectrometryRestraint: between particles Residue_228 and Residue_510\n",
        "==========================================\n",
        "\n",
        "generating a new crosslink restraint\n",
        "--------------\n",
        "CrossLinkingMassSpectrometryRestraint: generating cross-link restraint between\n",
        "CrossLinkingMassSpectrometryRestraint: residue 73 of chain Rpb7 and residue 70 of chain Rpb6\n",
        "CrossLinkingMassSpectrometryRestraint: with sigma1 SIGMA sigma2 SIGMA psi PSI\n",
        "CrossLinkingMassSpectrometryRestraint: between particles Residue_73 and 61-71_bead\n",
        "==========================================\n",
        "\n",
        "generating a new crosslink restraint\n",
        "--------------\n",
        "CrossLinkingMassSpectrometryRestraint: generating cross-link restraint between\n",
        "CrossLinkingMassSpectrometryRestraint: residue 68 of chain Rpb10 and residue 59 of chain Rpb10\n",
        "CrossLinkingMassSpectrometryRestraint: with sigma1 SIGMA sigma2 SIGMA psi PSI\n",
        "CrossLinkingMassSpectrometryRestraint: between particles 66-70_bead and Residue_59\n",
        "==========================================\n",
        "\n",
        "generating a new crosslink restraint\n",
        "--------------\n",
        "CrossLinkingMassSpectrometryRestraint: generating cross-link restraint between\n",
        "CrossLinkingMassSpectrometryRestraint: residue 372 of chain Rpb1 and residue 403 of chain Rpb1\n",
        "CrossLinkingMassSpectrometryRestraint: with sigma1 SIGMA sigma2 SIGMA psi PSI\n",
        "CrossLinkingMassSpectrometryRestraint: between particles Residue_372 and Residue_403\n",
        "==========================================\n",
        "\n",
        "generating a new crosslink restraint\n",
        "--------------\n",
        "CrossLinkingMassSpectrometryRestraint: generating cross-link restraint between\n",
        "CrossLinkingMassSpectrometryRestraint: residue 458 of chain Rpb2 and residue 471 of chain Rpb2\n",
        "CrossLinkingMassSpectrometryRestraint: with sigma1 SIGMA sigma2 SIGMA psi PSI\n",
        "CrossLinkingMassSpectrometryRestraint: between particles Residue_458 and 468-476_bead\n",
        "==========================================\n",
        "\n",
        "generating a new crosslink restraint\n",
        "--------------\n",
        "CrossLinkingMassSpectrometryRestraint: generating cross-link restraint between\n",
        "CrossLinkingMassSpectrometryRestraint: residue 426 of chain Rpb2 and residue 471 of chain Rpb2\n",
        "CrossLinkingMassSpectrometryRestraint: with sigma1 SIGMA sigma2 SIGMA psi PSI\n",
        "CrossLinkingMassSpectrometryRestraint: between particles Residue_426 and 468-476_bead\n",
        "==========================================\n",
        "\n",
        "generating a new crosslink restraint\n",
        "--------------\n",
        "CrossLinkingMassSpectrometryRestraint: generating cross-link restraint between\n",
        "CrossLinkingMassSpectrometryRestraint: residue 129 of chain Rpb1 and residue 67 of chain Rpb6\n",
        "CrossLinkingMassSpectrometryRestraint: with sigma1 SIGMA sigma2 SIGMA psi PSI\n",
        "CrossLinkingMassSpectrometryRestraint: between particles Residue_129 and 61-71_bead\n",
        "==========================================\n",
        "\n",
        "generating a new crosslink restraint\n",
        "--------------\n",
        "CrossLinkingMassSpectrometryRestraint: generating cross-link restraint between\n",
        "CrossLinkingMassSpectrometryRestraint: residue 1350 of chain Rpb1 and residue 201 of chain Rpb5\n",
        "CrossLinkingMassSpectrometryRestraint: with sigma1 SIGMA sigma2 SIGMA psi PSI\n",
        "CrossLinkingMassSpectrometryRestraint: between particles Residue_1350 and Residue_201\n",
        "==========================================\n",
        "\n",
        "generating a new crosslink restraint\n",
        "--------------\n",
        "CrossLinkingMassSpectrometryRestraint: generating cross-link restraint between\n",
        "CrossLinkingMassSpectrometryRestraint: residue 1102 of chain Rpb1 and residue 332 of chain Rpb1\n",
        "CrossLinkingMassSpectrometryRestraint: with sigma1 SIGMA sigma2 SIGMA psi PSI\n",
        "CrossLinkingMassSpectrometryRestraint: between particles Residue_1102 and Residue_332\n",
        "==========================================\n",
        "\n",
        "generating a new crosslink restraint\n",
        "--------------\n",
        "CrossLinkingMassSpectrometryRestraint: generating cross-link restraint between\n",
        "CrossLinkingMassSpectrometryRestraint: residue 70 of chain Rpb6 and residue 166 of chain Rpb5\n",
        "CrossLinkingMassSpectrometryRestraint: with sigma1 SIGMA sigma2 SIGMA psi PSI\n",
        "CrossLinkingMassSpectrometryRestraint: between particles 61-71_bead and Residue_166\n",
        "==========================================\n",
        "\n",
        "generating a new crosslink restraint\n",
        "--------------\n",
        "CrossLinkingMassSpectrometryRestraint: generating cross-link restraint between\n",
        "CrossLinkingMassSpectrometryRestraint: residue 864 of chain Rpb2 and residue 471 of chain Rpb2\n",
        "CrossLinkingMassSpectrometryRestraint: with sigma1 SIGMA sigma2 SIGMA psi PSI\n",
        "CrossLinkingMassSpectrometryRestraint: between particles Residue_864 and 468-476_bead\n",
        "==========================================\n",
        "\n",
        "generating a new crosslink restraint"
       ]
      },
      {
       "output_type": "stream",
       "stream": "stdout",
       "text": [
        "\n",
        "--------------\n",
        "CrossLinkingMassSpectrometryRestraint: generating cross-link restraint between\n",
        "CrossLinkingMassSpectrometryRestraint: residue 688 of chain Rpb1 and residue 728 of chain Rpb1\n",
        "CrossLinkingMassSpectrometryRestraint: with sigma1 SIGMA sigma2 SIGMA psi PSI\n",
        "CrossLinkingMassSpectrometryRestraint: between particles Residue_688 and Residue_728\n",
        "==========================================\n",
        "\n",
        "generating a new crosslink restraint\n",
        "--------------\n",
        "CrossLinkingMassSpectrometryRestraint: generating cross-link restraint between\n",
        "CrossLinkingMassSpectrometryRestraint: residue 471 of chain Rpb2 and residue 422 of chain Rpb2\n",
        "CrossLinkingMassSpectrometryRestraint: with sigma1 SIGMA sigma2 SIGMA psi PSI\n",
        "CrossLinkingMassSpectrometryRestraint: between particles 468-476_bead and Residue_422\n",
        "==========================================\n",
        "\n",
        "generating a new crosslink restraint\n",
        "--------------\n",
        "CrossLinkingMassSpectrometryRestraint: generating cross-link restraint between\n",
        "CrossLinkingMassSpectrometryRestraint: residue 773 of chain Rpb1 and residue 1093 of chain Rpb1\n",
        "CrossLinkingMassSpectrometryRestraint: with sigma1 SIGMA sigma2 SIGMA psi PSI\n",
        "CrossLinkingMassSpectrometryRestraint: between particles Residue_773 and Residue_1093\n",
        "==========================================\n",
        "\n"
       ]
      }
     ],
     "prompt_number": 16
    },
    {
     "cell_type": "markdown",
     "metadata": {
      "slideshow": {
       "slide_type": "subslide"
      }
     },
     "source": [
      "#### Electron Microscopy Restraint <a name=\"EM_4\"></a>"
     ]
    },
    {
     "cell_type": "markdown",
     "metadata": {
      "slideshow": {
       "slide_type": "fragment"
      }
     },
     "source": [
      "The GaussianEMRestraint uses a density overlap function to compare model to data\n",
      "First the EM map is approximated with a Gaussian Mixture Model (done separately)\n",
      "Second, the components of the model are represented with Gaussians (forming the model GMM)\n",
      "\n",
      "The GaussianEMRestraint uses a density overlap function to compare model to data. First the EM map is approximated with a Gaussian Mixture Model (done separately). Second, the components of the model are represented with Gaussians (forming the model GMM)\n",
      "\n",
      "* `scale_target_to_mass` ensures the total mass of model and map are identical\n",
      "* `slope`: nudge model closer to map when far away\n",
      "* `weight`: heuristic, needed to calibrate the EM restraint with the other terms. \n",
      "\n",
      "and then add it to the output object.  Nothing is being sampled, so it does not need to be added to sample objects.\n"
     ]
    },
    {
     "cell_type": "code",
     "collapsed": false,
     "input": [
      "# First, get the model density objects that will be fitted to the EM density.\n",
      "em_components = IMP.pmi.tools.get_densities(root_hier)\n",
      "\n",
      "gemt = IMP.pmi.restraints.em.GaussianEMRestraint(em_components,\n",
      "                                      target_gmm_file,  # EM map GMM file\n",
      "                                      scale_target_to_mass=True,  # True if the mass of the map and model are identical.\n",
      "                                      slope=0.0000001,  # A small funneling force pulling towards the center of the EM density.\n",
      "                                      weight=80.0)           \n",
      "gemt.add_to_model()\n",
      "outputobjects.append(gemt)"
     ],
     "language": "python",
     "metadata": {
      "slideshow": {
       "slide_type": "fragment"
      }
     },
     "outputs": [
      {
       "output_type": "stream",
       "stream": "stdout",
       "text": [
        "will set target mass to 477271.1962\n",
        "will scale target mass by 1.0\n",
        "target num particles 50 total weight 477271.1962\n",
        "model num particles 153 total weight 477271.1962\n",
        "done EM setup\n"
       ]
      }
     ],
     "prompt_number": 17
    },
    {
     "cell_type": "markdown",
     "metadata": {
      "slideshow": {
       "slide_type": "slide"
      }
     },
     "source": [
      "## Stage 3 - Sampling <a name=\"Sampling_2\"></a>\n",
      "\n",
      "With the system representation built and data restraints entered, the system is now ready to sample configurations. A replica exchange run can be set up using the `ReplicaExchange0` macro:\n",
      "\n",
      "See the [ReplicaExchange0 documentation](https://integrativemodeling.org/nightly/doc/ref/classIMP_1_1pmi_1_1macros_1_1ReplicaExchange0.html) for a full description of all of the input parameters.\n",
      "\n",
      "The sampling is performed by executing the macro:\n",
      "\n",
      "```mc1.execute_macro()```\n"
     ]
    },
    {
     "cell_type": "code",
     "collapsed": false,
     "input": [
      "# total number of saved frames\n",
      "num_frames = 50\n",
      "\n",
      "# This object defines all components to be sampled as well as the sampling protocol\n",
      "mc1=IMP.pmi.macros.ReplicaExchange0(m,\n",
      "              root_hier=root_hier,                         # The root hierarchy\n",
      "              monte_carlo_sample_objects=dof.get_movers(), # All moving particles and parameters\n",
      "              output_objects=outputobjects,                # Objects to put into the stat file\n",
      "              crosslink_restraints=[xl1rest,xl2rest],      # allows XLs to be drawn in the RMF files\n",
      "              monte_carlo_temperature=1.0,                 \n",
      "              simulated_annealing=True,\n",
      "              simulated_annealing_minimum_temperature=1.0,\n",
      "              simulated_annealing_maximum_temperature=2.5,\n",
      "              simulated_annealing_minimum_temperature_nframes=200,\n",
      "              simulated_annealing_maximum_temperature_nframes=20,\n",
      "              replica_exchange_minimum_temperature=1.0,\n",
      "              replica_exchange_maximum_temperature=2.5,\n",
      "              number_of_best_scoring_models=10,\n",
      "              monte_carlo_steps=10,\n",
      "              number_of_frames=num_frames,\n",
      "              global_output_directory=output_directory)\n",
      "\n",
      "# Start Sampling\n",
      "mc1.execute_macro()"
     ],
     "language": "python",
     "metadata": {
      "slideshow": {
       "slide_type": "fragment"
      }
     },
     "outputs": [
      {
       "output_type": "stream",
       "stream": "stdout",
       "text": [
        "Setting up MonteCarlo\n",
        "Setting up ReplicaExchange\n",
        "ReplicaExchange: MPI was found. Using Parallel Replica Exchange"
       ]
      },
      {
       "output_type": "stream",
       "stream": "stdout",
       "text": [
        "\n",
        "Setting up stat file\n",
        "Setting up replica stat file"
       ]
      },
      {
       "output_type": "stream",
       "stream": "stdout",
       "text": [
        "\n",
        "Setting up best pdb files\n",
        "Setting up and writing initial rmf coordinate file"
       ]
      },
      {
       "output_type": "stream",
       "stream": "stdout",
       "text": [
        "\n",
        "Setting up production rmf files"
       ]
      },
      {
       "output_type": "stream",
       "stream": "stdout",
       "text": [
        "\n",
        "ReplicaExchange0: it generates initial.*.rmf3, stat.*.out, rmfs/*.rmf3 for each replica "
       ]
      },
      {
       "output_type": "stream",
       "stream": "stdout",
       "text": [
        "\n",
        "--- it stores the best scoring pdb models in pdbs/\n",
        "--- the stat.*.out and rmfs/*.rmf3 are saved only at the lowest temperature\n",
        "--- variables:\n",
        "------ atomistic                      False\n",
        "------ best_pdb_dir                   pdbs/\n",
        "------ best_pdb_name_suffix           model\n",
        "------ do_clean_first                 True\n",
        "------ do_create_directories          True\n",
        "------ geometries                     None\n",
        "------ global_output_directory        ./output\n",
        "------ initial_rmf_name_suffix        initial\n",
        "------ molecular_dynamics_steps       10\n",
        "------ monte_carlo_steps              10\n",
        "------ monte_carlo_temperature        1.0\n",
        "------ nframes_write_coordinates      1\n",
        "------ num_sample_rounds              1\n",
        "------ number_of_best_scoring_models  10\n",
        "------ number_of_frames               50\n",
        "------ number_of_states               1\n",
        "------ replica_exchange_maximum_temperature 2.5\n",
        "------ replica_exchange_minimum_temperature 1.0\n",
        "------ replica_stat_file_suffix       stat_replica\n",
        "------ rmf_dir                        rmfs/\n",
        "------ self_adaptive                  False\n",
        "------ simulated_annealing            True\n",
        "------ simulated_annealing_maximum_temperature 2.5\n",
        "------ simulated_annealing_maximum_temperature_nframes 20\n",
        "------ simulated_annealing_minimum_temperature 1.0\n",
        "------ simulated_annealing_minimum_temperature_nframes 200\n",
        "------ stat_file_name_suffix          stat\n",
        "------ write_initial_rmf              True\n",
        "--- frame 0 score 1790820.76021 "
       ]
      },
      {
       "output_type": "stream",
       "stream": "stdout",
       "text": [
        "\n",
        "--- writing coordinates\n",
        "--- frame 1 score 1447604.94441 "
       ]
      },
      {
       "output_type": "stream",
       "stream": "stdout",
       "text": [
        "\n",
        "--- writing coordinates\n",
        "--- frame 2 score 1177020.73123 "
       ]
      },
      {
       "output_type": "stream",
       "stream": "stdout",
       "text": [
        "\n",
        "--- writing coordinates\n",
        "--- frame 3 score 963372.752059 "
       ]
      },
      {
       "output_type": "stream",
       "stream": "stdout",
       "text": [
        "\n",
        "--- writing coordinates\n",
        "--- frame 4 score 801874.274847 "
       ]
      },
      {
       "output_type": "stream",
       "stream": "stdout",
       "text": [
        "\n",
        "--- writing coordinates\n",
        "--- frame 5 score 634029.670937 "
       ]
      },
      {
       "output_type": "stream",
       "stream": "stdout",
       "text": [
        "\n",
        "--- writing coordinates\n",
        "--- frame 6 score 514548.030733 "
       ]
      },
      {
       "output_type": "stream",
       "stream": "stdout",
       "text": [
        "\n",
        "--- writing coordinates\n",
        "--- frame 7 score 383591.216466 "
       ]
      },
      {
       "output_type": "stream",
       "stream": "stdout",
       "text": [
        "\n",
        "--- writing coordinates\n",
        "--- frame 8 score 293074.296989 "
       ]
      },
      {
       "output_type": "stream",
       "stream": "stdout",
       "text": [
        "\n",
        "--- writing coordinates\n",
        "--- frame 9 score 215921.762579 "
       ]
      },
      {
       "output_type": "stream",
       "stream": "stdout",
       "text": [
        "\n",
        "--- writing coordinates\n",
        "--- frame 10 score 167976.206239 "
       ]
      },
      {
       "output_type": "stream",
       "stream": "stdout",
       "text": [
        "\n",
        "--- writing coordinates\n",
        "--- frame 11 score 133602.047528 "
       ]
      },
      {
       "output_type": "stream",
       "stream": "stdout",
       "text": [
        "\n",
        "--- writing coordinates\n",
        "--- frame 12 score 108855.129093 "
       ]
      },
      {
       "output_type": "stream",
       "stream": "stdout",
       "text": [
        "\n",
        "--- writing coordinates\n",
        "--- frame 13 score 86358.2985035 "
       ]
      },
      {
       "output_type": "stream",
       "stream": "stdout",
       "text": [
        "\n",
        "--- writing coordinates\n",
        "--- frame 14 score 68047.5264577 "
       ]
      },
      {
       "output_type": "stream",
       "stream": "stdout",
       "text": [
        "\n",
        "--- writing coordinates\n",
        "--- frame 15 score 45752.5983626 "
       ]
      },
      {
       "output_type": "stream",
       "stream": "stdout",
       "text": [
        "\n",
        "--- writing coordinates\n",
        "--- frame 16 score 32554.8280276 "
       ]
      },
      {
       "output_type": "stream",
       "stream": "stdout",
       "text": [
        "\n",
        "--- writing coordinates\n",
        "--- frame 17 score 17140.6198976 "
       ]
      },
      {
       "output_type": "stream",
       "stream": "stdout",
       "text": [
        "\n",
        "--- writing coordinates\n",
        "--- frame 18 score 10224.9891411 "
       ]
      },
      {
       "output_type": "stream",
       "stream": "stdout",
       "text": [
        "\n",
        "--- writing coordinates\n",
        "--- frame 19 score 4315.3600185 "
       ]
      },
      {
       "output_type": "stream",
       "stream": "stdout",
       "text": [
        "\n",
        "--- writing coordinates\n",
        "--- frame 20 score 2825.15499705 "
       ]
      },
      {
       "output_type": "stream",
       "stream": "stdout",
       "text": [
        "\n",
        "--- writing coordinates\n",
        "--- frame 21 score 915.990750775 "
       ]
      },
      {
       "output_type": "stream",
       "stream": "stdout",
       "text": [
        "\n",
        "--- writing coordinates\n",
        "--- frame 22 score 714.417655612 "
       ]
      },
      {
       "output_type": "stream",
       "stream": "stdout",
       "text": [
        "\n",
        "--- writing coordinates\n",
        "--- frame 23 score 715.590109637 "
       ]
      },
      {
       "output_type": "stream",
       "stream": "stdout",
       "text": [
        "\n",
        "--- writing coordinates\n",
        "--- frame 24 score 684.882235475 "
       ]
      },
      {
       "output_type": "stream",
       "stream": "stdout",
       "text": [
        "\n",
        "--- writing coordinates\n",
        "--- frame 25 score 671.061908862 "
       ]
      },
      {
       "output_type": "stream",
       "stream": "stdout",
       "text": [
        "\n",
        "--- writing coordinates\n",
        "--- frame 26 score 660.879764468 "
       ]
      },
      {
       "output_type": "stream",
       "stream": "stdout",
       "text": [
        "\n",
        "--- writing coordinates\n",
        "--- frame 27 score 664.981836258 "
       ]
      },
      {
       "output_type": "stream",
       "stream": "stdout",
       "text": [
        "\n",
        "--- writing coordinates\n",
        "--- frame 28 score 658.051091823 "
       ]
      },
      {
       "output_type": "stream",
       "stream": "stdout",
       "text": [
        "\n",
        "--- writing coordinates\n",
        "--- frame 29 score 653.89721684 "
       ]
      },
      {
       "output_type": "stream",
       "stream": "stdout",
       "text": [
        "\n",
        "--- writing coordinates\n",
        "--- frame 30 score 652.816203473 "
       ]
      },
      {
       "output_type": "stream",
       "stream": "stdout",
       "text": [
        "\n",
        "--- writing coordinates\n",
        "--- frame 31 score 642.72585959 "
       ]
      },
      {
       "output_type": "stream",
       "stream": "stdout",
       "text": [
        "\n",
        "--- writing coordinates\n",
        "--- frame 32 score 638.911773856 "
       ]
      },
      {
       "output_type": "stream",
       "stream": "stdout",
       "text": [
        "\n",
        "--- writing coordinates\n",
        "--- frame 33 score 620.81773489 "
       ]
      },
      {
       "output_type": "stream",
       "stream": "stdout",
       "text": [
        "\n",
        "--- writing coordinates\n",
        "--- frame 34 score 619.747912464 "
       ]
      },
      {
       "output_type": "stream",
       "stream": "stdout",
       "text": [
        "\n",
        "--- writing coordinates\n",
        "--- frame 35 score 608.028634151 "
       ]
      },
      {
       "output_type": "stream",
       "stream": "stdout",
       "text": [
        "\n",
        "--- writing coordinates\n",
        "--- frame 36 score 612.782121883 "
       ]
      },
      {
       "output_type": "stream",
       "stream": "stdout",
       "text": [
        "\n",
        "--- writing coordinates\n",
        "--- frame 37 score 610.796385609 "
       ]
      },
      {
       "output_type": "stream",
       "stream": "stdout",
       "text": [
        "\n",
        "--- writing coordinates\n",
        "--- frame 38 score 607.767350126 "
       ]
      },
      {
       "output_type": "stream",
       "stream": "stdout",
       "text": [
        "\n",
        "--- writing coordinates\n",
        "--- frame 39 score 612.619289467 "
       ]
      },
      {
       "output_type": "stream",
       "stream": "stdout",
       "text": [
        "\n",
        "--- writing coordinates\n",
        "--- frame 40 score 610.679136498 "
       ]
      },
      {
       "output_type": "stream",
       "stream": "stdout",
       "text": [
        "\n",
        "--- writing coordinates\n",
        "--- frame 41 score 611.581958166 "
       ]
      },
      {
       "output_type": "stream",
       "stream": "stdout",
       "text": [
        "\n",
        "--- writing coordinates\n",
        "--- frame 42 score 611.45139122 "
       ]
      },
      {
       "output_type": "stream",
       "stream": "stdout",
       "text": [
        "\n",
        "--- writing coordinates\n",
        "--- frame 43 score 611.880601168 "
       ]
      },
      {
       "output_type": "stream",
       "stream": "stdout",
       "text": [
        "\n",
        "--- writing coordinates\n",
        "--- frame 44 score 610.728924873 "
       ]
      },
      {
       "output_type": "stream",
       "stream": "stdout",
       "text": [
        "\n",
        "--- writing coordinates\n",
        "--- frame 45 score 612.488511681 "
       ]
      },
      {
       "output_type": "stream",
       "stream": "stdout",
       "text": [
        "\n",
        "--- writing coordinates\n",
        "--- frame 46 score 609.635597961 "
       ]
      },
      {
       "output_type": "stream",
       "stream": "stdout",
       "text": [
        "\n",
        "--- writing coordinates\n",
        "--- frame 47 score 611.167209422 "
       ]
      },
      {
       "output_type": "stream",
       "stream": "stdout",
       "text": [
        "\n",
        "--- writing coordinates\n",
        "--- frame 48 score 603.823527702 "
       ]
      },
      {
       "output_type": "stream",
       "stream": "stdout",
       "text": [
        "\n",
        "--- writing coordinates\n",
        "--- frame 49 score 609.299196168 "
       ]
      },
      {
       "output_type": "stream",
       "stream": "stdout",
       "text": [
        "\n",
        "--- writing coordinates\n",
        "closing production rmf files"
       ]
      },
      {
       "output_type": "stream",
       "stream": "stdout",
       "text": [
        "\n"
       ]
      }
     ],
     "prompt_number": 18
    },
    {
     "cell_type": "markdown",
     "metadata": {
      "slideshow": {
       "slide_type": "subslide"
      }
     },
     "source": [
      "### Modeling Output <a name=\"Output_3\"></a>\n",
      "\n",
      "The script generates an output directory containing the following:\n",
      "\n",
      "* pdbs: a directory containing the 100 best-scoring models (see the number_of_best_scoring_models variable above) from the run, in PDB format.\n",
      "* rmfs: a single RMF file containing all the frames. RMF is a file format specially designed to store coarse-grained, multi-resolution and multi-state models such as those generated by %IMP. It is a compact binary format and (as in this case) can also be used to store multiple models or trajectories.\n",
      "* Statistics from the sampling, contained in a \"statfile\", stat.*.out. This file contains information on each restraint, MC acceptance criteria and other things at each step.\n",
      "\n",
      "Gathering Data from statfile\n",
      "Data from the stat file can be parsed and analyzed using two utilities:\n",
      "\n",
      "* process_output.py - parses the statfile and returns columns of interest\n",
      "* plot_stat.sh - plots one or two columns of data (requires gnuplot)\n",
      "\n",
      "process_output.py usage:\n",
      "\n",
      "```\n",
      "IMP_HOME/modules/pmi/pyext/process_output.py [-h] [-f FILENAME] [-s FIELDS [FIELDS ...]] [-t SINGLE_COLUMN_FIELD] [-p] [--head] [-n PRINT_RAW_NUMBER] [--soft] [--search_field SEARCH_FIELD] [--search_value SEARCH_VALUE] [--nframe]\n",
      "```\n",
      "\n",
      "plot_stat.sh usage: \n",
      "\n",
      "```\n",
      "IMP_HOME/modules/pmi/pyext/plot_stat.sh -i STATFILE -y YCOLUMN [-x XCOLUMN] [-m POINTS] [-plot] [-o OUTPUTFILE] [-b BEGIN]\n",
      "```\n",
      "* `-i` | input stat file name\n",
      "* `-y` | column number with Y data values OR column header string\n",
      "* `-x` | column number with X data values OR column header string\n",
      "* `-m` | method of plotting. POINTS, LINES or LINESPOINTS\n",
      "* `-s` | suppress showing plot \n",
      "* `-o` | saves plot to png file with column header names\n",
      "* `-b` | begin at this frame number\n",
      "* `-g` | saves gnuplot file\n",
      "* `-h` | prints this help text to screen"
     ]
    },
    {
     "cell_type": "markdown",
     "metadata": {
      "slideshow": {
       "slide_type": "subslide"
      }
     },
     "source": [
      "### Using `ProcessOutput` for inline analysis <a name=\"ProcessOutput_3\"></a>\n",
      "\n",
      "We can use the class ProcessOutput to analyse and plot the content of the stat files.\n",
      "First, we print all the keywords."
     ]
    },
    {
     "cell_type": "code",
     "collapsed": false,
     "input": [
      "import IMP.pmi.output\n",
      "\n",
      "po=IMP.pmi.output.ProcessOutput(\"./output/stat.0.out\")\n",
      "po.get_keys()"
     ],
     "language": "python",
     "metadata": {
      "slideshow": {
       "slide_type": "fragment"
      }
     },
     "outputs": [
      {
       "metadata": {},
       "output_type": "pyout",
       "prompt_number": 19,
       "text": [
        "['ConnectivityRestraint_Rpb1',\n",
        " 'ConnectivityRestraint_Rpb10',\n",
        " 'ConnectivityRestraint_Rpb11',\n",
        " 'ConnectivityRestraint_Rpb12',\n",
        " 'ConnectivityRestraint_Rpb2',\n",
        " 'ConnectivityRestraint_Rpb3',\n",
        " 'ConnectivityRestraint_Rpb4',\n",
        " 'ConnectivityRestraint_Rpb5',\n",
        " 'ConnectivityRestraint_Rpb6',\n",
        " 'ConnectivityRestraint_Rpb7',\n",
        " 'ConnectivityRestraint_Rpb8',\n",
        " 'ConnectivityRestraint_Rpb9',\n",
        " 'CrossLinkingMassSpectrometryRestraint_Data_Score_Chen',\n",
        " 'CrossLinkingMassSpectrometryRestraint_Data_Score_Trnka',\n",
        " 'CrossLinkingMassSpectrometryRestraint_Distance_|Chen|0.1|Rpb1|34|Rpb1|49|0|PSI|',\n",
        " 'CrossLinkingMassSpectrometryRestraint_Distance_|Chen|1.1|Rpb1|101|Rpb1|143|0|PSI|',\n",
        " 'CrossLinkingMassSpectrometryRestraint_Distance_|Chen|10.1|Rpb1|689|Rpb1|728|0|PSI|',\n",
        " 'CrossLinkingMassSpectrometryRestraint_Distance_|Chen|100.1|Rpb4|1|Rpb6|72|0|PSI|',\n",
        " 'CrossLinkingMassSpectrometryRestraint_Distance_|Chen|101.1|Rpb4|1|Rpb7|29|0|PSI|',\n",
        " 'CrossLinkingMassSpectrometryRestraint_Distance_|Chen|102.1|Rpb4|1|Rpb7|73|0|PSI|',\n",
        " 'CrossLinkingMassSpectrometryRestraint_Distance_|Chen|103.1|Rpb5|166|Rpb6|67|0|PSI|',\n",
        " 'CrossLinkingMassSpectrometryRestraint_Distance_|Chen|104.1|Rpb5|171|Rpb6|46|0|PSI|',\n",
        " 'CrossLinkingMassSpectrometryRestraint_Distance_|Chen|105.1|Rpb5|171|Rpb6|67|0|PSI|',\n",
        " 'CrossLinkingMassSpectrometryRestraint_Distance_|Chen|106.1|Rpb5|171|Rpb6|72|0|PSI|',\n",
        " 'CrossLinkingMassSpectrometryRestraint_Distance_|Chen|107.1|Rpb6|72|Rpb7|73|0|PSI|',\n",
        " 'CrossLinkingMassSpectrometryRestraint_Distance_|Chen|11.1|Rpb1|705|Rpb1|1093|0|PSI|',\n",
        " 'CrossLinkingMassSpectrometryRestraint_Distance_|Chen|12.1|Rpb1|705|Rpb1|1132|0|PSI|',\n",
        " 'CrossLinkingMassSpectrometryRestraint_Distance_|Chen|13.1|Rpb1|705|Rpb1|1286|0|PSI|',\n",
        " 'CrossLinkingMassSpectrometryRestraint_Distance_|Chen|14.1|Rpb1|773|Rpb1|1093|0|PSI|',\n",
        " 'CrossLinkingMassSpectrometryRestraint_Distance_|Chen|15.1|Rpb1|773|Rpb1|1112|0|PSI|',\n",
        " 'CrossLinkingMassSpectrometryRestraint_Distance_|Chen|16.1|Rpb1|830|Rpb1|1093|0|PSI|',\n",
        " 'CrossLinkingMassSpectrometryRestraint_Distance_|Chen|17.1|Rpb1|830|Rpb1|1102|0|PSI|',\n",
        " 'CrossLinkingMassSpectrometryRestraint_Distance_|Chen|18.1|Rpb1|830|Rpb1|1112|0|PSI|',\n",
        " 'CrossLinkingMassSpectrometryRestraint_Distance_|Chen|19.1|Rpb1|934|Rpb1|941|0|PSI|',\n",
        " 'CrossLinkingMassSpectrometryRestraint_Distance_|Chen|2.1|Rpb1|101|Rpb1|176|0|PSI|',\n",
        " 'CrossLinkingMassSpectrometryRestraint_Distance_|Chen|20.1|Rpb1|938|Rpb1|991|0|PSI|',\n",
        " 'CrossLinkingMassSpectrometryRestraint_Distance_|Chen|21.1|Rpb1|1093|Rpb1|1102|0|PSI|',\n",
        " 'CrossLinkingMassSpectrometryRestraint_Distance_|Chen|22.1|Rpb1|1093|Rpb1|1112|0|PSI|',\n",
        " 'CrossLinkingMassSpectrometryRestraint_Distance_|Chen|23.1|Rpb1|1102|Rpb1|1112|0|PSI|',\n",
        " 'CrossLinkingMassSpectrometryRestraint_Distance_|Chen|24.1|Rpb1|1132|Rpb1|1205|0|PSI|',\n",
        " 'CrossLinkingMassSpectrometryRestraint_Distance_|Chen|25.1|Rpb1|1132|Rpb1|1286|0|PSI|',\n",
        " 'CrossLinkingMassSpectrometryRestraint_Distance_|Chen|26.1|Rpb1|1217|Rpb1|1246|0|PSI|',\n",
        " 'CrossLinkingMassSpectrometryRestraint_Distance_|Chen|27.1|Rpb1|1221|Rpb1|1246|0|PSI|',\n",
        " 'CrossLinkingMassSpectrometryRestraint_Distance_|Chen|28.1|Rpb1|1221|Rpb1|1262|0|PSI|',\n",
        " 'CrossLinkingMassSpectrometryRestraint_Distance_|Chen|29.1|Rpb1|1246|Rpb1|1262|0|PSI|',\n",
        " 'CrossLinkingMassSpectrometryRestraint_Distance_|Chen|3.1|Rpb1|143|Rpb1|187|0|PSI|',\n",
        " 'CrossLinkingMassSpectrometryRestraint_Distance_|Chen|30.1|Rpb2|99|Rpb2|164|0|PSI|',\n",
        " 'CrossLinkingMassSpectrometryRestraint_Distance_|Chen|31.1|Rpb2|99|Rpb2|191|0|PSI|',\n",
        " 'CrossLinkingMassSpectrometryRestraint_Distance_|Chen|32.1|Rpb2|228|Rpb2|246|0|PSI|',\n",
        " 'CrossLinkingMassSpectrometryRestraint_Distance_|Chen|33.1|Rpb2|228|Rpb2|257|0|PSI|',\n",
        " 'CrossLinkingMassSpectrometryRestraint_Distance_|Chen|34.1|Rpb2|228|Rpb2|270|0|PSI|',\n",
        " 'CrossLinkingMassSpectrometryRestraint_Distance_|Chen|35.1|Rpb2|228|Rpb2|277|0|PSI|',\n",
        " 'CrossLinkingMassSpectrometryRestraint_Distance_|Chen|36.1|Rpb2|228|Rpb2|507|0|PSI|',\n",
        " 'CrossLinkingMassSpectrometryRestraint_Distance_|Chen|37.1|Rpb2|228|Rpb2|510|0|PSI|',\n",
        " 'CrossLinkingMassSpectrometryRestraint_Distance_|Chen|38.1|Rpb2|246|Rpb2|358|0|PSI|',\n",
        " 'CrossLinkingMassSpectrometryRestraint_Distance_|Chen|39.1|Rpb2|246|Rpb2|426|0|PSI|',\n",
        " 'CrossLinkingMassSpectrometryRestraint_Distance_|Chen|4.1|Rpb1|368|Rpb1|461|0|PSI|',\n",
        " 'CrossLinkingMassSpectrometryRestraint_Distance_|Chen|40.1|Rpb2|345|Rpb2|353|0|PSI|',\n",
        " 'CrossLinkingMassSpectrometryRestraint_Distance_|Chen|41.1|Rpb2|358|Rpb2|422|0|PSI|',\n",
        " 'CrossLinkingMassSpectrometryRestraint_Distance_|Chen|42.1|Rpb2|422|Rpb2|426|0|PSI|',\n",
        " 'CrossLinkingMassSpectrometryRestraint_Distance_|Chen|43.1|Rpb2|426|Rpb2|471|0|PSI|',\n",
        " 'CrossLinkingMassSpectrometryRestraint_Distance_|Chen|44.1|Rpb2|606|Rpb2|652|0|PSI|',\n",
        " 'CrossLinkingMassSpectrometryRestraint_Distance_|Chen|45.1|Rpb2|864|Rpb2|934|0|PSI|',\n",
        " 'CrossLinkingMassSpectrometryRestraint_Distance_|Chen|46.1|Rpb2|876|Rpb2|886|0|PSI|',\n",
        " 'CrossLinkingMassSpectrometryRestraint_Distance_|Chen|47.1|Rpb2|934|Rpb2|972|0|PSI|',\n",
        " 'CrossLinkingMassSpectrometryRestraint_Distance_|Chen|48.1|Rpb2|979|Rpb2|987|0|PSI|',\n",
        " 'CrossLinkingMassSpectrometryRestraint_Distance_|Chen|49.1|Rpb2|979|Rpb2|1102|0|PSI|',\n",
        " 'CrossLinkingMassSpectrometryRestraint_Distance_|Chen|5.1|Rpb1|372|Rpb1|403|0|PSI|',\n",
        " 'CrossLinkingMassSpectrometryRestraint_Distance_|Chen|50.1|Rpb3|15|Rpb3|137|0|PSI|',\n",
        " 'CrossLinkingMassSpectrometryRestraint_Distance_|Chen|51.1|Rpb4|60|Rpb4|71|0|PSI|',\n",
        " 'CrossLinkingMassSpectrometryRestraint_Distance_|Chen|52.1|Rpb4|60|Rpb4|121|0|PSI|',\n",
        " 'CrossLinkingMassSpectrometryRestraint_Distance_|Chen|53.1|Rpb4|60|Rpb4|142|0|PSI|',\n",
        " 'CrossLinkingMassSpectrometryRestraint_Distance_|Chen|54.1|Rpb5|20|Rpb5|45|0|PSI|',\n",
        " 'CrossLinkingMassSpectrometryRestraint_Distance_|Chen|55.1|Rpb5|161|Rpb5|171|0|PSI|',\n",
        " 'CrossLinkingMassSpectrometryRestraint_Distance_|Chen|56.1|Rpb5|161|Rpb5|191|0|PSI|',\n",
        " 'CrossLinkingMassSpectrometryRestraint_Distance_|Chen|57.1|Rpb5|166|Rpb5|171|0|PSI|',\n",
        " 'CrossLinkingMassSpectrometryRestraint_Distance_|Chen|58.1|Rpb5|191|Rpb5|197|0|PSI|',\n",
        " 'CrossLinkingMassSpectrometryRestraint_Distance_|Chen|59.1|Rpb6|123|Rpb6|129|0|PSI|',\n",
        " 'CrossLinkingMassSpectrometryRestraint_Distance_|Chen|6.1|Rpb1|461|Rpb1|637|0|PSI|',\n",
        " 'CrossLinkingMassSpectrometryRestraint_Distance_|Chen|60.1|Rpb11|20|Rpb11|37|0|PSI|',\n",
        " 'CrossLinkingMassSpectrometryRestraint_Distance_|Chen|61.1|Rpb11|55|Rpb11|84|0|PSI|',\n",
        " 'CrossLinkingMassSpectrometryRestraint_Distance_|Chen|62.1|Rpb11|55|Rpb11|88|0|PSI|',\n",
        " 'CrossLinkingMassSpectrometryRestraint_Distance_|Chen|63.1|Rpb12|28|Rpb12|49|0|PSI|',\n",
        " 'CrossLinkingMassSpectrometryRestraint_Distance_|Chen|64.1|Rpb1|330|Rpb2|507|0|PSI|',\n",
        " 'CrossLinkingMassSpectrometryRestraint_Distance_|Chen|65.1|Rpb1|332|Rpb2|507|0|PSI|',\n",
        " 'CrossLinkingMassSpectrometryRestraint_Distance_|Chen|66.1|Rpb1|343|Rpb2|864|0|PSI|',\n",
        " 'CrossLinkingMassSpectrometryRestraint_Distance_|Chen|67.1|Rpb1|343|Rpb2|886|0|PSI|',\n",
        " 'CrossLinkingMassSpectrometryRestraint_Distance_|Chen|68.1|Rpb1|372|Rpb2|886|0|PSI|',\n",
        " 'CrossLinkingMassSpectrometryRestraint_Distance_|Chen|69.1|Rpb1|1093|Rpb2|507|0|PSI|',\n",
        " 'CrossLinkingMassSpectrometryRestraint_Distance_|Chen|7.1|Rpb1|461|Rpb1|644|0|PSI|',\n",
        " 'CrossLinkingMassSpectrometryRestraint_Distance_|Chen|70.1|Rpb1|1102|Rpb2|507|0|PSI|',\n",
        " 'CrossLinkingMassSpectrometryRestraint_Distance_|Chen|71.1|Rpb1|1112|Rpb2|507|0|PSI|',\n",
        " 'CrossLinkingMassSpectrometryRestraint_Distance_|Chen|72.1|Rpb1|15|Rpb4|1|0|PSI|',\n",
        " 'CrossLinkingMassSpectrometryRestraint_Distance_|Chen|73.1|Rpb1|129|Rpb4|1|0|PSI|',\n",
        " 'CrossLinkingMassSpectrometryRestraint_Distance_|Chen|74.1|Rpb1|1003|Rpb4|1|0|PSI|',\n",
        " 'CrossLinkingMassSpectrometryRestraint_Distance_|Chen|75.1|Rpb1|15|Rpb5|171|0|PSI|',\n",
        " 'CrossLinkingMassSpectrometryRestraint_Distance_|Chen|76.1|Rpb1|129|Rpb5|161|0|PSI|',\n",
        " 'CrossLinkingMassSpectrometryRestraint_Distance_|Chen|77.1|Rpb1|129|Rpb5|171|0|PSI|',\n",
        " 'CrossLinkingMassSpectrometryRestraint_Distance_|Chen|78.1|Rpb1|934|Rpb5|201|0|PSI|',\n",
        " 'CrossLinkingMassSpectrometryRestraint_Distance_|Chen|79.1|Rpb1|938|Rpb5|201|0|PSI|',\n",
        " 'CrossLinkingMassSpectrometryRestraint_Distance_|Chen|8.1|Rpb1|688|Rpb1|728|0|PSI|',\n",
        " 'CrossLinkingMassSpectrometryRestraint_Distance_|Chen|80.1|Rpb1|1003|Rpb5|166|0|PSI|',\n",
        " 'CrossLinkingMassSpectrometryRestraint_Distance_|Chen|81.1|Rpb1|129|Rpb6|67|0|PSI|',\n",
        " 'CrossLinkingMassSpectrometryRestraint_Distance_|Chen|82.1|Rpb1|1003|Rpb6|76|0|PSI|',\n",
        " 'CrossLinkingMassSpectrometryRestraint_Distance_|Chen|83.1|Rpb1|15|Rpb7|73|0|PSI|',\n",
        " 'CrossLinkingMassSpectrometryRestraint_Distance_|Chen|84.1|Rpb1|1246|Rpb9|20|0|PSI|',\n",
        " 'CrossLinkingMassSpectrometryRestraint_Distance_|Chen|85.1|Rpb1|637|Rpb11|20|0|PSI|',\n",
        " 'CrossLinkingMassSpectrometryRestraint_Distance_|Chen|86.1|Rpb1|637|Rpb11|26|0|PSI|',\n",
        " 'CrossLinkingMassSpectrometryRestraint_Distance_|Chen|87.1|Rpb1|644|Rpb11|20|0|PSI|',\n",
        " 'CrossLinkingMassSpectrometryRestraint_Distance_|Chen|88.1|Rpb1|644|Rpb11|26|0|PSI|',\n",
        " 'CrossLinkingMassSpectrometryRestraint_Distance_|Chen|89.1|Rpb2|191|Rpb3|149|0|PSI|',\n",
        " 'CrossLinkingMassSpectrometryRestraint_Distance_|Chen|9.1|Rpb1|689|Rpb1|705|0|PSI|',\n",
        " 'CrossLinkingMassSpectrometryRestraint_Distance_|Chen|90.1|Rpb2|1057|Rpb3|199|0|PSI|',\n",
        " 'CrossLinkingMassSpectrometryRestraint_Distance_|Chen|91.1|Rpb2|1188|Rpb4|1|0|PSI|',\n",
        " 'CrossLinkingMassSpectrometryRestraint_Distance_|Chen|92.1|Rpb2|177|Rpb10|68|0|PSI|',\n",
        " 'CrossLinkingMassSpectrometryRestraint_Distance_|Chen|93.1|Rpb2|191|Rpb10|68|0|PSI|',\n",
        " 'CrossLinkingMassSpectrometryRestraint_Distance_|Chen|94.1|Rpb2|813|Rpb10|59|0|PSI|',\n",
        " 'CrossLinkingMassSpectrometryRestraint_Distance_|Chen|95.1|Rpb3|149|Rpb10|68|0|PSI|',\n",
        " 'CrossLinkingMassSpectrometryRestraint_Distance_|Chen|96.1|Rpb3|154|Rpb10|68|0|PSI|',\n",
        " 'CrossLinkingMassSpectrometryRestraint_Distance_|Chen|97.1|Rpb3|160|Rpb11|37|0|PSI|',\n",
        " 'CrossLinkingMassSpectrometryRestraint_Distance_|Chen|98.1|Rpb3|154|Rpb12|62|0|PSI|',\n",
        " 'CrossLinkingMassSpectrometryRestraint_Distance_|Chen|99.1|Rpb4|1|Rpb5|171|0|PSI|',\n",
        " 'CrossLinkingMassSpectrometryRestraint_Distance_|Trnka|0.1|Rpb1|880|Rpb1|620|0|PSI|',\n",
        " 'CrossLinkingMassSpectrometryRestraint_Distance_|Trnka|1.1|Rpb2|228|Rpb2|257|0|PSI|',\n",
        " 'CrossLinkingMassSpectrometryRestraint_Distance_|Trnka|10.1|Rpb2|228|Rpb2|277|0|PSI|',\n",
        " 'CrossLinkingMassSpectrometryRestraint_Distance_|Trnka|100.1|Rpb2|470|Rpb2|423|0|PSI|',\n",
        " 'CrossLinkingMassSpectrometryRestraint_Distance_|Trnka|101.1|Rpb1|343|Rpb2|1102|0|PSI|',\n",
        " 'CrossLinkingMassSpectrometryRestraint_Distance_|Trnka|102.1|Rpb6|76|Rpb7|23|0|PSI|',\n",
        " 'CrossLinkingMassSpectrometryRestraint_Distance_|Trnka|103.1|Rpb1|1|Rpb1|343|0|PSI|',\n",
        " 'CrossLinkingMassSpectrometryRestraint_Distance_|Trnka|104.1|Rpb1|343|Rpb1|330|0|PSI|',\n",
        " 'CrossLinkingMassSpectrometryRestraint_Distance_|Trnka|105.1|Rpb5|152|Rpb5|201|0|PSI|',\n",
        " 'CrossLinkingMassSpectrometryRestraint_Distance_|Trnka|106.1|Rpb2|246|Rpb2|471|0|PSI|',\n",
        " 'CrossLinkingMassSpectrometryRestraint_Distance_|Trnka|107.1|Rpb1|15|Rpb1|176|0|PSI|',\n",
        " 'CrossLinkingMassSpectrometryRestraint_Distance_|Trnka|108.1|Rpb7|23|Rpb6|70|0|PSI|',\n",
        " 'CrossLinkingMassSpectrometryRestraint_Distance_|Trnka|109.1|Rpb2|246|Rpb2|507|0|PSI|',\n",
        " 'CrossLinkingMassSpectrometryRestraint_Distance_|Trnka|11.1|Rpb1|368|Rpb11|37|0|PSI|',\n",
        " 'CrossLinkingMassSpectrometryRestraint_Distance_|Trnka|110.1|Rpb1|330|Rpb2|507|0|PSI|',\n",
        " 'CrossLinkingMassSpectrometryRestraint_Distance_|Trnka|111.1|Rpb2|471|Rpb2|507|0|PSI|',\n",
        " 'CrossLinkingMassSpectrometryRestraint_Distance_|Trnka|112.1|Rpb2|934|Rpb1|49|0|PSI|',\n",
        " 'CrossLinkingMassSpectrometryRestraint_Distance_|Trnka|113.1|Rpb1|1003|Rpb5|166|0|PSI|',\n",
        " 'CrossLinkingMassSpectrometryRestraint_Distance_|Trnka|114.1|Rpb2|865|Rpb2|934|0|PSI|',\n",
        " 'CrossLinkingMassSpectrometryRestraint_Distance_|Trnka|115.1|Rpb11|37|Rpb3|165|0|PSI|',\n",
        " 'CrossLinkingMassSpectrometryRestraint_Distance_|Trnka|116.1|Rpb2|471|Rpb1|323|0|PSI|',\n",
        " 'CrossLinkingMassSpectrometryRestraint_Distance_|Trnka|117.1|Rpb5|201|Rpb5|197|0|PSI|',\n",
        " 'CrossLinkingMassSpectrometryRestraint_Distance_|Trnka|118.1|Rpb1|49|Rpb4|212|0|PSI|',\n",
        " 'CrossLinkingMassSpectrometryRestraint_Distance_|Trnka|119.1|Rpb1|1132|Rpb1|1286|0|PSI|',\n",
        " 'CrossLinkingMassSpectrometryRestraint_Distance_|Trnka|12.1|Rpb2|979|Rpb2|1102|0|PSI|',\n",
        " 'CrossLinkingMassSpectrometryRestraint_Distance_|Trnka|120.1|Rpb1|938|Rpb1|941|0|PSI|',\n",
        " 'CrossLinkingMassSpectrometryRestraint_Distance_|Trnka|121.1|Rpb6|67|Rpb5|161|0|PSI|',\n",
        " 'CrossLinkingMassSpectrometryRestraint_Distance_|Trnka|122.1|Rpb1|15|Rpb6|67|0|PSI|',\n",
        " 'CrossLinkingMassSpectrometryRestraint_Distance_|Trnka|123.1|Rpb1|372|Rpb2|1102|0|PSI|',\n",
        " 'CrossLinkingMassSpectrometryRestraint_Distance_|Trnka|124.1|Rpb1|843|Rpb1|332|0|PSI|',\n",
        " 'CrossLinkingMassSpectrometryRestraint_Distance_|Trnka|125.1|Rpb2|934|Rpb1|343|0|PSI|',\n",
        " 'CrossLinkingMassSpectrometryRestraint_Distance_|Trnka|126.1|Rpb1|332|Rpb1|176|0|PSI|',\n",
        " 'CrossLinkingMassSpectrometryRestraint_Distance_|Trnka|127.1|Rpb1|1003|Rpb6|67|0|PSI|',\n",
        " 'CrossLinkingMassSpectrometryRestraint_Distance_|Trnka|128.1|Rpb1|15|Rpb6|70|0|PSI|',\n",
        " 'CrossLinkingMassSpectrometryRestraint_Distance_|Trnka|129.1|Rpb1|1300|Rpb1|1286|0|PSI|',\n",
        " 'CrossLinkingMassSpectrometryRestraint_Distance_|Trnka|13.1|Rpb11|18|Rpb3|253|0|PSI|',\n",
        " 'CrossLinkingMassSpectrometryRestraint_Distance_|Trnka|130.1|Rpb2|962|Rpb12|58|0|PSI|',\n",
        " 'CrossLinkingMassSpectrometryRestraint_Distance_|Trnka|131.1|Rpb2|228|Rpb2|246|0|PSI|',\n",
        " 'CrossLinkingMassSpectrometryRestraint_Distance_|Trnka|132.1|Rpb2|353|Rpb2|347|0|PSI|',\n",
        " 'CrossLinkingMassSpectrometryRestraint_Distance_|Trnka|133.1|Rpb10|59|Rpb2|813|0|PSI|',\n",
        " 'CrossLinkingMassSpectrometryRestraint_Distance_|Trnka|134.1|Rpb2|886|Rpb1|343|0|PSI|',\n",
        " 'CrossLinkingMassSpectrometryRestraint_Distance_|Trnka|135.1|Rpb2|934|Rpb1|419|0|PSI|',\n",
        " 'CrossLinkingMassSpectrometryRestraint_Distance_|Trnka|136.1|Rpb6|72|Rpb5|166|0|PSI|',\n",
        " 'CrossLinkingMassSpectrometryRestraint_Distance_|Trnka|137.1|Rpb1|1|Rpb6|72|0|PSI|',\n",
        " 'CrossLinkingMassSpectrometryRestraint_Distance_|Trnka|139.1|Rpb2|972|Rpb2|962|0|PSI|',\n",
        " 'CrossLinkingMassSpectrometryRestraint_Distance_|Trnka|14.1|Rpb2|652|Rpb2|606|0|PSI|',\n",
        " 'CrossLinkingMassSpectrometryRestraint_Distance_|Trnka|140.1|Rpb2|471|Rpb2|423|0|PSI|',\n",
        " 'CrossLinkingMassSpectrometryRestraint_Distance_|Trnka|141.1|Rpb2|227|Rpb2|510|0|PSI|',\n",
        " 'CrossLinkingMassSpectrometryRestraint_Distance_|Trnka|142.1|Rpb2|277|Rpb2|246|0|PSI|',\n",
        " 'CrossLinkingMassSpectrometryRestraint_Distance_|Trnka|143.1|Rpb2|353|Rpb2|345|0|PSI|',\n",
        " 'CrossLinkingMassSpectrometryRestraint_Distance_|Trnka|144.1|Rpb1|830|Rpb2|507|0|PSI|',\n",
        " 'CrossLinkingMassSpectrometryRestraint_Distance_|Trnka|145.1|Rpb2|934|Rpb1|332|0|PSI|',\n",
        " 'CrossLinkingMassSpectrometryRestraint_Distance_|Trnka|146.1|Rpb1|738|Rpb1|728|0|PSI|',\n",
        " 'CrossLinkingMassSpectrometryRestraint_Distance_|Trnka|147.1|Rpb1|330|Rpb1|176|0|PSI|',\n",
        " 'CrossLinkingMassSpectrometryRestraint_Distance_|Trnka|148.1|Rpb2|934|Rpb1|330|0|PSI|',\n",
        " 'CrossLinkingMassSpectrometryRestraint_Distance_|Trnka|149.1|Rpb2|426|Rpb2|422|0|PSI|',\n",
        " 'CrossLinkingMassSpectrometryRestraint_Distance_|Trnka|15.1|Rpb1|830|Rpb1|1102|0|PSI|',\n",
        " 'CrossLinkingMassSpectrometryRestraint_Distance_|Trnka|150.1|Rpb1|332|Rpb2|471|0|PSI|',\n",
        " 'CrossLinkingMassSpectrometryRestraint_Distance_|Trnka|151.1|Rpb11|20|Rpb11|72|0|PSI|',\n",
        " 'CrossLinkingMassSpectrometryRestraint_Distance_|Trnka|154.1|Rpb5|201|Rpb1|941|0|PSI|',\n",
        " 'CrossLinkingMassSpectrometryRestraint_Distance_|Trnka|155.1|Rpb11|84|Rpb11|55|0|PSI|',\n",
        " 'CrossLinkingMassSpectrometryRestraint_Distance_|Trnka|156.1|Rpb2|864|Rpb12|58|0|PSI|',\n",
        " 'CrossLinkingMassSpectrometryRestraint_Distance_|Trnka|16.1|Rpb1|15|Rpb6|72|0|PSI|',\n",
        " 'CrossLinkingMassSpectrometryRestraint_Distance_|Trnka|17.1|Rpb1|129|Rpb5|171|0|PSI|',\n",
        " 'CrossLinkingMassSpectrometryRestraint_Distance_|Trnka|18.1|Rpb7|73|Rpb6|72|0|PSI|',\n",
        " 'CrossLinkingMassSpectrometryRestraint_Distance_|Trnka|19.1|Rpb2|864|Rpb2|934|0|PSI|',\n",
        " 'CrossLinkingMassSpectrometryRestraint_Distance_|Trnka|2.1|Rpb11|88|Rpb11|55|0|PSI|',\n",
        " 'CrossLinkingMassSpectrometryRestraint_Distance_|Trnka|20.1|Rpb1|34|Rpb1|49|0|PSI|',\n",
        " 'CrossLinkingMassSpectrometryRestraint_Distance_|Trnka|21.1|Rpb2|1057|Rpb3|199|0|PSI|',\n",
        " 'CrossLinkingMassSpectrometryRestraint_Distance_|Trnka|22.1|Rpb2|1102|Rpb2|987|0|PSI|',\n",
        " 'CrossLinkingMassSpectrometryRestraint_Distance_|Trnka|23.1|Rpb1|1112|Rpb1|773|0|PSI|',\n",
        " 'CrossLinkingMassSpectrometryRestraint_Distance_|Trnka|24.1|Rpb3|253|Rpb3|161|0|PSI|',\n",
        " 'CrossLinkingMassSpectrometryRestraint_Distance_|Trnka|25.1|Rpb1|368|Rpb1|461|0|PSI|',\n",
        " 'CrossLinkingMassSpectrometryRestraint_Distance_|Trnka|26.1|Rpb1|15|Rpb1|1|0|PSI|',\n",
        " 'CrossLinkingMassSpectrometryRestraint_Distance_|Trnka|27.1|Rpb2|507|Rpb1|332|0|PSI|',\n",
        " 'CrossLinkingMassSpectrometryRestraint_Distance_|Trnka|28.1|Rpb4|121|Rpb4|60|0|PSI|',\n",
        " 'CrossLinkingMassSpectrometryRestraint_Distance_|Trnka|29.1|Rpb2|99|Rpb2|164|0|PSI|',\n",
        " 'CrossLinkingMassSpectrometryRestraint_Distance_|Trnka|3.1|Rpb11|26|Rpb1|644|0|PSI|',\n",
        " 'CrossLinkingMassSpectrometryRestraint_Distance_|Trnka|30.1|Rpb1|1262|Rpb1|1246|0|PSI|',\n",
        " 'CrossLinkingMassSpectrometryRestraint_Distance_|Trnka|31.1|Rpb6|70|Rpb5|171|0|PSI|',\n",
        " 'CrossLinkingMassSpectrometryRestraint_Distance_|Trnka|32.1|Rpb5|171|Rpb6|67|0|PSI|',\n",
        " 'CrossLinkingMassSpectrometryRestraint_Distance_|Trnka|33.1|Rpb1|15|Rpb1|34|0|PSI|',\n",
        " 'CrossLinkingMassSpectrometryRestraint_Distance_|Trnka|34.1|Rpb1|461|Rpb1|644|0|PSI|',\n",
        " 'CrossLinkingMassSpectrometryRestraint_Distance_|Trnka|35.1|Rpb6|72|Rpb5|171|0|PSI|',\n",
        " 'CrossLinkingMassSpectrometryRestraint_Distance_|Trnka|36.1|Rpb2|507|Rpb1|1102|0|PSI|',\n",
        " 'CrossLinkingMassSpectrometryRestraint_Distance_|Trnka|37.1|Rpb2|507|Rpb2|228|0|PSI|',\n",
        " 'CrossLinkingMassSpectrometryRestraint_Distance_|Trnka|38.1|Rpb6|76|Rpb1|1003|0|PSI|',\n",
        " 'CrossLinkingMassSpectrometryRestraint_Distance_|Trnka|39.1|Rpb1|1102|Rpb2|510|0|PSI|',\n",
        " 'CrossLinkingMassSpectrometryRestraint_Distance_|Trnka|4.1|Rpb1|1112|Rpb1|830|0|PSI|',\n",
        " 'CrossLinkingMassSpectrometryRestraint_Distance_|Trnka|40.1|Rpb3|253|Rpb3|165|0|PSI|',\n",
        " 'CrossLinkingMassSpectrometryRestraint_Distance_|Trnka|41.1|Rpb2|979|Rpb2|987|0|PSI|',\n",
        " 'CrossLinkingMassSpectrometryRestraint_Distance_|Trnka|42.1|Rpb2|1148|Rpb1|1|0|PSI|',\n",
        " 'CrossLinkingMassSpectrometryRestraint_Distance_|Trnka|43.1|Rpb1|343|Rpb1|332|0|PSI|',\n",
        " 'CrossLinkingMassSpectrometryRestraint_Distance_|Trnka|44.1|Rpb1|1112|Rpb1|1093|0|PSI|',\n",
        " 'CrossLinkingMassSpectrometryRestraint_Distance_|Trnka|45.1|Rpb1|1093|Rpb1|1102|0|PSI|',\n",
        " 'CrossLinkingMassSpectrometryRestraint_Distance_|Trnka|46.1|Rpb1|830|Rpb1|1092|0|PSI|',\n",
        " 'CrossLinkingMassSpectrometryRestraint_Distance_|Trnka|48.1|Rpb1|941|Rpb5|201|0|PSI|',\n",
        " 'CrossLinkingMassSpectrometryRestraint_Distance_|Trnka|49.1|Rpb1|323|Rpb1|330|0|PSI|',\n",
        " 'CrossLinkingMassSpectrometryRestraint_Distance_|Trnka|5.1|Rpb2|972|Rpb2|1102|0|PSI|',\n",
        " 'CrossLinkingMassSpectrometryRestraint_Distance_|Trnka|50.1|Rpb1|1|Rpb2|886|0|PSI|',\n",
        " 'CrossLinkingMassSpectrometryRestraint_Distance_|Trnka|51.1|Rpb1|129|Rpb5|161|0|PSI|',\n",
        " 'CrossLinkingMassSpectrometryRestraint_Distance_|Trnka|52.1|Rpb6|123|Rpb6|129|0|PSI|',\n",
        " 'CrossLinkingMassSpectrometryRestraint_Distance_|Trnka|53.1|Rpb1|705|Rpb1|689|0|PSI|',\n",
        " 'CrossLinkingMassSpectrometryRestraint_Distance_|Trnka|54.1|Rpb2|227|Rpb1|1093|0|PSI|',\n",
        " 'CrossLinkingMassSpectrometryRestraint_Distance_|Trnka|55.1|Rpb1|1112|Rpb1|1102|0|PSI|',\n",
        " 'CrossLinkingMassSpectrometryRestraint_Distance_|Trnka|56.1|Rpb1|323|Rpb1|176|0|PSI|',\n",
        " 'CrossLinkingMassSpectrometryRestraint_Distance_|Trnka|57.1|Rpb2|228|Rpb2|270|0|PSI|',\n",
        " 'CrossLinkingMassSpectrometryRestraint_Distance_|Trnka|58.1|Rpb5|45|Rpb5|20|0|PSI|',\n",
        " 'CrossLinkingMassSpectrometryRestraint_Distance_|Trnka|59.1|Rpb1|1132|Rpb1|705|0|PSI|',\n",
        " 'CrossLinkingMassSpectrometryRestraint_Distance_|Trnka|6.1|Rpb3|15|Rpb3|137|0|PSI|',\n",
        " 'CrossLinkingMassSpectrometryRestraint_Distance_|Trnka|60.1|Rpb1|403|Rpb2|1102|0|PSI|',\n",
        " 'CrossLinkingMassSpectrometryRestraint_Distance_|Trnka|61.1|Rpb1|1350|Rpb1|1093|0|PSI|',\n",
        " 'CrossLinkingMassSpectrometryRestraint_Distance_|Trnka|62.1|Rpb6|67|Rpb5|166|0|PSI|',\n",
        " 'CrossLinkingMassSpectrometryRestraint_Distance_|Trnka|63.1|Rpb1|705|Rpb1|1093|0|PSI|',\n",
        " 'CrossLinkingMassSpectrometryRestraint_Distance_|Trnka|64.1|Rpb2|148|Rpb2|87|0|PSI|',\n",
        " 'CrossLinkingMassSpectrometryRestraint_Distance_|Trnka|65.1|Rpb2|507|Rpb1|1093|0|PSI|',\n",
        " 'CrossLinkingMassSpectrometryRestraint_Distance_|Trnka|66.1|Rpb7|140|Rpb4|139|0|PSI|',\n",
        " 'CrossLinkingMassSpectrometryRestraint_Distance_|Trnka|67.1|Rpb1|705|Rpb1|1286|0|PSI|',\n",
        " 'CrossLinkingMassSpectrometryRestraint_Distance_|Trnka|68.1|Rpb1|830|Rpb1|1093|0|PSI|',\n",
        " 'CrossLinkingMassSpectrometryRestraint_Distance_|Trnka|69.1|Rpb1|330|Rpb2|471|0|PSI|',\n",
        " 'CrossLinkingMassSpectrometryRestraint_Distance_|Trnka|7.1|Rpb2|94|Rpb2|164|0|PSI|',\n",
        " 'CrossLinkingMassSpectrometryRestraint_Distance_|Trnka|70.1|Rpb1|323|Rpb1|332|0|PSI|',\n",
        " 'CrossLinkingMassSpectrometryRestraint_Distance_|Trnka|71.1|Rpb1|1112|Rpb2|507|0|PSI|',\n",
        " 'CrossLinkingMassSpectrometryRestraint_Distance_|Trnka|72.1|Rpb1|689|Rpb1|728|0|PSI|',\n",
        " 'CrossLinkingMassSpectrometryRestraint_Distance_|Trnka|73.1|Rpb3|154|Rpb3|161|0|PSI|',\n",
        " 'CrossLinkingMassSpectrometryRestraint_Distance_|Trnka|74.1|Rpb5|171|Rpb5|166|0|PSI|',\n",
        " 'CrossLinkingMassSpectrometryRestraint_Distance_|Trnka|75.1|Rpb2|775|Rpb2|987|0|PSI|',\n",
        " 'CrossLinkingMassSpectrometryRestraint_Distance_|Trnka|76.1|Rpb10|68|Rpb3|149|0|PSI|',\n",
        " 'CrossLinkingMassSpectrometryRestraint_Distance_|Trnka|77.1|Rpb2|358|Rpb2|246|0|PSI|',\n",
        " 'CrossLinkingMassSpectrometryRestraint_Distance_|Trnka|78.1|Rpb1|403|Rpb1|1|0|PSI|',\n",
        " 'CrossLinkingMassSpectrometryRestraint_Distance_|Trnka|79.1|Rpb1|1003|Rpb5|197|0|PSI|',\n",
        " 'CrossLinkingMassSpectrometryRestraint_Distance_|Trnka|8.1|Rpb1|431|Rpb1|1|0|PSI|',\n",
        " 'CrossLinkingMassSpectrometryRestraint_Distance_|Trnka|80.1|Rpb2|227|Rpb2|507|0|PSI|',\n",
        " 'CrossLinkingMassSpectrometryRestraint_Distance_|Trnka|81.1|Rpb1|15|Rpb7|73|0|PSI|',\n",
        " 'CrossLinkingMassSpectrometryRestraint_Distance_|Trnka|82.1|Rpb2|775|Rpb2|1102|0|PSI|',\n",
        " 'CrossLinkingMassSpectrometryRestraint_Distance_|Trnka|83.1|Rpb1|15|Rpb5|171|0|PSI|',\n",
        " 'CrossLinkingMassSpectrometryRestraint_Distance_|Trnka|84.1|Rpb1|1300|Rpb1|1093|0|PSI|',\n",
        " 'CrossLinkingMassSpectrometryRestraint_Distance_|Trnka|85.1|Rpb1|1|Rpb2|934|0|PSI|',\n",
        " 'CrossLinkingMassSpectrometryRestraint_Distance_|Trnka|86.1|Rpb1|1109|Rpb2|507|0|PSI|',\n",
        " 'CrossLinkingMassSpectrometryRestraint_Distance_|Trnka|87.1|Rpb2|228|Rpb2|510|0|PSI|',\n",
        " 'CrossLinkingMassSpectrometryRestraint_Distance_|Trnka|88.1|Rpb7|73|Rpb6|70|0|PSI|',\n",
        " 'CrossLinkingMassSpectrometryRestraint_Distance_|Trnka|89.1|Rpb10|68|Rpb10|59|0|PSI|',\n",
        " 'CrossLinkingMassSpectrometryRestraint_Distance_|Trnka|9.1|Rpb1|372|Rpb1|403|0|PSI|',\n",
        " 'CrossLinkingMassSpectrometryRestraint_Distance_|Trnka|90.1|Rpb2|458|Rpb2|471|0|PSI|',\n",
        " 'CrossLinkingMassSpectrometryRestraint_Distance_|Trnka|91.1|Rpb2|426|Rpb2|471|0|PSI|',\n",
        " 'CrossLinkingMassSpectrometryRestraint_Distance_|Trnka|92.1|Rpb1|129|Rpb6|67|0|PSI|',\n",
        " 'CrossLinkingMassSpectrometryRestraint_Distance_|Trnka|93.1|Rpb1|1350|Rpb5|201|0|PSI|',\n",
        " 'CrossLinkingMassSpectrometryRestraint_Distance_|Trnka|94.1|Rpb1|1102|Rpb1|332|0|PSI|',\n",
        " 'CrossLinkingMassSpectrometryRestraint_Distance_|Trnka|95.1|Rpb6|70|Rpb5|166|0|PSI|',\n",
        " 'CrossLinkingMassSpectrometryRestraint_Distance_|Trnka|96.1|Rpb2|864|Rpb2|471|0|PSI|',\n",
        " 'CrossLinkingMassSpectrometryRestraint_Distance_|Trnka|97.1|Rpb1|688|Rpb1|728|0|PSI|',\n",
        " 'CrossLinkingMassSpectrometryRestraint_Distance_|Trnka|98.1|Rpb2|471|Rpb2|422|0|PSI|',\n",
        " 'CrossLinkingMassSpectrometryRestraint_Distance_|Trnka|99.1|Rpb1|773|Rpb1|1093|0|PSI|',\n",
        " 'CrossLinkingMassSpectrometryRestraint_Linear_Score_Chen',\n",
        " 'CrossLinkingMassSpectrometryRestraint_Linear_Score_Trnka',\n",
        " 'CrossLinkingMassSpectrometryRestraint_PriorPsi_Score_Chen',\n",
        " 'CrossLinkingMassSpectrometryRestraint_PriorPsi_Score_Trnka',\n",
        " 'CrossLinkingMassSpectrometryRestraint_PriorSig_Score_Chen',\n",
        " 'CrossLinkingMassSpectrometryRestraint_PriorSig_Score_Trnka',\n",
        " 'CrossLinkingMassSpectrometryRestraint_Psi_PSI_Chen',\n",
        " 'CrossLinkingMassSpectrometryRestraint_Psi_PSI_Trnka',\n",
        " 'CrossLinkingMassSpectrometryRestraint_Score_|Chen|0.1|Rpb1|34|Rpb1|49|0|PSI|',\n",
        " 'CrossLinkingMassSpectrometryRestraint_Score_|Chen|1.1|Rpb1|101|Rpb1|143|0|PSI|',\n",
        " 'CrossLinkingMassSpectrometryRestraint_Score_|Chen|10.1|Rpb1|689|Rpb1|728|0|PSI|',\n",
        " 'CrossLinkingMassSpectrometryRestraint_Score_|Chen|100.1|Rpb4|1|Rpb6|72|0|PSI|',\n",
        " 'CrossLinkingMassSpectrometryRestraint_Score_|Chen|101.1|Rpb4|1|Rpb7|29|0|PSI|',\n",
        " 'CrossLinkingMassSpectrometryRestraint_Score_|Chen|102.1|Rpb4|1|Rpb7|73|0|PSI|',\n",
        " 'CrossLinkingMassSpectrometryRestraint_Score_|Chen|103.1|Rpb5|166|Rpb6|67|0|PSI|',\n",
        " 'CrossLinkingMassSpectrometryRestraint_Score_|Chen|104.1|Rpb5|171|Rpb6|46|0|PSI|',\n",
        " 'CrossLinkingMassSpectrometryRestraint_Score_|Chen|105.1|Rpb5|171|Rpb6|67|0|PSI|',\n",
        " 'CrossLinkingMassSpectrometryRestraint_Score_|Chen|106.1|Rpb5|171|Rpb6|72|0|PSI|',\n",
        " 'CrossLinkingMassSpectrometryRestraint_Score_|Chen|107.1|Rpb6|72|Rpb7|73|0|PSI|',\n",
        " 'CrossLinkingMassSpectrometryRestraint_Score_|Chen|11.1|Rpb1|705|Rpb1|1093|0|PSI|',\n",
        " 'CrossLinkingMassSpectrometryRestraint_Score_|Chen|12.1|Rpb1|705|Rpb1|1132|0|PSI|',\n",
        " 'CrossLinkingMassSpectrometryRestraint_Score_|Chen|13.1|Rpb1|705|Rpb1|1286|0|PSI|',\n",
        " 'CrossLinkingMassSpectrometryRestraint_Score_|Chen|14.1|Rpb1|773|Rpb1|1093|0|PSI|',\n",
        " 'CrossLinkingMassSpectrometryRestraint_Score_|Chen|15.1|Rpb1|773|Rpb1|1112|0|PSI|',\n",
        " 'CrossLinkingMassSpectrometryRestraint_Score_|Chen|16.1|Rpb1|830|Rpb1|1093|0|PSI|',\n",
        " 'CrossLinkingMassSpectrometryRestraint_Score_|Chen|17.1|Rpb1|830|Rpb1|1102|0|PSI|',\n",
        " 'CrossLinkingMassSpectrometryRestraint_Score_|Chen|18.1|Rpb1|830|Rpb1|1112|0|PSI|',\n",
        " 'CrossLinkingMassSpectrometryRestraint_Score_|Chen|19.1|Rpb1|934|Rpb1|941|0|PSI|',\n",
        " 'CrossLinkingMassSpectrometryRestraint_Score_|Chen|2.1|Rpb1|101|Rpb1|176|0|PSI|',\n",
        " 'CrossLinkingMassSpectrometryRestraint_Score_|Chen|20.1|Rpb1|938|Rpb1|991|0|PSI|',\n",
        " 'CrossLinkingMassSpectrometryRestraint_Score_|Chen|21.1|Rpb1|1093|Rpb1|1102|0|PSI|',\n",
        " 'CrossLinkingMassSpectrometryRestraint_Score_|Chen|22.1|Rpb1|1093|Rpb1|1112|0|PSI|',\n",
        " 'CrossLinkingMassSpectrometryRestraint_Score_|Chen|23.1|Rpb1|1102|Rpb1|1112|0|PSI|',\n",
        " 'CrossLinkingMassSpectrometryRestraint_Score_|Chen|24.1|Rpb1|1132|Rpb1|1205|0|PSI|',\n",
        " 'CrossLinkingMassSpectrometryRestraint_Score_|Chen|25.1|Rpb1|1132|Rpb1|1286|0|PSI|',\n",
        " 'CrossLinkingMassSpectrometryRestraint_Score_|Chen|26.1|Rpb1|1217|Rpb1|1246|0|PSI|',\n",
        " 'CrossLinkingMassSpectrometryRestraint_Score_|Chen|27.1|Rpb1|1221|Rpb1|1246|0|PSI|',\n",
        " 'CrossLinkingMassSpectrometryRestraint_Score_|Chen|28.1|Rpb1|1221|Rpb1|1262|0|PSI|',\n",
        " 'CrossLinkingMassSpectrometryRestraint_Score_|Chen|29.1|Rpb1|1246|Rpb1|1262|0|PSI|',\n",
        " 'CrossLinkingMassSpectrometryRestraint_Score_|Chen|3.1|Rpb1|143|Rpb1|187|0|PSI|',\n",
        " 'CrossLinkingMassSpectrometryRestraint_Score_|Chen|30.1|Rpb2|99|Rpb2|164|0|PSI|',\n",
        " 'CrossLinkingMassSpectrometryRestraint_Score_|Chen|31.1|Rpb2|99|Rpb2|191|0|PSI|',\n",
        " 'CrossLinkingMassSpectrometryRestraint_Score_|Chen|32.1|Rpb2|228|Rpb2|246|0|PSI|',\n",
        " 'CrossLinkingMassSpectrometryRestraint_Score_|Chen|33.1|Rpb2|228|Rpb2|257|0|PSI|',\n",
        " 'CrossLinkingMassSpectrometryRestraint_Score_|Chen|34.1|Rpb2|228|Rpb2|270|0|PSI|',\n",
        " 'CrossLinkingMassSpectrometryRestraint_Score_|Chen|35.1|Rpb2|228|Rpb2|277|0|PSI|',\n",
        " 'CrossLinkingMassSpectrometryRestraint_Score_|Chen|36.1|Rpb2|228|Rpb2|507|0|PSI|',\n",
        " 'CrossLinkingMassSpectrometryRestraint_Score_|Chen|37.1|Rpb2|228|Rpb2|510|0|PSI|',\n",
        " 'CrossLinkingMassSpectrometryRestraint_Score_|Chen|38.1|Rpb2|246|Rpb2|358|0|PSI|',\n",
        " 'CrossLinkingMassSpectrometryRestraint_Score_|Chen|39.1|Rpb2|246|Rpb2|426|0|PSI|',\n",
        " 'CrossLinkingMassSpectrometryRestraint_Score_|Chen|4.1|Rpb1|368|Rpb1|461|0|PSI|',\n",
        " 'CrossLinkingMassSpectrometryRestraint_Score_|Chen|40.1|Rpb2|345|Rpb2|353|0|PSI|',\n",
        " 'CrossLinkingMassSpectrometryRestraint_Score_|Chen|41.1|Rpb2|358|Rpb2|422|0|PSI|',\n",
        " 'CrossLinkingMassSpectrometryRestraint_Score_|Chen|42.1|Rpb2|422|Rpb2|426|0|PSI|',\n",
        " 'CrossLinkingMassSpectrometryRestraint_Score_|Chen|43.1|Rpb2|426|Rpb2|471|0|PSI|',\n",
        " 'CrossLinkingMassSpectrometryRestraint_Score_|Chen|44.1|Rpb2|606|Rpb2|652|0|PSI|',\n",
        " 'CrossLinkingMassSpectrometryRestraint_Score_|Chen|45.1|Rpb2|864|Rpb2|934|0|PSI|',\n",
        " 'CrossLinkingMassSpectrometryRestraint_Score_|Chen|46.1|Rpb2|876|Rpb2|886|0|PSI|',\n",
        " 'CrossLinkingMassSpectrometryRestraint_Score_|Chen|47.1|Rpb2|934|Rpb2|972|0|PSI|',\n",
        " 'CrossLinkingMassSpectrometryRestraint_Score_|Chen|48.1|Rpb2|979|Rpb2|987|0|PSI|',\n",
        " 'CrossLinkingMassSpectrometryRestraint_Score_|Chen|49.1|Rpb2|979|Rpb2|1102|0|PSI|',\n",
        " 'CrossLinkingMassSpectrometryRestraint_Score_|Chen|5.1|Rpb1|372|Rpb1|403|0|PSI|',\n",
        " 'CrossLinkingMassSpectrometryRestraint_Score_|Chen|50.1|Rpb3|15|Rpb3|137|0|PSI|',\n",
        " 'CrossLinkingMassSpectrometryRestraint_Score_|Chen|51.1|Rpb4|60|Rpb4|71|0|PSI|',\n",
        " 'CrossLinkingMassSpectrometryRestraint_Score_|Chen|52.1|Rpb4|60|Rpb4|121|0|PSI|',\n",
        " 'CrossLinkingMassSpectrometryRestraint_Score_|Chen|53.1|Rpb4|60|Rpb4|142|0|PSI|',\n",
        " 'CrossLinkingMassSpectrometryRestraint_Score_|Chen|54.1|Rpb5|20|Rpb5|45|0|PSI|',\n",
        " 'CrossLinkingMassSpectrometryRestraint_Score_|Chen|55.1|Rpb5|161|Rpb5|171|0|PSI|',\n",
        " 'CrossLinkingMassSpectrometryRestraint_Score_|Chen|56.1|Rpb5|161|Rpb5|191|0|PSI|',\n",
        " 'CrossLinkingMassSpectrometryRestraint_Score_|Chen|57.1|Rpb5|166|Rpb5|171|0|PSI|',\n",
        " 'CrossLinkingMassSpectrometryRestraint_Score_|Chen|58.1|Rpb5|191|Rpb5|197|0|PSI|',\n",
        " 'CrossLinkingMassSpectrometryRestraint_Score_|Chen|59.1|Rpb6|123|Rpb6|129|0|PSI|',\n",
        " 'CrossLinkingMassSpectrometryRestraint_Score_|Chen|6.1|Rpb1|461|Rpb1|637|0|PSI|',\n",
        " 'CrossLinkingMassSpectrometryRestraint_Score_|Chen|60.1|Rpb11|20|Rpb11|37|0|PSI|',\n",
        " 'CrossLinkingMassSpectrometryRestraint_Score_|Chen|61.1|Rpb11|55|Rpb11|84|0|PSI|',\n",
        " 'CrossLinkingMassSpectrometryRestraint_Score_|Chen|62.1|Rpb11|55|Rpb11|88|0|PSI|',\n",
        " 'CrossLinkingMassSpectrometryRestraint_Score_|Chen|63.1|Rpb12|28|Rpb12|49|0|PSI|',\n",
        " 'CrossLinkingMassSpectrometryRestraint_Score_|Chen|64.1|Rpb1|330|Rpb2|507|0|PSI|',\n",
        " 'CrossLinkingMassSpectrometryRestraint_Score_|Chen|65.1|Rpb1|332|Rpb2|507|0|PSI|',\n",
        " 'CrossLinkingMassSpectrometryRestraint_Score_|Chen|66.1|Rpb1|343|Rpb2|864|0|PSI|',\n",
        " 'CrossLinkingMassSpectrometryRestraint_Score_|Chen|67.1|Rpb1|343|Rpb2|886|0|PSI|',\n",
        " 'CrossLinkingMassSpectrometryRestraint_Score_|Chen|68.1|Rpb1|372|Rpb2|886|0|PSI|',\n",
        " 'CrossLinkingMassSpectrometryRestraint_Score_|Chen|69.1|Rpb1|1093|Rpb2|507|0|PSI|',\n",
        " 'CrossLinkingMassSpectrometryRestraint_Score_|Chen|7.1|Rpb1|461|Rpb1|644|0|PSI|',\n",
        " 'CrossLinkingMassSpectrometryRestraint_Score_|Chen|70.1|Rpb1|1102|Rpb2|507|0|PSI|',\n",
        " 'CrossLinkingMassSpectrometryRestraint_Score_|Chen|71.1|Rpb1|1112|Rpb2|507|0|PSI|',\n",
        " 'CrossLinkingMassSpectrometryRestraint_Score_|Chen|72.1|Rpb1|15|Rpb4|1|0|PSI|',\n",
        " 'CrossLinkingMassSpectrometryRestraint_Score_|Chen|73.1|Rpb1|129|Rpb4|1|0|PSI|',\n",
        " 'CrossLinkingMassSpectrometryRestraint_Score_|Chen|74.1|Rpb1|1003|Rpb4|1|0|PSI|',\n",
        " 'CrossLinkingMassSpectrometryRestraint_Score_|Chen|75.1|Rpb1|15|Rpb5|171|0|PSI|',\n",
        " 'CrossLinkingMassSpectrometryRestraint_Score_|Chen|76.1|Rpb1|129|Rpb5|161|0|PSI|',\n",
        " 'CrossLinkingMassSpectrometryRestraint_Score_|Chen|77.1|Rpb1|129|Rpb5|171|0|PSI|',\n",
        " 'CrossLinkingMassSpectrometryRestraint_Score_|Chen|78.1|Rpb1|934|Rpb5|201|0|PSI|',\n",
        " 'CrossLinkingMassSpectrometryRestraint_Score_|Chen|79.1|Rpb1|938|Rpb5|201|0|PSI|',\n",
        " 'CrossLinkingMassSpectrometryRestraint_Score_|Chen|8.1|Rpb1|688|Rpb1|728|0|PSI|',\n",
        " 'CrossLinkingMassSpectrometryRestraint_Score_|Chen|80.1|Rpb1|1003|Rpb5|166|0|PSI|',\n",
        " 'CrossLinkingMassSpectrometryRestraint_Score_|Chen|81.1|Rpb1|129|Rpb6|67|0|PSI|',\n",
        " 'CrossLinkingMassSpectrometryRestraint_Score_|Chen|82.1|Rpb1|1003|Rpb6|76|0|PSI|',\n",
        " 'CrossLinkingMassSpectrometryRestraint_Score_|Chen|83.1|Rpb1|15|Rpb7|73|0|PSI|',\n",
        " 'CrossLinkingMassSpectrometryRestraint_Score_|Chen|84.1|Rpb1|1246|Rpb9|20|0|PSI|',\n",
        " 'CrossLinkingMassSpectrometryRestraint_Score_|Chen|85.1|Rpb1|637|Rpb11|20|0|PSI|',\n",
        " 'CrossLinkingMassSpectrometryRestraint_Score_|Chen|86.1|Rpb1|637|Rpb11|26|0|PSI|',\n",
        " 'CrossLinkingMassSpectrometryRestraint_Score_|Chen|87.1|Rpb1|644|Rpb11|20|0|PSI|',\n",
        " 'CrossLinkingMassSpectrometryRestraint_Score_|Chen|88.1|Rpb1|644|Rpb11|26|0|PSI|',\n",
        " 'CrossLinkingMassSpectrometryRestraint_Score_|Chen|89.1|Rpb2|191|Rpb3|149|0|PSI|',\n",
        " 'CrossLinkingMassSpectrometryRestraint_Score_|Chen|9.1|Rpb1|689|Rpb1|705|0|PSI|',\n",
        " 'CrossLinkingMassSpectrometryRestraint_Score_|Chen|90.1|Rpb2|1057|Rpb3|199|0|PSI|',\n",
        " 'CrossLinkingMassSpectrometryRestraint_Score_|Chen|91.1|Rpb2|1188|Rpb4|1|0|PSI|',\n",
        " 'CrossLinkingMassSpectrometryRestraint_Score_|Chen|92.1|Rpb2|177|Rpb10|68|0|PSI|',\n",
        " 'CrossLinkingMassSpectrometryRestraint_Score_|Chen|93.1|Rpb2|191|Rpb10|68|0|PSI|',\n",
        " 'CrossLinkingMassSpectrometryRestraint_Score_|Chen|94.1|Rpb2|813|Rpb10|59|0|PSI|',\n",
        " 'CrossLinkingMassSpectrometryRestraint_Score_|Chen|95.1|Rpb3|149|Rpb10|68|0|PSI|',\n",
        " 'CrossLinkingMassSpectrometryRestraint_Score_|Chen|96.1|Rpb3|154|Rpb10|68|0|PSI|',\n",
        " 'CrossLinkingMassSpectrometryRestraint_Score_|Chen|97.1|Rpb3|160|Rpb11|37|0|PSI|',\n",
        " 'CrossLinkingMassSpectrometryRestraint_Score_|Chen|98.1|Rpb3|154|Rpb12|62|0|PSI|',\n",
        " 'CrossLinkingMassSpectrometryRestraint_Score_|Chen|99.1|Rpb4|1|Rpb5|171|0|PSI|',\n",
        " 'CrossLinkingMassSpectrometryRestraint_Score_|Trnka|0.1|Rpb1|880|Rpb1|620|0|PSI|',\n",
        " 'CrossLinkingMassSpectrometryRestraint_Score_|Trnka|1.1|Rpb2|228|Rpb2|257|0|PSI|',\n",
        " 'CrossLinkingMassSpectrometryRestraint_Score_|Trnka|10.1|Rpb2|228|Rpb2|277|0|PSI|',\n",
        " 'CrossLinkingMassSpectrometryRestraint_Score_|Trnka|100.1|Rpb2|470|Rpb2|423|0|PSI|',\n",
        " 'CrossLinkingMassSpectrometryRestraint_Score_|Trnka|101.1|Rpb1|343|Rpb2|1102|0|PSI|',\n",
        " 'CrossLinkingMassSpectrometryRestraint_Score_|Trnka|102.1|Rpb6|76|Rpb7|23|0|PSI|',\n",
        " 'CrossLinkingMassSpectrometryRestraint_Score_|Trnka|103.1|Rpb1|1|Rpb1|343|0|PSI|',\n",
        " 'CrossLinkingMassSpectrometryRestraint_Score_|Trnka|104.1|Rpb1|343|Rpb1|330|0|PSI|',\n",
        " 'CrossLinkingMassSpectrometryRestraint_Score_|Trnka|105.1|Rpb5|152|Rpb5|201|0|PSI|',\n",
        " 'CrossLinkingMassSpectrometryRestraint_Score_|Trnka|106.1|Rpb2|246|Rpb2|471|0|PSI|',\n",
        " 'CrossLinkingMassSpectrometryRestraint_Score_|Trnka|107.1|Rpb1|15|Rpb1|176|0|PSI|',\n",
        " 'CrossLinkingMassSpectrometryRestraint_Score_|Trnka|108.1|Rpb7|23|Rpb6|70|0|PSI|',\n",
        " 'CrossLinkingMassSpectrometryRestraint_Score_|Trnka|109.1|Rpb2|246|Rpb2|507|0|PSI|',\n",
        " 'CrossLinkingMassSpectrometryRestraint_Score_|Trnka|11.1|Rpb1|368|Rpb11|37|0|PSI|',\n",
        " 'CrossLinkingMassSpectrometryRestraint_Score_|Trnka|110.1|Rpb1|330|Rpb2|507|0|PSI|',\n",
        " 'CrossLinkingMassSpectrometryRestraint_Score_|Trnka|111.1|Rpb2|471|Rpb2|507|0|PSI|',\n",
        " 'CrossLinkingMassSpectrometryRestraint_Score_|Trnka|112.1|Rpb2|934|Rpb1|49|0|PSI|',\n",
        " 'CrossLinkingMassSpectrometryRestraint_Score_|Trnka|113.1|Rpb1|1003|Rpb5|166|0|PSI|',\n",
        " 'CrossLinkingMassSpectrometryRestraint_Score_|Trnka|114.1|Rpb2|865|Rpb2|934|0|PSI|',\n",
        " 'CrossLinkingMassSpectrometryRestraint_Score_|Trnka|115.1|Rpb11|37|Rpb3|165|0|PSI|',\n",
        " 'CrossLinkingMassSpectrometryRestraint_Score_|Trnka|116.1|Rpb2|471|Rpb1|323|0|PSI|',\n",
        " 'CrossLinkingMassSpectrometryRestraint_Score_|Trnka|117.1|Rpb5|201|Rpb5|197|0|PSI|',\n",
        " 'CrossLinkingMassSpectrometryRestraint_Score_|Trnka|118.1|Rpb1|49|Rpb4|212|0|PSI|',\n",
        " 'CrossLinkingMassSpectrometryRestraint_Score_|Trnka|119.1|Rpb1|1132|Rpb1|1286|0|PSI|',\n",
        " 'CrossLinkingMassSpectrometryRestraint_Score_|Trnka|12.1|Rpb2|979|Rpb2|1102|0|PSI|',\n",
        " 'CrossLinkingMassSpectrometryRestraint_Score_|Trnka|120.1|Rpb1|938|Rpb1|941|0|PSI|',\n",
        " 'CrossLinkingMassSpectrometryRestraint_Score_|Trnka|121.1|Rpb6|67|Rpb5|161|0|PSI|',\n",
        " 'CrossLinkingMassSpectrometryRestraint_Score_|Trnka|122.1|Rpb1|15|Rpb6|67|0|PSI|',\n",
        " 'CrossLinkingMassSpectrometryRestraint_Score_|Trnka|123.1|Rpb1|372|Rpb2|1102|0|PSI|',\n",
        " 'CrossLinkingMassSpectrometryRestraint_Score_|Trnka|124.1|Rpb1|843|Rpb1|332|0|PSI|',\n",
        " 'CrossLinkingMassSpectrometryRestraint_Score_|Trnka|125.1|Rpb2|934|Rpb1|343|0|PSI|',\n",
        " 'CrossLinkingMassSpectrometryRestraint_Score_|Trnka|126.1|Rpb1|332|Rpb1|176|0|PSI|',\n",
        " 'CrossLinkingMassSpectrometryRestraint_Score_|Trnka|127.1|Rpb1|1003|Rpb6|67|0|PSI|',\n",
        " 'CrossLinkingMassSpectrometryRestraint_Score_|Trnka|128.1|Rpb1|15|Rpb6|70|0|PSI|',\n",
        " 'CrossLinkingMassSpectrometryRestraint_Score_|Trnka|129.1|Rpb1|1300|Rpb1|1286|0|PSI|',\n",
        " 'CrossLinkingMassSpectrometryRestraint_Score_|Trnka|13.1|Rpb11|18|Rpb3|253|0|PSI|',\n",
        " 'CrossLinkingMassSpectrometryRestraint_Score_|Trnka|130.1|Rpb2|962|Rpb12|58|0|PSI|',\n",
        " 'CrossLinkingMassSpectrometryRestraint_Score_|Trnka|131.1|Rpb2|228|Rpb2|246|0|PSI|',\n",
        " 'CrossLinkingMassSpectrometryRestraint_Score_|Trnka|132.1|Rpb2|353|Rpb2|347|0|PSI|',\n",
        " 'CrossLinkingMassSpectrometryRestraint_Score_|Trnka|133.1|Rpb10|59|Rpb2|813|0|PSI|',\n",
        " 'CrossLinkingMassSpectrometryRestraint_Score_|Trnka|134.1|Rpb2|886|Rpb1|343|0|PSI|',\n",
        " 'CrossLinkingMassSpectrometryRestraint_Score_|Trnka|135.1|Rpb2|934|Rpb1|419|0|PSI|',\n",
        " 'CrossLinkingMassSpectrometryRestraint_Score_|Trnka|136.1|Rpb6|72|Rpb5|166|0|PSI|',\n",
        " 'CrossLinkingMassSpectrometryRestraint_Score_|Trnka|137.1|Rpb1|1|Rpb6|72|0|PSI|',\n",
        " 'CrossLinkingMassSpectrometryRestraint_Score_|Trnka|139.1|Rpb2|972|Rpb2|962|0|PSI|',\n",
        " 'CrossLinkingMassSpectrometryRestraint_Score_|Trnka|14.1|Rpb2|652|Rpb2|606|0|PSI|',\n",
        " 'CrossLinkingMassSpectrometryRestraint_Score_|Trnka|140.1|Rpb2|471|Rpb2|423|0|PSI|',\n",
        " 'CrossLinkingMassSpectrometryRestraint_Score_|Trnka|141.1|Rpb2|227|Rpb2|510|0|PSI|',\n",
        " 'CrossLinkingMassSpectrometryRestraint_Score_|Trnka|142.1|Rpb2|277|Rpb2|246|0|PSI|',\n",
        " 'CrossLinkingMassSpectrometryRestraint_Score_|Trnka|143.1|Rpb2|353|Rpb2|345|0|PSI|',\n",
        " 'CrossLinkingMassSpectrometryRestraint_Score_|Trnka|144.1|Rpb1|830|Rpb2|507|0|PSI|',\n",
        " 'CrossLinkingMassSpectrometryRestraint_Score_|Trnka|145.1|Rpb2|934|Rpb1|332|0|PSI|',\n",
        " 'CrossLinkingMassSpectrometryRestraint_Score_|Trnka|146.1|Rpb1|738|Rpb1|728|0|PSI|',\n",
        " 'CrossLinkingMassSpectrometryRestraint_Score_|Trnka|147.1|Rpb1|330|Rpb1|176|0|PSI|',\n",
        " 'CrossLinkingMassSpectrometryRestraint_Score_|Trnka|148.1|Rpb2|934|Rpb1|330|0|PSI|',\n",
        " 'CrossLinkingMassSpectrometryRestraint_Score_|Trnka|149.1|Rpb2|426|Rpb2|422|0|PSI|',\n",
        " 'CrossLinkingMassSpectrometryRestraint_Score_|Trnka|15.1|Rpb1|830|Rpb1|1102|0|PSI|',\n",
        " 'CrossLinkingMassSpectrometryRestraint_Score_|Trnka|150.1|Rpb1|332|Rpb2|471|0|PSI|',\n",
        " 'CrossLinkingMassSpectrometryRestraint_Score_|Trnka|151.1|Rpb11|20|Rpb11|72|0|PSI|',\n",
        " 'CrossLinkingMassSpectrometryRestraint_Score_|Trnka|154.1|Rpb5|201|Rpb1|941|0|PSI|',\n",
        " 'CrossLinkingMassSpectrometryRestraint_Score_|Trnka|155.1|Rpb11|84|Rpb11|55|0|PSI|',\n",
        " 'CrossLinkingMassSpectrometryRestraint_Score_|Trnka|156.1|Rpb2|864|Rpb12|58|0|PSI|',\n",
        " 'CrossLinkingMassSpectrometryRestraint_Score_|Trnka|16.1|Rpb1|15|Rpb6|72|0|PSI|',\n",
        " 'CrossLinkingMassSpectrometryRestraint_Score_|Trnka|17.1|Rpb1|129|Rpb5|171|0|PSI|',\n",
        " 'CrossLinkingMassSpectrometryRestraint_Score_|Trnka|18.1|Rpb7|73|Rpb6|72|0|PSI|',\n",
        " 'CrossLinkingMassSpectrometryRestraint_Score_|Trnka|19.1|Rpb2|864|Rpb2|934|0|PSI|',\n",
        " 'CrossLinkingMassSpectrometryRestraint_Score_|Trnka|2.1|Rpb11|88|Rpb11|55|0|PSI|',\n",
        " 'CrossLinkingMassSpectrometryRestraint_Score_|Trnka|20.1|Rpb1|34|Rpb1|49|0|PSI|',\n",
        " 'CrossLinkingMassSpectrometryRestraint_Score_|Trnka|21.1|Rpb2|1057|Rpb3|199|0|PSI|',\n",
        " 'CrossLinkingMassSpectrometryRestraint_Score_|Trnka|22.1|Rpb2|1102|Rpb2|987|0|PSI|',\n",
        " 'CrossLinkingMassSpectrometryRestraint_Score_|Trnka|23.1|Rpb1|1112|Rpb1|773|0|PSI|',\n",
        " 'CrossLinkingMassSpectrometryRestraint_Score_|Trnka|24.1|Rpb3|253|Rpb3|161|0|PSI|',\n",
        " 'CrossLinkingMassSpectrometryRestraint_Score_|Trnka|25.1|Rpb1|368|Rpb1|461|0|PSI|',\n",
        " 'CrossLinkingMassSpectrometryRestraint_Score_|Trnka|26.1|Rpb1|15|Rpb1|1|0|PSI|',\n",
        " 'CrossLinkingMassSpectrometryRestraint_Score_|Trnka|27.1|Rpb2|507|Rpb1|332|0|PSI|',\n",
        " 'CrossLinkingMassSpectrometryRestraint_Score_|Trnka|28.1|Rpb4|121|Rpb4|60|0|PSI|',\n",
        " 'CrossLinkingMassSpectrometryRestraint_Score_|Trnka|29.1|Rpb2|99|Rpb2|164|0|PSI|',\n",
        " 'CrossLinkingMassSpectrometryRestraint_Score_|Trnka|3.1|Rpb11|26|Rpb1|644|0|PSI|',\n",
        " 'CrossLinkingMassSpectrometryRestraint_Score_|Trnka|30.1|Rpb1|1262|Rpb1|1246|0|PSI|',\n",
        " 'CrossLinkingMassSpectrometryRestraint_Score_|Trnka|31.1|Rpb6|70|Rpb5|171|0|PSI|',\n",
        " 'CrossLinkingMassSpectrometryRestraint_Score_|Trnka|32.1|Rpb5|171|Rpb6|67|0|PSI|',\n",
        " 'CrossLinkingMassSpectrometryRestraint_Score_|Trnka|33.1|Rpb1|15|Rpb1|34|0|PSI|',\n",
        " 'CrossLinkingMassSpectrometryRestraint_Score_|Trnka|34.1|Rpb1|461|Rpb1|644|0|PSI|',\n",
        " 'CrossLinkingMassSpectrometryRestraint_Score_|Trnka|35.1|Rpb6|72|Rpb5|171|0|PSI|',\n",
        " 'CrossLinkingMassSpectrometryRestraint_Score_|Trnka|36.1|Rpb2|507|Rpb1|1102|0|PSI|',\n",
        " 'CrossLinkingMassSpectrometryRestraint_Score_|Trnka|37.1|Rpb2|507|Rpb2|228|0|PSI|',\n",
        " 'CrossLinkingMassSpectrometryRestraint_Score_|Trnka|38.1|Rpb6|76|Rpb1|1003|0|PSI|',\n",
        " 'CrossLinkingMassSpectrometryRestraint_Score_|Trnka|39.1|Rpb1|1102|Rpb2|510|0|PSI|',\n",
        " 'CrossLinkingMassSpectrometryRestraint_Score_|Trnka|4.1|Rpb1|1112|Rpb1|830|0|PSI|',\n",
        " 'CrossLinkingMassSpectrometryRestraint_Score_|Trnka|40.1|Rpb3|253|Rpb3|165|0|PSI|',\n",
        " 'CrossLinkingMassSpectrometryRestraint_Score_|Trnka|41.1|Rpb2|979|Rpb2|987|0|PSI|',\n",
        " 'CrossLinkingMassSpectrometryRestraint_Score_|Trnka|42.1|Rpb2|1148|Rpb1|1|0|PSI|',\n",
        " 'CrossLinkingMassSpectrometryRestraint_Score_|Trnka|43.1|Rpb1|343|Rpb1|332|0|PSI|',\n",
        " 'CrossLinkingMassSpectrometryRestraint_Score_|Trnka|44.1|Rpb1|1112|Rpb1|1093|0|PSI|',\n",
        " 'CrossLinkingMassSpectrometryRestraint_Score_|Trnka|45.1|Rpb1|1093|Rpb1|1102|0|PSI|',\n",
        " 'CrossLinkingMassSpectrometryRestraint_Score_|Trnka|46.1|Rpb1|830|Rpb1|1092|0|PSI|',\n",
        " 'CrossLinkingMassSpectrometryRestraint_Score_|Trnka|48.1|Rpb1|941|Rpb5|201|0|PSI|',\n",
        " 'CrossLinkingMassSpectrometryRestraint_Score_|Trnka|49.1|Rpb1|323|Rpb1|330|0|PSI|',\n",
        " 'CrossLinkingMassSpectrometryRestraint_Score_|Trnka|5.1|Rpb2|972|Rpb2|1102|0|PSI|',\n",
        " 'CrossLinkingMassSpectrometryRestraint_Score_|Trnka|50.1|Rpb1|1|Rpb2|886|0|PSI|',\n",
        " 'CrossLinkingMassSpectrometryRestraint_Score_|Trnka|51.1|Rpb1|129|Rpb5|161|0|PSI|',\n",
        " 'CrossLinkingMassSpectrometryRestraint_Score_|Trnka|52.1|Rpb6|123|Rpb6|129|0|PSI|',\n",
        " 'CrossLinkingMassSpectrometryRestraint_Score_|Trnka|53.1|Rpb1|705|Rpb1|689|0|PSI|',\n",
        " 'CrossLinkingMassSpectrometryRestraint_Score_|Trnka|54.1|Rpb2|227|Rpb1|1093|0|PSI|',\n",
        " 'CrossLinkingMassSpectrometryRestraint_Score_|Trnka|55.1|Rpb1|1112|Rpb1|1102|0|PSI|',\n",
        " 'CrossLinkingMassSpectrometryRestraint_Score_|Trnka|56.1|Rpb1|323|Rpb1|176|0|PSI|',\n",
        " 'CrossLinkingMassSpectrometryRestraint_Score_|Trnka|57.1|Rpb2|228|Rpb2|270|0|PSI|',\n",
        " 'CrossLinkingMassSpectrometryRestraint_Score_|Trnka|58.1|Rpb5|45|Rpb5|20|0|PSI|',\n",
        " 'CrossLinkingMassSpectrometryRestraint_Score_|Trnka|59.1|Rpb1|1132|Rpb1|705|0|PSI|',\n",
        " 'CrossLinkingMassSpectrometryRestraint_Score_|Trnka|6.1|Rpb3|15|Rpb3|137|0|PSI|',\n",
        " 'CrossLinkingMassSpectrometryRestraint_Score_|Trnka|60.1|Rpb1|403|Rpb2|1102|0|PSI|',\n",
        " 'CrossLinkingMassSpectrometryRestraint_Score_|Trnka|61.1|Rpb1|1350|Rpb1|1093|0|PSI|',\n",
        " 'CrossLinkingMassSpectrometryRestraint_Score_|Trnka|62.1|Rpb6|67|Rpb5|166|0|PSI|',\n",
        " 'CrossLinkingMassSpectrometryRestraint_Score_|Trnka|63.1|Rpb1|705|Rpb1|1093|0|PSI|',\n",
        " 'CrossLinkingMassSpectrometryRestraint_Score_|Trnka|64.1|Rpb2|148|Rpb2|87|0|PSI|',\n",
        " 'CrossLinkingMassSpectrometryRestraint_Score_|Trnka|65.1|Rpb2|507|Rpb1|1093|0|PSI|',\n",
        " 'CrossLinkingMassSpectrometryRestraint_Score_|Trnka|66.1|Rpb7|140|Rpb4|139|0|PSI|',\n",
        " 'CrossLinkingMassSpectrometryRestraint_Score_|Trnka|67.1|Rpb1|705|Rpb1|1286|0|PSI|',\n",
        " 'CrossLinkingMassSpectrometryRestraint_Score_|Trnka|68.1|Rpb1|830|Rpb1|1093|0|PSI|',\n",
        " 'CrossLinkingMassSpectrometryRestraint_Score_|Trnka|69.1|Rpb1|330|Rpb2|471|0|PSI|',\n",
        " 'CrossLinkingMassSpectrometryRestraint_Score_|Trnka|7.1|Rpb2|94|Rpb2|164|0|PSI|',\n",
        " 'CrossLinkingMassSpectrometryRestraint_Score_|Trnka|70.1|Rpb1|323|Rpb1|332|0|PSI|',\n",
        " 'CrossLinkingMassSpectrometryRestraint_Score_|Trnka|71.1|Rpb1|1112|Rpb2|507|0|PSI|',\n",
        " 'CrossLinkingMassSpectrometryRestraint_Score_|Trnka|72.1|Rpb1|689|Rpb1|728|0|PSI|',\n",
        " 'CrossLinkingMassSpectrometryRestraint_Score_|Trnka|73.1|Rpb3|154|Rpb3|161|0|PSI|',\n",
        " 'CrossLinkingMassSpectrometryRestraint_Score_|Trnka|74.1|Rpb5|171|Rpb5|166|0|PSI|',\n",
        " 'CrossLinkingMassSpectrometryRestraint_Score_|Trnka|75.1|Rpb2|775|Rpb2|987|0|PSI|',\n",
        " 'CrossLinkingMassSpectrometryRestraint_Score_|Trnka|76.1|Rpb10|68|Rpb3|149|0|PSI|',\n",
        " 'CrossLinkingMassSpectrometryRestraint_Score_|Trnka|77.1|Rpb2|358|Rpb2|246|0|PSI|',\n",
        " 'CrossLinkingMassSpectrometryRestraint_Score_|Trnka|78.1|Rpb1|403|Rpb1|1|0|PSI|',\n",
        " 'CrossLinkingMassSpectrometryRestraint_Score_|Trnka|79.1|Rpb1|1003|Rpb5|197|0|PSI|',\n",
        " 'CrossLinkingMassSpectrometryRestraint_Score_|Trnka|8.1|Rpb1|431|Rpb1|1|0|PSI|',\n",
        " 'CrossLinkingMassSpectrometryRestraint_Score_|Trnka|80.1|Rpb2|227|Rpb2|507|0|PSI|',\n",
        " 'CrossLinkingMassSpectrometryRestraint_Score_|Trnka|81.1|Rpb1|15|Rpb7|73|0|PSI|',\n",
        " 'CrossLinkingMassSpectrometryRestraint_Score_|Trnka|82.1|Rpb2|775|Rpb2|1102|0|PSI|',\n",
        " 'CrossLinkingMassSpectrometryRestraint_Score_|Trnka|83.1|Rpb1|15|Rpb5|171|0|PSI|',\n",
        " 'CrossLinkingMassSpectrometryRestraint_Score_|Trnka|84.1|Rpb1|1300|Rpb1|1093|0|PSI|',\n",
        " 'CrossLinkingMassSpectrometryRestraint_Score_|Trnka|85.1|Rpb1|1|Rpb2|934|0|PSI|',\n",
        " 'CrossLinkingMassSpectrometryRestraint_Score_|Trnka|86.1|Rpb1|1109|Rpb2|507|0|PSI|',\n",
        " 'CrossLinkingMassSpectrometryRestraint_Score_|Trnka|87.1|Rpb2|228|Rpb2|510|0|PSI|',\n",
        " 'CrossLinkingMassSpectrometryRestraint_Score_|Trnka|88.1|Rpb7|73|Rpb6|70|0|PSI|',\n",
        " 'CrossLinkingMassSpectrometryRestraint_Score_|Trnka|89.1|Rpb10|68|Rpb10|59|0|PSI|',\n",
        " 'CrossLinkingMassSpectrometryRestraint_Score_|Trnka|9.1|Rpb1|372|Rpb1|403|0|PSI|',\n",
        " 'CrossLinkingMassSpectrometryRestraint_Score_|Trnka|90.1|Rpb2|458|Rpb2|471|0|PSI|',\n",
        " 'CrossLinkingMassSpectrometryRestraint_Score_|Trnka|91.1|Rpb2|426|Rpb2|471|0|PSI|',\n",
        " 'CrossLinkingMassSpectrometryRestraint_Score_|Trnka|92.1|Rpb1|129|Rpb6|67|0|PSI|',\n",
        " 'CrossLinkingMassSpectrometryRestraint_Score_|Trnka|93.1|Rpb1|1350|Rpb5|201|0|PSI|',\n",
        " 'CrossLinkingMassSpectrometryRestraint_Score_|Trnka|94.1|Rpb1|1102|Rpb1|332|0|PSI|',\n",
        " 'CrossLinkingMassSpectrometryRestraint_Score_|Trnka|95.1|Rpb6|70|Rpb5|166|0|PSI|',\n",
        " 'CrossLinkingMassSpectrometryRestraint_Score_|Trnka|96.1|Rpb2|864|Rpb2|471|0|PSI|',\n",
        " 'CrossLinkingMassSpectrometryRestraint_Score_|Trnka|97.1|Rpb1|688|Rpb1|728|0|PSI|',\n",
        " 'CrossLinkingMassSpectrometryRestraint_Score_|Trnka|98.1|Rpb2|471|Rpb2|422|0|PSI|',\n",
        " 'CrossLinkingMassSpectrometryRestraint_Score_|Trnka|99.1|Rpb1|773|Rpb1|1093|0|PSI|',\n",
        " 'CrossLinkingMassSpectrometryRestraint_Sigma_SIGMA_Chen',\n",
        " 'CrossLinkingMassSpectrometryRestraint_Sigma_SIGMA_Trnka',\n",
        " 'ExcludedVolumeSphere_None',\n",
        " 'GaussianEMRestraint_None',\n",
        " 'GaussianEMRestraint_sigma_None',\n",
        " 'MonteCarlo_Acceptance_BallMover-1-19_bead_19',\n",
        " 'MonteCarlo_Acceptance_BallMover-1-20_bead_36',\n",
        " 'MonteCarlo_Acceptance_BallMover-1-20_bead_47',\n",
        " 'MonteCarlo_Acceptance_BallMover-1-2_bead_30',\n",
        " 'MonteCarlo_Acceptance_BallMover-1082-1091_bead_2',\n",
        " 'MonteCarlo_Acceptance_BallMover-115-120_bead_46',\n",
        " 'MonteCarlo_Acceptance_BallMover-1177-1186_bead_3',\n",
        " 'MonteCarlo_Acceptance_BallMover-121-122_bead_44',\n",
        " 'MonteCarlo_Acceptance_BallMover-1244-1253_bead_4',\n",
        " 'MonteCarlo_Acceptance_BallMover-135-154_bead_21',\n",
        " 'MonteCarlo_Acceptance_BallMover-1456-1475_bead_5',\n",
        " 'MonteCarlo_Acceptance_BallMover-1476-1495_bead_6',\n",
        " 'MonteCarlo_Acceptance_BallMover-1496-1515_bead_7',\n",
        " 'MonteCarlo_Acceptance_BallMover-1516-1535_bead_8',\n",
        " 'MonteCarlo_Acceptance_BallMover-1536-1555_bead_9',\n",
        " 'MonteCarlo_Acceptance_BallMover-155-163_bead_22',\n",
        " 'MonteCarlo_Acceptance_BallMover-1556-1575_bead_10',\n",
        " 'MonteCarlo_Acceptance_BallMover-1576-1595_bead_11',\n",
        " 'MonteCarlo_Acceptance_BallMover-1596-1615_bead_12',\n",
        " 'MonteCarlo_Acceptance_BallMover-1616-1635_bead_13',\n",
        " 'MonteCarlo_Acceptance_BallMover-1636-1655_bead_14',\n",
        " 'MonteCarlo_Acceptance_BallMover-1656-1675_bead_15',\n",
        " 'MonteCarlo_Acceptance_BallMover-1676-1695_bead_16',\n",
        " 'MonteCarlo_Acceptance_BallMover-1696-1715_bead_17',\n",
        " 'MonteCarlo_Acceptance_BallMover-1716-1733_bead_18',\n",
        " 'MonteCarlo_Acceptance_BallMover-187-194_bead_1',\n",
        " 'MonteCarlo_Acceptance_BallMover-1_bead_0',\n",
        " 'MonteCarlo_Acceptance_BallMover-1_bead_35',\n",
        " 'MonteCarlo_Acceptance_BallMover-1_bead_41',\n",
        " 'MonteCarlo_Acceptance_BallMover-1_bead_43',\n",
        " 'MonteCarlo_Acceptance_BallMover-21-24_bead_48',\n",
        " 'MonteCarlo_Acceptance_BallMover-21-40_bead_37',\n",
        " 'MonteCarlo_Acceptance_BallMover-269-288_bead_31',\n",
        " 'MonteCarlo_Acceptance_BallMover-289-308_bead_32',\n",
        " 'MonteCarlo_Acceptance_BallMover-309-318_bead_33',\n",
        " 'MonteCarlo_Acceptance_BallMover-336-344_bead_23',\n",
        " 'MonteCarlo_Acceptance_BallMover-41-60_bead_38',\n",
        " 'MonteCarlo_Acceptance_BallMover-438-445_bead_24',\n",
        " 'MonteCarlo_Acceptance_BallMover-468-476_bead_25',\n",
        " 'MonteCarlo_Acceptance_BallMover-503-508_bead_26',\n",
        " 'MonteCarlo_Acceptance_BallMover-61-71_bead_39',\n",
        " 'MonteCarlo_Acceptance_BallMover-64-75_bead_42',\n",
        " 'MonteCarlo_Acceptance_BallMover-66-70_bead_45',\n",
        " 'MonteCarlo_Acceptance_BallMover-669-677_bead_27',\n",
        " 'MonteCarlo_Acceptance_BallMover-71-89_bead_20',\n",
        " 'MonteCarlo_Acceptance_BallMover-716-721_bead_28',\n",
        " 'MonteCarlo_Acceptance_BallMover-920-932_bead_29',\n",
        " 'MonteCarlo_Acceptance_P113917 mover_34',\n",
        " 'MonteCarlo_Acceptance_P113920 mover_40',\n",
        " 'MonteCarlo_Nframe',\n",
        " 'MonteCarlo_Temperature',\n",
        " 'ReplicaExchange_CurrentTemp',\n",
        " 'ReplicaExchange_MaxTempFrequency',\n",
        " 'ReplicaExchange_MinTempFrequency',\n",
        " 'ReplicaExchange_SwapSuccessRatio',\n",
        " 'Stopwatch_None_delta_seconds',\n",
        " 'Total_Score',\n",
        " 'rmf_file',\n",
        " 'rmf_frame_index']"
       ]
      }
     ],
     "prompt_number": 19
    },
    {
     "cell_type": "markdown",
     "metadata": {
      "slideshow": {
       "slide_type": "subslide"
      }
     },
     "source": [
      "Next, we plot the time series of selected keywords"
     ]
    },
    {
     "cell_type": "code",
     "collapsed": false,
     "input": [
      "fl=po.get_fields([\"Total_Score\",\n",
      "                  \"CrossLinkingMassSpectrometryRestraint_Data_Score_Chen\",\n",
      "                  \"CrossLinkingMassSpectrometryRestraint_Distance_|Trnka|103.1|Rpb1|1|Rpb1|343|0|PSI|\"])\n",
      "IMP.pmi.output.plot_fields(fl,framemin=10)"
     ],
     "language": "python",
     "metadata": {
      "slideshow": {
       "slide_type": "fragment"
      }
     },
     "outputs": [
      {
       "metadata": {},
       "output_type": "display_data",
       "png": "[encoded data removed]",
       "text": [
        "<matplotlib.figure.Figure at 0x117f49d50>"
       ]
      }
     ],
     "prompt_number": 21
    },
    {
     "cell_type": "markdown",
     "metadata": {
      "slideshow": {
       "slide_type": "subslide"
      }
     },
     "source": [
      "Additionally, with a little bit of coding, we can draw the box-plot for all crosslink distances"
     ]
    },
    {
     "cell_type": "code",
     "collapsed": false,
     "input": [
      "ks=[]\n",
      "for k in po.get_keys():\n",
      "    if \"Distance\" in k and (\"Rpb7\" in  k or \"Rpb4\" in k): ks.append(k)\n",
      "        \n",
      "fls=po.get_fields(ks)\n",
      "values=[]\n",
      "labels=[]\n",
      "positions=[]\n",
      "n=0\n",
      "for k in fls:\n",
      "        n+=1\n",
      "        values.append([float(x) for x in fls[k]])\n",
      "        labels.append(k.split(\"_\")[2])\n",
      "        positions.append(n)\n",
      "\n",
      "IMP.pmi.output.plot_fields_box_plots(\"CrosslinkDistances\",values,\n",
      "                                     positions,valuename=\"Distance\",\n",
      "                                     positionname=\"Crosslink\",\n",
      "                                     xlabels=labels)"
     ],
     "language": "python",
     "metadata": {
      "slideshow": {
       "slide_type": "fragment"
      }
     },
     "outputs": [
      {
       "metadata": {},
       "output_type": "display_data",
       "png": "[encoded data removed]",
       "text": [
        "<matplotlib.figure.Figure at 0x112f98650>"
       ]
      }
     ],
     "prompt_number": 22
    },
    {
     "cell_type": "markdown",
     "metadata": {
      "slideshow": {
       "slide_type": "slide"
      }
     },
     "source": [
      "## Stage 4 - Analysis Part 1 <a name=\"Analysis_Part_1_2\"></a>\n",
      "\n",
      "In the analysis stage we cluster (group by similarity) the sampled models to determine high-probability configurations. Comparing clusters may indicate that there are multiple acceptable configurations given the data. \n",
      "\n",
      "### Precomputed results <a name=\"Precomputed_Results_3\"></a>\n",
      "\n",
      "A long modeling run was precomputed and analyzed. You can [download](ftp://salilab.org/tutorials/imp/rnapolii/results.tar.gz) it from our website, and you can [download](ftp://salilab.org/tutorials/imp/rnapolii/analysis.tar.gz) the corresponding analysis.\n",
      "\n",
      "### Clustering top models using `clustering.py` <a name=\"Clustering_3\"></a>\n",
      "The `clustering.py` script, found in the `rnapolii/analysis` directory, calls the [AnalysisReplicaExchange0](https://integrativemodeling.org/nightly/doc/ref/classIMP_1_1pmi_1_1macros_1_1AnalysisReplicaExchange0.html) macro, which finds top-scoring models, extracts coordinates, runs k-means clustering, and does basic cluster analysis including creating localization densities for each subunit. The script generates a directory containing as many subdirectories as the number of clusters queried. Each subdirectory contains an RMF and a PDB for each structure extracted, a stat file, and the localization densities.\n",
      "\n",
      "We can choose the number of clusters, the subunits we want to use to calculate the RMSD, and the number of good-scoring solutions to include. These options are at the top of the script: "
     ]
    },
    {
     "cell_type": "code",
     "collapsed": false,
     "input": [
      "# load libraries\n",
      "import matplotlib as mpl\n",
      "mpl.use('Agg')\n",
      "\n",
      "import IMP\n",
      "import IMP.pmi\n",
      "import IMP.pmi.macros\n",
      "import sys,os\n",
      "\n",
      "# most common settings\n",
      "num_clusters = 1\n",
      "num_top_models = 5\n",
      "merge_directories = [\"./\"]   #in this ipython notebook we use the local directory to store the models\n",
      "prefiltervalue = 1000.0\n",
      "out_dir = \"kmeans_%i_%i/\" %(num_top_models,num_clusters)"
     ],
     "language": "python",
     "metadata": {
      "slideshow": {
       "slide_type": "subslide"
      }
     },
     "outputs": [],
     "prompt_number": 23
    },
    {
     "cell_type": "markdown",
     "metadata": {
      "slideshow": {
       "slide_type": "subslide"
      }
     },
     "source": [
      "Finally, we start the clustering. Most of the options were chosen earlier in the script."
     ]
    },
    {
     "cell_type": "markdown",
     "metadata": {
      "slideshow": {
       "slide_type": "fragment"
      }
     },
     "source": [
      "If we perform sampling multiple times separately, they can all be analyzed at the same time by appending to `merge_directories`. The prefiltervalue removes all models scoring below this value (meaning, they aren't clustered) which can be helpful to reduce the problem size.\n",
      "\n",
      "Create the analysis macro and pass it basic information (it will search for stat files):"
     ]
    },
    {
     "cell_type": "code",
     "collapsed": false,
     "input": [
      "# initialize the macro\n",
      "mc=IMP.pmi.macros.AnalysisReplicaExchange0(m,\n",
      "                                           merge_directories=merge_directories)"
     ],
     "language": "python",
     "metadata": {
      "slideshow": {
       "slide_type": "fragment"
      }
     },
     "outputs": [],
     "prompt_number": 24
    },
    {
     "cell_type": "markdown",
     "metadata": {
      "slideshow": {
       "slide_type": "subslide"
      }
     },
     "source": [
      "These are features that are kept around (and moved to the cluster stat files):"
     ]
    },
    {
     "cell_type": "code",
     "collapsed": false,
     "input": [
      "# fields that have to be extracted for the stat file\n",
      "feature_list=[\"ISDCrossLinkMS_Distance_intrarb\",\n",
      "              \"ISDCrossLinkMS_Distance_interrb\",\n",
      "              \"ISDCrossLinkMS_Data_Score\",\n",
      "              \"GaussianEMRestraint_None\",\n",
      "              \"SimplifiedModel_Linker_Score_None\",\n",
      "              \"ISDCrossLinkMS_Psi\",\n",
      "              \"ISDCrossLinkMS_Sigma\"]"
     ],
     "language": "python",
     "metadata": {
      "slideshow": {
       "slide_type": "fragment"
      }
     },
     "outputs": [],
     "prompt_number": 25
    },
    {
     "cell_type": "markdown",
     "metadata": {
      "slideshow": {
       "slide_type": "subslide"
      }
     },
     "source": [
      "Now we specify the subunits (or groups or fractions of subunits) for which we want to create density localization maps. `density_names` is a dictionary, where the keys are convenient names like \"Rpb1-CTD\" and the values are a list of selections. The selection items can either be a domain name like \"Rpb1\" or a list like (200,300,\"Rpb1\") which means residues 200-300 of component Rpb1. This enables the user to combine multiple selections for a single density calculation."
     ]
    },
    {
     "cell_type": "code",
     "collapsed": false,
     "input": [
      "# Dictionary of densities to be calculated\n",
      "# the key is the name of the file and the value is the selection\n",
      "# example: {\"med17-CTD\":[(200,300,\"med17\")],\"med17-CTD.med14\":[(200,300,\"med17\"),\"med14\"]   }\n",
      "density_names = {\"Rpb4\":[\"Rpb4\"],\n",
      "               \"Rpb7\":[\"Rpb7\"]}"
     ],
     "language": "python",
     "metadata": {
      "slideshow": {
       "slide_type": "fragment"
      }
     },
     "outputs": [],
     "prompt_number": 26
    },
    {
     "cell_type": "markdown",
     "metadata": {
      "slideshow": {
       "slide_type": "subslide"
      }
     },
     "source": [
      "Next, we specify the components used in calculating the RMSD between models. All selections here are used together for a single RMSD calculation between two models. The format is the same as `density_names`. One use case is when only a subset of the system is actually being sampled (with the rest kept static). Note that unless you provide something to `align_names` (see below), no alignment is done before calculating RMSD."
     ]
    },
    {
     "cell_type": "code",
     "collapsed": false,
     "input": [
      "# list of component names needed to calculate the RMSD for the clustering\n",
      "rmsd_names = {\"Rpb4\":\"Rpb4\",\n",
      "              \"Rpb7\":\"Rpb7\"}"
     ],
     "language": "python",
     "metadata": {
      "slideshow": {
       "slide_type": "fragment"
      }
     },
     "outputs": [],
     "prompt_number": 27
    },
    {
     "cell_type": "markdown",
     "metadata": {
      "slideshow": {
       "slide_type": "subslide"
      }
     },
     "source": [
      "Next, we specify components used for structural alignment. This is needed in case there is no absolute reference frame (like an EM map). The format is the same as density and RMSD. In this case we use `None` because of the EM map."
     ]
    },
    {
     "cell_type": "code",
     "collapsed": false,
     "input": [
      "# components used for structural alignment\n",
      "align_names = None # (None because EM provides reference frame)"
     ],
     "language": "python",
     "metadata": {
      "slideshow": {
       "slide_type": "fragment"
      }
     },
     "outputs": [],
     "prompt_number": 28
    },
    {
     "cell_type": "markdown",
     "metadata": {
      "slideshow": {
       "slide_type": "subslide"
      }
     },
     "source": [
      "Finally, we start the clustering. Most of the options were chosen earlier in the script."
     ]
    },
    {
     "cell_type": "code",
     "collapsed": false,
     "input": [
      "mc.clustering(prefiltervalue=prefiltervalue,                   # prefilter the models by score\n",
      "              number_of_best_scoring_models=num_top_models,    # number of models to be clustered\n",
      "              alignment_components=None,                       # list of proteins you want to use for structural alignment\n",
      "              rmsd_calculation_components=rmsd_names,          # list of proteins used to calculated the rmsd\n",
      "              distance_matrix_file=\"distance.rawmatrix.pkl\",   # save the distance matrix\n",
      "              outputdir=out_dir,                               # location for clustering results\n",
      "              feature_keys=feature_list,                       # extract these fields from the stat file\n",
      "              load_distance_matrix_file=False,                 # skip the matrix calculation and read the precalculated matrix\n",
      "              display_plot=True,                               # display the heat map plot of the distance matrix\n",
      "              exit_after_display=False,                        # exit after having displayed the distance matrix plot\n",
      "              get_every=1,                                     # skip structures for faster computation\n",
      "              number_of_clusters=num_clusters,                 # number of clusters to be used by kmeans algorithm\n",
      "              voxel_size=3.0,                                  # voxel size of the mrc files\n",
      "              density_custom_ranges=density_names)             # setup the list of densities to be calculated"
     ],
     "language": "python",
     "metadata": {
      "slideshow": {
       "slide_type": "fragment"
      }
     },
     "outputs": [
      {
       "output_type": "stream",
       "stream": "stdout",
       "text": [
        "WARNING: Using 'Total_Score' instead of 'SimplifiedModel_Total_Score_None' for the score key\n",
        "getting data from file ./output/stat.0.out\n",
        "getting coordinates for frame 0 rmf file /Users/riccardopellarin/imp-project/imp-240517/imp_tutorial/doc/output/rmfs/0.rmf3"
       ]
      },
      {
       "output_type": "stream",
       "stream": "stdout",
       "text": [
        "\n",
        "getting coordinates for frame 48 rmf file /Users/riccardopellarin/imp-project/imp-240517/imp_tutorial/doc/output/rmfs/0.rmf3"
       ]
      },
      {
       "output_type": "stream",
       "stream": "stdout",
       "text": [
        "\n",
        "getting coordinates for frame 48 rmf file /Users/riccardopellarin/imp-project/imp-240517/imp_tutorial/doc/output/rmfs/0.rmf3"
       ]
      },
      {
       "output_type": "stream",
       "stream": "stdout",
       "text": [
        "\n",
        "linking hierarchies for frame 38 rmf file /Users/riccardopellarin/imp-project/imp-240517/imp_tutorial/doc/output/rmfs/0.rmf3"
       ]
      },
      {
       "output_type": "stream",
       "stream": "stdout",
       "text": [
        "\n",
        "linking hierarchies for frame 35 rmf file /Users/riccardopellarin/imp-project/imp-240517/imp_tutorial/doc/output/rmfs/0.rmf3"
       ]
      },
      {
       "output_type": "stream",
       "stream": "stdout",
       "text": [
        "\n",
        "linking hierarchies for frame 49 rmf file /Users/riccardopellarin/imp-project/imp-240517/imp_tutorial/doc/output/rmfs/0.rmf3"
       ]
      },
      {
       "output_type": "stream",
       "stream": "stdout",
       "text": [
        "\n",
        "linking hierarchies for frame 46 rmf file /Users/riccardopellarin/imp-project/imp-240517/imp_tutorial/doc/output/rmfs/0.rmf3"
       ]
      },
      {
       "output_type": "stream",
       "stream": "stdout",
       "text": [
        "\n",
        "setup clustering class"
       ]
      },
      {
       "output_type": "stream",
       "stream": "stdout",
       "text": [
        "\n",
        "Global calculating the distance matrix\n",
        "process 0 assigned with 10 pairs\n",
        "[0]"
       ]
      },
      {
       "output_type": "stream",
       "stream": "stdout",
       "text": [
        "\n",
        "rank 0 \n",
        "cluster 0 \n",
        "cluster label 0 \n",
        "['/Users/riccardopellarin/imp-project/imp-240517/imp_tutorial/doc/output/rmfs/0.rmf3|48', '/Users/riccardopellarin/imp-project/imp-240517/imp_tutorial/doc/output/rmfs/0.rmf3|38', '/Users/riccardopellarin/imp-project/imp-240517/imp_tutorial/doc/output/rmfs/0.rmf3|46', '/Users/riccardopellarin/imp-project/imp-240517/imp_tutorial/doc/output/rmfs/0.rmf3|49', '/Users/riccardopellarin/imp-project/imp-240517/imp_tutorial/doc/output/rmfs/0.rmf3|35']\n",
        "getting coordinates for frame 48 rmf file /Users/riccardopellarin/imp-project/imp-240517/imp_tutorial/doc/output/rmfs/0.rmf3\n",
        "linking hierarchies for frame 38 rmf file /Users/riccardopellarin/imp-project/imp-240517/imp_tutorial/doc/output/rmfs/0.rmf3"
       ]
      },
      {
       "output_type": "stream",
       "stream": "stdout",
       "text": [
        "\n",
        "linking hierarchies for frame 46 rmf file /Users/riccardopellarin/imp-project/imp-240517/imp_tutorial/doc/output/rmfs/0.rmf3"
       ]
      },
      {
       "output_type": "stream",
       "stream": "stdout",
       "text": [
        "\n",
        "linking hierarchies for frame 49 rmf file /Users/riccardopellarin/imp-project/imp-240517/imp_tutorial/doc/output/rmfs/0.rmf3"
       ]
      },
      {
       "output_type": "stream",
       "stream": "stdout",
       "text": [
        "\n",
        "linking hierarchies for frame 35 rmf file /Users/riccardopellarin/imp-project/imp-240517/imp_tutorial/doc/output/rmfs/0.rmf3"
       ]
      },
      {
       "output_type": "stream",
       "stream": "stdout",
       "text": [
        "\n"
       ]
      }
     ],
     "prompt_number": 29
    },
    {
     "cell_type": "markdown",
     "metadata": {
      "slideshow": {
       "slide_type": "subslide"
      }
     },
     "source": [
      "### Clustering Results <a name=\"Clustering_Results_3\"></a>\n",
      "Run the clustering script by changing into the `rnapolii/analysis` directory and then running:\n",
      "\n",
      "```\n",
      "python clustering.py\n",
      "```\n",
      "\n",
      "If you ran `modeling.py` with the `--test` option, it is a good idea to give the `--test` option to `clustering.py` as well (this increases the prefilter value; none of the 50 test models generated may be good enough to satisfy the default prefilter value). With such minimal sampling, the quality of the results is unlikely to be high; you can download [the precalculated results](ftp://salilab.org/tutorials/imp/rnapolii/results.tar.gz) and the [resulting clusters](ftp://salilab.org/tutorials/imp/rnapolii/analysis.tar.gz) from our website.\n",
      "\n",
      "First we can look through the cluster results directory to see the output (see example below). The clustering directory contains the distance matrix plot (described below) and a folder for each cluster. Within the cluster folder are PDB and RMF files containing members of each cluster, localization densities for requested components (the `.mrc` files), and a stat file output (with one entry for each cluster member). All RMF, PDB, and MRC files should be viewable in Chimera. \n",
      "\n",
      "<img src=\"files/images/rnapolii_cluster_files.png\" alt=\"clustering files\" />\n",
      "\n",
      "Here is an example modeling result (from the provided files, `cluster.1/4.rmf3`, the cluster center):\n",
      "\n",
      "<img src=\"files/images/rnapolii_result.png\" alt=\"Example result\" width=\"600px\" />\n",
      "\n",
      "Next we can examine the plots outputted by the clustering script. The plots are output to a single file (`dist_matrix.pdf`) in the clustering directory. The first plot is the distance matrix of the models after being grouped into clusters. The matrix should show the requested number of clusters with much lower within-cluster than between-cluster distance. If this is not the case, then perhaps too many clusters were chosen.\n",
      "\n",
      "The second plot is a dendrogram, basically showing the distance matrix in a hierarchical way. Each vertical line from the bottom is a model, and the horizontal lines show the RMSD agreement between models. Sometimes the dendrogram can indicate a natural number of clusters, which can help determine the correct number to use. Here is the result from using 2 clusters on the example results:\n",
      "\n",
      "<img src=\"files/images/rnapolii_dist_matrix.png\" alt=\"Distance matrix and dendrogram\" width=\"600px\" />\n",
      "\n",
      "Next can examine the localization densities of a cluster. These can give a qualitative idea of the precision of a cluster. Below we show results from `cluster.1` in the provided results: the native structure without Rpb4/7 (in blue), the target density map (in mesh), and the localization densities (Rpb4 in cyan, Rpb7 in purple). The localizations are quite narrow and close to the native solution:\n",
      "\n",
      "<img src=\"files/images/rnapolii_localization.png\" alt=\"Localization densities\" width=\"600px\" />\n"
     ]
    },
    {
     "cell_type": "markdown",
     "metadata": {
      "slideshow": {
       "slide_type": "slide"
      }
     },
     "source": [
      "## Stage 4 - Analysis Part 2 <a name=\"Analysis_Part_2_2\"></a>\n",
      "\n",
      "### Post-clustering analysis <a name=\"Post_clustering_analsysis_3\"></a>\n",
      "In this stage we perform post-clustering analysis.  Here, we will perform calculations for:\n",
      "\n",
      "* **Cluster Precision**: Determining the within-group precision and between-group similarity via RMSD\n",
      "* **Cluster Accuracy**: Fit of the calculated clusters to the true (known) solution\n",
      "* **Sampling Exhaustiveness**: Qualitative and quantitative measurement of sampling completeness\n",
      "\n",
      "### Cluster Precision (`precision_rmsf.py`) <a name=\"Cluster_Precision_3\"></a>\n",
      "\n",
      "The `precision_rmsf.py` script can be used to determine the within- and between-cluster RMSD (i.e., precision). To run, use:\n",
      "\n",
      "```\n",
      "python precision_rmsf.py\n",
      "```\n",
      "\n",
      "It will generate `precision.*.*.out` files in the `kmeans*` subdirectory containing precision information in text format, while in each cluster directory it generates `.pdf` files showing the within-cluster residue mean square fluctuation. In a similar way to earlier scripts, subsets of the structure can be selected for the calculation - in this case, we select the Rpb4 and Rpb7 subunits."
     ]
    },
    {
     "cell_type": "code",
     "collapsed": false,
     "input": [
      "import glob\n",
      "root_cluster_directory=\"./kmeans_5_1\"\n",
      "\n",
      "# choose components for the precision calculation\n",
      "# key is the named precision item\n",
      "# value is a list of selection tuples [either \"domain_name\" or (start,stop,\"domain_name\") ]\n",
      "selections={\"Rpb4\":[\"Rpb4\"],\n",
      "            \"Rpb7\":[\"Rpb7\"],\n",
      "            \"Rpb4_Rpb7\":[\"Rpb4\",\"Rpb7\"]}"
     ],
     "language": "python",
     "metadata": {
      "slideshow": {
       "slide_type": "fragment"
      }
     },
     "outputs": [],
     "prompt_number": 30
    },
    {
     "cell_type": "markdown",
     "metadata": {
      "slideshow": {
       "slide_type": "subslide"
      }
     },
     "source": [
      "The script then sets up a model and [Precision](@ref IMP::pmi::analysis::Precision) object for the given `selections` at the desired resolution for computation of the precision (`resolution=1` specifies at the residue level)."
     ]
    },
    {
     "cell_type": "code",
     "collapsed": false,
     "input": [
      "# setup Precision calculator\n",
      "pr = IMP.pmi.analysis.Precision(m,resolution=1,selection_dictionary=selections)\n",
      "pr.set_precision_style('pairwise_rmsd')"
     ],
     "language": "python",
     "metadata": {
      "slideshow": {
       "slide_type": "fragment"
      }
     },
     "outputs": [],
     "prompt_number": 31
    },
    {
     "cell_type": "markdown",
     "metadata": {
      "slideshow": {
       "slide_type": "subslide"
      }
     },
     "source": [
      "Next, lists of structures are created that will be passed to the `Precision` object. `rmf_list` references the specific `.rmf` file, which with those `frame_list` is used to reference a particular frame in that `.rmf` to use (in this case, the only frame in the rmf, 0)."
     ]
    },
    {
     "cell_type": "code",
     "collapsed": false,
     "input": [
      "# gather the RMF filenames for each cluster\n",
      "rmf_list=[]\n",
      "frame_list=[]\n",
      "cluster_dirs=glob.glob(root_cluster_directory+'/cluster.*/')\n",
      "\n",
      "for d in cluster_dirs:\n",
      "    rmf_list.append(glob.glob(d+'/*.rmf3'))\n",
      "    frame_list.append([0]*len(rmf_list[-1]))"
     ],
     "language": "python",
     "metadata": {
      "slideshow": {
       "slide_type": "fragment"
      }
     },
     "outputs": [],
     "prompt_number": 32
    },
    {
     "cell_type": "markdown",
     "metadata": {
      "slideshow": {
       "slide_type": "subslide"
      }
     },
     "source": [
      "The list of frames and rmfs are added to the precision object"
     ]
    },
    {
     "cell_type": "code",
     "collapsed": false,
     "input": [
      "# add them to the Precision object\n",
      "for rmfs,frames,cdir in zip(rmf_list,frame_list,cluster_dirs):\n",
      "    pr.add_structures(zip(rmfs,frames),cdir)"
     ],
     "language": "python",
     "metadata": {
      "slideshow": {
       "slide_type": "fragment"
      }
     },
     "outputs": [
      {
       "output_type": "stream",
       "stream": "stdout",
       "text": [
        "getting coordinates for frame 0 rmf file ./kmeans_5_1/cluster.0/0.rmf3\n",
        "linking coordinates for frame 0 rmf file ./kmeans_5_1/cluster.0/1.rmf3"
       ]
      },
      {
       "output_type": "stream",
       "stream": "stdout",
       "text": [
        "\n",
        "linking coordinates for frame 0 rmf file ./kmeans_5_1/cluster.0/2.rmf3"
       ]
      },
      {
       "output_type": "stream",
       "stream": "stdout",
       "text": [
        "\n",
        "linking coordinates for frame 0 rmf file ./kmeans_5_1/cluster.0/3.rmf3"
       ]
      },
      {
       "output_type": "stream",
       "stream": "stdout",
       "text": [
        "\n",
        "linking coordinates for frame 0 rmf file ./kmeans_5_1/cluster.0/4.rmf3"
       ]
      },
      {
       "output_type": "stream",
       "stream": "stdout",
       "text": [
        "\n"
       ]
      }
     ],
     "prompt_number": 33
    },
    {
     "cell_type": "markdown",
     "metadata": {
      "slideshow": {
       "slide_type": "subslide"
      }
     },
     "source": [
      "Self-precision and inter-cluster precision is then calculated, using the `rmf_list` and the output is placed in `root_cluster_directory`."
     ]
    },
    {
     "cell_type": "code",
     "collapsed": false,
     "input": [
      "import itertools\n",
      "# calculate intra-cluster and inter-cluster precision\n",
      "print(\"calculating precision\")\n",
      "for clus1,clus2 in itertools.combinations_with_replacement(range(len(rmf_list)),2):\n",
      "    pr.get_precision(cluster_dirs[clus1],\n",
      "                     cluster_dirs[clus2],\n",
      "                     root_cluster_directory+\"/precision.\"+str(clus1)+\".\"+str(clus2)+\".out\")"
     ],
     "language": "python",
     "metadata": {
      "slideshow": {
       "slide_type": "fragment"
      }
     },
     "outputs": [
      {
       "output_type": "stream",
       "stream": "stdout",
       "text": [
        "calculating precision\n"
       ]
      }
     ],
     "prompt_number": 34
    },
    {
     "cell_type": "markdown",
     "metadata": {
      "slideshow": {
       "slide_type": "subslide"
      }
     },
     "source": [
      "Finally, the RMSFs for each residue in the analyzed components are calculated and stored in `root_cluster_directory/rmsf.COMPONENT_NAME.dat`\n"
     ]
    },
    {
     "cell_type": "code",
     "collapsed": false,
     "input": [
      "# compute residue mean-square fluctuation (RMSF)\n",
      "for d in cluster_dirs:\n",
      "    pr.get_rmsf(structure_set_name=d,outdir=d)"
     ],
     "language": "python",
     "metadata": {
      "slideshow": {
       "slide_type": "fragment"
      }
     },
     "outputs": [],
     "prompt_number": 35
    },
    {
     "cell_type": "markdown",
     "metadata": {
      "slideshow": {
       "slide_type": "fragment"
      }
     },
     "source": [
      "<img src=\"files/images/rnapolii_rmsf.Rpb7.png\" width=\"500px\" alt=\"residue root mean square fluctuations calculated on a cluster of structures\" />"
     ]
    },
    {
     "cell_type": "markdown",
     "metadata": {
      "slideshow": {
       "slide_type": "subslide"
      }
     },
     "source": [
      "### Accuracy evaluation (`accuracy.py`) <a name=\"Accuracy_3\"></a>\n",
      "We have provided a script to evaluate the accuracy of a model against a native configuration. When run, it will enumerate the structures in the first cluster and print the average and minimum distance between those structures and a given reference model. This is useful for benchmarking (but obviously is of no use when we don't know the 'real' structure).\n",
      "\n",
      "To run, use\n",
      "\n",
      "```\n",
      "python accuracy.py\n",
      "```\n",
      "\n",
      "First, identify the reference structure and list of `.rmf` structures to use in calculation"
     ]
    },
    {
     "cell_type": "code",
     "collapsed": false,
     "input": [
      "# common settings\n",
      "reference_rmf = \"../rnapolii/data/native.rmf3\"\n",
      "test_mode = False                             # run on every 10 rmf files\n",
      "rmfs = glob.glob('kmeans_*_1/cluster.0/*.rmf3') # list of the RMFS to calculate on"
     ],
     "language": "python",
     "metadata": {
      "slideshow": {
       "slide_type": "fragment"
      }
     },
     "outputs": [],
     "prompt_number": 36
    },
    {
     "cell_type": "markdown",
     "metadata": {
      "slideshow": {
       "slide_type": "subslide"
      }
     },
     "source": [
      "The components that will be compared to reference must be explicitly enumerated in `selections`"
     ]
    },
    {
     "cell_type": "code",
     "collapsed": false,
     "input": [
      "# choose components for the precision calculation\n",
      "# key is the named precision item\n",
      "# value is a list of selection tuples [either \"domain_name\" or (start,stop,\"domain_name\") ]\n",
      "selections = {\"Rpb4\":[\"Rpb4\"],\n",
      "              \"Rpb7\":[\"Rpb7\"],\n",
      "              \"Rpb4_Rpb7\":[\"Rpb4\",\"Rpb7\"]}"
     ],
     "language": "python",
     "metadata": {
      "slideshow": {
       "slide_type": "fragment"
      }
     },
     "outputs": [],
     "prompt_number": 37
    },
    {
     "cell_type": "markdown",
     "metadata": {
      "slideshow": {
       "slide_type": "subslide"
      }
     },
     "source": [
      "Initialize a `Precision` class object and add the `selections`.  Then add the list of `.rmf` structures "
     ]
    },
    {
     "cell_type": "code",
     "collapsed": false,
     "input": [
      "# setup Precision calculator\n",
      "frames=[0]*len(rmfs)\n",
      "pr=IMP.pmi.analysis.Precision(m,selection_dictionary=selections)\n",
      "pr.set_precision_style('pairwise_rmsd')\n",
      "pr.add_structures(zip(rmfs,frames),\"ALL\")"
     ],
     "language": "python",
     "metadata": {
      "slideshow": {
       "slide_type": "fragment"
      }
     },
     "outputs": [
      {
       "output_type": "stream",
       "stream": "stdout",
       "text": [
        "getting coordinates for frame 0 rmf file kmeans_5_1/cluster.0/0.rmf3\n",
        "linking coordinates for frame 0 rmf file kmeans_5_1/cluster.0/1.rmf3"
       ]
      },
      {
       "output_type": "stream",
       "stream": "stdout",
       "text": [
        "\n",
        "linking coordinates for frame 0 rmf file kmeans_5_1/cluster.0/2.rmf3"
       ]
      },
      {
       "output_type": "stream",
       "stream": "stdout",
       "text": [
        "\n",
        "linking coordinates for frame 0 rmf file kmeans_5_1/cluster.0/3.rmf3"
       ]
      },
      {
       "output_type": "stream",
       "stream": "stdout",
       "text": [
        "\n",
        "linking coordinates for frame 0 rmf file kmeans_5_1/cluster.0/4.rmf3"
       ]
      },
      {
       "output_type": "stream",
       "stream": "stdout",
       "text": [
        "\n"
       ]
      }
     ],
     "prompt_number": 38
    },
    {
     "cell_type": "markdown",
     "metadata": {
      "slideshow": {
       "slide_type": "subslide"
      }
     },
     "source": [
      "Average to the reference structure in angstroms for each component in `selections` is then calculated and outputted to the screen.\n"
     ]
    },
    {
     "cell_type": "code",
     "collapsed": false,
     "input": [
      "# calculate average distance to the reference file\n",
      "pr.set_reference_structure(reference_rmf,0)\n",
      "pr.get_average_distance_wrt_reference_structure(\"ALL\")"
     ],
     "language": "python",
     "metadata": {
      "slideshow": {
       "slide_type": "fragment"
      }
     },
     "outputs": [
      {
       "output_type": "stream",
       "stream": "stdout",
       "text": [
        "linking coordinates for frame 0 rmf file ../rnapolii/data/native.rmf3\n",
        "Rpb4"
       ]
      },
      {
       "output_type": "stream",
       "stream": "stdout",
       "text": [
        " average distance 46.3885972415 minimum distance 33.6867290103 nframes 5\n",
        "All"
       ]
      },
      {
       "output_type": "stream",
       "stream": "stdout",
       "text": [
        " average distance 20.2946406342 minimum distance 18.231367883 nframes 5\n",
        "Rpb7 average distance 82.3539474701 minimum distance 72.0089150779 nframes 5\n",
        "Rpb4_Rpb7 average distance 66.9579022132 minimum distance 59.8458206894 nframes 5\n"
       ]
      },
      {
       "metadata": {},
       "output_type": "pyout",
       "prompt_number": 39,
       "text": [
        "{'All': {'average_distance': 20.294640634193183,\n",
        "  'minimum_distance': 18.231367883043742},\n",
        " 'Rpb4': {'average_distance': 46.38859724150338,\n",
        "  'minimum_distance': 33.68672901033982},\n",
        " 'Rpb4_Rpb7': {'average_distance': 66.95790221319672,\n",
        "  'minimum_distance': 59.8458206893655},\n",
        " 'Rpb7': {'average_distance': 82.35394747007166,\n",
        "  'minimum_distance': 72.00891507793362}}"
       ]
      }
     ],
     "prompt_number": 39
    },
    {
     "cell_type": "markdown",
     "metadata": {
      "slideshow": {
       "slide_type": "fragment"
      }
     },
     "source": [
      "The average distance is the average RMSD of each model in the cluster with respect to the reference structure. The program prints values for all selections (`Rpb4`, `Rpb7` and `Rpb4_Rpb7`) and automatically for all the complex (`All`)"
     ]
    },
    {
     "cell_type": "markdown",
     "metadata": {
      "slideshow": {
       "slide_type": "subslide"
      }
     },
     "source": [
      "### Sampling Exhaustiveness <a name=\"Sampling_Exhaustiveness_3\"></a>\n",
      "We can also determine sampling exhaustiveness by dividing the models into multiple sets, performing clustering on each set separately, and comparing the clusters. This step is left as an exercise to the reader. To aid with splitting the data, we have added the optional keyword `first_and_last_frames` to the IMP::pmi::macros::AnalysisReplicaExchange0::clustering() method.\n",
      "If you set this keyword to a tuple (values are percentages, e.g. [0,0.5]), it will only analyze that fraction of the data. Some things you can try:\n",
      "* cluster two subsets of the data\n",
      "* qualitative analysis: look at the localization densities - they should be similar for the two subsets\n",
      "* quantitative analysis: combine the cluster results into one folder (rename as needed) and call `precision_rmsf.py`, which will automatically compute cross-precision for the clusters. \n",
      "\n",
      "If the sampling is exhaustive, then similar clusters should be obtained from each independent set, and the inter-cluster precision between two equivalent clusters should be very low (that is, there should be a 1:1 correspondence between the two sets of clusters, though the ordering may be different)."
     ]
    }
   ],
   "metadata": {}
  }
 ]
}