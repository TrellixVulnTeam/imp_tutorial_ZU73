{
 "metadata": {
  "name": ""
 },
 "nbformat": 3,
 "nbformat_minor": 0,
 "worksheets": [
  {
   "cells": [
    {
     "cell_type": "heading",
     "level": 1,
     "metadata": {},
     "source": [
      "IMP.pmi Tutorial Handout"
     ]
    },
    {
     "cell_type": "markdown",
     "metadata": {},
     "source": [
      "### Integrating EM and Crosslinking data to localize two domains of RNA Polymerase II\n",
      "\n",
      "Authors: Riccardo Pellarin, Charles Greenberg, Daniel Saltzberg, Ben Webb"
     ]
    },
    {
     "cell_type": "markdown",
     "metadata": {},
     "source": [
      "The Python Modeling Interface (pmi) is a powerful set of tools designed\n",
      "to handle all steps of the modeling protocol for\n",
      "typical modeling problems. It is designed to be used by writing a set of\n",
      "Python scripts."
     ]
    },
    {
     "cell_type": "markdown",
     "metadata": {},
     "source": [
      "We will illustrate the use of PMI by determining the localization of two\n",
      "subunits of RNA Polymerase II, utilizing chemical cross-linking coupled with\n",
      "mass spectrometry, negative-stain electron microscopy (EM), and x-ray\n",
      "crystallography data. We will try\n",
      "to reconstruct the stalk of the complex, comprising of subunits Rpb4 and Rpb7,\n",
      "hypothesizing that we know already the structure of the remaining 10-subunit\n",
      "complex. The example can be easily generalized to any other set of subunits.\n",
      "\n",
      "## Installation\n",
      "\n",
      "The current version of the Tutorial is still under development, and it is guaranteed to work with IMP commit version [acede8b](https://github.com/salilab/imp/tree/acede8bafb1231ff2cf858e6b5d34d1923f92b18), and IMP.pmi commit version [af8679d](https://github.com/salilab/pmi/tree/af8679daf316ff45c9345cb7e0f2d1ff9c895bcc)\n",
      "\n",
      "To work through the example on your own system, you will need the following\n",
      "packages installed in addition to [IMP itself](https://integrativemodeling.org/nightly/doc/manual/installation.html):\n",
      "\n",
      "- [numpy and scipy](http://www.scipy.org/scipylib/download.html)\n",
      "  for matrix and linear algebra\n",
      "\n",
      "- [scikit-learn](http://scikit-learn.org/stable/install.html)\n",
      "  for k-means clustering\n",
      "\n",
      "- [matplotlib](http://matplotlib.org/downloads.html)\n",
      "  for plotting results\n",
      "\n",
      "- [Chimera](https://www.cgl.ucsf.edu/chimera/download.html)\n",
      "  for visualization of results\n",
      "\n",
      "(If you are using [Anaconda Python](https://store.continuum.io/cshop/anaconda/),\n",
      "you can get the Python packages above by simply running\n",
      "`conda install numpy scipy scikit-learn matplotlib`.\n",
      "On a Mac you can get them using the\n",
      "[pip](https://pypi.python.org/pypi/pip) tool, e.g. by running a command like\n",
      "`sudo easy_install pip`, then install the packages with something like\n",
      "`sudo pip install scikit-learn; sudo pip install matplotlib`. `numpy` and `scipy` are already installed on modern Macs. Something\n",
      "similar may also work on a Linux box, although it's probably better to install\n",
      "the packages using the distribution's package manager, such as `yum` or\n",
      "`apt-get`.)\n",
      "\n",
      "Then download the input files, either by \n",
      "[cloning the GitHub repository](https://github.com/salilab/imp_tutorial/tree/develop)\n",
      "or by [downloading the zip file](https://github.com/salilab/imp_tutorial/archive/develop.zip)."
     ]
    },
    {
     "cell_type": "markdown",
     "metadata": {},
     "source": [
      "The rnapolii example directory contains three directories: `analysis`, `data`, and `modeling`."
     ]
    },
    {
     "cell_type": "markdown",
     "metadata": {},
     "source": [
      "## Table of Content\n",
      "\n",
      "[//]: # (To compile the Table of Content run `python tools/compile_toc.py Tutorial.ipynb` and paste the output here below)\n",
      "\n",
      "&nbsp;&nbsp;&nbsp;&nbsp;&nbsp;&nbsp;&nbsp;&nbsp;&nbsp;&nbsp;&nbsp;&nbsp;[ Background of RNA Polymerase II ](#3_Background_of_RNA_Polymerase_II)\n",
      "\n",
      "&nbsp;&nbsp;&nbsp;&nbsp;&nbsp;&nbsp;&nbsp;&nbsp;&nbsp;&nbsp;&nbsp;&nbsp;&nbsp;&nbsp;&nbsp;&nbsp;&nbsp;&nbsp;[ Integrative Modeling using IMP ](#4_Integrative_Modeling_using_IMP)\n",
      "\n",
      "&nbsp;&nbsp;&nbsp;&nbsp;&nbsp;&nbsp;&nbsp;&nbsp;&nbsp;&nbsp;&nbsp;&nbsp;&nbsp;&nbsp;&nbsp;&nbsp;&nbsp;&nbsp;[ The four stages of Integrative Modeling ](#3_The_four_stages_of_Integrative_Modeling)\n",
      "\n",
      "&nbsp;&nbsp;&nbsp;&nbsp;&nbsp;&nbsp;&nbsp;&nbsp;&nbsp;&nbsp;&nbsp;&nbsp;&nbsp;&nbsp;&nbsp;&nbsp;&nbsp;&nbsp;[ Running the script ](#3_Running_the_script)\n",
      "\n",
      "&nbsp;&nbsp;&nbsp;&nbsp;&nbsp;&nbsp;&nbsp;&nbsp;&nbsp;&nbsp;&nbsp;&nbsp;[ Stage 1 - Gathering of data ](#Stage_1_2)\n",
      "\n",
      "&nbsp;&nbsp;&nbsp;&nbsp;&nbsp;&nbsp;&nbsp;&nbsp;&nbsp;&nbsp;&nbsp;&nbsp;&nbsp;&nbsp;&nbsp;&nbsp;&nbsp;&nbsp;[ Data for yeast RNA Polymerase II ](#Data_rnapolii_3)\n",
      "\n",
      "&nbsp;&nbsp;&nbsp;&nbsp;&nbsp;&nbsp;&nbsp;&nbsp;&nbsp;&nbsp;&nbsp;&nbsp;[ Stage 2 - Representation of subunits and translation of the data into spatial restraints ](#Stage_2_2)\n",
      "\n",
      "&nbsp;&nbsp;&nbsp;&nbsp;&nbsp;&nbsp;&nbsp;&nbsp;&nbsp;&nbsp;&nbsp;&nbsp;&nbsp;&nbsp;&nbsp;&nbsp;&nbsp;&nbsp;[ Setting up Model Representation and Degrees of Freedom in IMP ](#Setting_up_3)\n",
      "\n",
      "&nbsp;&nbsp;&nbsp;&nbsp;&nbsp;&nbsp;&nbsp;&nbsp;&nbsp;&nbsp;&nbsp;&nbsp;&nbsp;&nbsp;&nbsp;&nbsp;&nbsp;&nbsp;[ Hierarchy ](#Hierarchy_3)\n",
      "\n",
      "&nbsp;&nbsp;&nbsp;&nbsp;&nbsp;&nbsp;&nbsp;&nbsp;&nbsp;&nbsp;&nbsp;&nbsp;&nbsp;&nbsp;&nbsp;&nbsp;&nbsp;&nbsp;[ Dissecting the script ](#Dissecting_the_script_3)\n",
      "\n",
      "&nbsp;&nbsp;&nbsp;&nbsp;&nbsp;&nbsp;&nbsp;&nbsp;&nbsp;&nbsp;&nbsp;&nbsp;&nbsp;&nbsp;&nbsp;&nbsp;&nbsp;&nbsp;&nbsp;&nbsp;&nbsp;&nbsp;&nbsp;&nbsp;[ Model Representation Using a Topology File. ](#Topology_file_4)\n",
      "\n",
      "&nbsp;&nbsp;&nbsp;&nbsp;&nbsp;&nbsp;&nbsp;&nbsp;&nbsp;&nbsp;&nbsp;&nbsp;&nbsp;&nbsp;&nbsp;&nbsp;&nbsp;&nbsp;&nbsp;&nbsp;&nbsp;&nbsp;&nbsp;&nbsp;[ Building the System Representation and Degrees of Freedom ](#Representation_and_DOF_4)\n",
      "\n",
      "&nbsp;&nbsp;&nbsp;&nbsp;&nbsp;&nbsp;&nbsp;&nbsp;&nbsp;&nbsp;&nbsp;&nbsp;&nbsp;&nbsp;&nbsp;&nbsp;&nbsp;&nbsp;[ Scoring Function ](#Scoring_Function_3) \n",
      "\n",
      "&nbsp;&nbsp;&nbsp;&nbsp;&nbsp;&nbsp;&nbsp;&nbsp;&nbsp;&nbsp;&nbsp;&nbsp;&nbsp;&nbsp;&nbsp;&nbsp;&nbsp;&nbsp;&nbsp;&nbsp;&nbsp;&nbsp;&nbsp;&nbsp;[ Connectivity Restraint ](#Connectivity_Restraint_4) \n",
      "\n",
      "&nbsp;&nbsp;&nbsp;&nbsp;&nbsp;&nbsp;&nbsp;&nbsp;&nbsp;&nbsp;&nbsp;&nbsp;&nbsp;&nbsp;&nbsp;&nbsp;&nbsp;&nbsp;&nbsp;&nbsp;&nbsp;&nbsp;&nbsp;&nbsp;[ Excluded Volume Restraint ](#Excluded_Volume_Restraint_4) \n",
      "\n",
      "&nbsp;&nbsp;&nbsp;&nbsp;&nbsp;&nbsp;&nbsp;&nbsp;&nbsp;&nbsp;&nbsp;&nbsp;&nbsp;&nbsp;&nbsp;&nbsp;&nbsp;&nbsp;&nbsp;&nbsp;&nbsp;&nbsp;&nbsp;&nbsp;[ Crosslinks - dataset 1 ](#Crosslink_1_4)\n",
      "\n",
      "&nbsp;&nbsp;&nbsp;&nbsp;&nbsp;&nbsp;&nbsp;&nbsp;&nbsp;&nbsp;&nbsp;&nbsp;&nbsp;&nbsp;&nbsp;&nbsp;&nbsp;&nbsp;&nbsp;&nbsp;&nbsp;&nbsp;&nbsp;&nbsp;[ Crosslinks - dataset 2 ](#Crosslink_2_4)\n",
      "\n",
      "&nbsp;&nbsp;&nbsp;&nbsp;&nbsp;&nbsp;&nbsp;&nbsp;&nbsp;&nbsp;&nbsp;&nbsp;&nbsp;&nbsp;&nbsp;&nbsp;&nbsp;&nbsp;&nbsp;&nbsp;&nbsp;&nbsp;&nbsp;&nbsp;[ Electron Microscopy Restraint ](#EM_4) \n",
      "\n",
      "&nbsp;&nbsp;&nbsp;&nbsp;&nbsp;&nbsp;&nbsp;&nbsp;&nbsp;&nbsp;&nbsp;&nbsp;[ Stage 3 - Sampling ](#Sampling_2)\n",
      "\n",
      "&nbsp;&nbsp;&nbsp;&nbsp;&nbsp;&nbsp;&nbsp;&nbsp;&nbsp;&nbsp;&nbsp;&nbsp;&nbsp;&nbsp;&nbsp;&nbsp;&nbsp;&nbsp;[ Modeling Output ](#Output_3)\n",
      "\n",
      "&nbsp;&nbsp;&nbsp;&nbsp;&nbsp;&nbsp;&nbsp;&nbsp;&nbsp;&nbsp;&nbsp;&nbsp;&nbsp;&nbsp;&nbsp;&nbsp;&nbsp;&nbsp;[ Using `ProcessOutput` for inline analysis ](#ProcessOutput_3)\n",
      "\n",
      "&nbsp;&nbsp;&nbsp;&nbsp;&nbsp;&nbsp;&nbsp;&nbsp;&nbsp;&nbsp;&nbsp;&nbsp;[ Stage 4 - Analysis Part 1 ](#Analysis_Part_1_2)\n",
      "\n",
      "&nbsp;&nbsp;&nbsp;&nbsp;&nbsp;&nbsp;&nbsp;&nbsp;&nbsp;&nbsp;&nbsp;&nbsp;&nbsp;&nbsp;&nbsp;&nbsp;&nbsp;&nbsp;[ Precomputed results ](#Precomputed_Results_3)\n",
      "\n",
      "&nbsp;&nbsp;&nbsp;&nbsp;&nbsp;&nbsp;&nbsp;&nbsp;&nbsp;&nbsp;&nbsp;&nbsp;&nbsp;&nbsp;&nbsp;&nbsp;&nbsp;&nbsp;[ Clustering top models using `clustering.py` ](#Clustering_3)\n",
      "\n",
      "&nbsp;&nbsp;&nbsp;&nbsp;&nbsp;&nbsp;&nbsp;&nbsp;&nbsp;&nbsp;&nbsp;&nbsp;&nbsp;&nbsp;&nbsp;&nbsp;&nbsp;&nbsp;[ Clustering Results ](#Clustering_Results_3)\n",
      "\n",
      "&nbsp;&nbsp;&nbsp;&nbsp;&nbsp;&nbsp;&nbsp;&nbsp;&nbsp;&nbsp;&nbsp;&nbsp;[ Stage 4 - Analysis Part 2 ](#Analysis_Part_2_2)\n",
      "\n",
      "&nbsp;&nbsp;&nbsp;&nbsp;&nbsp;&nbsp;&nbsp;&nbsp;&nbsp;&nbsp;&nbsp;&nbsp;&nbsp;&nbsp;&nbsp;&nbsp;&nbsp;&nbsp;[ Post-clustering analysis ](#Post_clustering_analsysis_3)\n",
      "\n",
      "&nbsp;&nbsp;&nbsp;&nbsp;&nbsp;&nbsp;&nbsp;&nbsp;&nbsp;&nbsp;&nbsp;&nbsp;&nbsp;&nbsp;&nbsp;&nbsp;&nbsp;&nbsp;[ Cluster Precision (`precision_rmsf.py`) ](#Cluster_Precision_3)\n",
      "\n",
      "&nbsp;&nbsp;&nbsp;&nbsp;&nbsp;&nbsp;&nbsp;&nbsp;&nbsp;&nbsp;&nbsp;&nbsp;&nbsp;&nbsp;&nbsp;&nbsp;&nbsp;&nbsp;[ Accuracy evaluation (`accuracy.py`) ](#Accuracy_3)\n",
      "\n",
      "&nbsp;&nbsp;&nbsp;&nbsp;&nbsp;&nbsp;&nbsp;&nbsp;&nbsp;&nbsp;&nbsp;&nbsp;&nbsp;&nbsp;&nbsp;&nbsp;&nbsp;&nbsp;[ Sampling Exhaustiveness ](#Sampling_Exhaustiveness_3)\n",
      "\n"
     ]
    },
    {
     "cell_type": "markdown",
     "metadata": {},
     "source": [
      "## Background of RNA Polymerase II <a name=\"3_Background_of_RNA_Polymerase_II\"></a>\n",
      "\n",
      "[RNA Pol II](http://en.wikipedia.org/wiki/RNA_polymerase_II) is a eukaryotic complex that catalyzes DNA transcription to synthesize mRNA strands.  Eukaryotic RNA polymerase II contains 12 subunits, Rpb1 to Rpb12. The yeast RNA Pol II dissociates into a 10-subunit core and a Rpb4/Rpb7 heterodimer. Rpb4 and Rpb7 are conserved from yeast to humans, and form a stalk-like protrusion extending from the main body of the RNA Pol II complex.\n",
      "\n",
      "\n",
      "### Integrative Modeling using IMP <a name=\"4_Integrative_Modeling_using_IMP\"></a>\n",
      "\n",
      "This example will use data from chemical cross linking, EM and x-ray crystallography to localize the two subunits of the RNA Polymerase II stalk (Rpb4, Rpb7) to a static core of the remaining ten subunits.  \n",
      "\n",
      "<img src=\"files/images/rnapolii_integrative.png\" alt=\"Drawing\" style=\"width: 600px;\"/>\n",
      "\n",
      "### The four stages of Integrative Modeling <a name=\"3_The_four_stages_of_Integrative_Modeling\"></a>\n",
      "\n",
      "Structural modeling using IMP is divided into [four stages](@ref procedure).\n",
      "\n",
      "Click the links below to see a breakdown of all the modeling steps.\n",
      "\n",
      "\n",
      "* [Stage 1](#Stage_1_2)) Collect biophysical data that can be used as structural restraints and constraints\n",
      "  \n",
      "* [Stage 2](#Stage_2_2)) Define representations for the RNA Poly II structural model and define each data point as a scoring function.\n",
      "\n",
      "* [Stage 3](#Sampling_2)) Run a sampling protocol to find good scoring conformations.  \n",
      "\n",
      "* [Stage 4.1](#Analysis_Part_1_2), [Stage 4.2](#Analysis_Part_2_2)) Analysis of the good scoring conformations.  Clustering; uncertainty; precision; etc...\n",
      "\n",
      "### Running the script <a name=\"3_Running_the_script\"></a>\n",
      "\n",
      "The first three modeling stages are all contained within one script, `modeling.py`. You can get started by simply changing into the `rnapolii/modeling` directory and then running the script with Python:\n",
      "\n",
      "```\n",
      "python modeling.py\n",
      "```\n",
      "\n",
      "It will take a very long time to complete the sampling; to get an idea of what's going on you can run it with only 50 output frames by adding the `--test` option:\n",
      "\n",
      "```\n",
      "python modeling.py --test\n",
      "```"
     ]
    },
    {
     "cell_type": "markdown",
     "metadata": {},
     "source": [
      "## Stage 1 - Gathering of data <a name=\"Stage_1_2\"></a>\n",
      "\n",
      "In this stage, we find all available experimental data that we wish to utilize in structural modeling.  In theory, any method that provides information about absolute or relative structural information can be used.\n",
      "\n",
      "### Data for yeast RNA Polymerase II <a name=\"Data_rnapolii_3\"></a>\n",
      "The `rnapolii/data` folder in the tutorial input files contains the data included in this example:\n",
      "\n",
      "* Sequence information (FASTA files for each subunit)\n",
      "* [Electron density maps](http://www.ebi.ac.uk/pdbe/entry/EMD-1883/visualization) (`.mrc`, `.txt` files)\n",
      "* [High resolution structure from x-ray crystallography](http://www.rcsb.org/pdb/explore/explore.do?structureId=1WCM) (PDB file)\n",
      "* Chemical crosslinking datasets (we use two data sets, one from [Al Burlingame's lab](http://www.mcponline.org/content/13/2/420.long), and another from [Juri Rappsilber's lab](http://emboj.embopress.org/content/29/4/717))\n",
      "\n",
      "\n",
      "**FASTA File**  \n",
      "Each residue included in modeling must be explicitly defined in the FASTA text file.  Each individual component (i.e., a protein chain) is identified by a string in the FASTA header line.  From `1WCM.fasta.txt`:\n",
      "\n",
      "    >1WCM:A\n",
      "    MVGQQYSSAPLRTVKEVQFGLFSPEEVRAISVAKIRFPETMDETQTRAKIGGLNDPRLGSIDRNLKCQTCQEGMNECPGH\n",
      "    FGHIDLAKPVFHVGFIAKIKKVCECVCMHCGKLLLDEHNELMRQALAIKDSKKRFAAIWTLCKTKMVCETDVPSEDDPTQ  \n",
      "    ...\n",
      "    >1WCM:B\n",
      "    MSDLANSEKYYDEDPYGFEDESAPITAEDSWAVISAFFREKGLVSQQLDSFNQFVDYTLQDIICEDSTLILEQLAQHTTE\n",
      "    SDNISRKYEISFGKIYVTKPMVNESDGVTHALYPQEARLRNLTYSSGLFVDVKKRTYEAIDVPGRELKYELIAEESEDDS  \n",
      "    ...\n",
      "\n",
      "defines two chains with unique IDs of 1WCM:A and 1WCM:B respectively.  The entire complex is 12 chains and 4582 residues.\n",
      "\n",
      "**Electron Density Map**  \n",
      "The electron density map of the entire RNA Poly II complex is at 20.9 Angstrom resolution.  The raw data file for this is stored in `emd_1883.map.mrc`.\n",
      "\n",
      "<figure><img src=\"files/images/rnapolii_em_raw.png\" width=\"200px\" />\n",
      "<figcaption>_Electron microscopy density map for yeast RNA Polymerase II_</figcaption></figure>\n",
      "\n",
      "**Electron Density as Gaussian Mixture Models**  \n",
      "Gaussian mixture models (GMMs) are used to greatly speed up scoring by approximating the electron density of individual subunits and experimental EM maps.  A GMM has been created for the experimental density map, and is stored in `emd_1883.map.mrc.gmm.50.mrc`.  The weight, center, and covariance matrix of each Gaussian used to approximate the original EM density can be seen in the corresponding `.txt` file.  \n",
      "\n",
      "<figure><img src=\"files/images/rnapolii_em_gmm_50.png\" width=\"200px\" />\n",
      "<figcaption>_The EM data represented as a 50 Gaussian mixture model_</figcaption></figure>\n",
      "\n",
      "\n",
      "**PDB File**  \n",
      "High resolution coordinates for all 12 chains of RNA Pol II are found in `1WCM.pdb`.  \n",
      "\n",
      "<figure><img src=\"files/images/rnapolii_all_1wc4.png\" width=\"200px\" />\n",
      "<figcaption>_Coordinates from PDBID [1WCM](http://www.rcsb.org/pdb/explore.do?structureId=1wcm)_</figcaption></figure>\n",
      "\n",
      "**Chemical Cross-Links**  \n",
      "All chemical cross-linking data is located in `polii_xlinks.csv` and `polii_juri.csv`.  These files contain multiple comma-separated columns; four of these specify the protein and residue number for each of the two linker residues.\n",
      "\n",
      "    prot1,res1,prot2,res2\n",
      "    Rpb1,34,Rpb1,49\n",
      "    Rpb1,101,Rpb1,143\n",
      "    Rpb1,101,Rpb1,176\n",
      "\n",
      "The length of the DSS/BS3 cross-linker reagent, 21 angstroms, will be specified later in the modeling script.  "
     ]
    },
    {
     "cell_type": "markdown",
     "metadata": {},
     "source": [
      "## Stage 2 - Representation of subunits and translation of the data into spatial restraints <a name=\"Stage_2_2\"></a>\n",
      "\n",
      "\n",
      "In this stage, we will initially define a representation of the system. Afterwards, we will convert the data into spatial restraints.  This is performed using the script `rnapolii/modeling/modeling.py` and uses the\n",
      "topology file, `topology.txt`, to define the system components and their representation\n",
      "parameters.\n",
      "\n",
      "### Setting up Model Representation and Degrees of Freedom in IMP <a name=\"Setting_up_3\"></a>\n",
      "\n",
      "Very generally, the *representation* of a system is defined by all the variables that need to be determined based on input information, including the assignment of the system components to geometric objects (e.g. points, spheres, ellipsoids, and 3D Gaussian density functions). \n",
      "\n",
      "Our RNA Pol II representation employs **spherical beads** of varying sizes and **3D Gaussians**, which coarsen domains of the complex using several resolution scales simultaneously. \n",
      "\n",
      "The **spatial restraints** will be applied to individual resolution scales as appropriate. \n",
      "\n",
      "Beads and Gaussians of a given domain are arranged into either a rigid body or a flexible string, based on the crystallographic structures. \n",
      "\n",
      "In a **rigid body**, all the beads and the Gaussians of a given domain have their relative distances constrained during configurational sampling, while in a **flexible string** the beads and the Gaussians are restrained by the sequence connectivity. \n",
      "\n",
      "**super rigid bodies** are sets of rigid bodies and beads that will move together in an additional Monte Carlo move.\n",
      "\n",
      "**chain_of_super_rigid_bodies** are additional degrees of freedom along the connectivity chain of a subunit. It groups sequence-connected rigid domains and/or beads into overlapping pairs and triplets. Each of these groups will be moved rigidly. This mover helps to sample more efficiently complex topologies, made of several rigid bodies, connected by flexible linkers.\n",
      "\n",
      "<figure><img src=\"files/images/rnapolii_Multi-scale_representation.png\" width=\"600px\" />\n",
      "<figcaption>_Multi-scale representation of Rpb1 subunit of RNA Pol II_</figcaption></figure>\n",
      "\n",
      "The GMM of a subunit is the set of all 3D Gaussians used to represent it; it will be used to calculate the EM score. The calculation of the GMM of a subunit can be done automatically in the **topology file**.\n",
      "For the purposes of this tutorial, we already created these for Rpb4 and Rpb7 and placed them in the `rnapolii/data` directory in their respective `.mrc` and `.txt` files. \n",
      "\n",
      "### Hierarchy <a name=\"Hierarchy_3\"></a>\n",
      "\n",
      "A hierarchy in IMP is a tree that stores information on molecules, residues, atoms, etc., where the resolution of the representation increases as you move further from the root. IMP.pmi was designed to support a specialised multi-state/multi-copy/multi-resolution hierarchy\n",
      "\n",
      "<figure><img src=\"files/images/rnapolii_hierarchy.png\" width=\"600px\" />\n",
      "<figcaption>_PMI hierarchy_</figcaption></figure>\n",
      "\n",
      "The **States** are used as putative structural and compositional alternatives of the system. \n",
      "\n",
      "Each **State** contains the **Molecules**, and each Molecule can occur in different stochiometric **Copies** (eg. here MolA has three identical copies: MolA.0, MolA.1, and MolA.2). \n",
      "\n",
      "The **Molecules** contains structures (ie, particles with coordinates, masses and radii) classified by several **resolutions**: Atomic (Resolution 0), Residues (Resolution 1), Fragments (Resolution > 1), and the Gaussians (Densities). \n",
      "\n",
      "All structures (except the densities) are represented by Spheres with appropriate radius and mass. The resolutions concur simultanously, therefore the same part of the molecule can be represented by several resolutions."
     ]
    },
    {
     "cell_type": "markdown",
     "metadata": {},
     "source": [
      "### Dissecting the script <a name=\"Dissecting_the_script_3\"></a>\n",
      "\n",
      "The script `rnapolii/modeling/modeling.py` sets up the representation of the system and the restraint.\n",
      "\n",
      "The first part of the script import the necessary libraries."
     ]
    },
    {
     "cell_type": "code",
     "collapsed": false,
     "input": [
      "import IMP\n",
      "import IMP.core\n",
      "import IMP.pmi.restraints.crosslinking\n",
      "import IMP.pmi.restraints.stereochemistry\n",
      "import IMP.pmi.restraints.em\n",
      "import IMP.pmi.representation\n",
      "import IMP.pmi.tools\n",
      "\n",
      "import IMP.pmi.macros\n",
      "import IMP.pmi.topology\n",
      "\n",
      "import os\n",
      "import sys"
     ],
     "language": "python",
     "metadata": {},
     "outputs": []
    },
    {
     "cell_type": "markdown",
     "metadata": {},
     "source": [
      "Then setup the relevant paths of the input files"
     ]
    },
    {
     "cell_type": "code",
     "collapsed": false,
     "input": [
      "datadirectory = \"../rnapolii/data/\"\n",
      "topology_file = datadirectory+\"topology.txt\" \n",
      "target_gmm_file = datadirectory+'emd_1883.map.mrc.gmm.50.txt' # The EM map data\n",
      "output_directory = \"./output\""
     ],
     "language": "python",
     "metadata": {},
     "outputs": []
    },
    {
     "cell_type": "markdown",
     "metadata": {},
     "source": [
      "#### Model Representation Using a Topology File. <a name=\"Topology_file_4\"></a>\n",
      "\n",
      "This part of the script defines the topology of the system, including the hierarchy, the representation and the degrees of freedom. This is the content of the file `../data/topology.txt`, which is in a table format:"
     ]
    },
    {
     "cell_type": "code",
     "collapsed": false,
     "input": [
      "'''\n",
      "|molecule_name  |color     |fasta_fn          |fasta_id|pdb_fn             |chain|residue_range|pdb_offset|bead_size|em_residues_per_gaussian|rigid_body|super_rigid_body|chain_of_super_rigid_bodies|\n",
      "|Rpb1           |blue      |1WCM_new.fasta.txt|1WCM:A  |1WCM_map_fitted.pdb|A    |1,1140       |0         |20       |40                      |1         | 1              |                           |\n",
      "|Rpb1           |blue      |1WCM_new.fasta.txt|1WCM:A  |1WCM_map_fitted.pdb|A    |1141,1274    |0         |20       |40                      |2         | 1              |                           |\n",
      "|Rpb1           |blue      |1WCM_new.fasta.txt|1WCM:A  |1WCM_map_fitted.pdb|A    |1275,END     |0         |20       |40                      |3         | 1              |                           |\n",
      "|Rpb2           |red       |1WCM_new.fasta.txt|1WCM:B  |1WCM_map_fitted.pdb|B    |1,1102       |0         |20       |40                      |4         | 2              |                           |\n",
      "|Rpb2           |red       |1WCM_new.fasta.txt|1WCM:B  |1WCM_map_fitted.pdb|B    |1103,END     |0         |20       |40                      |5         | 2              |                           |\n",
      "|Rpb3           |yellow    |1WCM_new.fasta.txt|1WCM:C  |1WCM_map_fitted.pdb|C    |1,END        |0         |20       |40                      |6         | 3              |                           |\n",
      "|Rpb4           |salmon    |1WCM_new.fasta.txt|1WCM:D  |1WCM_map_fitted.pdb|D    |1,END        |-3        |20       |40                      |7         | 4              |                           |\n",
      "|Rpb5           |gold      |1WCM_new.fasta.txt|1WCM:E  |1WCM_map_fitted.pdb|E    |1,END        |0         |20       |40                      |8         | 5              |                           |\n",
      "|Rpb6           |pink      |1WCM_new.fasta.txt|1WCM:F  |1WCM_map_fitted.pdb|F    |1,END        |0         |20       |40                      |9         | 6              |                           |\n",
      "|Rpb7           |gray      |1WCM_new.fasta.txt|1WCM:G  |1WCM_map_fitted.pdb|G    |1,END        |0         |20       |40                      |10        | 7              |                           |\n",
      "|Rpb8           |orange    |1WCM_new.fasta.txt|1WCM:H  |1WCM_map_fitted.pdb|H    |1,END        |0         |20       |40                      |11        | 8              |                           |\n",
      "|Rpb9           |tan       |1WCM_new.fasta.txt|1WCM:I  |1WCM_map_fitted.pdb|I    |1,END        |0         |20       |40                      |12        | 9              |                           |\n",
      "|Rpb10          |brown     |1WCM_new.fasta.txt|1WCM:J  |1WCM_map_fitted.pdb|J    |1,END        |0         |20       |40                      |13        | 10             |                           |\n",
      "|Rpb11          |purple    |1WCM_new.fasta.txt|1WCM:K  |1WCM_map_fitted.pdb|K    |1,END        |0         |20       |40                      |14        | 11             |                           |\n",
      "|Rpb12          |cyan      |1WCM_new.fasta.txt|1WCM:L  |1WCM_map_fitted.pdb|L    |1,END        |0         |20       |40                      |15        | 12             |                           |\n",
      "'''"
     ],
     "language": "python",
     "metadata": {},
     "outputs": []
    },
    {
     "cell_type": "markdown",
     "metadata": {},
     "source": [
      "Using the table above we define the overall topology: we introduce the molecules with their sequence and their known structure, and define the movers. Each line is a user-defined molecular **Domain**, and each column contains the specifics needed to build the system.\n",
      "\n",
      "* `component_name`: Name of the Molecule and the name of the Hierarchy that contains the corresponding Domain.* `color`: The color used in the output coordinates file. Uses Chimera names.\n",
      "* `fasta_fn`: Name of the FASTA file containing the sequence for this Molecule.\n",
      "* `fasta_id`: header line of FASTA (without the \">\" character.\n",
      "* `pdb_fn`: Name of PDB file with coordinates (if available). If left empty, will set up as BEADS (you can also specify \"BEADS\"). Can also write \"IDEAL_HELIX\".\n",
      "* `chain`: Chain ID of this Domain in the PDB file.\n",
      "* `residue_range`: Comma delimited pair defining the indexes of the first and the last residue of the Domain. Can leave empty or use 'all' for entire sequence from PDB file. The second item in the pair can be 'END' to select the last residue in the sequence defined in the FASTA file.\n",
      "* `pdb_offset`: Offset to sync PDB residue numbering with FASTA numbering.\n",
      "* `bead_size`: The size (in residues) of beads used to model Fragments not covered by PDB coordinates.\n",
      "* `em_residues`: The number of Gaussians used to model the  density of this domain. Can be set to zero/empty to exclude Domains from the em restraint. The GMM files will be written to `gmm_dir`\n",
      "* `rigid_body`: Leave empty if the user does not desire to build a Rigid Body on this Domain. Otherwise, use a unique Rigid Body identifier (an integer). All Domains with the same Rigid Body identifier will be collected in the same Rigid Body.\n",
      "* `super_rigid_body`: Like the Rigid Body, the user can specify a unique Super Rigid Body identifier.\n",
      "* `chain_of_super_rigid_bodies` Like the Rigid Body, the user can specify a unique Chain of Super Rigid Body identifier.\n",
      "\n",
      "The first section defines where input files are located.  The topology file defines how the system components are structurally represented. `target_gmm_file` stores the EM map for the entire complex, which has already been converted into a Gaussian mixture model."
     ]
    },
    {
     "cell_type": "code",
     "collapsed": false,
     "input": [
      "# Initialize IMP model\n",
      "m = IMP.Model()\n",
      "\n",
      "# Read in the topology file.  \n",
      "# Specify the directory wheere the PDB files, fasta files and GMM files are\n",
      "topology = IMP.pmi.topology.TopologyReader(topology_file, \n",
      "                                  pdb_dir=datadirectory, \n",
      "                                  fasta_dir=datadirectory, \n",
      "                                  gmm_dir=datadirectory)"
     ],
     "language": "python",
     "metadata": {},
     "outputs": []
    },
    {
     "cell_type": "code",
     "collapsed": false,
     "input": [
      "# Use the BuildSystem macro to build states from the topology file\n",
      "bs = IMP.pmi.macros.BuildSystem(m)"
     ],
     "language": "python",
     "metadata": {},
     "outputs": []
    },
    {
     "cell_type": "code",
     "collapsed": false,
     "input": [
      "# Each state can be specified by a topology file.\n",
      "bs.add_state(topology)"
     ],
     "language": "python",
     "metadata": {},
     "outputs": []
    },
    {
     "cell_type": "markdown",
     "metadata": {},
     "source": [
      "#### Building the System Representation and Degrees of Freedom <a name=\"Representation_and_DOF_4\"></a>\n",
      "\n",
      "Here we can set the **Degrees of Freedom** parameters, which should be\n",
      "optimized according to MC acceptance ratios. There are three kind of movers: Rigid Body, Bead, and Super Rigid Body. \n",
      "\n",
      "`max_rb_trans` and `max_rb_rot` are the \n",
      "maximum translation and rotation of the Rigid Body mover, `max_srb_trans` and \n",
      "`max_srb_rot` are the maximum translation and rotation of the Super Rigid Body mover\n",
      "and `max_bead_trans` is the maximum translation of the Bead Mover.\n",
      "\n",
      "The excecution of the macro will return the root hierarchy (`root_hier`) and the degrees of freedom (`dof`) objects, both of which are used later on.\n"
     ]
    },
    {
     "cell_type": "code",
     "collapsed": false,
     "input": [
      "root_hier, dof = bs.execute_macro(max_rb_trans=4.0, \n",
      "                                  max_rb_rot=0.3, \n",
      "                                  max_bead_trans=4.0, \n",
      "                                  max_srb_trans=4.0,\n",
      "                                  max_srb_rot=0.3)"
     ],
     "language": "python",
     "metadata": {},
     "outputs": []
    },
    {
     "cell_type": "markdown",
     "metadata": {},
     "source": [
      "Since we're interested in modelling the stalk, we will fix all subunits except Rpb4 and Rpb7. Note that we are using [IMP.atom.Selection](https://integrativemodeling.org/nightly/doc/ref/classIMP_1_1atom_1_1Selection.html) to get the particles that correspond to the fixed Molecules."
     ]
    },
    {
     "cell_type": "code",
     "collapsed": false,
     "input": [
      "# Fix all rigid bodies but not Rpb4 and Rpb7 (the stalk)\n",
      "# First select and gather all particles to fix.\n",
      "fixed_particles=[]\n",
      "for prot in [\"Rpb1\",\"Rpb2\",\"Rpb3\",\"Rpb5\",\"Rpb6\",\"Rpb8\",\"Rpb9\",\"Rpb10\",\"Rpb11\",\"Rpb12\"]:\n",
      "    fixed_particles+=IMP.atom.Selection(root_hier,molecule=prot).get_selected_particles()\n",
      "    \n",
      "\n",
      "# Fix the Corresponding Rigid movers and Super Rigid Body movers using dof\n",
      "# The flexible beads will still be flexible (fixed_beads is an empty list)!\n",
      "fixed_beads,fixed_rbs=dof.disable_movers(fixed_particles,\n",
      "                                         [IMP.core.RigidBodyMover,IMP.pmi.TransformMover])"
     ],
     "language": "python",
     "metadata": {},
     "outputs": []
    },
    {
     "cell_type": "markdown",
     "metadata": {},
     "source": [
      "Finally we randomize the initial configuration to remove any bias from the initial starting configuration read from input files. Since each subunit is composed of rigid bodies (i.e., beads constrained in a structure) and flexible beads, the configuration of the system is initialized by displacing each mobile rigid body and each bead randomly by 50 Angstroms, and rotate them randomly, and far enough from each other to prevent any steric clashes. \n",
      "\n",
      "The `excluded_rigid_bodies=fixed_rbs` will exclude from the randomization everything that was fixed above."
     ]
    },
    {
     "cell_type": "code",
     "collapsed": false,
     "input": [
      "# Shuffle the rigid body and beads configuration of only the molecules we are interested in (Rpb4 and Rpb7)\n",
      "IMP.pmi.tools.shuffle_configuration(root_hier,\n",
      "                                    excluded_rigid_bodies=fixed_rbs,\n",
      "                                    max_translation=50, \n",
      "                                    verbose=False,\n",
      "                                    cutoff=5.0,\n",
      "                                    niterations=100)"
     ],
     "language": "python",
     "metadata": {},
     "outputs": []
    },
    {
     "cell_type": "markdown",
     "metadata": {},
     "source": [
      "### Scoring Function <a name=\"Scoring_Function_3\"></a>"
     ]
    },
    {
     "cell_type": "markdown",
     "metadata": {},
     "source": [
      "After defining the representation of the model, we build the **restraints** by which the individual structural models will be scored based on the input data.\n",
      "\n",
      "The sum of all of these restraints is our **scoring function**. \n",
      "For all restraints, calling `add_to_model()` incorporates them into the scoring function\n",
      "Appending the restraints to the outputobjects list reports them in the log files produced in the sampling."
     ]
    },
    {
     "cell_type": "code",
     "collapsed": false,
     "input": [
      "outputobjects = [] # reporter objects...output is included in the stat file"
     ],
     "language": "python",
     "metadata": {},
     "outputs": []
    },
    {
     "cell_type": "markdown",
     "metadata": {},
     "source": [
      "#### Connectivity Restraint <a name=\"Connectivity_Restraint_4\"></a>"
     ]
    },
    {
     "cell_type": "code",
     "collapsed": false,
     "input": [
      "# Connectivity keeps things connected along the backbone (ignores if inside same rigid body)\n",
      "mols = IMP.pmi.tools.get_molecules(root_hier)\n",
      "for mol in mols:\n",
      "    molname=mol.get_name()        \n",
      "    IMP.pmi.tools.display_bonds(mol)\n",
      "    cr = IMP.pmi.restraints.stereochemistry.ConnectivityRestraint(mol,scale=2.0)\n",
      "    cr.add_to_model()\n",
      "    cr.set_label(molname)\n",
      "    outputobjects.append(cr)"
     ],
     "language": "python",
     "metadata": {},
     "outputs": []
    },
    {
     "cell_type": "markdown",
     "metadata": {},
     "source": [
      "#### Excluded Volume Restraint <a name=\"Excluded_Volume_Restraint_4\"></a>"
     ]
    },
    {
     "cell_type": "code",
     "collapsed": false,
     "input": [
      "ev = IMP.pmi.restraints.stereochemistry.ExcludedVolumeSphere(\n",
      "                                         included_objects=root_hier,\n",
      "                                         resolution=10)\n",
      "ev.add_to_model()         # add to scoring function\n",
      "outputobjects.append(ev)  # add to output"
     ],
     "language": "python",
     "metadata": {},
     "outputs": []
    },
    {
     "cell_type": "markdown",
     "metadata": {},
     "source": [
      "#### Crosslinks - dataset 1 <a name=\"Crosslink_1_4\"></a>\n",
      "\n",
      "A crosslinking restraint is implemented as a distance restraint between two residues.  The two residues are each defined by the protein (component) name and the residue number.  The script here extracts the correct four columns that provide this information from the input data file.\n",
      "\n",
      "To use this restraint we have to first define the data format.  \n",
      " \n",
      "This data file has a csv format, and looks like:\n",
      "\n",
      "```\n",
      "prot1,res1,prot2,res2\n",
      "Rpb1,34,Rpb1,49\n",
      "Rpb1,101,Rpb1,143\n",
      "...\n",
      "```"
     ]
    },
    {
     "cell_type": "code",
     "collapsed": false,
     "input": [
      "# We then initialize a CrossLinkDataBase that uses a keywords converter to map column to information.\n",
      "# The required fields are the protein and residue number for each side of the crosslink.\n",
      "xldbkwc = IMP.pmi.io.crosslink.CrossLinkDataBaseKeywordsConverter()\n",
      "xldbkwc.set_protein1_key(\"prot1\")\n",
      "xldbkwc.set_protein2_key(\"prot2\")\n",
      "xldbkwc.set_residue1_key(\"res1\")\n",
      "xldbkwc.set_residue2_key(\"res2\")\n",
      "\n",
      "xl1 = IMP.pmi.io.crosslink.CrossLinkDataBase(xldbkwc)\n",
      "xl1.create_set_from_file(datadirectory+'polii_juri.csv')\n",
      "\n",
      "# Now, we set up the restraint.\n",
      "xl1rest = IMP.pmi.restraints.crosslinking.CrossLinkingMassSpectrometryRestraint(\n",
      "                                   root_hier=root_hier,  # The root hierarchy\n",
      "                                   CrossLinkDataBase=xl1,# The XLDB defined above\n",
      "                                   length=21.0,          # Length of the linker in angstroms\n",
      "                                   slope=0.01,           # A linear term that biases XLed\n",
      "                                                         # residues together\n",
      "                                   resolution=1.0,       # Resolution at which to apply the restraint. \n",
      "                                                         # Either 1 (residue) or 0 (atomic)\n",
      "                                   label=\"Chen\",         # Used to label output in the stat file\n",
      "                                   weight=1.)            # Weight applied to all crosslinks \n",
      "                                                         # in this dataset\n",
      "xl1rest.add_to_model()\n",
      "outputobjects.append(xl1rest)"
     ],
     "language": "python",
     "metadata": {},
     "outputs": []
    },
    {
     "cell_type": "markdown",
     "metadata": {},
     "source": [
      "#### Crosslinks - dataset 2 <a name=\"Crosslink_2_4\"></a>\n",
      "\n",
      "We can easily add a second set of crosslinks.\n",
      "These have a different format and label, but other settings are the same"
     ]
    },
    {
     "cell_type": "code",
     "collapsed": false,
     "input": [
      "xldbkwc = IMP.pmi.io.crosslink.CrossLinkDataBaseKeywordsConverter()\n",
      "xldbkwc.set_protein1_key(\"pep1.accession\")\n",
      "xldbkwc.set_protein2_key(\"pep2.accession\")\n",
      "xldbkwc.set_residue1_key(\"pep1.xlinked_aa\")\n",
      "xldbkwc.set_residue2_key(\"pep2.xlinked_aa\")\n",
      "\n",
      "xl2 = IMP.pmi.io.crosslink.CrossLinkDataBase(xldbkwc)\n",
      "xl2.create_set_from_file(datadirectory+'polii_xlinks.csv')\n",
      "\n",
      "xl2rest = IMP.pmi.restraints.crosslinking.CrossLinkingMassSpectrometryRestraint(\n",
      "                                   root_hier=root_hier,\n",
      "                                   CrossLinkDataBase=xl2,\n",
      "                                   length=21.0,\n",
      "                                   slope=0.01,\n",
      "                                   resolution=1.0,\n",
      "                                   label=\"Trnka\",\n",
      "                                   weight=1.)\n",
      "\n",
      "xl2rest.add_to_model()          \n",
      "outputobjects.append(xl2rest)"
     ],
     "language": "python",
     "metadata": {},
     "outputs": []
    },
    {
     "cell_type": "markdown",
     "metadata": {},
     "source": [
      "#### Electron Microscopy Restraint <a name=\"EM_4\"></a>"
     ]
    },
    {
     "cell_type": "markdown",
     "metadata": {},
     "source": [
      "The GaussianEMRestraint uses a density overlap function to compare model to data\n",
      "First the EM map is approximated with a Gaussian Mixture Model (done separately)\n",
      "Second, the components of the model are represented with Gaussians (forming the model GMM)\n",
      "\n",
      "The GaussianEMRestraint uses a density overlap function to compare model to data. First the EM map is approximated with a Gaussian Mixture Model (done separately). Second, the components of the model are represented with Gaussians (forming the model GMM)\n",
      "\n",
      "* `scale_target_to_mass` ensures the total mass of model and map are identical\n",
      "* `slope`: nudge model closer to map when far away\n",
      "* `weight`: heuristic, needed to calibrate the EM restraint with the other terms. \n",
      "\n",
      "and then add it to the output object.  Nothing is being sampled, so it does not need to be added to sample objects.\n"
     ]
    },
    {
     "cell_type": "code",
     "collapsed": false,
     "input": [
      "# First, get the model density objects that will be fitted to the EM density.\n",
      "em_components = IMP.pmi.tools.get_densities(root_hier)\n",
      "\n",
      "gemt = IMP.pmi.restraints.em.GaussianEMRestraint(em_components,\n",
      "                                      target_gmm_file,  # EM map GMM file\n",
      "                                      scale_target_to_mass=True,  # True if the mass of the map and model are identical.\n",
      "                                      slope=0.0000001,  # A small funneling force pulling towards the center of the EM density.\n",
      "                                      weight=80.0)           \n",
      "gemt.add_to_model()\n",
      "outputobjects.append(gemt)"
     ],
     "language": "python",
     "metadata": {},
     "outputs": []
    },
    {
     "cell_type": "markdown",
     "metadata": {},
     "source": [
      "## Stage 3 - Sampling <a name=\"Sampling_2\"></a>\n",
      "\n",
      "With the system representation built and data restraints entered, the system is now ready to sample configurations. A replica exchange run can be set up using the `ReplicaExchange0` macro:\n",
      "\n",
      "See the [ReplicaExchange0 documentation](https://integrativemodeling.org/nightly/doc/ref/classIMP_1_1pmi_1_1macros_1_1ReplicaExchange0.html) for a full description of all of the input parameters.\n",
      "\n",
      "The sampling is performed by executing the macro:\n",
      "\n",
      "```mc1.execute_macro()```\n"
     ]
    },
    {
     "cell_type": "code",
     "collapsed": false,
     "input": [
      "# total number of saved frames\n",
      "num_frames = 50\n",
      "\n",
      "# This object defines all components to be sampled as well as the sampling protocol\n",
      "mc1=IMP.pmi.macros.ReplicaExchange0(m,\n",
      "              root_hier=root_hier,                         # The root hierarchy\n",
      "              monte_carlo_sample_objects=dof.get_movers(), # All moving particles and parameters\n",
      "              output_objects=outputobjects,                # Objects to put into the stat file\n",
      "              crosslink_restraints=[xl1rest,xl2rest],      # allows XLs to be drawn in the RMF files\n",
      "              monte_carlo_temperature=1.0,                 \n",
      "              simulated_annealing=True,\n",
      "              simulated_annealing_minimum_temperature=1.0,\n",
      "              simulated_annealing_maximum_temperature=2.5,\n",
      "              simulated_annealing_minimum_temperature_nframes=200,\n",
      "              simulated_annealing_maximum_temperature_nframes=20,\n",
      "              replica_exchange_minimum_temperature=1.0,\n",
      "              replica_exchange_maximum_temperature=2.5,\n",
      "              number_of_best_scoring_models=10,\n",
      "              monte_carlo_steps=10,\n",
      "              number_of_frames=num_frames,\n",
      "              global_output_directory=output_directory)\n",
      "\n",
      "# Start Sampling\n",
      "mc1.execute_macro()"
     ],
     "language": "python",
     "metadata": {},
     "outputs": []
    },
    {
     "cell_type": "markdown",
     "metadata": {},
     "source": [
      "### Modeling Output <a name=\"Output_3\"></a>\n",
      "\n",
      "The script generates an output directory containing the following:\n",
      "\n",
      "* pdbs: a directory containing the 100 best-scoring models (see the number_of_best_scoring_models variable above) from the run, in PDB format.\n",
      "* rmfs: a single RMF file containing all the frames. RMF is a file format specially designed to store coarse-grained, multi-resolution and multi-state models such as those generated by %IMP. It is a compact binary format and (as in this case) can also be used to store multiple models or trajectories.\n",
      "* Statistics from the sampling, contained in a \"statfile\", stat.*.out. This file contains information on each restraint, MC acceptance criteria and other things at each step.\n",
      "\n",
      "Gathering Data from statfile\n",
      "Data from the stat file can be parsed and analyzed using two utilities:\n",
      "\n",
      "* process_output.py - parses the statfile and returns columns of interest\n",
      "* plot_stat.sh - plots one or two columns of data (requires gnuplot)\n",
      "\n",
      "process_output.py usage:\n",
      "\n",
      "```\n",
      "IMP_HOME/modules/pmi/pyext/process_output.py [-h] [-f FILENAME] [-s FIELDS [FIELDS ...]] [-t SINGLE_COLUMN_FIELD] [-p] [--head] [-n PRINT_RAW_NUMBER] [--soft] [--search_field SEARCH_FIELD] [--search_value SEARCH_VALUE] [--nframe]\n",
      "```\n",
      "\n",
      "plot_stat.sh usage: \n",
      "\n",
      "```\n",
      "IMP_HOME/modules/pmi/pyext/plot_stat.sh -i STATFILE -y YCOLUMN [-x XCOLUMN] [-m POINTS] [-plot] [-o OUTPUTFILE] [-b BEGIN]\n",
      "```\n",
      "* `-i` | input stat file name\n",
      "* `-y` | column number with Y data values OR column header string\n",
      "* `-x` | column number with X data values OR column header string\n",
      "* `-m` | method of plotting. POINTS, LINES or LINESPOINTS\n",
      "* `-s` | suppress showing plot \n",
      "* `-o` | saves plot to png file with column header names\n",
      "* `-b` | begin at this frame number\n",
      "* `-g` | saves gnuplot file\n",
      "* `-h` | prints this help text to screen"
     ]
    },
    {
     "cell_type": "markdown",
     "metadata": {},
     "source": [
      "### Using `ProcessOutput` for inline analysis <a name=\"ProcessOutput_3\"></a>\n",
      "\n",
      "We can use the class ProcessOutput to analyse and plot the content of the stat files.\n",
      "First, we print all the keywords."
     ]
    },
    {
     "cell_type": "code",
     "collapsed": false,
     "input": [
      "import IMP.pmi.output\n",
      "\n",
      "po=IMP.pmi.output.ProcessOutput(\"./output/stat.0.out\")\n",
      "po.get_keys()"
     ],
     "language": "python",
     "metadata": {},
     "outputs": []
    },
    {
     "cell_type": "markdown",
     "metadata": {},
     "source": [
      "Next, we plot the teim series of selected keywords"
     ]
    },
    {
     "cell_type": "code",
     "collapsed": false,
     "input": [
      "%matplotlib inline\n",
      "\n",
      "fl=po.get_fields([\"Total_Score\",\n",
      "                  \"CrossLinkingMassSpectrometryRestraint_Data_Score_Chen\",\n",
      "                  \"CrossLinkingMassSpectrometryRestraint_Distance_|Trnka|103.1|Rpb1|1|Rpb1|343|0|PSI|\"])\n",
      "IMP.pmi.output.plot_fields(fl,framemin=10)"
     ],
     "language": "python",
     "metadata": {},
     "outputs": []
    },
    {
     "cell_type": "markdown",
     "metadata": {},
     "source": [
      "Additionally, with a little bit of coding, we can draw the box-plot for all crosslink distances"
     ]
    },
    {
     "cell_type": "code",
     "collapsed": false,
     "input": [
      "ks=[]\n",
      "for k in po.get_keys():\n",
      "    if \"Distance\" in k and (\"Rpb7\" in  k or \"Rpb4\" in k): ks.append(k)\n",
      "        \n",
      "fls=po.get_fields(ks)\n",
      "values=[]\n",
      "labels=[]\n",
      "positions=[]\n",
      "n=0\n",
      "for k in fls:\n",
      "        n+=1\n",
      "        values.append([float(x) for x in fls[k]])\n",
      "        labels.append(k.split(\"_\")[2])\n",
      "        positions.append(n)\n",
      "\n",
      "IMP.pmi.output.plot_fields_box_plots(\"CrosslinkDistances\",values,\n",
      "                                     positions,valuename=\"Distance\",\n",
      "                                     positionname=\"Crosslink\",\n",
      "                                     xlabels=labels)"
     ],
     "language": "python",
     "metadata": {},
     "outputs": []
    },
    {
     "cell_type": "markdown",
     "metadata": {},
     "source": [
      "## Stage 4 - Analysis Part 1 <a name=\"Analysis_Part_1_2\"></a>\n",
      "\n",
      "In the analysis stage we cluster (group by similarity) the sampled models to determine high-probability configurations. Comparing clusters may indicate that there are multiple acceptable configurations given the data. \n",
      "\n",
      "### Precomputed results <a name=\"Precomputed_Results_3\"></a>\n",
      "\n",
      "A long modeling run was precomputed and analyzed. You can [download](ftp://salilab.org/tutorials/imp/rnapolii/results.tar.gz) it from our website, and you can [download](ftp://salilab.org/tutorials/imp/rnapolii/analysis.tar.gz) the corresponding analysis.\n",
      "\n",
      "### Clustering top models using `clustering.py` <a name=\"Clustering_3\"></a>\n",
      "The `clustering.py` script, found in the `rnapolii/analysis` directory, calls the [AnalysisReplicaExchange0](https://integrativemodeling.org/nightly/doc/ref/classIMP_1_1pmi_1_1macros_1_1AnalysisReplicaExchange0.html) macro, which finds top-scoring models, extracts coordinates, runs k-means clustering, and does basic cluster analysis including creating localization densities for each subunit. The script generates a directory containing as many subdirectories as the number of clusters queried. Each subdirectory contains an RMF and a PDB for each structure extracted, a stat file, and the localization densities.\n",
      "\n",
      "We can choose the number of clusters, the subunits we want to use to calculate the RMSD, and the number of good-scoring solutions to include. These options are at the top of the script: "
     ]
    },
    {
     "cell_type": "code",
     "collapsed": false,
     "input": [
      "# load libraries\n",
      "import matplotlib as mpl\n",
      "mpl.use('Agg')\n",
      "\n",
      "import IMP\n",
      "import IMP.pmi\n",
      "import IMP.pmi.macros\n",
      "import sys,os\n",
      "\n",
      "# most common settings\n",
      "num_clusters = 1\n",
      "num_top_models = 5\n",
      "merge_directories = [\"./\"]   #in this ipython notebook we use the local directory to store the models\n",
      "prefiltervalue = 1000.0\n",
      "out_dir = \"kmeans_%i_%i/\" %(num_top_models,num_clusters)"
     ],
     "language": "python",
     "metadata": {},
     "outputs": []
    },
    {
     "cell_type": "markdown",
     "metadata": {},
     "source": [
      "Finally, we start the clustering. Most of the options were chosen earlier in the script."
     ]
    },
    {
     "cell_type": "markdown",
     "metadata": {},
     "source": [
      "If we perform sampling multiple times separately, they can all be analyzed at the same time by appending to `merge_directories`. The prefiltervalue removes all models scoring below this value (meaning, they aren't clustered) which can be helpful to reduce the problem size.\n",
      "\n",
      "Create the analysis macro and pass it basic information (it will search for stat files):"
     ]
    },
    {
     "cell_type": "code",
     "collapsed": false,
     "input": [
      "# initialize the macro\n",
      "mc=IMP.pmi.macros.AnalysisReplicaExchange0(m,\n",
      "                                           merge_directories=merge_directories)"
     ],
     "language": "python",
     "metadata": {},
     "outputs": []
    },
    {
     "cell_type": "markdown",
     "metadata": {},
     "source": [
      "These are features that are kept around (and moved to the cluster stat files):"
     ]
    },
    {
     "cell_type": "code",
     "collapsed": false,
     "input": [
      "# fields that have to be extracted for the stat file\n",
      "feature_list=[\"ISDCrossLinkMS_Distance_intrarb\",\n",
      "              \"ISDCrossLinkMS_Distance_interrb\",\n",
      "              \"ISDCrossLinkMS_Data_Score\",\n",
      "              \"GaussianEMRestraint_None\",\n",
      "              \"SimplifiedModel_Linker_Score_None\",\n",
      "              \"ISDCrossLinkMS_Psi\",\n",
      "              \"ISDCrossLinkMS_Sigma\"]"
     ],
     "language": "python",
     "metadata": {},
     "outputs": []
    },
    {
     "cell_type": "markdown",
     "metadata": {},
     "source": [
      "Now we specify the subunits (or groups or fractions of subunits) for which we want to create density localization maps. `density_names` is a dictionary, where the keys are convenient names like \"Rpb1-CTD\" and the values are a list of selections. The selection items can either be a domain name like \"Rpb1\" or a list like (200,300,\"Rpb1\") which means residues 200-300 of component Rpb1. This enables the user to combine multiple selections for a single density calculation."
     ]
    },
    {
     "cell_type": "code",
     "collapsed": false,
     "input": [
      "# Dictionary of densities to be calculated\n",
      "# the key is the name of the file and the value is the selection\n",
      "# example: {\"med17-CTD\":[(200,300,\"med17\")],\"med17-CTD.med14\":[(200,300,\"med17\"),\"med14\"]   }\n",
      "density_names = {\"Rpb4\":[\"Rpb4\"],\n",
      "               \"Rpb7\":[\"Rpb7\"]}"
     ],
     "language": "python",
     "metadata": {},
     "outputs": []
    },
    {
     "cell_type": "markdown",
     "metadata": {},
     "source": [
      "Next, we specify the components used in calculating the RMSD between models. All selections here are used together for a single RMSD calculation between two models. The format is the same as `density_names`. One use case is when only a subset of the system is actually being sampled (with the rest kept static). Note that unless you provide something to `align_names` (see below), no alignment is done before calculating RMSD."
     ]
    },
    {
     "cell_type": "code",
     "collapsed": false,
     "input": [
      "# list of component names needed to calculate the RMSD for the clustering\n",
      "rmsd_names = {\"Rpb4\":\"Rpb4\",\n",
      "              \"Rpb7\":\"Rpb7\"}"
     ],
     "language": "python",
     "metadata": {},
     "outputs": []
    },
    {
     "cell_type": "markdown",
     "metadata": {},
     "source": [
      "Next, we specify components used for structural alignment. This is needed in case there is no absolute reference frame (like an EM map). The format is the same as density and RMSD. In this case we use `None` because of the EM map."
     ]
    },
    {
     "cell_type": "code",
     "collapsed": false,
     "input": [
      "# components used for structural alignment\n",
      "align_names = None # (None because EM provides reference frame)"
     ],
     "language": "python",
     "metadata": {},
     "outputs": []
    },
    {
     "cell_type": "markdown",
     "metadata": {},
     "source": [
      "Finally, we start the clustering. Most of the options were chosen earlier in the script."
     ]
    },
    {
     "cell_type": "code",
     "collapsed": false,
     "input": [
      "mc.clustering(prefiltervalue=prefiltervalue,                   # prefilter the models by score\n",
      "              number_of_best_scoring_models=num_top_models,    # number of models to be clustered\n",
      "              alignment_components=None,                       # list of proteins you want to use for structural alignment\n",
      "              rmsd_calculation_components=rmsd_names,          # list of proteins used to calculated the rmsd\n",
      "              distance_matrix_file=\"distance.rawmatrix.pkl\",   # save the distance matrix\n",
      "              outputdir=out_dir,                               # location for clustering results\n",
      "              feature_keys=feature_list,                       # extract these fields from the stat file\n",
      "              load_distance_matrix_file=False,                 # skip the matrix calculation and read the precalculated matrix\n",
      "              display_plot=True,                               # display the heat map plot of the distance matrix\n",
      "              exit_after_display=False,                        # exit after having displayed the distance matrix plot\n",
      "              get_every=1,                                     # skip structures for faster computation\n",
      "              number_of_clusters=num_clusters,                 # number of clusters to be used by kmeans algorithm\n",
      "              voxel_size=3.0,                                  # voxel size of the mrc files\n",
      "              density_custom_ranges=density_names)             # setup the list of densities to be calculated"
     ],
     "language": "python",
     "metadata": {},
     "outputs": []
    },
    {
     "cell_type": "markdown",
     "metadata": {},
     "source": [
      "### Clustering Results <a name=\"Clustering_Results_3\"></a>\n",
      "Run the clustering script by changing into the `rnapolii/analysis` directory and then running:\n",
      "\n",
      "```\n",
      "python clustering.py\n",
      "```\n",
      "\n",
      "If you ran `modeling.py` with the `--test` option, it is a good idea to give the `--test` option to `clustering.py` as well (this increases the prefilter value; none of the 50 test models generated may be good enough to satisfy the default prefilter value). With such minimal sampling, the quality of the results is unlikely to be high; you can download [the precalculated results](ftp://salilab.org/tutorials/imp/rnapolii/results.tar.gz) and the [resulting clusters](ftp://salilab.org/tutorials/imp/rnapolii/analysis.tar.gz) from our website.\n",
      "\n",
      "First we can look through the cluster results directory to see the output (see example below). The clustering directory contains the distance matrix plot (described below) and a folder for each cluster. Within the cluster folder are PDB and RMF files containing members of each cluster, localization densities for requested components (the `.mrc` files), and a stat file output (with one entry for each cluster member). All RMF, PDB, and MRC files should be viewable in Chimera. \n",
      "\n",
      "<img src=\"files/images/rnapolii_cluster_files.png\" alt=\"clustering files\" />\n",
      "\n",
      "Here is an example modeling result (from the provided files, `cluster.1/4.rmf3`, the cluster center):\n",
      "\n",
      "<img src=\"files/images/rnapolii_result.png\" alt=\"Example result\" width=\"600px\" />\n",
      "\n",
      "Next we can examine the plots outputted by the clustering script. The plots are output to a single file (`dist_matrix.pdf`) in the clustering directory. The first plot is the distance matrix of the models after being grouped into clusters. The matrix should show the requested number of clusters with much lower within-cluster than between-cluster distance. If this is not the case, then perhaps too many clusters were chosen.\n",
      "\n",
      "The second plot is a dendrogram, basically showing the distance matrix in a hierarchical way. Each vertical line from the bottom is a model, and the horizontal lines show the RMSD agreement between models. Sometimes the dendrogram can indicate a natural number of clusters, which can help determine the correct number to use. Here is the result from using 2 clusters on the example results:\n",
      "\n",
      "<img src=\"files/images/rnapolii_dist_matrix.png\" alt=\"Distance matrix and dendrogram\" width=\"600px\" />\n",
      "\n",
      "Next can examine the localization densities of a cluster. These can give a qualitative idea of the precision of a cluster. Below we show results from `cluster.1` in the provided results: the native structure without Rpb4/7 (in blue), the target density map (in mesh), and the localization densities (Rpb4 in cyan, Rpb7 in purple). The localizations are quite narrow and close to the native solution:\n",
      "\n",
      "<img src=\"files/images/rnapolii_localization.png\" alt=\"Localization densities\" width=\"600px\" />\n"
     ]
    },
    {
     "cell_type": "markdown",
     "metadata": {},
     "source": [
      "## Stage 4 - Analysis Part 2 <a name=\"Analysis_Part_2_2\"></a>\n",
      "\n",
      "### Post-clustering analysis <a name=\"Post_clustering_analsysis_3\"></a>\n",
      "In this stage we perform post-clustering analysis.  Here, we will perform calculations for:\n",
      "\n",
      "* **Cluster Precision**: Determining the within-group precision and between-group similarity via RMSD\n",
      "* **Cluster Accuracy**: Fit of the calculated clusters to the true (known) solution\n",
      "* **Sampling Exhaustiveness**: Qualitative and quantitative measurement of sampling completeness\n",
      "\n",
      "### Cluster Precision (`precision_rmsf.py`) <a name=\"Cluster_Precision_3\"></a>\n",
      "\n",
      "The `precision_rmsf.py` script can be used to determine the within- and between-cluster RMSD (i.e., precision). To run, use:\n",
      "\n",
      "```\n",
      "python precision_rmsf.py\n",
      "```\n",
      "\n",
      "It will generate `precision.*.*.out` files in the `kmeans*` subdirectory containing precision information in text format, while in each cluster directory it generates `.pdf` files showing the within-cluster residue mean square fluctuation. In a similar way to earlier scripts, subsets of the structure can be selected for the calculation - in this case, we select the Rpb4 and Rpb7 subunits."
     ]
    },
    {
     "cell_type": "code",
     "collapsed": false,
     "input": [
      "import glob\n",
      "root_cluster_directory=\"./kmeans_5_1\"\n",
      "\n",
      "# choose components for the precision calculation\n",
      "# key is the named precision item\n",
      "# value is a list of selection tuples [either \"domain_name\" or (start,stop,\"domain_name\") ]\n",
      "selections={\"Rpb4\":[\"Rpb4\"],\n",
      "            \"Rpb7\":[\"Rpb7\"],\n",
      "            \"Rpb4_Rpb7\":[\"Rpb4\",\"Rpb7\"]}"
     ],
     "language": "python",
     "metadata": {},
     "outputs": []
    },
    {
     "cell_type": "markdown",
     "metadata": {},
     "source": [
      "The script then sets up a model and [Precision](@ref IMP::pmi::analysis::Precision) object for the given `selections` at the desired resolution for computation of the precision (`resolution=1` specifies at the residue level)."
     ]
    },
    {
     "cell_type": "code",
     "collapsed": false,
     "input": [
      "# setup Precision calculator\n",
      "pr = IMP.pmi.analysis.Precision(m,resolution=1,selection_dictionary=selections)\n",
      "pr.set_precision_style('pairwise_rmsd')"
     ],
     "language": "python",
     "metadata": {},
     "outputs": []
    },
    {
     "cell_type": "markdown",
     "metadata": {},
     "source": [
      "Next, lists of structures are created that will be passed to the `Precision` object. `rmf_list` references the specific `.rmf` file, which with those `frame_list` is used to reference a particular frame in that `.rmf` to use (in this case, the only frame in the rmf, 0)."
     ]
    },
    {
     "cell_type": "code",
     "collapsed": false,
     "input": [
      "# gather the RMF filenames for each cluster\n",
      "rmf_list=[]\n",
      "frame_list=[]\n",
      "cluster_dirs=glob.glob(root_cluster_directory+'/cluster.*/')\n",
      "\n",
      "for d in cluster_dirs:\n",
      "    rmf_list.append(glob.glob(d+'/*.rmf3'))\n",
      "    frame_list.append([0]*len(rmf_list[-1]))"
     ],
     "language": "python",
     "metadata": {},
     "outputs": []
    },
    {
     "cell_type": "markdown",
     "metadata": {},
     "source": [
      "The list of frames and rmfs are added to the precision object"
     ]
    },
    {
     "cell_type": "code",
     "collapsed": false,
     "input": [
      "# add them to the Precision object\n",
      "for rmfs,frames,cdir in zip(rmf_list,frame_list,cluster_dirs):\n",
      "    pr.add_structures(zip(rmfs,frames),cdir)"
     ],
     "language": "python",
     "metadata": {},
     "outputs": []
    },
    {
     "cell_type": "markdown",
     "metadata": {},
     "source": [
      "Self-precision and inter-cluster precision is then calculated, using the `rmf_list` and the output is placed in `root_cluster_directory`."
     ]
    },
    {
     "cell_type": "code",
     "collapsed": false,
     "input": [
      "import itertools\n",
      "# calculate intra-cluster and inter-cluster precision\n",
      "print(\"calculating precision\")\n",
      "for clus1,clus2 in itertools.combinations_with_replacement(range(len(rmf_list)),2):\n",
      "    pr.get_precision(cluster_dirs[clus1],\n",
      "                     cluster_dirs[clus2],\n",
      "                     root_cluster_directory+\"/precision.\"+str(clus1)+\".\"+str(clus2)+\".out\")"
     ],
     "language": "python",
     "metadata": {},
     "outputs": []
    },
    {
     "cell_type": "markdown",
     "metadata": {},
     "source": [
      "Finally, the RMSFs for each residue in the analyzed components are calculated and stored in `root_cluster_directory/rmsf.COMPONENT_NAME.dat`\n"
     ]
    },
    {
     "cell_type": "code",
     "collapsed": false,
     "input": [
      "# compute residue mean-square fluctuation (RMSF)\n",
      "for d in cluster_dirs:\n",
      "    pr.get_rmsf(structure_set_name=d,outdir=d)"
     ],
     "language": "python",
     "metadata": {},
     "outputs": []
    },
    {
     "cell_type": "markdown",
     "metadata": {},
     "source": [
      "<img src=\"files/images/rnapolii_rmsf.Rpb7.png\" width=\"500px\" alt=\"residue root mean square fluctuations calculated on a cluster of structures\" />\n",
      "\n",
      "### Accuracy evaluation (`accuracy.py`) <a name=\"Accuracy_3\"></a>\n",
      "We have provided a script to evaluate the accuracy of a model against a native configuration. When run, it will enumerate the structures in the first cluster and print the average and minimum distance between those structures and a given reference model. This is useful for benchmarking (but obviously is of no use when we don't know the 'real' structure).\n",
      "\n",
      "To run, use\n",
      "\n",
      "```\n",
      "python accuracy.py\n",
      "```\n",
      "\n",
      "First, identify the reference structure and list of `.rmf` structures to use in calculation"
     ]
    },
    {
     "cell_type": "code",
     "collapsed": false,
     "input": [
      "# common settings\n",
      "reference_rmf = \"../rnapolii/data/native.rmf3\"\n",
      "test_mode = False                             # run on every 10 rmf files\n",
      "rmfs = glob.glob('kmeans_*_1/cluster.0/*.rmf3') # list of the RMFS to calculate on"
     ],
     "language": "python",
     "metadata": {},
     "outputs": []
    },
    {
     "cell_type": "markdown",
     "metadata": {},
     "source": [
      "The components that will be compared to reference must be explicitly enumerated in `selections`"
     ]
    },
    {
     "cell_type": "code",
     "collapsed": false,
     "input": [
      "# choose components for the precision calculation\n",
      "# key is the named precision item\n",
      "# value is a list of selection tuples [either \"domain_name\" or (start,stop,\"domain_name\") ]\n",
      "selections = {\"Rpb4\":[\"Rpb4\"],\n",
      "              \"Rpb7\":[\"Rpb7\"],\n",
      "              \"Rpb4_Rpb7\":[\"Rpb4\",\"Rpb7\"]}"
     ],
     "language": "python",
     "metadata": {},
     "outputs": []
    },
    {
     "cell_type": "markdown",
     "metadata": {},
     "source": [
      "Initialize a `Precision` class object and add the `selections`.  Then add the list of `.rmf` structures "
     ]
    },
    {
     "cell_type": "code",
     "collapsed": false,
     "input": [
      "# setup Precision calculator\n",
      "frames=[0]*len(rmfs)\n",
      "pr=IMP.pmi.analysis.Precision(m,selection_dictionary=selections)\n",
      "pr.set_precision_style('pairwise_rmsd')\n",
      "pr.add_structures(zip(rmfs,frames),\"ALL\")"
     ],
     "language": "python",
     "metadata": {},
     "outputs": []
    },
    {
     "cell_type": "markdown",
     "metadata": {},
     "source": [
      "Average to the reference structure in angstroms for each component in `selections` is then calculated and outputted to the screen.\n"
     ]
    },
    {
     "cell_type": "code",
     "collapsed": false,
     "input": [
      "# calculate average distance to the reference file\n",
      "pr.set_reference_structure(reference_rmf,0)\n",
      "pr.get_average_distance_wrt_reference_structure(\"ALL\")"
     ],
     "language": "python",
     "metadata": {},
     "outputs": []
    },
    {
     "cell_type": "markdown",
     "metadata": {},
     "source": [
      "\n",
      "\n",
      "\n",
      "\n",
      "\n",
      "\n",
      "\n",
      "\n",
      "\n",
      "The output of this analysis will be printed in the terminal. For instance,\n",
      "you will get something like:\n",
      "\n",
      "    Rpb4 average distance 20.7402052384 minimum distance 11.9324734377\n",
      "    All average distance 5.05387877292 minimum distance 3.4664144466\n",
      "    Rpb7 average distance 10.5032807663 minimum distance 5.06599370365\n",
      "    Rpb4_Rpb7 average distance 16.0757238511 minimum distance 9.63785403195\n",
      "\n",
      "The average distance is the average RMSD of each model in the cluster with respect to the reference structure. The program prints values for all selections (`Rpb4`, `Rpb7` and `Rpb4_Rpb7`) and automatically for all the complex (`All`)\n",
      "\n",
      "### Sampling Exhaustiveness <a name=\"Sampling_Exhaustiveness_3\"></a>\n",
      "We can also determine sampling exhaustiveness by dividing the models into multiple sets, performing clustering on each set separately, and comparing the clusters. This step is left as an exercise to the reader. To aid with splitting the data, we have added the optional keyword `first_and_last_frames` to the IMP::pmi::macros::AnalysisReplicaExchange0::clustering() method.\n",
      "If you set this keyword to a tuple (values are percentages, e.g. [0,0.5]), it will only analyze that fraction of the data. Some things you can try:\n",
      "* cluster two subsets of the data\n",
      "* qualitative analysis: look at the localization densities - they should be similar for the two subsets\n",
      "* quantitative analysis: combine the cluster results into one folder (rename as needed) and call `precision_rmsf.py`, which will automatically compute cross-precision for the clusters. \n",
      "\n",
      "If the sampling is exhaustive, then similar clusters should be obtained from each independent set, and the inter-cluster precision between two equivalent clusters should be very low (that is, there should be a 1:1 correspondence between the two sets of clusters, though the ordering may be different)."
     ]
    }
   ],
   "metadata": {}
  }
 ]
}