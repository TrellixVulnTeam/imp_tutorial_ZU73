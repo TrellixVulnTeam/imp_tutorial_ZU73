{
 "cells": [
  {
   "cell_type": "markdown",
   "metadata": {},
   "source": [
    "# IMP.pmi Tutorial Handout"
   ]
  },
  {
   "cell_type": "markdown",
   "metadata": {},
   "source": [
    "### Integrating EM and Crosslinking data to localize two domains of RNA Polymerase II\n",
    "\n",
    "Authors: Riccardo Pellarin, Charles Greenberg, Daniel Saltzberg, Ben Webb"
   ]
  },
  {
   "cell_type": "markdown",
   "metadata": {},
   "source": [
    "The Python Modeling Interface (pmi) is a powerful set of tools designed\n",
    "to handle all steps of the modeling protocol for\n",
    "typical modeling problems. It is designed to be used by writing a set of\n",
    "Python scripts."
   ]
  },
  {
   "cell_type": "markdown",
   "metadata": {},
   "source": [
    "IMP.pmi has been used to determine the architecture of several macromolecular complexes, for instance:\n",
    "\n",
    "[26S-PIP](https://salilab.org/26S-PIPs), [Yeast 40S-eIF3](https://salilab.org/40S-eIF1-eIF3), [Human Complement](https://salilab.org/Complement), [exosome](https://salilab.org/exosome),\n",
    "    [yeast mediator](https://salilab.org/mediator/), [Nup84](https://salilab.org/nup84), [TFIIH](https://salilab.org/tfiih), [Nup82](https://salilab.org/nup82/), [SEA complex](https://salilab.org/sea), and the [Nuclear Pore Complex](https://salilab.org/npc2018)\n",
    "    \n",
    "Each repository above contains the scripts and the data, as well as all the results, that are needed to reproduce the published results. \n",
    "\n",
    "For a given system, integrative modeling files are stored in different servers:\n",
    "\n",
    "- source code is stored in a github repository (e.g., https://github.com/integrativemodeling/npc2018) \n",
    "- data files are stored in the Zenodo data server (e.g., https://zenodo.org/record/1194547#.W02gVq3v5UQ)\n",
    "- structures are stored in the pdb-dev server (e.g., https://pdb-dev.wwpdb.org/)"
   ]
  },
  {
   "cell_type": "markdown",
   "metadata": {},
   "source": [
    "We will illustrate the use of IMP.pmi by determining the localization of two\n",
    "subunits of RNA Polymerase II, utilizing chemical cross-linking coupled with\n",
    "mass spectrometry, negative-stain electron microscopy (EM), and x-ray\n",
    "crystallography data. We will try\n",
    "to reconstruct the stalk of the complex, comprising of subunits Rpb4 and Rpb7,\n",
    "hypothesizing that we know already the structure of the remaining 10-subunit\n",
    "complex. The example can be easily generalized to any other set of subunits.\n",
    "\n",
    "## Installation\n",
    "\n",
    "The current version of the Tutorial is guaranteed to work with IMP 2.9.0. This version can be installed un many plaforms using [anaconda](https://anaconda.org/salilab/imp), which provides all the dependencies.\n",
    "\n",
    "To work through the example on your own system, you will need the following\n",
    "packages installed in addition to [IMP itself](https://integrativemodeling.org/nightly/doc/manual/installation.html):\n",
    "\n",
    "- [numpy and scipy](http://www.scipy.org/scipylib/download.html)\n",
    "  for matrix and linear algebra\n",
    "\n",
    "- [scikit-learn](http://scikit-learn.org/stable/install.html)\n",
    "  for k-means clustering\n",
    "\n",
    "- [matplotlib](http://matplotlib.org/downloads.html)\n",
    "  for plotting results\n",
    "\n",
    "- [Chimera](https://www.cgl.ucsf.edu/chimera/download.html)\n",
    "  for visualization of results\n",
    "\n",
    "On a Mac you can get them using the\n",
    "[pip](https://pypi.python.org/pypi/pip) tool, e.g. by running a command like\n",
    "`sudo easy_install pip`, then install the packages with something like\n",
    "`sudo pip install scikit-learn; sudo pip install matplotlib`. `numpy` and `scipy` are already installed on modern Macs. Something\n",
    "similar may also work on a Linux box, although it's probably better to install\n",
    "the packages using the distribution's package manager, such as `yum` or\n",
    "`apt-get`.)\n",
    "\n",
    "Then download the input files, either by \n",
    "[cloning the GitHub repository](https://github.com/salilab/imp_tutorial/tree/develop)\n",
    "or by [downloading the zip file](https://github.com/salilab/imp_tutorial/archive/develop.zip)."
   ]
  },
  {
   "cell_type": "markdown",
   "metadata": {},
   "source": [
    "The rnapolii example directory contains three directories: `analysis`, `data`, and `modeling`."
   ]
  },
  {
   "cell_type": "markdown",
   "metadata": {},
   "source": [
    "## Table of Content\n",
    "\n",
    "[//]: # (To compile the Table of Content run `python tools/compile_toc.py Tutorial.ipynb` and paste the output here below)\n",
    "\n",
    "&nbsp;&nbsp;&nbsp;&nbsp;&nbsp;&nbsp;&nbsp;&nbsp;&nbsp;&nbsp;&nbsp;&nbsp;[ Background of RNA Polymerase II ](#3_Background_of_RNA_Polymerase_II)\n",
    "\n",
    "&nbsp;&nbsp;&nbsp;&nbsp;&nbsp;&nbsp;&nbsp;&nbsp;&nbsp;&nbsp;&nbsp;&nbsp;&nbsp;&nbsp;&nbsp;&nbsp;&nbsp;&nbsp;[ Integrative Modeling using IMP ](#4_Integrative_Modeling_using_IMP)\n",
    "\n",
    "&nbsp;&nbsp;&nbsp;&nbsp;&nbsp;&nbsp;&nbsp;&nbsp;&nbsp;&nbsp;&nbsp;&nbsp;&nbsp;&nbsp;&nbsp;&nbsp;&nbsp;&nbsp;[ The four stages of Integrative Modeling ](#3_The_four_stages_of_Integrative_Modeling)\n",
    "\n",
    "&nbsp;&nbsp;&nbsp;&nbsp;&nbsp;&nbsp;&nbsp;&nbsp;&nbsp;&nbsp;&nbsp;&nbsp;&nbsp;&nbsp;&nbsp;&nbsp;&nbsp;&nbsp;[ Running the script ](#3_Running_the_script)\n",
    "\n",
    "&nbsp;&nbsp;&nbsp;&nbsp;&nbsp;&nbsp;&nbsp;&nbsp;&nbsp;&nbsp;&nbsp;&nbsp;[ Stage 1 - Gathering of data ](#Stage_1_2)\n",
    "\n",
    "&nbsp;&nbsp;&nbsp;&nbsp;&nbsp;&nbsp;&nbsp;&nbsp;&nbsp;&nbsp;&nbsp;&nbsp;&nbsp;&nbsp;&nbsp;&nbsp;&nbsp;&nbsp;[ Data for yeast RNA Polymerase II ](#Data_rnapolii_3)\n",
    "\n",
    "&nbsp;&nbsp;&nbsp;&nbsp;&nbsp;&nbsp;&nbsp;&nbsp;&nbsp;&nbsp;&nbsp;&nbsp;[ Stage 2 - Representation of subunits and translation of the data into spatial restraints ](#Stage_2_2)\n",
    "\n",
    "&nbsp;&nbsp;&nbsp;&nbsp;&nbsp;&nbsp;&nbsp;&nbsp;&nbsp;&nbsp;&nbsp;&nbsp;&nbsp;&nbsp;&nbsp;&nbsp;&nbsp;&nbsp;[ Setting up Model Representation and Degrees of Freedom in IMP ](#Setting_up_3)\n",
    "\n",
    "&nbsp;&nbsp;&nbsp;&nbsp;&nbsp;&nbsp;&nbsp;&nbsp;&nbsp;&nbsp;&nbsp;&nbsp;&nbsp;&nbsp;&nbsp;&nbsp;&nbsp;&nbsp;[ Hierarchy ](#Hierarchy_3)\n",
    "\n",
    "&nbsp;&nbsp;&nbsp;&nbsp;&nbsp;&nbsp;&nbsp;&nbsp;&nbsp;&nbsp;&nbsp;&nbsp;&nbsp;&nbsp;&nbsp;&nbsp;&nbsp;&nbsp;[ Dissecting the script ](#Dissecting_the_script_3)\n",
    "\n",
    "&nbsp;&nbsp;&nbsp;&nbsp;&nbsp;&nbsp;&nbsp;&nbsp;&nbsp;&nbsp;&nbsp;&nbsp;&nbsp;&nbsp;&nbsp;&nbsp;&nbsp;&nbsp;&nbsp;&nbsp;&nbsp;&nbsp;&nbsp;&nbsp;[ Model Representation Using a Topology File. ](#Topology_file_4)\n",
    "\n",
    "&nbsp;&nbsp;&nbsp;&nbsp;&nbsp;&nbsp;&nbsp;&nbsp;&nbsp;&nbsp;&nbsp;&nbsp;&nbsp;&nbsp;&nbsp;&nbsp;&nbsp;&nbsp;&nbsp;&nbsp;&nbsp;&nbsp;&nbsp;&nbsp;[ Building the System Representation and Degrees of Freedom ](#Representation_and_DOF_4)\n",
    "\n",
    "&nbsp;&nbsp;&nbsp;&nbsp;&nbsp;&nbsp;&nbsp;&nbsp;&nbsp;&nbsp;&nbsp;&nbsp;&nbsp;&nbsp;&nbsp;&nbsp;&nbsp;&nbsp;[ Scoring Function ](#Scoring_Function_3) \n",
    "\n",
    "&nbsp;&nbsp;&nbsp;&nbsp;&nbsp;&nbsp;&nbsp;&nbsp;&nbsp;&nbsp;&nbsp;&nbsp;&nbsp;&nbsp;&nbsp;&nbsp;&nbsp;&nbsp;&nbsp;&nbsp;&nbsp;&nbsp;&nbsp;&nbsp;[ Connectivity Restraint ](#Connectivity_Restraint_4) \n",
    "\n",
    "&nbsp;&nbsp;&nbsp;&nbsp;&nbsp;&nbsp;&nbsp;&nbsp;&nbsp;&nbsp;&nbsp;&nbsp;&nbsp;&nbsp;&nbsp;&nbsp;&nbsp;&nbsp;&nbsp;&nbsp;&nbsp;&nbsp;&nbsp;&nbsp;[ Excluded Volume Restraint ](#Excluded_Volume_Restraint_4) \n",
    "\n",
    "&nbsp;&nbsp;&nbsp;&nbsp;&nbsp;&nbsp;&nbsp;&nbsp;&nbsp;&nbsp;&nbsp;&nbsp;&nbsp;&nbsp;&nbsp;&nbsp;&nbsp;&nbsp;&nbsp;&nbsp;&nbsp;&nbsp;&nbsp;&nbsp;[ Crosslinks - dataset 1 ](#Crosslink_1_4)\n",
    "\n",
    "&nbsp;&nbsp;&nbsp;&nbsp;&nbsp;&nbsp;&nbsp;&nbsp;&nbsp;&nbsp;&nbsp;&nbsp;&nbsp;&nbsp;&nbsp;&nbsp;&nbsp;&nbsp;&nbsp;&nbsp;&nbsp;&nbsp;&nbsp;&nbsp;[ Crosslinks - dataset 2 ](#Crosslink_2_4)\n",
    "\n",
    "&nbsp;&nbsp;&nbsp;&nbsp;&nbsp;&nbsp;&nbsp;&nbsp;&nbsp;&nbsp;&nbsp;&nbsp;&nbsp;&nbsp;&nbsp;&nbsp;&nbsp;&nbsp;&nbsp;&nbsp;&nbsp;&nbsp;&nbsp;&nbsp;[ Electron Microscopy Restraint ](#EM_4) \n",
    "\n",
    "&nbsp;&nbsp;&nbsp;&nbsp;&nbsp;&nbsp;&nbsp;&nbsp;&nbsp;&nbsp;&nbsp;&nbsp;[ Stage 3 - Sampling ](#Sampling_2)\n",
    "\n",
    "&nbsp;&nbsp;&nbsp;&nbsp;&nbsp;&nbsp;&nbsp;&nbsp;&nbsp;&nbsp;&nbsp;&nbsp;&nbsp;&nbsp;&nbsp;&nbsp;&nbsp;&nbsp;[ Modeling Output ](#Output_3)\n",
    "\n",
    "&nbsp;&nbsp;&nbsp;&nbsp;&nbsp;&nbsp;&nbsp;&nbsp;&nbsp;&nbsp;&nbsp;&nbsp;&nbsp;&nbsp;&nbsp;&nbsp;&nbsp;&nbsp;[ Using `ProcessOutput` for inline analysis ](#ProcessOutput_3)\n",
    "\n",
    "&nbsp;&nbsp;&nbsp;&nbsp;&nbsp;&nbsp;&nbsp;&nbsp;&nbsp;&nbsp;&nbsp;&nbsp;[ Stage 4 - Analysis Part 1 ](#Analysis_Part_1_2)\n",
    "\n",
    "&nbsp;&nbsp;&nbsp;&nbsp;&nbsp;&nbsp;&nbsp;&nbsp;&nbsp;&nbsp;&nbsp;&nbsp;&nbsp;&nbsp;&nbsp;&nbsp;&nbsp;&nbsp;[ Precomputed results ](#Precomputed_Results_3)\n",
    "\n",
    "&nbsp;&nbsp;&nbsp;&nbsp;&nbsp;&nbsp;&nbsp;&nbsp;&nbsp;&nbsp;&nbsp;&nbsp;&nbsp;&nbsp;&nbsp;&nbsp;&nbsp;&nbsp;[ Clustering top models using `clustering.py` ](#Clustering_3)\n",
    "\n",
    "&nbsp;&nbsp;&nbsp;&nbsp;&nbsp;&nbsp;&nbsp;&nbsp;&nbsp;&nbsp;&nbsp;&nbsp;&nbsp;&nbsp;&nbsp;&nbsp;&nbsp;&nbsp;[ Clustering Results ](#Clustering_Results_3)\n",
    "\n",
    "&nbsp;&nbsp;&nbsp;&nbsp;&nbsp;&nbsp;&nbsp;&nbsp;&nbsp;&nbsp;&nbsp;&nbsp;[ Stage 4 - Analysis Part 2 ](#Analysis_Part_2_2)\n",
    "\n",
    "&nbsp;&nbsp;&nbsp;&nbsp;&nbsp;&nbsp;&nbsp;&nbsp;&nbsp;&nbsp;&nbsp;&nbsp;&nbsp;&nbsp;&nbsp;&nbsp;&nbsp;&nbsp;[ Post-clustering analysis ](#Post_clustering_analsysis_3)\n",
    "\n",
    "&nbsp;&nbsp;&nbsp;&nbsp;&nbsp;&nbsp;&nbsp;&nbsp;&nbsp;&nbsp;&nbsp;&nbsp;&nbsp;&nbsp;&nbsp;&nbsp;&nbsp;&nbsp;[ Cluster Precision (`precision_rmsf.py`) ](#Cluster_Precision_3)\n",
    "\n",
    "&nbsp;&nbsp;&nbsp;&nbsp;&nbsp;&nbsp;&nbsp;&nbsp;&nbsp;&nbsp;&nbsp;&nbsp;&nbsp;&nbsp;&nbsp;&nbsp;&nbsp;&nbsp;[ Accuracy evaluation (`accuracy.py`) ](#Accuracy_3)\n",
    "\n",
    "&nbsp;&nbsp;&nbsp;&nbsp;&nbsp;&nbsp;&nbsp;&nbsp;&nbsp;&nbsp;&nbsp;&nbsp;&nbsp;&nbsp;&nbsp;&nbsp;&nbsp;&nbsp;[ Sampling Exhaustiveness ](#Sampling_Exhaustiveness_3)\n",
    "\n"
   ]
  },
  {
   "cell_type": "markdown",
   "metadata": {},
   "source": [
    "## Background of RNA Polymerase II <a name=\"3_Background_of_RNA_Polymerase_II\"></a>\n",
    "\n",
    "[RNA Pol II](http://en.wikipedia.org/wiki/RNA_polymerase_II) is a eukaryotic complex that catalyzes DNA transcription to synthesize mRNA strands.  Eukaryotic RNA polymerase II contains 12 subunits, Rpb1 to Rpb12. The yeast RNA Pol II dissociates into a 10-subunit core and a Rpb4/Rpb7 heterodimer. Rpb4 and Rpb7 are conserved from yeast to humans, and form a stalk-like protrusion extending from the main body of the RNA Pol II complex.\n",
    "\n",
    "\n",
    "### Integrative Modeling using IMP <a name=\"4_Integrative_Modeling_using_IMP\"></a>\n",
    "\n",
    "This example will use data from chemical cross linking, EM and x-ray crystallography to localize the two subunits of the RNA Polymerase II stalk (Rpb4, Rpb7) to a static core of the remaining ten subunits.  \n",
    "\n",
    "<img src=\"files/images/rnapolii_integrative.png\" alt=\"Drawing\" style=\"width: 600px;\"/>\n",
    "\n",
    "### The four stages of Integrative Modeling <a name=\"3_The_four_stages_of_Integrative_Modeling\"></a>\n",
    "\n",
    "Structural modeling using IMP is divided into [four stages](@ref procedure).\n",
    "\n",
    "Click the links below to see a breakdown of all the modeling steps.\n",
    "\n",
    "\n",
    "* [Stage 1](#Stage_1_2)) Collect biophysical data that can be used as structural restraints and constraints\n",
    "  \n",
    "* [Stage 2](#Stage_2_2)) Define representations for the RNA Poly II structural model and define each data point as a scoring function.\n",
    "\n",
    "* [Stage 3](#Sampling_2)) Run a sampling protocol to find good scoring conformations.  \n",
    "\n",
    "* [Stage 4.1](#Analysis_Part_1_2), [Stage 4.2](#Analysis_Part_2_2)) Analysis of the good scoring conformations.  Clustering; uncertainty; precision; etc...\n",
    "\n",
    "### Running the script <a name=\"3_Running_the_script\"></a>\n",
    "\n",
    "The first three modeling stages are all contained within one script, `modeling.py`. You can get started by simply changing into the `rnapolii/modeling` directory and then running the script with Python:\n",
    "\n",
    "```\n",
    "python modeling.py\n",
    "```\n",
    "\n",
    "It will take a very long time to complete the sampling; to get an idea of what's going on you can run it with only 50 output frames by adding the `--test` option:\n",
    "\n",
    "```\n",
    "python modeling.py --test\n",
    "```"
   ]
  },
  {
   "cell_type": "markdown",
   "metadata": {},
   "source": [
    "## Stage 1 - Gathering of data <a name=\"Stage_1_2\"></a>\n",
    "\n",
    "In this stage, we find all available experimental data that we wish to utilize in structural modeling.  In theory, any method that provides information about absolute or relative structural information can be used.\n",
    "\n",
    "### Data for yeast RNA Polymerase II <a name=\"Data_rnapolii_3\"></a>\n",
    "The `rnapolii/data` folder in the tutorial input files contains the data included in this example:\n",
    "\n",
    "* Sequence information (FASTA files for each subunit)\n",
    "* [Electron density maps](http://www.ebi.ac.uk/pdbe/entry/EMD-1883/visualization) (`.mrc`, `.txt` files)\n",
    "* [High resolution structure from x-ray crystallography](http://www.rcsb.org/pdb/explore/explore.do?structureId=1WCM) (PDB file)\n",
    "* Chemical crosslinking datasets (we use two data sets, one from [Al Burlingame's lab](http://www.mcponline.org/content/13/2/420.long), and another from [Juri Rappsilber's lab](http://emboj.embopress.org/content/29/4/717))\n",
    "\n",
    "\n",
    "**FASTA File**  \n",
    "Each residue included in modeling must be explicitly defined in the FASTA text file.  Each individual component (i.e., a protein chain) is identified by a string in the FASTA header line.  From `1WCM.fasta.txt`:\n",
    "\n",
    "    >1WCM:A\n",
    "    MVGQQYSSAPLRTVKEVQFGLFSPEEVRAISVAKIRFPETMDETQTRAKIGGLNDPRLGSIDRNLKCQTCQEGMNECPGH\n",
    "    FGHIDLAKPVFHVGFIAKIKKVCECVCMHCGKLLLDEHNELMRQALAIKDSKKRFAAIWTLCKTKMVCETDVPSEDDPTQ  \n",
    "    ...\n",
    "    >1WCM:B\n",
    "    MSDLANSEKYYDEDPYGFEDESAPITAEDSWAVISAFFREKGLVSQQLDSFNQFVDYTLQDIICEDSTLILEQLAQHTTE\n",
    "    SDNISRKYEISFGKIYVTKPMVNESDGVTHALYPQEARLRNLTYSSGLFVDVKKRTYEAIDVPGRELKYELIAEESEDDS  \n",
    "    ...\n",
    "\n",
    "defines two chains with unique IDs of 1WCM:A and 1WCM:B respectively.  The entire complex is 12 chains and 4582 residues.\n",
    "\n",
    "**Electron Density Map**  \n",
    "The electron density map of the entire RNA Poly II complex is at 20.9 Angstrom resolution.  The raw data file for this is stored in `emd_1883.map.mrc`.\n",
    "\n",
    "<figure><img src=\"files/images/rnapolii_em_raw.png\" width=\"200px\" />\n",
    "<figcaption>_Electron microscopy density map for yeast RNA Polymerase II_</figcaption></figure>\n",
    "\n",
    "**Electron Density as Gaussian Mixture Models**  \n",
    "Gaussian mixture models (GMMs) are used to greatly speed up scoring by approximating the electron density of individual subunits and experimental EM maps.  A GMM has been created for the experimental density map, and is stored in `emd_1883.map.mrc.gmm.50.mrc`.  The weight, center, and covariance matrix of each Gaussian used to approximate the original EM density can be seen in the corresponding `.txt` file.  \n",
    "\n",
    "<figure><img src=\"files/images/rnapolii_em_gmm_50.png\" width=\"200px\" />\n",
    "<figcaption>_The EM data represented as a 50 Gaussian mixture model_</figcaption></figure>\n",
    "\n",
    "\n",
    "**PDB File**  \n",
    "High resolution coordinates for all 12 chains of RNA Pol II are found in `1WCM.pdb`.  \n",
    "\n",
    "<figure><img src=\"files/images/rnapolii_all_1wc4.png\" width=\"200px\" />\n",
    "<figcaption>_Coordinates from PDBID [1WCM](http://www.rcsb.org/pdb/explore.do?structureId=1wcm)_</figcaption></figure>\n",
    "\n",
    "**Chemical Cross-Links**  \n",
    "All chemical cross-linking data is located in `polii_xlinks.csv` and `polii_juri.csv`.  These files contain multiple comma-separated columns; four of these specify the protein and residue number for each of the two linker residues.\n",
    "\n",
    "    prot1,res1,prot2,res2\n",
    "    Rpb1,34,Rpb1,49\n",
    "    Rpb1,101,Rpb1,143\n",
    "    Rpb1,101,Rpb1,176\n",
    "\n",
    "The length of the DSS/BS3 cross-linker reagent, 21 angstroms, will be specified later in the modeling script.  "
   ]
  },
  {
   "cell_type": "markdown",
   "metadata": {},
   "source": [
    "## Stage 2 - Representation of subunits and translation of the data into spatial restraints <a name=\"Stage_2_2\"></a>\n",
    "\n",
    "\n",
    "In this stage, we will initially define a representation of the system. Afterwards, we will convert the data into spatial restraints.  This is performed using the script `rnapolii/modeling/modeling.py` and uses the\n",
    "topology file, `topology.txt`, to define the system components and their representation\n",
    "parameters.\n",
    "\n",
    "### Setting up Model Representation and Degrees of Freedom in IMP <a name=\"Setting_up_3\"></a>\n",
    "\n",
    "Very generally, the *representation* of a system is defined by all the variables that need to be determined based on input information, including the assignment of the system components to geometric objects (e.g. points, spheres, ellipsoids, and 3D Gaussian density functions). \n",
    "\n",
    "Our RNA Pol II representation employs **spherical beads** of varying sizes and **3D Gaussians**, which coarsen domains of the complex using several resolution scales simultaneously. \n",
    "\n",
    "<figure><img src=\"files/images/rnapolii_Multi-scale_representation.png\" width=\"600px\" />\n",
    "<figcaption>_Multi-scale representation of Rpb1 subunit of RNA Pol II_</figcaption></figure>\n",
    "\n",
    "The **spatial restraints** will be applied to individual resolution scales as appropriate. \n",
    "\n",
    "Beads and Gaussians of a given domain are arranged into either a rigid body or a flexible string, based on the crystallographic structures. \n",
    "\n",
    "The GMM of a subunit is the set of all 3D Gaussians used to represent it; it will be used to calculate the EM score. The calculation of the GMM of a subunit can be done automatically in the **topology file**.\n",
    "For the purposes of this tutorial, we already created these for Rpb4 and Rpb7 and placed them in the `rnapolii/data` directory in their respective `.mrc` and `.txt` files. \n",
    "\n",
    "In a **rigid body**, all the beads and the Gaussians of a given domain have their relative distances constrained during configurational sampling, while in a **flexible string** the beads and the Gaussians are restrained by the sequence connectivity. \n",
    "\n",
    "\n",
    "<figure><img src=\"files/images/rnapolii_rb.png\" width=\"300px\" />\n",
    "<figcaption>_Rigid Bodies and beads_</figcaption></figure>\n",
    "\n",
    "**super rigid bodies** are sets of rigid bodies and beads that will move together in an additional Monte Carlo move.\n",
    "\n",
    "<figure><img src=\"files/images/rnapolii_srb.png\" width=\"300px\" />\n",
    "<figcaption>_Super Rigid Bodies_</figcaption></figure>\n",
    "\n",
    "**chain_of_super_rigid_bodies** are additional degrees of freedom along the connectivity chain of a subunit. It groups sequence-connected rigid domains and/or beads into overlapping pairs and triplets. Each of these groups will be moved rigidly. This mover helps to sample more efficiently complex topologies, made of several rigid bodies, connected by flexible linkers.\n",
    "\n",
    "<figure><img src=\"files/images/rnapolii_cosrb.png\" width=\"300px\" />\n",
    "<figcaption>_Chain of Super Rigid Bodies_</figcaption></figure>\n",
    "\n",
    "\n",
    "### Hierarchy <a name=\"Hierarchy_3\"></a>\n",
    "\n",
    "A hierarchy in IMP is a tree that stores information on molecules, residues, atoms, etc., where the resolution of the representation increases as you move further from the root. IMP.pmi was designed to support a specialised multi-state/multi-copy/multi-resolution hierarchy\n",
    "\n",
    "<figure><img src=\"files/images/rnapolii_hierarchy.png\" width=\"600px\" />\n",
    "<figcaption>_PMI hierarchy_</figcaption></figure>\n",
    "\n",
    "The **States** are used as putative structural and compositional alternatives of the system. \n",
    "\n",
    "Each **State** contains the **Molecules**, and each Molecule can occur in different stochiometric **Copies** (eg. here MolA has three identical copies: MolA.0, MolA.1, and MolA.2). \n",
    "\n",
    "The **Molecules** contains structures (ie, particles with coordinates, masses and radii) classified by several **resolutions**: Atomic (Resolution 0), Residues (Resolution 1), Fragments (Resolution > 1), and the Gaussians (Densities). \n",
    "\n",
    "All structures (except the densities) are represented by Spheres with appropriate radius and mass. The resolutions concur simultanously, therefore the same part of the molecule can be represented by several resolutions."
   ]
  },
  {
   "cell_type": "markdown",
   "metadata": {},
   "source": [
    "### Dissecting the script <a name=\"Dissecting_the_script_3\"></a>\n",
    "\n",
    "The script `rnapolii/modeling/modeling.py` sets up the representation of the system and the restraint.\n",
    "\n",
    "The first part of the script import the necessary libraries."
   ]
  },
  {
   "cell_type": "code",
   "execution_count": 6,
   "metadata": {},
   "outputs": [],
   "source": [
    "import IMP\n",
    "import IMP.core\n",
    "import IMP.pmi.restraints.crosslinking\n",
    "import IMP.pmi.restraints.stereochemistry\n",
    "import IMP.pmi.restraints.em\n",
    "import IMP.pmi.representation\n",
    "import IMP.pmi.tools\n",
    "\n",
    "import IMP.pmi.macros\n",
    "import IMP.pmi.topology\n",
    "\n",
    "import os\n",
    "import sys\n",
    "\n",
    "import warnings\n",
    "warnings.filterwarnings('ignore')"
   ]
  },
  {
   "cell_type": "markdown",
   "metadata": {},
   "source": [
    "Then setup the relevant paths of the input files"
   ]
  },
  {
   "cell_type": "code",
   "execution_count": 8,
   "metadata": {},
   "outputs": [],
   "source": [
    "datadirectory = \"../rnapolii/data/\"\n",
    "topology_file = datadirectory+\"topology.txt\" \n",
    "target_gmm_file = datadirectory+'emd_1883.map.mrc.gmm.50.txt' # The EM map data\n",
    "output_directory = \"./output\""
   ]
  },
  {
   "cell_type": "markdown",
   "metadata": {},
   "source": [
    "#### Model Representation Using a Topology File. <a name=\"Topology_file_4\"></a>\n",
    "\n",
    "This part of the script defines the topology of the system, including the hierarchy, the representation and the degrees of freedom. This is the content of the file `../data/topology.txt`, which is in a table format:"
   ]
  },
  {
   "cell_type": "code",
   "execution_count": null,
   "metadata": {},
   "outputs": [],
   "source": [
    "'''\n",
    "|molecule_name  |color     |fasta_fn          |fasta_id|pdb_fn             |chain|residue_range|pdb_offset|bead_size|em_residues_per_gaussian|rigid_body|super_rigid_body|chain_of_super_rigid_bodies|\n",
    "|Rpb1           |blue      |1WCM_new.fasta.txt|1WCM:A  |1WCM_map_fitted.pdb|A    |1,1140       |0         |20       |40                      |1         | 1              |                           |\n",
    "|Rpb1           |blue      |1WCM_new.fasta.txt|1WCM:A  |1WCM_map_fitted.pdb|A    |1141,1274    |0         |20       |40                      |2         | 1              |                           |\n",
    "|Rpb1           |blue      |1WCM_new.fasta.txt|1WCM:A  |1WCM_map_fitted.pdb|A    |1275,END     |0         |20       |40                      |3         | 1              |                           |\n",
    "|Rpb2           |red       |1WCM_new.fasta.txt|1WCM:B  |1WCM_map_fitted.pdb|B    |1,1102       |0         |20       |40                      |4         | 2              |                           |\n",
    "|Rpb2           |red       |1WCM_new.fasta.txt|1WCM:B  |1WCM_map_fitted.pdb|B    |1103,END     |0         |20       |40                      |5         | 2              |                           |\n",
    "|Rpb3           |yellow    |1WCM_new.fasta.txt|1WCM:C  |1WCM_map_fitted.pdb|C    |1,END        |0         |20       |40                      |6         | 3              |                           |\n",
    "|Rpb4           |salmon    |1WCM_new.fasta.txt|1WCM:D  |1WCM_map_fitted.pdb|D    |1,END        |-3        |20       |40                      |7         | 4              |                           |\n",
    "|Rpb5           |gold      |1WCM_new.fasta.txt|1WCM:E  |1WCM_map_fitted.pdb|E    |1,END        |0         |20       |40                      |8         | 5              |                           |\n",
    "|Rpb6           |pink      |1WCM_new.fasta.txt|1WCM:F  |1WCM_map_fitted.pdb|F    |1,END        |0         |20       |40                      |9         | 6              |                           |\n",
    "|Rpb7           |gray      |1WCM_new.fasta.txt|1WCM:G  |1WCM_map_fitted.pdb|G    |1,END        |0         |20       |40                      |10        | 7              |                           |\n",
    "|Rpb8           |orange    |1WCM_new.fasta.txt|1WCM:H  |1WCM_map_fitted.pdb|H    |1,END        |0         |20       |40                      |11        | 8              |                           |\n",
    "|Rpb9           |tan       |1WCM_new.fasta.txt|1WCM:I  |1WCM_map_fitted.pdb|I    |1,END        |0         |20       |40                      |12        | 9              |                           |\n",
    "|Rpb10          |brown     |1WCM_new.fasta.txt|1WCM:J  |1WCM_map_fitted.pdb|J    |1,END        |0         |20       |40                      |13        | 10             |                           |\n",
    "|Rpb11          |purple    |1WCM_new.fasta.txt|1WCM:K  |1WCM_map_fitted.pdb|K    |1,END        |0         |20       |40                      |14        | 11             |                           |\n",
    "|Rpb12          |cyan      |1WCM_new.fasta.txt|1WCM:L  |1WCM_map_fitted.pdb|L    |1,END        |0         |20       |40                      |15        | 12             |                           |\n",
    "'''"
   ]
  },
  {
   "cell_type": "markdown",
   "metadata": {},
   "source": [
    "Using the table above we define the overall topology: we introduce the molecules with their sequence and their known structure, and define the movers. Each line is a user-defined molecular **Domain**, and each column contains the specifics needed to build the system.\n",
    "\n",
    "* `component_name`: Name of the Molecule and the name of the Hierarchy that contains the corresponding Domain.* `color`: The color used in the output coordinates file. Uses Chimera names.\n",
    "* `fasta_fn`: Name of the FASTA file containing the sequence for this Molecule.\n",
    "* `fasta_id`: header line of FASTA (without the \">\" character.\n",
    "* `pdb_fn`: Name of PDB file with coordinates (if available). If left empty, will set up as BEADS (you can also specify \"BEADS\"). Can also write \"IDEAL_HELIX\".\n",
    "* `chain`: Chain ID of this Domain in the PDB file.\n",
    "* `residue_range`: Comma delimited pair defining the indexes of the first and the last residue of the Domain. Can leave empty or use 'all' for entire sequence from PDB file. The second item in the pair can be 'END' to select the last residue in the sequence defined in the FASTA file.\n",
    "* `pdb_offset`: Offset to sync PDB residue numbering with FASTA numbering.\n",
    "* `bead_size`: The size (in residues) of beads used to model Fragments not covered by PDB coordinates.\n",
    "* `em_residues`: The number of Gaussians used to model the  density of this domain. Can be set to zero/empty to exclude Domains from the em restraint. The GMM files will be written to `gmm_dir`\n",
    "* `rigid_body`: Leave empty if the user does not desire to build a Rigid Body on this Domain. Otherwise, use a unique Rigid Body identifier (an integer). All Domains with the same Rigid Body identifier will be collected in the same Rigid Body.\n",
    "* `super_rigid_body`: Like the Rigid Body, the user can specify a unique Super Rigid Body identifier.\n",
    "* `chain_of_super_rigid_bodies` Like the Rigid Body, the user can specify a unique Chain of Super Rigid Body identifier.\n",
    "\n",
    "The first section defines where input files are located.  The topology file defines how the system components are structurally represented. `target_gmm_file` stores the EM map for the entire complex, which has already been converted into a Gaussian mixture model."
   ]
  },
  {
   "cell_type": "code",
   "execution_count": 9,
   "metadata": {},
   "outputs": [],
   "source": [
    "# Initialize IMP model\n",
    "m = IMP.Model()\n",
    "\n",
    "# Read in the topology file.  \n",
    "# Specify the directory wheere the PDB files, fasta files and GMM files are\n",
    "topology = IMP.pmi.topology.TopologyReader(topology_file, \n",
    "                                  pdb_dir=datadirectory, \n",
    "                                  fasta_dir=datadirectory, \n",
    "                                  gmm_dir=datadirectory)"
   ]
  },
  {
   "cell_type": "code",
   "execution_count": null,
   "metadata": {},
   "outputs": [],
   "source": [
    "# Use the BuildSystem macro to build states from the topology file\n",
    "bs = IMP.pmi.macros.BuildSystem(m)"
   ]
  },
  {
   "cell_type": "code",
   "execution_count": null,
   "metadata": {},
   "outputs": [],
   "source": [
    "# Each state can be specified by a topology file.\n",
    "bs.add_state(topology)"
   ]
  },
  {
   "cell_type": "markdown",
   "metadata": {},
   "source": [
    "#### Building the System Representation and Degrees of Freedom <a name=\"Representation_and_DOF_4\"></a>\n",
    "\n",
    "Here we can set the **Degrees of Freedom** parameters, which should be\n",
    "optimized according to MC acceptance ratios. There are three kind of movers: Rigid Body, Bead, and Super Rigid Body. \n",
    "\n",
    "`max_rb_trans` and `max_rb_rot` are the \n",
    "maximum translation and rotation of the Rigid Body mover, `max_srb_trans` and \n",
    "`max_srb_rot` are the maximum translation and rotation of the Super Rigid Body mover\n",
    "and `max_bead_trans` is the maximum translation of the Bead Mover.\n",
    "\n",
    "The excecution of the macro will return the root hierarchy (`root_hier`) and the degrees of freedom (`dof`) objects, both of which are used later on.\n"
   ]
  },
  {
   "cell_type": "code",
   "execution_count": null,
   "metadata": {},
   "outputs": [],
   "source": [
    "root_hier, dof = bs.execute_macro(max_rb_trans=4.0, \n",
    "                                  max_rb_rot=0.3, \n",
    "                                  max_bead_trans=4.0, \n",
    "                                  max_srb_trans=4.0,\n",
    "                                  max_srb_rot=0.3)"
   ]
  },
  {
   "cell_type": "markdown",
   "metadata": {},
   "source": [
    "At this point we have created the complete representation of the system. If displayed using Chimera the subunits should look like this (where the left and right panels are the assembled complex exploded view, respectively)"
   ]
  },
  {
   "cell_type": "markdown",
   "metadata": {},
   "source": [
    "<figure><img src=\"files/images/rnapolii_domain_representation.png\" width=\"600px\" />\n",
    "<figcaption>_Domain Representation_</figcaption></figure>"
   ]
  },
  {
   "cell_type": "markdown",
   "metadata": {},
   "source": [
    "We can display the representation of system the along the sequence. Each color correspond to a domain of the complex assigned to an individual rigid body. White spaces are the beads."
   ]
  },
  {
   "cell_type": "code",
   "execution_count": null,
   "metadata": {},
   "outputs": [],
   "source": [
    "%matplotlib inline\n",
    "\n",
    "import IMP.pmi.plotting\n",
    "import IMP.pmi.plotting.topology\n",
    "\n",
    "IMP.pmi.plotting.topology.draw_component_composition(dof)"
   ]
  },
  {
   "cell_type": "markdown",
   "metadata": {},
   "source": [
    "Since we're interested in modelling the stalk, we will fix all subunits except Rpb4 and Rpb7. Note that we are using [IMP.atom.Selection](https://integrativemodeling.org/nightly/doc/ref/classIMP_1_1atom_1_1Selection.html) to get the particles that correspond to the fixed Molecules."
   ]
  },
  {
   "cell_type": "code",
   "execution_count": null,
   "metadata": {},
   "outputs": [],
   "source": [
    "# Fix all rigid bodies but not Rpb4 and Rpb7 (the stalk)\n",
    "# First select and gather all particles to fix.\n",
    "fixed_particles=[]\n",
    "for prot in [\"Rpb1\",\"Rpb2\",\"Rpb3\",\"Rpb5\",\"Rpb6\",\"Rpb8\",\"Rpb9\",\"Rpb10\",\"Rpb11\",\"Rpb12\"]:\n",
    "    fixed_particles+=IMP.atom.Selection(root_hier,molecule=prot).get_selected_particles()\n",
    "    \n",
    "\n",
    "# Fix the Corresponding Rigid movers and Super Rigid Body movers using dof\n",
    "# The flexible beads will still be flexible (fixed_beads is an empty list)!\n",
    "fixed_beads,fixed_rbs=dof.disable_movers(fixed_particles,\n",
    "                                         [IMP.core.RigidBodyMover,IMP.pmi.TransformMover])"
   ]
  },
  {
   "cell_type": "markdown",
   "metadata": {},
   "source": [
    "Finally we randomize the initial configuration to remove any bias from the initial starting configuration read from input files. Since each subunit is composed of rigid bodies (i.e., beads constrained in a structure) and flexible beads, the configuration of the system is initialized by displacing each mobile rigid body and each bead randomly by 50 Angstroms, and rotate them randomly, and far enough from each other to prevent any steric clashes. \n",
    "\n",
    "The `excluded_rigid_bodies=fixed_rbs` will exclude from the randomization everything that was fixed above."
   ]
  },
  {
   "cell_type": "code",
   "execution_count": null,
   "metadata": {},
   "outputs": [],
   "source": [
    "# Shuffle the rigid body and beads configuration of only the molecules we are interested in (Rpb4 and Rpb7)\n",
    "IMP.pmi.tools.shuffle_configuration(root_hier,\n",
    "                                    excluded_rigid_bodies=fixed_rbs,\n",
    "                                    max_translation=50, \n",
    "                                    verbose=False,\n",
    "                                    cutoff=5.0,\n",
    "                                    niterations=100)"
   ]
  },
  {
   "cell_type": "markdown",
   "metadata": {},
   "source": [
    "### Scoring Function <a name=\"Scoring_Function_3\"></a>"
   ]
  },
  {
   "cell_type": "markdown",
   "metadata": {},
   "source": [
    "After defining the representation of the model, we build the **restraints** by which the individual structural models will be scored based on the input data.\n",
    "\n",
    "The sum of all of these restraints is our **scoring function**. \n",
    "For all restraints, calling `add_to_model()` incorporates them into the scoring function\n",
    "Appending the restraints to the outputobjects list reports them in the log files produced in the sampling."
   ]
  },
  {
   "cell_type": "code",
   "execution_count": null,
   "metadata": {},
   "outputs": [],
   "source": [
    "outputobjects = [] # reporter objects...output is included in the stat file"
   ]
  },
  {
   "cell_type": "markdown",
   "metadata": {},
   "source": [
    "#### Connectivity Restraint <a name=\"Connectivity_Restraint_4\"></a>"
   ]
  },
  {
   "cell_type": "markdown",
   "metadata": {},
   "source": [
    "#### Excluded Volume Restraint <a name=\"Excluded_Volume_Restraint_4\"></a>"
   ]
  },
  {
   "cell_type": "code",
   "execution_count": null,
   "metadata": {},
   "outputs": [],
   "source": [
    "# Connectivity keeps things connected along the backbone (ignores if inside same rigid body)\n",
    "mols = IMP.pmi.tools.get_molecules(root_hier)\n",
    "for mol in mols:\n",
    "    molname=mol.get_name()        \n",
    "    IMP.pmi.tools.display_bonds(mol)\n",
    "    cr = IMP.pmi.restraints.stereochemistry.ConnectivityRestraint(mol,scale=2.0)\n",
    "    cr.add_to_model()\n",
    "    cr.set_label(molname)\n",
    "    outputobjects.append(cr)"
   ]
  },
  {
   "cell_type": "code",
   "execution_count": null,
   "metadata": {},
   "outputs": [],
   "source": [
    "ev = IMP.pmi.restraints.stereochemistry.ExcludedVolumeSphere(\n",
    "                                         included_objects=root_hier,\n",
    "                                         resolution=10)\n",
    "ev.add_to_model()         # add to scoring function\n",
    "outputobjects.append(ev)  # add to output"
   ]
  },
  {
   "cell_type": "markdown",
   "metadata": {},
   "source": [
    "#### Crosslinks - dataset 1 <a name=\"Crosslink_1_4\"></a>\n",
    "\n",
    "A crosslinking restraint is implemented as a distance restraint between two residues.  The two residues are each defined by the protein (component) name and the residue number.  The script here extracts the correct four columns that provide this information from the input data file.\n",
    "\n",
    "To use this restraint we have to first define the data format.  \n",
    " \n",
    "This data file has a csv format, and looks like:\n",
    "\n",
    "```\n",
    "prot1,res1,prot2,res2\n",
    "Rpb1,34,Rpb1,49\n",
    "Rpb1,101,Rpb1,143\n",
    "...\n",
    "```"
   ]
  },
  {
   "cell_type": "code",
   "execution_count": null,
   "metadata": {},
   "outputs": [],
   "source": [
    "# We then initialize a CrossLinkDataBase that uses a keywords converter to map column to information.\n",
    "# The required fields are the protein and residue number for each side of the crosslink.\n",
    "xldbkwc = IMP.pmi.io.crosslink.CrossLinkDataBaseKeywordsConverter()\n",
    "xldbkwc.set_protein1_key(\"prot1\")\n",
    "xldbkwc.set_protein2_key(\"prot2\")\n",
    "xldbkwc.set_residue1_key(\"res1\")\n",
    "xldbkwc.set_residue2_key(\"res2\")\n",
    "\n",
    "xl1 = IMP.pmi.io.crosslink.CrossLinkDataBase(xldbkwc)\n",
    "xl1.create_set_from_file(datadirectory+'polii_juri.csv')\n",
    "\n",
    "# Now, we set up the restraint.\n",
    "xl1rest = IMP.pmi.restraints.crosslinking.CrossLinkingMassSpectrometryRestraint(\n",
    "                                   root_hier=root_hier,  # The root hierarchy\n",
    "                                   CrossLinkDataBase=xl1,# The XLDB defined above\n",
    "                                   length=21.0,          # Length of the linker in angstroms\n",
    "                                   slope=0.01,           # A linear term that biases XLed\n",
    "                                                         # residues together\n",
    "                                   resolution=1.0,       # Resolution at which to apply the restraint. \n",
    "                                                         # Either 1 (residue) or 0 (atomic)\n",
    "                                   label=\"Chen\",         # Used to label output in the stat file\n",
    "                                   weight=1.)            # Weight applied to all crosslinks \n",
    "                                                         # in this dataset\n",
    "xl1rest.add_to_model()\n",
    "outputobjects.append(xl1rest)"
   ]
  },
  {
   "cell_type": "markdown",
   "metadata": {},
   "source": [
    "#### Crosslinks - dataset 2 <a name=\"Crosslink_2_4\"></a>\n",
    "\n",
    "We can easily add a second set of crosslinks.\n",
    "These have a different format and label, but other settings are the same"
   ]
  },
  {
   "cell_type": "code",
   "execution_count": null,
   "metadata": {},
   "outputs": [],
   "source": [
    "xldbkwc = IMP.pmi.io.crosslink.CrossLinkDataBaseKeywordsConverter()\n",
    "xldbkwc.set_protein1_key(\"pep1.accession\")\n",
    "xldbkwc.set_protein2_key(\"pep2.accession\")\n",
    "xldbkwc.set_residue1_key(\"pep1.xlinked_aa\")\n",
    "xldbkwc.set_residue2_key(\"pep2.xlinked_aa\")\n",
    "\n",
    "xl2 = IMP.pmi.io.crosslink.CrossLinkDataBase(xldbkwc)\n",
    "xl2.create_set_from_file(datadirectory+'polii_xlinks.csv')\n",
    "\n",
    "xl2rest = IMP.pmi.restraints.crosslinking.CrossLinkingMassSpectrometryRestraint(\n",
    "                                   root_hier=root_hier,\n",
    "                                   CrossLinkDataBase=xl2,\n",
    "                                   length=21.0,\n",
    "                                   slope=0.01,\n",
    "                                   resolution=1.0,\n",
    "                                   label=\"Trnka\",\n",
    "                                   weight=1.)\n",
    "\n",
    "xl2rest.add_to_model()          \n",
    "outputobjects.append(xl2rest)"
   ]
  },
  {
   "cell_type": "markdown",
   "metadata": {},
   "source": [
    "#### Electron Microscopy Restraint <a name=\"EM_4\"></a>"
   ]
  },
  {
   "cell_type": "markdown",
   "metadata": {},
   "source": [
    "The GaussianEMRestraint uses a density overlap function to compare model to data\n",
    "First the EM map is approximated with a Gaussian Mixture Model (done separately)\n",
    "Second, the components of the model are represented with Gaussians (forming the model GMM)\n",
    "\n",
    "The GaussianEMRestraint uses a density overlap function to compare model to data. First the EM map is approximated with a Gaussian Mixture Model (done separately). Second, the components of the model are represented with Gaussians (forming the model GMM)\n",
    "\n",
    "* `scale_target_to_mass` ensures the total mass of model and map are identical\n",
    "* `slope`: nudge model closer to map when far away\n",
    "* `weight`: heuristic, needed to calibrate the EM restraint with the other terms. \n",
    "\n",
    "and then add it to the output object.  Nothing is being sampled, so it does not need to be added to sample objects.\n"
   ]
  },
  {
   "cell_type": "code",
   "execution_count": null,
   "metadata": {},
   "outputs": [],
   "source": [
    "# First, get the model density objects that will be fitted to the EM density.\n",
    "em_components = IMP.pmi.tools.get_densities(root_hier)\n",
    "\n",
    "gemt = IMP.pmi.restraints.em.GaussianEMRestraint(em_components,\n",
    "                                      target_gmm_file,  # EM map GMM file\n",
    "                                      scale_target_to_mass=True,  # True if the mass of the map and model are identical.\n",
    "                                      slope=0.0000001,  # A small funneling force pulling towards the center of the EM density.\n",
    "                                      weight=80.0)           \n",
    "gemt.add_to_model()\n",
    "outputobjects.append(gemt)"
   ]
  },
  {
   "cell_type": "markdown",
   "metadata": {},
   "source": [
    "## Stage 3 - Sampling <a name=\"Sampling_2\"></a>\n",
    "\n",
    "With the system representation built and data restraints entered, the system is now ready to sample configurations. A replica exchange run can be set up using the `ReplicaExchange0` macro:\n",
    "\n",
    "See the [ReplicaExchange0 documentation](https://integrativemodeling.org/nightly/doc/ref/classIMP_1_1pmi_1_1macros_1_1ReplicaExchange0.html) for a full description of all of the input parameters.\n",
    "\n",
    "The sampling is performed by executing the macro:\n",
    "\n",
    "```mc1.execute_macro()```\n"
   ]
  },
  {
   "cell_type": "code",
   "execution_count": null,
   "metadata": {},
   "outputs": [],
   "source": [
    "# total number of saved frames\n",
    "num_frames = 50\n",
    "\n",
    "# This object defines all components to be sampled as well as the sampling protocol\n",
    "mc1=IMP.pmi.macros.ReplicaExchange0(m,\n",
    "              root_hier=root_hier,                         # The root hierarchy\n",
    "              monte_carlo_sample_objects=dof.get_movers(), # All moving particles and parameters\n",
    "              output_objects=outputobjects,                # Objects to put into the stat file\n",
    "              crosslink_restraints=[xl1rest,xl2rest],      # allows XLs to be drawn in the RMF files\n",
    "              monte_carlo_temperature=1.0,                 \n",
    "              simulated_annealing=True,\n",
    "              simulated_annealing_minimum_temperature=1.0,\n",
    "              simulated_annealing_maximum_temperature=2.5,\n",
    "              simulated_annealing_minimum_temperature_nframes=200,\n",
    "              simulated_annealing_maximum_temperature_nframes=20,\n",
    "              number_of_best_scoring_models=10,\n",
    "              monte_carlo_steps=10,\n",
    "              number_of_frames=num_frames,\n",
    "              global_output_directory=output_directory)\n",
    "\n",
    "# Start Sampling\n",
    "mc1.execute_macro()"
   ]
  },
  {
   "cell_type": "markdown",
   "metadata": {},
   "source": [
    "### Modeling Output <a name=\"Output_3\"></a>\n",
    "\n",
    "The script generates an output directory containing the following:\n",
    "\n",
    "* pdbs: a directory containing the 100 best-scoring models (see the number_of_best_scoring_models variable above) from the run, in PDB format.\n",
    "* rmfs: a single RMF file containing all the frames. RMF is a file format specially designed to store coarse-grained, multi-resolution and multi-state models such as those generated by %IMP. It is a compact binary format and (as in this case) can also be used to store multiple models or trajectories.\n",
    "* Statistics from the sampling, contained in a \"statfile\", stat.*.out. This file contains information on each restraint, MC acceptance criteria and other things at each step."
   ]
  },
  {
   "cell_type": "markdown",
   "metadata": {},
   "source": [
    "### Using `StatHierarchyHandler` for inline analysis <a name=\"ProcessOutput_3\"></a>\n",
    "\n",
    "We can use the class StatHierarchyHandler to analyse and plot the content of the stat files.\n",
    "First, we print all the keywords. This class coordinates the structures that have been generated \n",
    "and all the features that have been saved during the modeling run. It is a Hierarchy object, but it works like a list."
   ]
  },
  {
   "cell_type": "code",
   "execution_count": null,
   "metadata": {},
   "outputs": [],
   "source": [
    "import IMP.pmi.output\n",
    "\n",
    "hh=IMP.pmi.output.StatHierarchyHandler(m,\"./output/stat.0.out\")\n",
    "\n",
    "print \"number of frames\",len(hh)\n",
    "\n",
    "print \"describe the content of the stat file\", hh[1]\n",
    "\n",
    "#list down all the feature names\n",
    "for k in hh[1].features.keys(): print k\n",
    "    \n"
   ]
  },
  {
   "cell_type": "markdown",
   "metadata": {},
   "source": [
    "We can use the class IMP.atom.Selection to analyse the structures generated. "
   ]
  },
  {
   "cell_type": "code",
   "execution_count": 16,
   "metadata": {},
   "outputs": [
    {
     "name": "stdout",
     "output_type": "stream",
     "text": [
      "Populating the interactive namespace from numpy and matplotlib\n"
     ]
    },
    {
     "data": {
      "text/plain": [
       "[<matplotlib.lines.Line2D at 0x7febd7f00590>]"
      ]
     },
     "execution_count": 16,
     "metadata": {},
     "output_type": "execute_result"
    },
    {
     "data": {
      "image/png": "[encoded data removed]",
      "text/plain": [
       "<Figure size 432x288 with 1 Axes>"
      ]
     },
     "metadata": {},
     "output_type": "display_data"
    },
    {
     "data": {
      "image/png": "[encoded data removed]",
      "text/plain": [
       "<Figure size 432x288 with 1 Axes>"
      ]
     },
     "metadata": {},
     "output_type": "display_data"
    }
   ],
   "source": [
    "# For instance we can compute the distance between two residues\n",
    "\n",
    "%pylab inline\n",
    "\n",
    "p0=IMP.atom.Selection(hh,molecule=\"Rpb4\",residue_index=10).get_selected_particles()[0]\n",
    "p1=IMP.atom.Selection(hh,molecule=\"Rpb7\",residue_index=10).get_selected_particles()[0]\n",
    "\n",
    "d0=IMP.core.XYZ(p0)\n",
    "d1=IMP.core.XYZ(p1)\n",
    "\n",
    "plot([IMP.core.get_distance(d0,d1) for h in hh]);\n",
    "\n",
    "figure()\n",
    "\n",
    "# Or we can get the radius of gyration of the whole complex\n",
    "\n",
    "ps=IMP.atom.Selection(hh).get_selected_particles()\n",
    "plot([IMP.atom.get_radius_of_gyration(ps) for h in hh])\n"
   ]
  },
  {
   "cell_type": "markdown",
   "metadata": {},
   "source": [
    "Next, we plot the time series of selected features stored in the Stat files"
   ]
  },
  {
   "cell_type": "code",
   "execution_count": null,
   "metadata": {},
   "outputs": [],
   "source": [
    "#first we store the data internal to hh, so that it is now read from the files\n",
    "# and it is faster\n",
    "\n",
    "data=hh.data\n",
    "\n",
    "# then we plot the scores\n",
    "plot([x.score for x in data])\n",
    "\n",
    "figure() \n",
    "\n",
    "# finally we plot distances of two crosslinks\n",
    "plot([float(x.features[\"CrossLinkingMassSpectrometryRestraint_Data_Score_Chen\"]) for x in data]);\n",
    "plot([float(x.features[\"CrossLinkingMassSpectrometryRestraint_Distance_|Trnka|103.1|Rpb1|1|Rpb1|343|0|PSI|\"]) for x in data]);\n",
    "\n"
   ]
  },
  {
   "cell_type": "markdown",
   "metadata": {},
   "source": [
    "Additionally, we can draw the box-plot for all crosslink distances involving Rpb7 and Rpb4"
   ]
  },
  {
   "cell_type": "code",
   "execution_count": null,
   "metadata": {},
   "outputs": [],
   "source": [
    "values=[]\n",
    "for k in data[0].features.keys():\n",
    "    if \"Distance\" in k and (\"Rpb7\" in  k or \"Rpb4\" in k):\n",
    "        print k\n",
    "        values.append([float(x.features[k]) for x in data])\n",
    "\n",
    "boxplot(values);"
   ]
  },
  {
   "cell_type": "markdown",
   "metadata": {},
   "source": [
    "## Stage 4 - Analysis <a name=\"Analysis_Part_1_2\"></a>\n",
    "\n",
    "In the analysis stage we cluster (group by similarity) the sampled models to determine high-probability configurations. Comparing clusters may indicate that there are multiple acceptable configurations given the data. \n",
    "\n",
    "In this stage we perform several analysis.  Here, we will perform calculations for:\n",
    "\n",
    "* **Clustering**: Grouping the structure together using similarity via RMSD\n",
    "* **Cluster Uncertainty**: Determining the within-group precision and between-group similarity via RMSD\n",
    "* **Cluster Accuracy**: Fit of the calculated clusters to the true (known) solution\n",
    "* **Sampling Exhaustiveness**: Qualitative and quantitative measurement of sampling completeness\n",
    "\n",
    "### Precomputed results <a name=\"Precomputed_Results_3\"></a>\n",
    "\n",
    "A long modeling run was precomputed and analyzed. You can [download](ftp://salilab.org/tutorials/imp/rnapolii/results.tar.gz) it from our website, and you can [download](ftp://salilab.org/tutorials/imp/rnapolii/analysis.tar.gz) the corresponding analysis.\n",
    "\n",
    "### Assessing top models using `analysis.py` <a name=\"Clustering_3\"></a>\n",
    "The `analysis.py` script, found in the `rnapolii/analysis` directory, calls the [AnalysisReplicaExchange](https://integrativemodeling.org/nightly/doc/ref/classIMP_1_1pmi_1_1macros_1_1AnalysisReplicaExchange.html) macro, which finds top-scoring models, extracts coordinates, runs clustering, and does basic cluster analysis including creating localization densities for each subunit. The script generates RMF, MRC files which should be viewable in Chimera.\n",
    "\n",
    "We can choose the number of clusters by changing the distance threshold, the subunits we want to use to calculate the RMSD, and the number of good-scoring solutions to include."
   ]
  },
  {
   "cell_type": "markdown",
   "metadata": {},
   "source": [
    "If we perform sampling multiple times separately, they can all be analyzed at the same time by appending to list of stat files. The `best_models` parameter set the number of best scoring models to be analyzed. Note that we use `alignment=False`. This is needed in case there is no absolute reference frame (like an EM map)."
   ]
  },
  {
   "cell_type": "code",
   "execution_count": 50,
   "metadata": {},
   "outputs": [
    {
     "name": "stdout",
     "output_type": "stream",
     "text": [
      "getting data from file ./output/stat.0.out\n",
      "AnalysisReplicaExchange\n",
      "---- number of clusters 1 \n",
      "---- number of models 50 \n",
      "\n"
     ]
    }
   ],
   "source": [
    "are=IMP.pmi.macros.AnalysisReplicaExchange(m,\n",
    "                 [\"./output/stat.0.out\"],\n",
    "                 best_models=100,\n",
    "                 alignment=False)\n",
    "\n",
    "print are"
   ]
  },
  {
   "cell_type": "markdown",
   "metadata": {},
   "source": [
    "Then, we start the clustering. \n",
    "We specify the components used in calculating the RMSD between models. \n",
    "Then we cluster using a rmsd threshold of 30 Angstroms."
   ]
  },
  {
   "cell_type": "code",
   "execution_count": 46,
   "metadata": {},
   "outputs": [
    {
     "name": "stdout",
     "output_type": "stream",
     "text": [
      "clustering model 0\n",
      "creating cluster index 0\n",
      "--- trying to add model 1 to cluster 1\n",
      "--- model 1 added, rmsd=12.1010263414\n",
      "--- trying to add model 2 to cluster 1\n",
      "--- model 2 added, rmsd=15.7625259769\n",
      "--- trying to add model 3 to cluster 1\n",
      "--- model 3 added, rmsd=18.7283309267\n",
      "--- trying to add model 4 to cluster 1\n",
      "--- model 4 added, rmsd=22.0622948357\n",
      "--- trying to add model 5 to cluster 1\n",
      "--- model 5 added, rmsd=25.5159857773\n",
      "--- trying to add model 6 to cluster 1\n",
      "--- model 6 added, rmsd=28.4695776472\n",
      "--- trying to add model 7 to cluster 1\n",
      "--- model 7 NOT added, rmsd=30.1401110402\n",
      "--- trying to add model 8 to cluster 1\n",
      "--- model 8 added, rmsd=28.9133327957\n",
      "--- trying to add model 9 to cluster 1\n",
      "--- model 9 added, rmsd=29.8315790647\n",
      "--- trying to add model 10 to cluster 1\n",
      "--- model 10 NOT added, rmsd=31.3410790207\n",
      "--- trying to add model 11 to cluster 1\n",
      "--- model 11 NOT added, rmsd=34.6926326841\n",
      "--- trying to add model 12 to cluster 1\n",
      "--- model 12 NOT added, rmsd=36.4936418151\n",
      "--- trying to add model 13 to cluster 1\n",
      "--- model 13 NOT added, rmsd=34.8723667921\n",
      "--- trying to add model 14 to cluster 1\n",
      "--- model 14 NOT added, rmsd=38.9365956038\n",
      "--- trying to add model 15 to cluster 1\n",
      "--- model 15 NOT added, rmsd=39.0681184244\n",
      "--- trying to add model 16 to cluster 1\n",
      "--- model 16 NOT added, rmsd=38.1902465139\n",
      "--- trying to add model 17 to cluster 1\n",
      "--- model 17 NOT added, rmsd=39.2348139175\n",
      "--- trying to add model 18 to cluster 1\n",
      "--- model 18 NOT added, rmsd=36.5612480463\n",
      "--- trying to add model 19 to cluster 1\n",
      "--- model 19 NOT added, rmsd=36.1377202206\n",
      "--- trying to add model 20 to cluster 1\n",
      "--- model 20 NOT added, rmsd=36.194106271\n",
      "--- trying to add model 21 to cluster 1\n",
      "--- model 21 NOT added, rmsd=38.2345156262\n",
      "--- trying to add model 22 to cluster 1\n",
      "--- model 22 NOT added, rmsd=37.7419613523\n",
      "--- trying to add model 23 to cluster 1\n",
      "--- model 23 NOT added, rmsd=36.7975852117\n",
      "--- trying to add model 24 to cluster 1\n",
      "--- model 24 NOT added, rmsd=35.9471339475\n",
      "--- trying to add model 25 to cluster 1\n",
      "--- model 25 NOT added, rmsd=38.5060321955\n",
      "--- trying to add model 26 to cluster 1\n",
      "--- model 26 NOT added, rmsd=43.3752262224\n",
      "--- trying to add model 27 to cluster 1\n",
      "--- model 27 NOT added, rmsd=45.2336952505\n",
      "--- trying to add model 28 to cluster 1\n",
      "--- model 28 NOT added, rmsd=43.7139767406\n",
      "--- trying to add model 29 to cluster 1\n",
      "--- model 29 NOT added, rmsd=48.975364284\n",
      "--- trying to add model 30 to cluster 1\n",
      "--- model 30 NOT added, rmsd=46.2848145701\n",
      "--- trying to add model 31 to cluster 1\n",
      "--- model 31 NOT added, rmsd=49.4511430108\n",
      "--- trying to add model 32 to cluster 1\n",
      "--- model 32 NOT added, rmsd=50.1359868701\n",
      "--- trying to add model 33 to cluster 1\n",
      "--- model 33 NOT added, rmsd=56.9386793668\n",
      "--- trying to add model 34 to cluster 1\n",
      "--- model 34 NOT added, rmsd=58.1496062253\n",
      "--- trying to add model 35 to cluster 1\n",
      "--- model 35 NOT added, rmsd=56.1540419779\n",
      "--- trying to add model 36 to cluster 1\n",
      "--- model 36 NOT added, rmsd=54.8953638074\n",
      "--- trying to add model 37 to cluster 1\n",
      "--- model 37 NOT added, rmsd=52.4388929314\n",
      "--- trying to add model 38 to cluster 1\n",
      "--- model 38 NOT added, rmsd=51.9987479014\n",
      "--- trying to add model 39 to cluster 1\n",
      "--- model 39 NOT added, rmsd=53.3655014661\n",
      "--- trying to add model 40 to cluster 1\n",
      "--- model 40 NOT added, rmsd=54.4564350345\n",
      "--- trying to add model 41 to cluster 1\n",
      "--- model 41 NOT added, rmsd=55.9408356283\n",
      "--- trying to add model 42 to cluster 1\n",
      "--- model 42 NOT added, rmsd=55.2861840975\n",
      "--- trying to add model 43 to cluster 1\n",
      "--- model 43 NOT added, rmsd=52.426411109\n",
      "--- trying to add model 44 to cluster 1\n",
      "--- model 44 NOT added, rmsd=52.634638651\n",
      "--- trying to add model 45 to cluster 1\n",
      "--- model 45 NOT added, rmsd=52.3075785989\n",
      "--- trying to add model 46 to cluster 1\n",
      "--- model 46 NOT added, rmsd=51.788994496\n",
      "--- trying to add model 47 to cluster 1\n",
      "--- model 47 NOT added, rmsd=53.9677180038\n",
      "--- trying to add model 48 to cluster 1\n",
      "--- model 48 NOT added, rmsd=58.4874048958\n",
      "--- trying to add model 49 to cluster 1\n",
      "--- model 49 NOT added, rmsd=57.5922900428\n",
      "clustering model 7\n",
      "creating cluster index 1\n",
      "--- trying to add model 10 to cluster 2\n",
      "--- model 10 added, rmsd=23.4543225768\n",
      "--- trying to add model 11 to cluster 2\n",
      "--- model 11 NOT added, rmsd=32.4066908161\n",
      "--- trying to add model 12 to cluster 2\n",
      "--- model 12 NOT added, rmsd=34.745985064\n",
      "--- trying to add model 13 to cluster 2\n",
      "--- model 13 NOT added, rmsd=33.136391032\n",
      "--- trying to add model 14 to cluster 2\n",
      "--- model 14 NOT added, rmsd=37.0329693524\n",
      "--- trying to add model 15 to cluster 2\n",
      "--- model 15 NOT added, rmsd=37.0264074834\n",
      "--- trying to add model 16 to cluster 2\n",
      "--- model 16 NOT added, rmsd=37.287640356\n",
      "--- trying to add model 17 to cluster 2\n",
      "--- model 17 NOT added, rmsd=36.57120941\n",
      "--- trying to add model 18 to cluster 2\n",
      "--- model 18 NOT added, rmsd=37.8990896675\n",
      "--- trying to add model 19 to cluster 2\n",
      "--- model 19 NOT added, rmsd=36.1693807672\n",
      "--- trying to add model 20 to cluster 2\n",
      "--- model 20 NOT added, rmsd=34.1583768291\n",
      "--- trying to add model 21 to cluster 2\n",
      "--- model 21 NOT added, rmsd=36.0424633786\n",
      "--- trying to add model 22 to cluster 2\n",
      "--- model 22 NOT added, rmsd=35.861435577\n",
      "--- trying to add model 23 to cluster 2\n",
      "--- model 23 NOT added, rmsd=32.885189456\n",
      "--- trying to add model 24 to cluster 2\n",
      "--- model 24 NOT added, rmsd=34.7925887541\n",
      "--- trying to add model 25 to cluster 2\n",
      "--- model 25 NOT added, rmsd=40.3406704945\n",
      "--- trying to add model 26 to cluster 2\n",
      "--- model 26 NOT added, rmsd=45.2944778928\n",
      "--- trying to add model 27 to cluster 2\n",
      "--- model 27 NOT added, rmsd=49.2402140235\n",
      "--- trying to add model 28 to cluster 2\n",
      "--- model 28 NOT added, rmsd=48.2496873771\n",
      "--- trying to add model 29 to cluster 2\n",
      "--- model 29 NOT added, rmsd=54.5991698935\n",
      "--- trying to add model 30 to cluster 2\n",
      "--- model 30 NOT added, rmsd=50.1989421396\n",
      "--- trying to add model 31 to cluster 2\n",
      "--- model 31 NOT added, rmsd=54.0602448096\n",
      "--- trying to add model 32 to cluster 2\n",
      "--- model 32 NOT added, rmsd=57.4536624956\n",
      "--- trying to add model 33 to cluster 2\n",
      "--- model 33 NOT added, rmsd=65.4562298273\n",
      "--- trying to add model 34 to cluster 2\n",
      "--- model 34 NOT added, rmsd=67.0010308865\n",
      "--- trying to add model 35 to cluster 2\n",
      "--- model 35 NOT added, rmsd=64.8066096082\n",
      "--- trying to add model 36 to cluster 2\n",
      "--- model 36 NOT added, rmsd=63.8466095921\n",
      "--- trying to add model 37 to cluster 2\n",
      "--- model 37 NOT added, rmsd=61.5896499318\n",
      "--- trying to add model 38 to cluster 2\n",
      "--- model 38 NOT added, rmsd=63.7356048413\n",
      "--- trying to add model 39 to cluster 2\n",
      "--- model 39 NOT added, rmsd=64.6174241665\n",
      "--- trying to add model 40 to cluster 2\n",
      "--- model 40 NOT added, rmsd=67.3790691583\n",
      "--- trying to add model 41 to cluster 2\n",
      "--- model 41 NOT added, rmsd=68.8346033881\n",
      "--- trying to add model 42 to cluster 2\n",
      "--- model 42 NOT added, rmsd=67.8970105277\n",
      "--- trying to add model 43 to cluster 2\n",
      "--- model 43 NOT added, rmsd=66.1273639864\n",
      "--- trying to add model 44 to cluster 2\n",
      "--- model 44 NOT added, rmsd=68.2880111089\n",
      "--- trying to add model 45 to cluster 2\n",
      "--- model 45 NOT added, rmsd=67.8543753888\n",
      "--- trying to add model 46 to cluster 2\n",
      "--- model 46 NOT added, rmsd=66.3283463593\n",
      "--- trying to add model 47 to cluster 2\n",
      "--- model 47 NOT added, rmsd=68.3248861084\n",
      "--- trying to add model 48 to cluster 2\n",
      "--- model 48 NOT added, rmsd=72.7546003687\n",
      "--- trying to add model 49 to cluster 2\n",
      "--- model 49 NOT added, rmsd=71.9016509713\n",
      "clustering model 11\n",
      "creating cluster index 2\n",
      "--- trying to add model 12 to cluster 3\n",
      "--- model 12 added, rmsd=14.7871846848\n",
      "--- trying to add model 13 to cluster 3\n",
      "--- model 13 added, rmsd=14.3341331475\n",
      "--- trying to add model 14 to cluster 3\n",
      "--- model 14 added, rmsd=23.9951857339\n",
      "--- trying to add model 15 to cluster 3\n",
      "--- model 15 added, rmsd=27.1434203096\n",
      "--- trying to add model 16 to cluster 3\n",
      "--- model 16 added, rmsd=26.6800645762\n",
      "--- trying to add model 17 to cluster 3\n",
      "--- model 17 added, rmsd=24.5120700451\n",
      "--- trying to add model 18 to cluster 3\n",
      "--- model 18 added, rmsd=22.6711206182\n",
      "--- trying to add model 19 to cluster 3\n",
      "--- model 19 added, rmsd=26.3467862755\n",
      "--- trying to add model 20 to cluster 3\n",
      "--- model 20 added, rmsd=26.8470839969\n",
      "--- trying to add model 21 to cluster 3\n",
      "--- model 21 added, rmsd=26.083010258\n",
      "--- trying to add model 22 to cluster 3\n",
      "--- model 22 added, rmsd=24.9215940185\n",
      "--- trying to add model 23 to cluster 3\n",
      "--- model 23 added, rmsd=26.2936061257\n",
      "--- trying to add model 24 to cluster 3\n",
      "--- model 24 added, rmsd=22.9298170822\n",
      "--- trying to add model 25 to cluster 3\n",
      "--- model 25 added, rmsd=26.4990027812\n",
      "--- trying to add model 26 to cluster 3\n",
      "--- model 26 NOT added, rmsd=30.0420781675\n",
      "--- trying to add model 27 to cluster 3\n"
     ]
    },
    {
     "name": "stdout",
     "output_type": "stream",
     "text": [
      "--- model 27 added, rmsd=29.1233134016\n",
      "--- trying to add model 28 to cluster 3\n",
      "--- model 28 added, rmsd=28.626977484\n",
      "--- trying to add model 29 to cluster 3\n",
      "--- model 29 NOT added, rmsd=36.7572199487\n",
      "--- trying to add model 30 to cluster 3\n",
      "--- model 30 NOT added, rmsd=36.3936604871\n",
      "--- trying to add model 31 to cluster 3\n",
      "--- model 31 NOT added, rmsd=41.534919175\n",
      "--- trying to add model 32 to cluster 3\n",
      "--- model 32 NOT added, rmsd=45.270868072\n",
      "--- trying to add model 33 to cluster 3\n",
      "--- model 33 NOT added, rmsd=54.308633115\n",
      "--- trying to add model 34 to cluster 3\n",
      "--- model 34 NOT added, rmsd=51.9591870128\n",
      "--- trying to add model 35 to cluster 3\n",
      "--- model 35 NOT added, rmsd=51.4682463253\n",
      "--- trying to add model 36 to cluster 3\n",
      "--- model 36 NOT added, rmsd=50.2875414927\n",
      "--- trying to add model 37 to cluster 3\n",
      "--- model 37 NOT added, rmsd=46.3248363408\n",
      "--- trying to add model 38 to cluster 3\n",
      "--- model 38 NOT added, rmsd=48.9465800333\n",
      "--- trying to add model 39 to cluster 3\n",
      "--- model 39 NOT added, rmsd=52.0420637026\n",
      "--- trying to add model 40 to cluster 3\n",
      "--- model 40 NOT added, rmsd=53.4633773346\n",
      "--- trying to add model 41 to cluster 3\n",
      "--- model 41 NOT added, rmsd=55.2628171298\n",
      "--- trying to add model 42 to cluster 3\n",
      "--- model 42 NOT added, rmsd=54.204252662\n",
      "--- trying to add model 43 to cluster 3\n",
      "--- model 43 NOT added, rmsd=51.0816964928\n",
      "--- trying to add model 44 to cluster 3\n",
      "--- model 44 NOT added, rmsd=53.2235646564\n",
      "--- trying to add model 45 to cluster 3\n",
      "--- model 45 NOT added, rmsd=56.0748435343\n",
      "--- trying to add model 46 to cluster 3\n",
      "--- model 46 NOT added, rmsd=53.337705018\n",
      "--- trying to add model 47 to cluster 3\n",
      "--- model 47 NOT added, rmsd=55.7563580921\n",
      "--- trying to add model 48 to cluster 3\n",
      "--- model 48 NOT added, rmsd=60.4144053563\n",
      "--- trying to add model 49 to cluster 3\n",
      "--- model 49 NOT added, rmsd=58.7071165127\n",
      "clustering model 26\n",
      "creating cluster index 3\n",
      "--- trying to add model 29 to cluster 4\n",
      "--- model 29 added, rmsd=20.4029362482\n",
      "--- trying to add model 30 to cluster 4\n",
      "--- model 30 added, rmsd=22.5572714799\n",
      "--- trying to add model 31 to cluster 4\n",
      "--- model 31 added, rmsd=29.6925097447\n",
      "--- trying to add model 32 to cluster 4\n",
      "--- model 32 NOT added, rmsd=30.1715143373\n",
      "--- trying to add model 33 to cluster 4\n",
      "--- model 33 NOT added, rmsd=39.057620549\n",
      "--- trying to add model 34 to cluster 4\n",
      "--- model 34 NOT added, rmsd=36.3708171309\n",
      "--- trying to add model 35 to cluster 4\n",
      "--- model 35 NOT added, rmsd=39.3615463077\n",
      "--- trying to add model 36 to cluster 4\n",
      "--- model 36 NOT added, rmsd=38.5674240053\n",
      "--- trying to add model 37 to cluster 4\n",
      "--- model 37 NOT added, rmsd=38.1032458684\n",
      "--- trying to add model 38 to cluster 4\n",
      "--- model 38 NOT added, rmsd=45.9832526075\n",
      "--- trying to add model 39 to cluster 4\n",
      "--- model 39 NOT added, rmsd=46.2988146352\n",
      "--- trying to add model 40 to cluster 4\n",
      "--- model 40 NOT added, rmsd=48.9820691852\n",
      "--- trying to add model 41 to cluster 4\n",
      "--- model 41 NOT added, rmsd=51.1599997534\n",
      "--- trying to add model 42 to cluster 4\n",
      "--- model 42 NOT added, rmsd=48.6615499651\n",
      "--- trying to add model 43 to cluster 4\n",
      "--- model 43 NOT added, rmsd=47.8145947501\n",
      "--- trying to add model 44 to cluster 4\n",
      "--- model 44 NOT added, rmsd=50.5198338471\n",
      "--- trying to add model 45 to cluster 4\n",
      "--- model 45 NOT added, rmsd=52.0472540002\n",
      "--- trying to add model 46 to cluster 4\n",
      "--- model 46 NOT added, rmsd=51.9746479972\n",
      "--- trying to add model 47 to cluster 4\n",
      "--- model 47 NOT added, rmsd=52.947717422\n",
      "--- trying to add model 48 to cluster 4\n",
      "--- model 48 NOT added, rmsd=54.1284815377\n",
      "--- trying to add model 49 to cluster 4\n",
      "--- model 49 NOT added, rmsd=51.513649256\n",
      "clustering model 32\n",
      "creating cluster index 4\n",
      "--- trying to add model 33 to cluster 5\n",
      "--- model 33 added, rmsd=12.4184140174\n",
      "--- trying to add model 34 to cluster 5\n",
      "--- model 34 added, rmsd=12.5813071067\n",
      "--- trying to add model 35 to cluster 5\n",
      "--- model 35 added, rmsd=18.3984211114\n",
      "--- trying to add model 36 to cluster 5\n",
      "--- model 36 added, rmsd=18.8444944476\n",
      "--- trying to add model 37 to cluster 5\n",
      "--- model 37 added, rmsd=21.6429804805\n",
      "--- trying to add model 38 to cluster 5\n",
      "--- model 38 NOT added, rmsd=31.1939114691\n",
      "--- trying to add model 39 to cluster 5\n",
      "--- model 39 NOT added, rmsd=31.1019048621\n",
      "--- trying to add model 40 to cluster 5\n",
      "--- model 40 NOT added, rmsd=35.6049468161\n",
      "--- trying to add model 41 to cluster 5\n",
      "--- model 41 NOT added, rmsd=39.0480008908\n",
      "--- trying to add model 42 to cluster 5\n",
      "--- model 42 NOT added, rmsd=36.1011386853\n",
      "--- trying to add model 43 to cluster 5\n",
      "--- model 43 NOT added, rmsd=36.9997175663\n",
      "--- trying to add model 44 to cluster 5\n",
      "--- model 44 NOT added, rmsd=38.5069892761\n",
      "--- trying to add model 45 to cluster 5\n",
      "--- model 45 NOT added, rmsd=38.182238773\n",
      "--- trying to add model 46 to cluster 5\n",
      "--- model 46 NOT added, rmsd=39.5656593277\n",
      "--- trying to add model 47 to cluster 5\n",
      "--- model 47 NOT added, rmsd=38.347708017\n",
      "--- trying to add model 48 to cluster 5\n",
      "--- model 48 NOT added, rmsd=41.9545444822\n",
      "--- trying to add model 49 to cluster 5\n",
      "--- model 49 NOT added, rmsd=38.7406133909\n",
      "clustering model 38\n",
      "creating cluster index 5\n",
      "--- trying to add model 39 to cluster 6\n",
      "--- model 39 added, rmsd=13.5806094823\n",
      "--- trying to add model 40 to cluster 6\n",
      "--- model 40 added, rmsd=12.9195028742\n",
      "--- trying to add model 41 to cluster 6\n",
      "--- model 41 added, rmsd=16.3048165663\n",
      "--- trying to add model 42 to cluster 6\n",
      "--- model 42 added, rmsd=15.9710490186\n",
      "--- trying to add model 43 to cluster 6\n",
      "--- model 43 added, rmsd=17.6246053166\n",
      "--- trying to add model 44 to cluster 6\n",
      "--- model 44 added, rmsd=22.2371376674\n",
      "--- trying to add model 45 to cluster 6\n",
      "--- model 45 added, rmsd=23.9363760628\n",
      "--- trying to add model 46 to cluster 6\n",
      "--- model 46 added, rmsd=22.6007941823\n",
      "--- trying to add model 47 to cluster 6\n",
      "--- model 47 added, rmsd=22.5444843898\n",
      "--- trying to add model 48 to cluster 6\n",
      "--- model 48 NOT added, rmsd=30.983995967\n",
      "--- trying to add model 49 to cluster 6\n",
      "--- model 49 added, rmsd=27.479568736\n",
      "clustering model 48\n",
      "creating cluster index 6\n"
     ]
    }
   ],
   "source": [
    "are.set_rmsd_selection(molecules=[\"Rpb4\",\"Rpb7\"])\n",
    "\n",
    "are.cluster(30.0)"
   ]
  },
  {
   "cell_type": "markdown",
   "metadata": {},
   "source": [
    "For each cluster, we can print its information"
   ]
  },
  {
   "cell_type": "code",
   "execution_count": 12,
   "metadata": {},
   "outputs": [
    {
     "name": "stdout",
     "output_type": "stream",
     "text": [
      "IMP.pmi.output.Cluster\n",
      "---- cluster_id 0 \n",
      "---- precision None \n",
      "---- average score 233171.517311 \n",
      "---- number of members 9 \n",
      "---- center index None \n",
      "\n",
      "IMP.pmi.output.Cluster\n",
      "---- cluster_id 1 \n",
      "---- precision None \n",
      "---- average score 34649.3827208 \n",
      "---- number of members 2 \n",
      "---- center index None \n",
      "\n",
      "IMP.pmi.output.Cluster\n",
      "---- cluster_id 2 \n",
      "---- precision None \n",
      "---- average score 2115.91513081 \n",
      "---- number of members 17 \n",
      "---- center index None \n",
      "\n",
      "IMP.pmi.output.Cluster\n",
      "---- cluster_id 3 \n",
      "---- precision None \n",
      "---- average score 732.792778718 \n",
      "---- number of members 4 \n",
      "---- center index None \n",
      "\n",
      "IMP.pmi.output.Cluster\n",
      "---- cluster_id 4 \n",
      "---- precision None \n",
      "---- average score 725.682147268 \n",
      "---- number of members 6 \n",
      "---- center index None \n",
      "\n",
      "IMP.pmi.output.Cluster\n",
      "---- cluster_id 5 \n",
      "---- precision None \n",
      "---- average score 712.180762201 \n",
      "---- number of members 11 \n",
      "---- center index None \n",
      "\n",
      "IMP.pmi.output.Cluster\n",
      "---- cluster_id 6 \n",
      "---- precision None \n",
      "---- average score 723.233506922 \n",
      "---- number of members 1 \n",
      "---- center index None \n",
      "\n"
     ]
    }
   ],
   "source": [
    "for cluster in are:\n",
    "    print cluster"
   ]
  },
  {
   "cell_type": "markdown",
   "metadata": {},
   "source": [
    "We can get a given cluster by using the square bracket, as in lists. We can iterate on the members of the cluster to display the infos. Afterwords, we save the coordinates of the cluster in a rmf file."
   ]
  },
  {
   "cell_type": "code",
   "execution_count": 20,
   "metadata": {},
   "outputs": [
    {
     "name": "stdout",
     "output_type": "stream",
     "text": [
      "[38, 39, 40, 41, 42, 43, 44, 45, 46, 47, 49]\n",
      "IMP.pmi.output.DataEntry\n",
      "---- stat file ./output/stat.0.out \n",
      "---- rmf file /c7/home/rpellari/imp-project/IMP-2.9.0/imp_tutorial/debug/output/rmfs/0.rmf3 \n",
      "---- rmf index 38 \n",
      "---- score 722.046866875 \n",
      "---- number of features 609 \n",
      "\n",
      "IMP.pmi.output.DataEntry\n",
      "---- stat file ./output/stat.0.out \n",
      "---- rmf file /c7/home/rpellari/imp-project/IMP-2.9.0/imp_tutorial/debug/output/rmfs/0.rmf3 \n",
      "---- rmf index 39 \n",
      "---- score 719.206741778 \n",
      "---- number of features 609 \n",
      "\n",
      "IMP.pmi.output.DataEntry\n",
      "---- stat file ./output/stat.0.out \n",
      "---- rmf file /c7/home/rpellari/imp-project/IMP-2.9.0/imp_tutorial/debug/output/rmfs/0.rmf3 \n",
      "---- rmf index 40 \n",
      "---- score 717.622098648 \n",
      "---- number of features 609 \n",
      "\n",
      "IMP.pmi.output.DataEntry\n",
      "---- stat file ./output/stat.0.out \n",
      "---- rmf file /c7/home/rpellari/imp-project/IMP-2.9.0/imp_tutorial/debug/output/rmfs/0.rmf3 \n",
      "---- rmf index 41 \n",
      "---- score 713.066457509 \n",
      "---- number of features 609 \n",
      "\n",
      "IMP.pmi.output.DataEntry\n",
      "---- stat file ./output/stat.0.out \n",
      "---- rmf file /c7/home/rpellari/imp-project/IMP-2.9.0/imp_tutorial/debug/output/rmfs/0.rmf3 \n",
      "---- rmf index 42 \n",
      "---- score 707.168805316 \n",
      "---- number of features 609 \n",
      "\n",
      "IMP.pmi.output.DataEntry\n",
      "---- stat file ./output/stat.0.out \n",
      "---- rmf file /c7/home/rpellari/imp-project/IMP-2.9.0/imp_tutorial/debug/output/rmfs/0.rmf3 \n",
      "---- rmf index 43 \n",
      "---- score 710.620232798 \n",
      "---- number of features 609 \n",
      "\n",
      "IMP.pmi.output.DataEntry\n",
      "---- stat file ./output/stat.0.out \n",
      "---- rmf file /c7/home/rpellari/imp-project/IMP-2.9.0/imp_tutorial/debug/output/rmfs/0.rmf3 \n",
      "---- rmf index 44 \n",
      "---- score 715.268730023 \n",
      "---- number of features 609 \n",
      "\n",
      "IMP.pmi.output.DataEntry\n",
      "---- stat file ./output/stat.0.out \n",
      "---- rmf file /c7/home/rpellari/imp-project/IMP-2.9.0/imp_tutorial/debug/output/rmfs/0.rmf3 \n",
      "---- rmf index 45 \n",
      "---- score 713.340898415 \n",
      "---- number of features 609 \n",
      "\n",
      "IMP.pmi.output.DataEntry\n",
      "---- stat file ./output/stat.0.out \n",
      "---- rmf file /c7/home/rpellari/imp-project/IMP-2.9.0/imp_tutorial/debug/output/rmfs/0.rmf3 \n",
      "---- rmf index 46 \n",
      "---- score 714.138936782 \n",
      "---- number of features 609 \n",
      "\n",
      "IMP.pmi.output.DataEntry\n",
      "---- stat file ./output/stat.0.out \n",
      "---- rmf file /c7/home/rpellari/imp-project/IMP-2.9.0/imp_tutorial/debug/output/rmfs/0.rmf3 \n",
      "---- rmf index 47 \n",
      "---- score 706.325884253 \n",
      "---- number of features 609 \n",
      "\n",
      "IMP.pmi.output.DataEntry\n",
      "---- stat file ./output/stat.0.out \n",
      "---- rmf file /c7/home/rpellari/imp-project/IMP-2.9.0/imp_tutorial/debug/output/rmfs/0.rmf3 \n",
      "---- rmf index 49 \n",
      "---- score 695.182731812 \n",
      "---- number of features 609 \n",
      "\n",
      "saving coordinates IMP.pmi.output.Cluster\n",
      "---- cluster_id 5 \n",
      "---- precision 18.244114125 \n",
      "---- average score 712.180762201 \n",
      "---- number of members 11 \n",
      "---- center index 47 \n",
      "\n"
     ]
    }
   ],
   "source": [
    "for member in are[5]:\n",
    "    print member\n",
    "    \n",
    "are.save_coordinates(are[5])"
   ]
  },
  {
   "cell_type": "markdown",
   "metadata": {},
   "source": [
    "Next we can examine the distances between all cluster members. A plot is output to a single file in the clustering directory. The first plot is the distance matrix of the models after being grouped into clusters. \n",
    "\n",
    "The second plot is a dendrogram, basically showing the distance matrix in a hierarchical way. Each vertical line from the bottom is a model, and the horizontal lines show the RMSD agreement between models. Sometimes the dendrogram can indicate a natural number of clusters, which can help determine the correct threshold to use. \n",
    "\n",
    "<img src=\"files/images/rnapolii_dist_matrix.png\" alt=\"Distance matrix and dendrogram\" width=\"600px\" />\n"
   ]
  },
  {
   "cell_type": "code",
   "execution_count": null,
   "metadata": {},
   "outputs": [],
   "source": [
    "# slow!\n",
    "are.plot_rmsd_matrix(\"rmsd_matrix.pdf\")"
   ]
  },
  {
   "cell_type": "markdown",
   "metadata": {},
   "source": [
    "The cluster center can be computed as the median structure. After that one can compute the precision of the cluster, as well as the average distance between two clusters."
   ]
  },
  {
   "cell_type": "code",
   "execution_count": 14,
   "metadata": {},
   "outputs": [
    {
     "name": "stdout",
     "output_type": "stream",
     "text": [
      "18.244114125\n",
      "61.9039796986\n"
     ]
    }
   ],
   "source": [
    "are.compute_cluster_center(cluster=are[5])\n",
    "print are.precision(cluster=are[5])\n",
    "print are.bipartite_precision(cluster1=are[5],cluster2=are[1])"
   ]
  },
  {
   "cell_type": "markdown",
   "metadata": {},
   "source": [
    "We can plot the root mean square fluctuation (rmsf) of a given molecule in a given cluster."
   ]
  },
  {
   "cell_type": "code",
   "execution_count": 17,
   "metadata": {},
   "outputs": [
    {
     "name": "stdout",
     "output_type": "stream",
     "text": [
      "--- rmsf 47 38\n",
      "--- rmsf 47 39\n",
      "--- rmsf 47 40\n",
      "--- rmsf 47 41\n",
      "--- rmsf 47 42\n",
      "--- rmsf 47 43\n",
      "--- rmsf 47 44\n",
      "--- rmsf 47 45\n",
      "--- rmsf 47 46\n",
      "--- rmsf 47 49\n",
      "--- rmsf 47 38\n",
      "--- rmsf 47 39\n",
      "--- rmsf 47 40\n",
      "--- rmsf 47 41\n",
      "--- rmsf 47 42\n",
      "--- rmsf 47 43\n",
      "--- rmsf 47 44\n",
      "--- rmsf 47 45\n",
      "--- rmsf 47 46\n",
      "--- rmsf 47 49\n"
     ]
    },
    {
     "data": {
      "text/plain": [
       "[<matplotlib.lines.Line2D at 0x7febd7dffe10>]"
      ]
     },
     "execution_count": 17,
     "metadata": {},
     "output_type": "execute_result"
    },
    {
     "data": {
      "image/png": "[encoded data removed]",
      "text/plain": [
       "<Figure size 432x288 with 1 Axes>"
      ]
     },
     "metadata": {},
     "output_type": "display_data"
    },
    {
     "data": {
      "image/png": "[encoded data removed]",
      "text/plain": [
       "<Figure size 432x288 with 1 Axes>"
      ]
     },
     "metadata": {},
     "output_type": "display_data"
    }
   ],
   "source": [
    "rmsf1=are.rmsf(cluster=are[5],molecule='Rpb4');\n",
    "plot(rmsf1.keys(),rmsf1.values())\n",
    "figure()\n",
    "\n",
    "rmsf2=are.rmsf(cluster=are[5],molecule='Rpb7');\n",
    "plot(rmsf2.keys(),rmsf2.values())"
   ]
  },
  {
   "cell_type": "markdown",
   "metadata": {},
   "source": [
    "And compute the the rmsf for all molecules and map the value on the structure. Finally we save the colored cooridnates in a rmf file.\n",
    "\n",
    "<img src=\"files/images/rnapolii_rmsf.all.png\" alt=\"Structural uncertainty\" width=\"600px\" />"
   ]
  },
  {
   "cell_type": "code",
   "execution_count": 23,
   "metadata": {},
   "outputs": [
    {
     "name": "stdout",
     "output_type": "stream",
     "text": [
      "--- rmsf 47 38\n",
      "--- rmsf 47 39\n",
      "--- rmsf 47 40\n",
      "--- rmsf 47 41\n",
      "--- rmsf 47 42\n",
      "--- rmsf 47 43\n",
      "--- rmsf 47 44\n",
      "--- rmsf 47 45\n",
      "--- rmsf 47 46\n",
      "--- rmsf 47 49\n",
      "--- rmsf 47 38\n",
      "--- rmsf 47 39\n",
      "--- rmsf 47 40\n",
      "--- rmsf 47 41\n",
      "--- rmsf 47 42\n",
      "--- rmsf 47 43\n",
      "--- rmsf 47 44\n",
      "--- rmsf 47 45\n",
      "--- rmsf 47 46\n",
      "--- rmsf 47 49\n",
      "--- rmsf 47 38\n",
      "--- rmsf 47 39\n",
      "--- rmsf 47 40\n",
      "--- rmsf 47 41\n",
      "--- rmsf 47 42\n",
      "--- rmsf 47 43\n",
      "--- rmsf 47 44\n",
      "--- rmsf 47 45\n",
      "--- rmsf 47 46\n",
      "--- rmsf 47 49\n",
      "--- rmsf 47 38\n",
      "--- rmsf 47 39\n",
      "--- rmsf 47 40\n",
      "--- rmsf 47 41\n",
      "--- rmsf 47 42\n",
      "--- rmsf 47 43\n",
      "--- rmsf 47 44\n",
      "--- rmsf 47 45\n",
      "--- rmsf 47 46\n",
      "--- rmsf 47 49\n",
      "--- rmsf 47 38\n",
      "--- rmsf 47 39\n",
      "--- rmsf 47 40\n",
      "--- rmsf 47 41\n",
      "--- rmsf 47 42\n",
      "--- rmsf 47 43\n",
      "--- rmsf 47 44\n",
      "--- rmsf 47 45\n",
      "--- rmsf 47 46\n",
      "--- rmsf 47 49\n",
      "--- rmsf 47 38\n",
      "--- rmsf 47 39\n",
      "--- rmsf 47 40\n",
      "--- rmsf 47 41\n",
      "--- rmsf 47 42\n",
      "--- rmsf 47 43\n",
      "--- rmsf 47 44\n",
      "--- rmsf 47 45\n",
      "--- rmsf 47 46\n",
      "--- rmsf 47 49\n",
      "--- rmsf 47 38\n",
      "--- rmsf 47 39\n",
      "--- rmsf 47 40\n",
      "--- rmsf 47 41\n",
      "--- rmsf 47 42\n",
      "--- rmsf 47 43\n",
      "--- rmsf 47 44\n",
      "--- rmsf 47 45\n",
      "--- rmsf 47 46\n",
      "--- rmsf 47 49\n",
      "--- rmsf 47 38\n",
      "--- rmsf 47 39\n",
      "--- rmsf 47 40\n",
      "--- rmsf 47 41\n",
      "--- rmsf 47 42\n",
      "--- rmsf 47 43\n",
      "--- rmsf 47 44\n",
      "--- rmsf 47 45\n",
      "--- rmsf 47 46\n",
      "--- rmsf 47 49\n",
      "--- rmsf 47 38\n",
      "--- rmsf 47 39\n",
      "--- rmsf 47 40\n",
      "--- rmsf 47 41\n",
      "--- rmsf 47 42\n",
      "--- rmsf 47 43\n",
      "--- rmsf 47 44\n",
      "--- rmsf 47 45\n",
      "--- rmsf 47 46\n",
      "--- rmsf 47 49\n",
      "--- rmsf 47 38\n",
      "--- rmsf 47 39\n",
      "--- rmsf 47 40\n",
      "--- rmsf 47 41\n",
      "--- rmsf 47 42\n",
      "--- rmsf 47 43\n",
      "--- rmsf 47 44\n",
      "--- rmsf 47 45\n",
      "--- rmsf 47 46\n",
      "--- rmsf 47 49\n",
      "--- rmsf 47 38\n",
      "--- rmsf 47 39\n",
      "--- rmsf 47 40\n",
      "--- rmsf 47 41\n",
      "--- rmsf 47 42\n",
      "--- rmsf 47 43\n",
      "--- rmsf 47 44\n",
      "--- rmsf 47 45\n",
      "--- rmsf 47 46\n",
      "--- rmsf 47 49\n",
      "--- rmsf 47 38\n",
      "--- rmsf 47 39\n",
      "--- rmsf 47 40\n",
      "--- rmsf 47 41\n",
      "--- rmsf 47 42\n",
      "--- rmsf 47 43\n",
      "--- rmsf 47 44\n",
      "--- rmsf 47 45\n",
      "--- rmsf 47 46\n",
      "--- rmsf 47 49\n",
      "saving coordinates IMP.pmi.output.Cluster\n",
      "---- cluster_id 5 \n",
      "---- precision 18.244114125 \n",
      "---- average score 712.180762201 \n",
      "---- number of members 11 \n",
      "---- center index 47 \n",
      "\n"
     ]
    }
   ],
   "source": [
    "for mol in ['Rpb1','Rpb2','Rpb3','Rpb4','Rpb5','Rpb6','Rpb7','Rpb8','Rpb9','Rpb10','Rpb11','Rpb12']: \n",
    "    are.rmsf(cluster=are[5],molecule=mol);\n",
    "ch1=IMP.pmi.tools.ColorHierarchy(are.stath1)\n",
    "ch1.color_by_uncertainty()\n",
    "are.save_coordinates(are[5])"
   ]
  },
  {
   "cell_type": "markdown",
   "metadata": {},
   "source": [
    "We can save the localization densities of a given cluster, for given groups of molecules.\n",
    "Now we specify the subunits (or groups or fractions of subunits) for which we want to create density localization maps. \n",
    "`density_names` is a dictionary, where the keys are convenient names like \"Rpb4\" and the values are a list of selections. \n",
    "The selection items can either be a domain name like \"Rpb1\" or a list like (200,300,\"Rpb1\") \n",
    "which means residues 200-300 of component Rpb1. This enables the user to combine multiple selections \n",
    "for a single density calculation.\n",
    "\n",
    "The localization densities can give a qualitative idea of the precision of a cluster. Below we show results from `cluster.1` in the provided results: the native structure without Rpb4/7 (in blue), the target density map (in mesh), and the localization densities (Rpb4 in cyan, Rpb7 in purple). The localizations are quite narrow and close to the native solution:\n",
    "\n",
    "<img src=\"files/images/rnapolii_localization.png\" alt=\"Localization densities\" width=\"600px\" />"
   ]
  },
  {
   "cell_type": "code",
   "execution_count": 18,
   "metadata": {},
   "outputs": [
    {
     "name": "stdout",
     "output_type": "stream",
     "text": [
      "density 38\n",
      "density 39\n",
      "density 40\n",
      "density 41\n",
      "density 42\n",
      "density 43\n",
      "density 44\n",
      "density 45\n",
      "density 46\n",
      "density 47\n",
      "density 49\n",
      "density 0\n",
      "density 1\n",
      "density 2\n",
      "density 3\n",
      "density 4\n",
      "density 5\n",
      "density 6\n",
      "density 8\n",
      "density 9\n"
     ]
    }
   ],
   "source": [
    "density_names={\"REST\":[\"Rpb1\",\"Rpb2\",\"Rpb3\",\"Rpb5\",\"Rpb6\",\"Rpb8\",\"Rpb9\",\"Rpb10\",\"Rpb11\",\"Rpb12\"],\n",
    "     \"Rpb4\":[\"Rpb4\"],\n",
    "     \"Rpb7\":[\"Rpb7\"],\n",
    "     \"Rpb1-200-300\":[(200,300,\"Rpb1\")]}\n",
    "\n",
    "are.save_densities(cluster=are[5],density_custom_ranges=density_names,prefix=\"5\")\n",
    "are.save_densities(cluster=are[0],density_custom_ranges=density_names,prefix=\"0\")"
   ]
  },
  {
   "cell_type": "markdown",
   "metadata": {},
   "source": [
    "We can compute the global contact map of the whole complex."
   ]
  },
  {
   "cell_type": "code",
   "execution_count": 19,
   "metadata": {
    "scrolled": true
   },
   "outputs": [
    {
     "name": "stdout",
     "output_type": "stream",
     "text": [
      "0\n",
      "1\n"
     ]
    },
    {
     "data": {
      "image/png": "[encoded data removed]",
      "text/plain": [
       "<Figure size 1876.32x1876.32 with 1 Axes>"
      ]
     },
     "metadata": {},
     "output_type": "display_data"
    }
   ],
   "source": [
    "# it is slow\n",
    "are.contact_map(cluster=are[1]);"
   ]
  },
  {
   "cell_type": "markdown",
   "metadata": {},
   "source": [
    "### Accuracy evaluation <a name=\"Accuracy_3\"></a>\n",
    "We can evaluate the accuracy of a cluster against a native configuration. This is useful for benchmarking (but obviously is of no use when we don't know the 'real' structure).\n",
    "First we add the native structure as an independent cluster"
   ]
  },
  {
   "cell_type": "code",
   "execution_count": 47,
   "metadata": {},
   "outputs": [
    {
     "name": "stdout",
     "output_type": "stream",
     "text": [
      "creating cluster index 7\n",
      "adding rmf ../rnapolii/data/native.rmf3\n",
      "getting data from file ../rnapolii/data/native.rmf3\n",
      "getting data from file ../rnapolii/data/native.rmf3\n",
      "AnalysisReplicaExchange\n",
      "---- number of clusters 8 \n",
      "---- number of models 52 \n",
      "\n"
     ]
    }
   ],
   "source": [
    "are.add_cluster([\"../rnapolii/data/native.rmf3\"])\n",
    "\n",
    "print are"
   ]
  },
  {
   "cell_type": "markdown",
   "metadata": {},
   "source": [
    "Then we compute the `bipartite_precision` between a given cluster and the native structure."
   ]
  },
  {
   "cell_type": "code",
   "execution_count": 48,
   "metadata": {},
   "outputs": [
    {
     "name": "stdout",
     "output_type": "stream",
     "text": [
      "[50, 51]\n"
     ]
    },
    {
     "data": {
      "text/plain": [
       "48.329313601166106"
      ]
     },
     "execution_count": 48,
     "metadata": {},
     "output_type": "execute_result"
    }
   ],
   "source": [
    "print are[7].members\n",
    "are.bipartite_precision(cluster1=are[5],cluster2=are[7])\n"
   ]
  },
  {
   "cell_type": "markdown",
   "metadata": {},
   "source": [
    "### Sampling Exhaustiveness <a name=\"Sampling_Exhaustiveness_3\"></a>\n",
    "We can also determine sampling exhaustiveness by dividing the models into multiple sets, performing clustering on each set separately, and comparing the clusters. This step is left as an exercise to the reader. To aid with splitting the data, we have added the optional keyword `first_and_last_frames` to the IMP::pmi::macros::AnalysisReplicaExchange0::clustering() method.\n",
    "If you set this keyword to a tuple (values are percentages, e.g. [0,0.5]), it will only analyze that fraction of the data. Some things you can try:\n",
    "* cluster two subsets of the data\n",
    "* qualitative analysis: look at the localization densities - they should be similar for the two subsets\n",
    "* quantitative analysis: combine the cluster results into one folder (rename as needed) and call `precision_rmsf.py`, which will automatically compute cross-precision for the clusters. \n",
    "\n",
    "If the sampling is exhaustive, then similar clusters should be obtained from each independent set, and the inter-cluster precision between two equivalent clusters should be very low (that is, there should be a 1:1 correspondence between the two sets of clusters, though the ordering may be different)."
   ]
  }
 ],
 "metadata": {
  "kernelspec": {
   "display_name": "Python 2",
   "language": "python",
   "name": "python2"
  },
  "language_info": {
   "codemirror_mode": {
    "name": "ipython",
    "version": 2
   },
   "file_extension": ".py",
   "mimetype": "text/x-python",
   "name": "python",
   "nbconvert_exporter": "python",
   "pygments_lexer": "ipython2",
   "version": "2.7.15"
  }
 },
 "nbformat": 4,
 "nbformat_minor": 1
}
